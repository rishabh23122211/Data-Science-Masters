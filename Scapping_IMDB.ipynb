{
 "cells": [
  {
   "cell_type": "code",
   "execution_count": 19,
   "id": "96fa4fe0",
   "metadata": {},
   "outputs": [
    {
     "name": "stdout",
     "output_type": "stream",
     "text": [
      "Requirement already satisfied: requests in c:\\users\\risha\\anaconda3\\lib\\site-packages (2.28.1)\n",
      "Requirement already satisfied: idna<4,>=2.5 in c:\\users\\risha\\anaconda3\\lib\\site-packages (from requests) (3.3)\n",
      "Requirement already satisfied: certifi>=2017.4.17 in c:\\users\\risha\\anaconda3\\lib\\site-packages (from requests) (2022.9.14)\n",
      "Requirement already satisfied: urllib3<1.27,>=1.21.1 in c:\\users\\risha\\anaconda3\\lib\\site-packages (from requests) (1.26.11)\n",
      "Requirement already satisfied: charset-normalizer<3,>=2 in c:\\users\\risha\\anaconda3\\lib\\site-packages (from requests) (2.0.4)\n",
      "Note: you may need to restart the kernel to use updated packages.\n"
     ]
    }
   ],
   "source": [
    "pip install requests"
   ]
  },
  {
   "cell_type": "code",
   "execution_count": 20,
   "id": "935ea937",
   "metadata": {},
   "outputs": [
    {
     "name": "stdout",
     "output_type": "stream",
     "text": [
      "Collecting BeautifulSoup\n",
      "  Downloading BeautifulSoup-3.2.2.tar.gz (32 kB)\n",
      "  Preparing metadata (setup.py): started\n",
      "  Preparing metadata (setup.py): finished with status 'error'\n",
      "Note: you may need to restart the kernel to use updated packages.\n"
     ]
    },
    {
     "name": "stderr",
     "output_type": "stream",
     "text": [
      "  error: subprocess-exited-with-error\n",
      "  \n",
      "  python setup.py egg_info did not run successfully.\n",
      "  exit code: 1\n",
      "  \n",
      "  [7 lines of output]\n",
      "  Traceback (most recent call last):\n",
      "    File \"<string>\", line 2, in <module>\n",
      "    File \"<pip-setuptools-caller>\", line 34, in <module>\n",
      "    File \"C:\\Users\\risha\\AppData\\Local\\Temp\\pip-install-yyatu5rj\\beautifulsoup_9855adae8b60483883049e9064ccb882\\setup.py\", line 3\n",
      "      \"You're trying to run a very old release of Beautiful Soup under Python 3. This will not work.\"<>\"Please use Beautiful Soup 4, available through the pip package 'beautifulsoup4'.\"\n",
      "                                                                                                     ^\n",
      "  SyntaxError: invalid syntax\n",
      "  [end of output]\n",
      "  \n",
      "  note: This error originates from a subprocess, and is likely not a problem with pip.\n",
      "error: metadata-generation-failed\n",
      "\n",
      "Encountered error while generating package metadata.\n",
      "\n",
      "See above for output.\n",
      "\n",
      "note: This is an issue with the package mentioned above, not pip.\n",
      "hint: See above for details.\n"
     ]
    }
   ],
   "source": [
    "pip install BeautifulSoup"
   ]
  },
  {
   "cell_type": "code",
   "execution_count": 67,
   "id": "a95ff8ac",
   "metadata": {},
   "outputs": [],
   "source": [
    "from bs4 import BeautifulSoup\n",
    "import requests"
   ]
  },
  {
   "cell_type": "code",
   "execution_count": 68,
   "id": "8da075ef",
   "metadata": {},
   "outputs": [],
   "source": [
    "## lets load this data into excel i m trying something new"
   ]
  },
  {
   "cell_type": "code",
   "execution_count": 71,
   "id": "c6036c65",
   "metadata": {},
   "outputs": [],
   "source": [
    "import openpyxl"
   ]
  },
  {
   "cell_type": "code",
   "execution_count": 72,
   "id": "d60a0247",
   "metadata": {},
   "outputs": [],
   "source": [
    "excel= openpyxl.Workbook()\n",
    "sheet=excel.active\n",
    "sheet.title= \"Top RAted Movies\"\n",
    "##print(excel.sheetnames)\n",
    "## now lets create coulumns required\n",
    "sheet.append([\"Movie Rank\", \"MovieName\", \"Year Of Rekease\", \"IMDB Rating\"])"
   ]
  },
  {
   "cell_type": "code",
   "execution_count": 73,
   "id": "3c1af1dc",
   "metadata": {},
   "outputs": [],
   "source": [
    "try:\n",
    "    source_url= requests.get(\"https://www.imdb.com/chart/top/\")\n",
    "    source_url.raise_for_status() ##to handle the error if url is in valid\n",
    "\n",
    "except Exception as e:\n",
    "    print(e)"
   ]
  },
  {
   "cell_type": "code",
   "execution_count": 74,
   "id": "ce288bbd",
   "metadata": {},
   "outputs": [],
   "source": [
    "soup = BeautifulSoup(source_url.text, \"html.parser\")"
   ]
  },
  {
   "cell_type": "code",
   "execution_count": 29,
   "id": "90c13e2c",
   "metadata": {},
   "outputs": [],
   "source": [
    "##print(soup)"
   ]
  },
  {
   "cell_type": "code",
   "execution_count": 75,
   "id": "90ca0513",
   "metadata": {},
   "outputs": [],
   "source": [
    "movies = soup.find('tbody', class_=\"lister-list\") "
   ]
  },
  {
   "cell_type": "code",
   "execution_count": 32,
   "id": "53ef7360",
   "metadata": {},
   "outputs": [],
   "source": [
    "##print(movies)"
   ]
  },
  {
   "cell_type": "code",
   "execution_count": 76,
   "id": "09b58c2b",
   "metadata": {},
   "outputs": [],
   "source": [
    "top_rated=movies.find_all(\"tr\")"
   ]
  },
  {
   "cell_type": "code",
   "execution_count": 36,
   "id": "0f152828",
   "metadata": {},
   "outputs": [
    {
     "name": "stdout",
     "output_type": "stream",
     "text": [
      "250\n"
     ]
    }
   ],
   "source": [
    "print(len(top_rated)) ##250 top movies"
   ]
  },
  {
   "cell_type": "code",
   "execution_count": 77,
   "id": "f8f4bf44",
   "metadata": {},
   "outputs": [
    {
     "name": "stdout",
     "output_type": "stream",
     "text": [
      "<tr>\n",
      "<td class=\"posterColumn\">\n",
      "<span data-value=\"1\" name=\"rk\"></span>\n",
      "<span data-value=\"9.235660715628246\" name=\"ir\"></span>\n",
      "<span data-value=\"7.791552E11\" name=\"us\"></span>\n",
      "<span data-value=\"2707309\" name=\"nv\"></span>\n",
      "<span data-value=\"-1.7643392843717542\" name=\"ur\"></span>\n",
      "<a href=\"/title/tt0111161/\"> <img alt=\"The Shawshank Redemption\" height=\"67\" src=\"https://m.media-amazon.com/images/M/MV5BMDFkYTc0MGEtZmNhMC00ZDIzLWFmNTEtODM1ZmRlYWMwMWFmXkEyXkFqcGdeQXVyMTMxODk2OTU@._V1_UY67_CR0,0,45,67_AL_.jpg\" width=\"45\"/>\n",
      "</a> </td>\n",
      "<td class=\"titleColumn\">\n",
      "      1.\n",
      "      <a href=\"/title/tt0111161/\" title=\"Frank Darabont (dir.), Tim Robbins, Morgan Freeman\">The Shawshank Redemption</a>\n",
      "<span class=\"secondaryInfo\">(1994)</span>\n",
      "</td>\n",
      "<td class=\"ratingColumn imdbRating\">\n",
      "<strong title=\"9.2 based on 2,707,309 user ratings\">9.2</strong>\n",
      "</td>\n",
      "<td class=\"ratingColumn\">\n",
      "<div class=\"seen-widget seen-widget-tt0111161 pending\" data-titleid=\"tt0111161\">\n",
      "<div class=\"boundary\">\n",
      "<div class=\"popover\">\n",
      "<span class=\"delete\"> </span><ol><li>1<li>2<li>3<li>4<li>5<li>6<li>7<li>8<li>9<li>10</li></li></li></li></li></li></li></li></li></li></ol> </div>\n",
      "</div>\n",
      "<div class=\"inline\">\n",
      "<div class=\"pending\"></div>\n",
      "<div class=\"unseeable\">NOT YET RELEASED</div>\n",
      "<div class=\"unseen\"> </div>\n",
      "<div class=\"rating\"></div>\n",
      "<div class=\"seen\">Seen</div>\n",
      "</div>\n",
      "</div>\n",
      "</td>\n",
      "<td class=\"watchlistColumn\">\n",
      "<div class=\"wlb_ribbon\" data-recordmetrics=\"true\" data-tconst=\"tt0111161\"></div>\n",
      "</td>\n",
      "</tr>\n"
     ]
    }
   ],
   "source": [
    "for movie in top_rated:\n",
    "    print(movie)\n",
    "    break          ##we are accessing the tr tag in tbody class tag\n",
    "    "
   ]
  },
  {
   "cell_type": "code",
   "execution_count": 70,
   "id": "f7c2e7de",
   "metadata": {},
   "outputs": [
    {
     "name": "stdout",
     "output_type": "stream",
     "text": [
      "<td class=\"titleColumn\">\n",
      "      1.\n",
      "      <a href=\"/title/tt0111161/\" title=\"Frank Darabont (dir.), Tim Robbins, Morgan Freeman\">The Shawshank Redemption</a>\n",
      "<span class=\"secondaryInfo\">(1994)</span>\n",
      "</td>\n"
     ]
    }
   ],
   "source": [
    "for movie in top_rated:\n",
    "    name= movie.find('td', class_=\"titleColumn\")\n",
    "    print(name)\n",
    "    break ## we are accessingh the td tag which includes tittle coloumn of movie"
   ]
  },
  {
   "cell_type": "code",
   "execution_count": 45,
   "id": "a7daed66",
   "metadata": {},
   "outputs": [
    {
     "name": "stdout",
     "output_type": "stream",
     "text": [
      "The Shawshank Redemption\n"
     ]
    }
   ],
   "source": [
    "for movie in top_rated:\n",
    "    name= movie.find('td', class_=\"titleColumn\").a.text\n",
    "    print(name)\n",
    "    break  ##we got the 1st movie name"
   ]
  },
  {
   "cell_type": "code",
   "execution_count": 47,
   "id": "e6045f85",
   "metadata": {},
   "outputs": [
    {
     "name": "stdout",
     "output_type": "stream",
     "text": [
      "\n",
      "      1.\n",
      "      The Shawshank Redemption\n",
      "(1994)\n",
      "\n"
     ]
    }
   ],
   "source": [
    "for movie in top_rated:\n",
    "    name= movie.find('td', class_=\"titleColumn\").a.text\n",
    "    rank= movie.find('td', class_=\"titleColumn\").text\n",
    "    ##print(name)\n",
    "    print(rank)  ##printing rank\n",
    "    break"
   ]
  },
  {
   "cell_type": "code",
   "execution_count": 49,
   "id": "5c5a452d",
   "metadata": {},
   "outputs": [
    {
     "name": "stdout",
     "output_type": "stream",
     "text": [
      "1.The Shawshank Redemption(1994)\n"
     ]
    }
   ],
   "source": [
    "for movie in top_rated:\n",
    "    name= movie.find('td', class_=\"titleColumn\").a.text\n",
    "    rank= movie.find('td', class_=\"titleColumn\").get_text(strip=True)\n",
    "    ##print(name)\n",
    "    print(rank)  ##printing rank in orderded line\n",
    "    break"
   ]
  },
  {
   "cell_type": "code",
   "execution_count": 50,
   "id": "97e6f8a6",
   "metadata": {},
   "outputs": [
    {
     "name": "stdout",
     "output_type": "stream",
     "text": [
      "['1', 'The Shawshank Redemption(1994)']\n"
     ]
    }
   ],
   "source": [
    "for movie in top_rated:\n",
    "    name= movie.find('td', class_=\"titleColumn\").a.text\n",
    "    rank= movie.find('td', class_=\"titleColumn\").get_text(strip=True).split('.')\n",
    "    ##print(name)\n",
    "    print(rank)  ##printing rank in orderded line & converting it in list with indexes\n",
    "    break"
   ]
  },
  {
   "cell_type": "code",
   "execution_count": 51,
   "id": "58c49c4a",
   "metadata": {},
   "outputs": [
    {
     "name": "stdout",
     "output_type": "stream",
     "text": [
      "1\n"
     ]
    }
   ],
   "source": [
    "for movie in top_rated:\n",
    "    name= movie.find('td', class_=\"titleColumn\").a.text\n",
    "    rank= movie.find('td', class_=\"titleColumn\").get_text(strip=True)[0]\n",
    "    ##print(name)\n",
    "    print(rank)  ##printing rank in orderded line\n",
    "    break"
   ]
  },
  {
   "cell_type": "code",
   "execution_count": 53,
   "id": "f7ea1807",
   "metadata": {},
   "outputs": [
    {
     "name": "stdout",
     "output_type": "stream",
     "text": [
      "1994\n"
     ]
    }
   ],
   "source": [
    "for movie in top_rated:\n",
    "    name= movie.find('td', class_=\"titleColumn\").a.text\n",
    "    rank= movie.find('td', class_=\"titleColumn\").text\n",
    "    year= movie.find('td', class_=\"titleColumn\").span.text.strip('()')\n",
    "    ##print(name)\n",
    "    print(year)  ##printing year\n",
    "    break"
   ]
  },
  {
   "cell_type": "code",
   "execution_count": 62,
   "id": "7731784e",
   "metadata": {},
   "outputs": [
    {
     "name": "stdout",
     "output_type": "stream",
     "text": [
      "1 The Shawshank Redemption 1994 9.2\n"
     ]
    }
   ],
   "source": [
    "for movie in top_rated:\n",
    "    name= movie.find('td', class_=\"titleColumn\").a.text\n",
    "    rank= movie.find('td', class_=\"titleColumn\").get_text(strip=True).split('.')[0]\n",
    "    year= movie.find('td', class_=\"titleColumn\").span.text.strip('()')\n",
    "    rating= movie.find('td', class_= \"ratingColumn imdbRating\").strong.text\n",
    "    \n",
    "    print(rank,name,year,rating)  \n",
    "    break"
   ]
  },
  {
   "cell_type": "code",
   "execution_count": 59,
   "id": "138ff1d8",
   "metadata": {},
   "outputs": [],
   "source": [
    "##now lets extract for all 250 movies by removing break"
   ]
  },
  {
   "cell_type": "code",
   "execution_count": 78,
   "id": "538c836c",
   "metadata": {},
   "outputs": [
    {
     "name": "stdout",
     "output_type": "stream",
     "text": [
      "1 The Shawshank Redemption 1994 9.2\n",
      "2 The Godfather 1972 9.2\n",
      "3 The Dark Knight 2008 9.0\n",
      "4 The Godfather Part II 1974 9.0\n",
      "5 12 Angry Men 1957 9.0\n",
      "6 Schindler's List 1993 8.9\n",
      "7 The Lord of the Rings: The Return of the King 2003 8.9\n",
      "8 Pulp Fiction 1994 8.8\n",
      "9 The Lord of the Rings: The Fellowship of the Ring 2001 8.8\n",
      "10 Il buono, il brutto, il cattivo 1966 8.8\n",
      "11 Forrest Gump 1994 8.8\n",
      "12 Fight Club 1999 8.7\n",
      "13 The Lord of the Rings: The Two Towers 2002 8.7\n",
      "14 Inception 2010 8.7\n",
      "15 The Empire Strikes Back 1980 8.7\n",
      "16 The Matrix 1999 8.7\n",
      "17 GoodFellas 1990 8.7\n",
      "18 One Flew Over the Cuckoo's Nest 1975 8.6\n",
      "19 Se7en 1995 8.6\n",
      "20 Shichinin no samurai 1954 8.6\n",
      "21 It's a Wonderful Life 1946 8.6\n",
      "22 The Silence of the Lambs 1991 8.6\n",
      "23 Saving Private Ryan 1998 8.6\n",
      "24 Cidade de Deus 2002 8.6\n",
      "25 Interstellar 2014 8.6\n",
      "26 La vita è bella 1997 8.6\n",
      "27 The Green Mile 1999 8.6\n",
      "28 Star Wars 1977 8.5\n",
      "29 Terminator 2: Judgment Day 1991 8.5\n",
      "30 Back to the Future 1985 8.5\n",
      "31 Sen to Chihiro no kamikakushi 2001 8.5\n",
      "32 The Pianist 2002 8.5\n",
      "33 Psycho 1960 8.5\n",
      "34 Gisaengchung 2019 8.5\n",
      "35 Léon 1994 8.5\n",
      "36 The Lion King 1994 8.5\n",
      "37 Gladiator 2000 8.5\n",
      "38 American History X 1998 8.5\n",
      "39 The Departed 2006 8.5\n",
      "40 The Usual Suspects 1995 8.5\n",
      "41 The Prestige 2006 8.5\n",
      "42 Whiplash 2014 8.5\n",
      "43 Casablanca 1942 8.5\n",
      "44 Seppuku 1962 8.5\n",
      "45 Hotaru no haka 1988 8.5\n",
      "46 The Intouchables 2011 8.5\n",
      "47 Modern Times 1936 8.4\n",
      "48 Once Upon a Time in the West 1968 8.4\n",
      "49 Rear Window 1954 8.4\n",
      "50 Nuovo Cinema Paradiso 1988 8.4\n",
      "51 Alien 1979 8.4\n",
      "52 City Lights 1931 8.4\n",
      "53 Apocalypse Now 1979 8.4\n",
      "54 Memento 2000 8.4\n",
      "55 Django Unchained 2012 8.4\n",
      "56 Raiders of the Lost Ark 1981 8.4\n",
      "57 WALL·E 2008 8.4\n",
      "58 The Lives of Others 2006 8.4\n",
      "59 Sunset Blvd. 1950 8.4\n",
      "60 Paths of Glory 1957 8.4\n",
      "61 The Shining 1980 8.4\n",
      "62 The Great Dictator 1940 8.4\n",
      "63 Avengers: Infinity War 2018 8.4\n",
      "64 Witness for the Prosecution 1957 8.4\n",
      "65 Aliens 1986 8.3\n",
      "66 Spider-Man: Into the Spider-Verse 2018 8.3\n",
      "67 American Beauty 1999 8.3\n",
      "68 Dr. Strangelove or: How I Learned to Stop Worrying and Love the Bomb 1964 8.3\n",
      "69 The Dark Knight Rises 2012 8.3\n",
      "70 Oldeuboi 2003 8.3\n",
      "71 Inglourious Basterds 2009 8.3\n",
      "72 Amadeus 1984 8.3\n",
      "73 Coco 2017 8.3\n",
      "74 Toy Story 1995 8.3\n",
      "75 Joker 2019 8.3\n",
      "76 Braveheart 1995 8.3\n",
      "77 Das Boot 1981 8.3\n",
      "78 Avengers: Endgame 2019 8.3\n",
      "79 Mononoke-hime 1997 8.3\n",
      "80 Once Upon a Time in America 1984 8.3\n",
      "81 Good Will Hunting 1997 8.3\n",
      "82 Kimi no na wa. 2016 8.3\n",
      "83 Singin' in the Rain 1952 8.3\n",
      "84 3 Idiots 2009 8.3\n",
      "85 Requiem for a Dream 2000 8.3\n",
      "86 Tengoku to jigoku 1963 8.3\n",
      "87 Toy Story 3 2010 8.3\n",
      "88 Capharnaüm 2018 8.3\n",
      "89 Star Wars: Episode VI - Return of the Jedi 1983 8.3\n",
      "90 Eternal Sunshine of the Spotless Mind 2004 8.3\n",
      "91 2001: A Space Odyssey 1968 8.3\n",
      "92 Reservoir Dogs 1992 8.3\n",
      "93 Idi i smotri 1985 8.3\n",
      "94 Jagten 2012 8.3\n",
      "95 Citizen Kane 1941 8.3\n",
      "96 M - Eine Stadt sucht einen Mörder 1931 8.3\n",
      "97 Lawrence of Arabia 1962 8.2\n",
      "98 North by Northwest 1959 8.2\n",
      "99 Ikiru 1952 8.2\n",
      "100 Vertigo 1958 8.2\n",
      "101 The Apartment 1960 8.2\n",
      "102 Le fabuleux destin d'Amélie Poulain 2001 8.2\n",
      "103 A Clockwork Orange 1971 8.2\n",
      "104 Double Indemnity 1944 8.2\n",
      "105 Full Metal Jacket 1987 8.2\n",
      "106 Scarface 1983 8.2\n",
      "107 Hamilton 2020 8.2\n",
      "108 Top Gun: Maverick 2022 8.2\n",
      "109 Incendies 2010 8.2\n",
      "110 To Kill a Mockingbird 1962 8.2\n",
      "111 Heat 1995 8.2\n",
      "112 The Sting 1973 8.2\n",
      "113 Up 2009 8.2\n",
      "114 Jodaeiye Nader az Simin 2011 8.2\n",
      "115 Metropolis 1927 8.2\n",
      "116 Taxi Driver 1976 8.2\n",
      "117 L.A. Confidential 1997 8.2\n",
      "118 Die Hard 1988 8.2\n",
      "119 Snatch 2000 8.2\n",
      "120 Indiana Jones and the Last Crusade 1989 8.2\n",
      "121 Ladri di biciclette 1948 8.2\n",
      "122 Taare Zameen Par 2007 8.2\n",
      "123 1917 2019 8.2\n",
      "124 Der Untergang 2004 8.2\n",
      "125 Dangal 2016 8.2\n",
      "126 Per qualche dollaro in più 1965 8.2\n",
      "127 Batman Begins 2005 8.2\n",
      "128 The Kid 1921 8.2\n",
      "129 Some Like It Hot 1959 8.2\n",
      "130 The Father 2020 8.2\n",
      "131 All About Eve 1950 8.2\n",
      "132 The Wolf of Wall Street 2013 8.2\n",
      "133 Green Book 2018 8.2\n",
      "134 Judgment at Nuremberg 1961 8.2\n",
      "135 Ran 1985 8.2\n",
      "136 Casino 1995 8.2\n",
      "137 Pan's Labyrinth 2006 8.2\n",
      "138 The Truman Show 1998 8.2\n",
      "139 There Will Be Blood 2007 8.2\n",
      "140 Unforgiven 1992 8.2\n",
      "141 The Sixth Sense 1999 8.2\n",
      "142 Shutter Island 2010 8.2\n",
      "143 A Beautiful Mind 2001 8.2\n",
      "144 Jurassic Park 1993 8.1\n",
      "145 Yôjinbô 1961 8.1\n",
      "146 The Treasure of the Sierra Madre 1948 8.1\n",
      "147 Monty Python and the Holy Grail 1975 8.1\n",
      "148 The Great Escape 1963 8.1\n",
      "149 No Country for Old Men 2007 8.1\n",
      "150 Kill Bill: Vol. 1 2003 8.1\n",
      "151 Rashômon 1950 8.1\n",
      "152 Spider-Man: No Way Home 2021 8.1\n",
      "153 The Thing 1982 8.1\n",
      "154 Finding Nemo 2003 8.1\n",
      "155 The Elephant Man 1980 8.1\n",
      "156 Chinatown 1974 8.1\n",
      "157 Raging Bull 1980 8.1\n",
      "158 V for Vendetta 2005 8.1\n",
      "159 Gone with the Wind 1939 8.1\n",
      "160 Lock, Stock and Two Smoking Barrels 1998 8.1\n",
      "161 Inside Out 2015 8.1\n",
      "162 Dial M for Murder 1954 8.1\n",
      "163 El secreto de sus ojos 2009 8.1\n",
      "164 Hauru no ugoku shiro 2004 8.1\n",
      "165 Three Billboards Outside Ebbing, Missouri 2017 8.1\n",
      "166 The Bridge on the River Kwai 1957 8.1\n",
      "167 Trainspotting 1996 8.1\n",
      "168 Prisoners 2013 8.1\n",
      "169 Warrior 2011 8.1\n",
      "170 Fargo 1996 8.1\n",
      "171 Gran Torino 2008 8.1\n",
      "172 Tonari no Totoro 1988 8.1\n",
      "173 Catch Me If You Can 2002 8.1\n",
      "174 Million Dollar Baby 2004 8.1\n",
      "175 Bacheha-Ye aseman 1997 8.1\n",
      "176 Blade Runner 1982 8.1\n",
      "177 The Gold Rush 1925 8.1\n",
      "178 Before Sunrise 1995 8.1\n",
      "179 Klaus 2019 8.1\n",
      "180 12 Years a Slave 2013 8.1\n",
      "181 Harry Potter and the Deathly Hallows: Part 2 2011 8.1\n",
      "182 On the Waterfront 1954 8.1\n",
      "183 Ben-Hur 1959 8.1\n",
      "184 Gone Girl 2014 8.1\n",
      "185 The Grand Budapest Hotel 2014 8.1\n",
      "186 Smultronstället 1957 8.1\n",
      "187 The General 1926 8.1\n",
      "188 The Third Man 1949 8.1\n",
      "189 In the Name of the Father 1993 8.1\n",
      "190 The Deer Hunter 1978 8.1\n",
      "191 Barry Lyndon 1975 8.1\n",
      "192 Hacksaw Ridge 2016 8.1\n",
      "193 Le salaire de la peur 1953 8.1\n",
      "194 Salinui chueok 2003 8.1\n",
      "195 Sherlock Jr. 1924 8.1\n",
      "196 Relatos salvajes 2014 8.1\n",
      "197 Mr. Smith Goes to Washington 1939 8.1\n",
      "198 Mad Max: Fury Road 2015 8.1\n",
      "199 Det sjunde inseglet 1957 8.1\n",
      "200 Mary and Max. 2009 8.1\n",
      "201 How to Train Your Dragon 2010 8.1\n",
      "202 Room 2015 8.1\n",
      "203 Monsters, Inc. 2001 8.1\n",
      "204 Jaws 1975 8.1\n",
      "205 Dead Poets Society 1989 8.1\n",
      "206 The Big Lebowski 1998 8.1\n",
      "207 Tôkyô monogatari 1953 8.1\n",
      "208 La passion de Jeanne d'Arc 1928 8.1\n",
      "209 Hotel Rwanda 2004 8.0\n",
      "210 Ford v Ferrari 2019 8.0\n",
      "211 Rocky 1976 8.0\n",
      "212 Platoon 1986 8.0\n",
      "213 Ratatouille 2007 8.0\n",
      "214 Spotlight 2015 8.0\n",
      "215 The Terminator 1984 8.0\n",
      "216 Logan 2017 8.0\n",
      "217 Stand by Me 1986 8.0\n",
      "218 Rush 2013 8.0\n",
      "219 Network 1976 8.0\n",
      "220 Before Sunset 2004 8.0\n",
      "221 Into the Wild 2007 8.0\n",
      "222 The Wizard of Oz 1939 8.0\n",
      "223 Pather Panchali 1955 8.0\n",
      "224 Groundhog Day 1993 8.0\n",
      "225 The Best Years of Our Lives 1946 8.0\n",
      "226 The Exorcist 1973 8.0\n",
      "227 To Be or Not to Be 1942 8.0\n",
      "228 The Incredibles 2004 8.0\n",
      "229 La haine 1995 8.0\n",
      "230 Pirates of the Caribbean: The Curse of the Black Pearl 2003 8.0\n",
      "231 La battaglia di Algeri 1966 8.0\n",
      "232 Hachi: A Dog's Tale 2009 8.0\n",
      "233 The Grapes of Wrath 1940 8.0\n",
      "234 Jai Bhim 2021 8.0\n",
      "235 Babam ve Oglum 2005 8.0\n",
      "236 Amores perros 2000 8.0\n",
      "237 Rebecca 1940 8.0\n",
      "238 Cool Hand Luke 1967 8.0\n",
      "239 Ah-ga-ssi 2016 8.0\n",
      "240 Les quatre cents coups 1959 8.0\n",
      "241 The Sound of Music 1965 8.0\n",
      "242 It Happened One Night 1934 8.0\n",
      "243 Persona 1966 8.0\n",
      "244 Life of Brian 1979 8.0\n",
      "245 The Iron Giant 1999 8.0\n",
      "246 Dersu Uzala 1975 8.0\n",
      "247 The Help 2011 8.0\n",
      "248 Aladdin 1992 8.0\n",
      "249 Gandhi 1982 8.0\n",
      "250 Dances with Wolves 1990 8.0\n"
     ]
    }
   ],
   "source": [
    "for movie in top_rated:\n",
    "    name= movie.find('td', class_=\"titleColumn\").a.text\n",
    "    rank= movie.find('td', class_=\"titleColumn\").get_text(strip=True).split('.')[0]\n",
    "    year= movie.find('td', class_=\"titleColumn\").span.text.strip('()')\n",
    "    rating= movie.find('td', class_= \"ratingColumn imdbRating\").strong.text\n",
    "    \n",
    "    print(rank,name,year,rating) \n",
    "    sheet.append([rank,name,year,rating])\n",
    "    excel.save(\"IMDB MOVIES RATING\")\n",
    "    ##break removing break"
   ]
  },
  {
   "cell_type": "code",
   "execution_count": 64,
   "id": "736e1220",
   "metadata": {},
   "outputs": [],
   "source": []
  },
  {
   "cell_type": "code",
   "execution_count": 65,
   "id": "af5d7bc4",
   "metadata": {},
   "outputs": [],
   "source": []
  },
  {
   "cell_type": "code",
   "execution_count": null,
   "id": "9acab7f4",
   "metadata": {},
   "outputs": [],
   "source": []
  }
 ],
 "metadata": {
  "kernelspec": {
   "display_name": "Python 3 (ipykernel)",
   "language": "python",
   "name": "python3"
  },
  "language_info": {
   "codemirror_mode": {
    "name": "ipython",
    "version": 3
   },
   "file_extension": ".py",
   "mimetype": "text/x-python",
   "name": "python",
   "nbconvert_exporter": "python",
   "pygments_lexer": "ipython3",
   "version": "3.9.13"
  }
 },
 "nbformat": 4,
 "nbformat_minor": 5
}
