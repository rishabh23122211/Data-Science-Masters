{
 "cells": [
  {
   "cell_type": "code",
   "execution_count": 4,
   "id": "935e7d0b",
   "metadata": {},
   "outputs": [],
   "source": [
    "import pandas as pd\n",
    "course_name = [\"Data Science\", \"Machine Learning\", \"Big data\", \"Data Engineer\"]\n",
    "duration = [2,3,6,4]\n",
    "data={\"coursename\":course_name,\"durat_ion\":duration}\n",
    "df = pd.DataFrame(data)"
   ]
  },
  {
   "cell_type": "code",
   "execution_count": 5,
   "id": "fd62d973",
   "metadata": {},
   "outputs": [
    {
     "data": {
      "text/html": [
       "<div>\n",
       "<style scoped>\n",
       "    .dataframe tbody tr th:only-of-type {\n",
       "        vertical-align: middle;\n",
       "    }\n",
       "\n",
       "    .dataframe tbody tr th {\n",
       "        vertical-align: top;\n",
       "    }\n",
       "\n",
       "    .dataframe thead th {\n",
       "        text-align: right;\n",
       "    }\n",
       "</style>\n",
       "<table border=\"1\" class=\"dataframe\">\n",
       "  <thead>\n",
       "    <tr style=\"text-align: right;\">\n",
       "      <th></th>\n",
       "      <th>coursename</th>\n",
       "      <th>durat_ion</th>\n",
       "    </tr>\n",
       "  </thead>\n",
       "  <tbody>\n",
       "    <tr>\n",
       "      <th>0</th>\n",
       "      <td>Data Science</td>\n",
       "      <td>2</td>\n",
       "    </tr>\n",
       "    <tr>\n",
       "      <th>1</th>\n",
       "      <td>Machine Learning</td>\n",
       "      <td>3</td>\n",
       "    </tr>\n",
       "    <tr>\n",
       "      <th>2</th>\n",
       "      <td>Big data</td>\n",
       "      <td>6</td>\n",
       "    </tr>\n",
       "    <tr>\n",
       "      <th>3</th>\n",
       "      <td>Data Engineer</td>\n",
       "      <td>4</td>\n",
       "    </tr>\n",
       "  </tbody>\n",
       "</table>\n",
       "</div>"
      ],
      "text/plain": [
       "         coursename  durat_ion\n",
       "0      Data Science          2\n",
       "1  Machine Learning          3\n",
       "2          Big data          6\n",
       "3     Data Engineer          4"
      ]
     },
     "execution_count": 5,
     "metadata": {},
     "output_type": "execute_result"
    }
   ],
   "source": [
    "df"
   ]
  },
  {
   "cell_type": "markdown",
   "id": "01bd33ea",
   "metadata": {},
   "source": [
    "# Q1. Write a code to print the data present in the second row of the dataframe, df."
   ]
  },
  {
   "cell_type": "code",
   "execution_count": 9,
   "id": "a4e382ea",
   "metadata": {},
   "outputs": [
    {
     "data": {
      "text/plain": [
       "['Machine Learning', 3]"
      ]
     },
     "execution_count": 9,
     "metadata": {},
     "output_type": "execute_result"
    }
   ],
   "source": [
    "list(df.iloc[1])"
   ]
  },
  {
   "cell_type": "markdown",
   "id": "5a1c35bf",
   "metadata": {},
   "source": [
    "# Q2. What is the difference between the functions loc and iloc in pandas.DataFrame?"
   ]
  },
  {
   "cell_type": "markdown",
   "id": "4e23036b",
   "metadata": {},
   "source": [
    "\"\"\"\n",
    "In pandas, loc and iloc are both used to select rows and columns from a DataFrame. The main difference between the two functions is the way they handle indexing.\n",
    "\n",
    "loc is label-based indexing, which means that you can select rows and columns using their labels (i.e., row and column names). For example, df.loc[1, 'col2'] will select the value in row 1 and column 'col2'.\n",
    "\n",
    "iloc is integer-based indexing, which means that you can select rows and columns using their integer positions (i.e., row and column numbers). For example, df.iloc[1, 1] will select the value in the second row and second column (since indexing starts at 0).\n",
    "\n",
    "In summary, the main difference between loc and iloc is that loc uses labels for indexing while iloc uses integer positions. It is important to note that both functions can be used for both row and column selection, and they can also be used together to select both rows and columns simultaneously.\n",
    "\"\"\""
   ]
  },
  {
   "cell_type": "markdown",
   "id": "67f462a5",
   "metadata": {},
   "source": [
    "# Q3. Reindex the given dataframe using a variable, reindex = [3,0,1,2] and store it in the variable, new_df then find the output for both new_df.loc[2] and new_df.iloc[2]."
   ]
  },
  {
   "cell_type": "code",
   "execution_count": 10,
   "id": "77bb3baf",
   "metadata": {},
   "outputs": [
    {
     "data": {
      "text/html": [
       "<div>\n",
       "<style scoped>\n",
       "    .dataframe tbody tr th:only-of-type {\n",
       "        vertical-align: middle;\n",
       "    }\n",
       "\n",
       "    .dataframe tbody tr th {\n",
       "        vertical-align: top;\n",
       "    }\n",
       "\n",
       "    .dataframe thead th {\n",
       "        text-align: right;\n",
       "    }\n",
       "</style>\n",
       "<table border=\"1\" class=\"dataframe\">\n",
       "  <thead>\n",
       "    <tr style=\"text-align: right;\">\n",
       "      <th></th>\n",
       "      <th>coursename</th>\n",
       "      <th>durat_ion</th>\n",
       "    </tr>\n",
       "  </thead>\n",
       "  <tbody>\n",
       "    <tr>\n",
       "      <th>0</th>\n",
       "      <td>Data Science</td>\n",
       "      <td>2</td>\n",
       "    </tr>\n",
       "    <tr>\n",
       "      <th>1</th>\n",
       "      <td>Machine Learning</td>\n",
       "      <td>3</td>\n",
       "    </tr>\n",
       "    <tr>\n",
       "      <th>2</th>\n",
       "      <td>Big data</td>\n",
       "      <td>6</td>\n",
       "    </tr>\n",
       "    <tr>\n",
       "      <th>3</th>\n",
       "      <td>Data Engineer</td>\n",
       "      <td>4</td>\n",
       "    </tr>\n",
       "  </tbody>\n",
       "</table>\n",
       "</div>"
      ],
      "text/plain": [
       "         coursename  durat_ion\n",
       "0      Data Science          2\n",
       "1  Machine Learning          3\n",
       "2          Big data          6\n",
       "3     Data Engineer          4"
      ]
     },
     "execution_count": 10,
     "metadata": {},
     "output_type": "execute_result"
    }
   ],
   "source": [
    "df"
   ]
  },
  {
   "cell_type": "code",
   "execution_count": 12,
   "id": "b9029af2",
   "metadata": {},
   "outputs": [],
   "source": [
    "new_df1=df.reindex([3,0,1,2])"
   ]
  },
  {
   "cell_type": "code",
   "execution_count": 13,
   "id": "4bbba3a6",
   "metadata": {},
   "outputs": [
    {
     "data": {
      "text/html": [
       "<div>\n",
       "<style scoped>\n",
       "    .dataframe tbody tr th:only-of-type {\n",
       "        vertical-align: middle;\n",
       "    }\n",
       "\n",
       "    .dataframe tbody tr th {\n",
       "        vertical-align: top;\n",
       "    }\n",
       "\n",
       "    .dataframe thead th {\n",
       "        text-align: right;\n",
       "    }\n",
       "</style>\n",
       "<table border=\"1\" class=\"dataframe\">\n",
       "  <thead>\n",
       "    <tr style=\"text-align: right;\">\n",
       "      <th></th>\n",
       "      <th>coursename</th>\n",
       "      <th>durat_ion</th>\n",
       "    </tr>\n",
       "  </thead>\n",
       "  <tbody>\n",
       "    <tr>\n",
       "      <th>3</th>\n",
       "      <td>Data Engineer</td>\n",
       "      <td>4</td>\n",
       "    </tr>\n",
       "    <tr>\n",
       "      <th>0</th>\n",
       "      <td>Data Science</td>\n",
       "      <td>2</td>\n",
       "    </tr>\n",
       "    <tr>\n",
       "      <th>1</th>\n",
       "      <td>Machine Learning</td>\n",
       "      <td>3</td>\n",
       "    </tr>\n",
       "    <tr>\n",
       "      <th>2</th>\n",
       "      <td>Big data</td>\n",
       "      <td>6</td>\n",
       "    </tr>\n",
       "  </tbody>\n",
       "</table>\n",
       "</div>"
      ],
      "text/plain": [
       "         coursename  durat_ion\n",
       "3     Data Engineer          4\n",
       "0      Data Science          2\n",
       "1  Machine Learning          3\n",
       "2          Big data          6"
      ]
     },
     "execution_count": 13,
     "metadata": {},
     "output_type": "execute_result"
    }
   ],
   "source": [
    "new_df1"
   ]
  },
  {
   "cell_type": "code",
   "execution_count": 15,
   "id": "2f7779c4",
   "metadata": {},
   "outputs": [
    {
     "data": {
      "text/plain": [
       "['Big data', 6]"
      ]
     },
     "execution_count": 15,
     "metadata": {},
     "output_type": "execute_result"
    }
   ],
   "source": [
    "list(new_df1.loc[2])"
   ]
  },
  {
   "cell_type": "code",
   "execution_count": 16,
   "id": "0692271d",
   "metadata": {},
   "outputs": [
    {
     "data": {
      "text/plain": [
       "['Machine Learning', 3]"
      ]
     },
     "execution_count": 16,
     "metadata": {},
     "output_type": "execute_result"
    }
   ],
   "source": [
    "list(new_df1.iloc[2])"
   ]
  },
  {
   "cell_type": "markdown",
   "id": "0603a868",
   "metadata": {},
   "source": [
    "# Did you observe any difference in both the outputs? If so then explain it."
   ]
  },
  {
   "cell_type": "markdown",
   "id": "5c6de6a4",
   "metadata": {},
   "source": [
    "## Yes, iloc fetches inbult indexes of data frame as in df, but loc gives the user difined indixes the more preference"
   ]
  },
  {
   "cell_type": "code",
   "execution_count": 18,
   "id": "41e159ac",
   "metadata": {},
   "outputs": [],
   "source": [
    "import pandas as pd\n",
    "import numpy as np\n",
    "columns = ['column_1', 'column_2', 'column_3', 'column_4', 'column_5', 'column_6']\n",
    "indices = [1,2,3,4,5,6]\n",
    "#Creating a dataframe:\n",
    "df1 = pd.DataFrame(np.random.rand(6,6), columns = columns, index = indices)"
   ]
  },
  {
   "cell_type": "code",
   "execution_count": 19,
   "id": "936c33e7",
   "metadata": {},
   "outputs": [
    {
     "data": {
      "text/html": [
       "<div>\n",
       "<style scoped>\n",
       "    .dataframe tbody tr th:only-of-type {\n",
       "        vertical-align: middle;\n",
       "    }\n",
       "\n",
       "    .dataframe tbody tr th {\n",
       "        vertical-align: top;\n",
       "    }\n",
       "\n",
       "    .dataframe thead th {\n",
       "        text-align: right;\n",
       "    }\n",
       "</style>\n",
       "<table border=\"1\" class=\"dataframe\">\n",
       "  <thead>\n",
       "    <tr style=\"text-align: right;\">\n",
       "      <th></th>\n",
       "      <th>column_1</th>\n",
       "      <th>column_2</th>\n",
       "      <th>column_3</th>\n",
       "      <th>column_4</th>\n",
       "      <th>column_5</th>\n",
       "      <th>column_6</th>\n",
       "    </tr>\n",
       "  </thead>\n",
       "  <tbody>\n",
       "    <tr>\n",
       "      <th>1</th>\n",
       "      <td>0.076693</td>\n",
       "      <td>0.688066</td>\n",
       "      <td>0.943726</td>\n",
       "      <td>0.980608</td>\n",
       "      <td>0.935136</td>\n",
       "      <td>0.183639</td>\n",
       "    </tr>\n",
       "    <tr>\n",
       "      <th>2</th>\n",
       "      <td>0.100972</td>\n",
       "      <td>0.775907</td>\n",
       "      <td>0.876174</td>\n",
       "      <td>0.802049</td>\n",
       "      <td>0.583011</td>\n",
       "      <td>0.302676</td>\n",
       "    </tr>\n",
       "    <tr>\n",
       "      <th>3</th>\n",
       "      <td>0.563771</td>\n",
       "      <td>0.760610</td>\n",
       "      <td>0.261863</td>\n",
       "      <td>0.384418</td>\n",
       "      <td>0.002137</td>\n",
       "      <td>0.268707</td>\n",
       "    </tr>\n",
       "    <tr>\n",
       "      <th>4</th>\n",
       "      <td>0.638982</td>\n",
       "      <td>0.456130</td>\n",
       "      <td>0.479737</td>\n",
       "      <td>0.108205</td>\n",
       "      <td>0.392723</td>\n",
       "      <td>0.553814</td>\n",
       "    </tr>\n",
       "    <tr>\n",
       "      <th>5</th>\n",
       "      <td>0.717781</td>\n",
       "      <td>0.007910</td>\n",
       "      <td>0.731752</td>\n",
       "      <td>0.151994</td>\n",
       "      <td>0.048712</td>\n",
       "      <td>0.780784</td>\n",
       "    </tr>\n",
       "    <tr>\n",
       "      <th>6</th>\n",
       "      <td>0.246216</td>\n",
       "      <td>0.779588</td>\n",
       "      <td>0.401325</td>\n",
       "      <td>0.334424</td>\n",
       "      <td>0.836735</td>\n",
       "      <td>0.362457</td>\n",
       "    </tr>\n",
       "  </tbody>\n",
       "</table>\n",
       "</div>"
      ],
      "text/plain": [
       "   column_1  column_2  column_3  column_4  column_5  column_6\n",
       "1  0.076693  0.688066  0.943726  0.980608  0.935136  0.183639\n",
       "2  0.100972  0.775907  0.876174  0.802049  0.583011  0.302676\n",
       "3  0.563771  0.760610  0.261863  0.384418  0.002137  0.268707\n",
       "4  0.638982  0.456130  0.479737  0.108205  0.392723  0.553814\n",
       "5  0.717781  0.007910  0.731752  0.151994  0.048712  0.780784\n",
       "6  0.246216  0.779588  0.401325  0.334424  0.836735  0.362457"
      ]
     },
     "execution_count": 19,
     "metadata": {},
     "output_type": "execute_result"
    }
   ],
   "source": [
    "df1"
   ]
  },
  {
   "cell_type": "markdown",
   "id": "13a4f924",
   "metadata": {},
   "source": [
    "# Q4. Write a code to find the following statistical measurements for the above dataframe df1:\n",
    "# (i) mean of each and every column present in the dataframe.\n",
    "# (ii) standard deviation of column, ‘column_2’"
   ]
  },
  {
   "cell_type": "code",
   "execution_count": 25,
   "id": "2517a196",
   "metadata": {},
   "outputs": [
    {
     "data": {
      "text/plain": [
       "0.3907357729440428"
      ]
     },
     "execution_count": 25,
     "metadata": {},
     "output_type": "execute_result"
    }
   ],
   "source": [
    "df1[\"column_1\"].mean()"
   ]
  },
  {
   "cell_type": "code",
   "execution_count": 26,
   "id": "b00f397d",
   "metadata": {},
   "outputs": [
    {
     "data": {
      "text/plain": [
       "0.5780351941382901"
      ]
     },
     "execution_count": 26,
     "metadata": {},
     "output_type": "execute_result"
    }
   ],
   "source": [
    "df1[\"column_2\"].mean()"
   ]
  },
  {
   "cell_type": "code",
   "execution_count": 27,
   "id": "ffefba2a",
   "metadata": {},
   "outputs": [
    {
     "data": {
      "text/plain": [
       "0.6157628739613155"
      ]
     },
     "execution_count": 27,
     "metadata": {},
     "output_type": "execute_result"
    }
   ],
   "source": [
    "df1[\"column_3\"].mean()"
   ]
  },
  {
   "cell_type": "code",
   "execution_count": 29,
   "id": "c6f40811",
   "metadata": {},
   "outputs": [
    {
     "data": {
      "text/plain": [
       "0.46028308612174834"
      ]
     },
     "execution_count": 29,
     "metadata": {},
     "output_type": "execute_result"
    }
   ],
   "source": [
    "df1[\"column_4\"].mean()"
   ]
  },
  {
   "cell_type": "code",
   "execution_count": 30,
   "id": "32f55045",
   "metadata": {},
   "outputs": [
    {
     "data": {
      "text/plain": [
       "0.46640879486114756"
      ]
     },
     "execution_count": 30,
     "metadata": {},
     "output_type": "execute_result"
    }
   ],
   "source": [
    "df1[\"column_5\"].mean()"
   ]
  },
  {
   "cell_type": "code",
   "execution_count": 31,
   "id": "97cab5cf",
   "metadata": {},
   "outputs": [
    {
     "data": {
      "text/plain": [
       "0.4086795135330066"
      ]
     },
     "execution_count": 31,
     "metadata": {},
     "output_type": "execute_result"
    }
   ],
   "source": [
    "df1[\"column_6\"].mean()"
   ]
  },
  {
   "cell_type": "code",
   "execution_count": 37,
   "id": "3ae859d6",
   "metadata": {},
   "outputs": [
    {
     "data": {
      "text/plain": [
       "0.30499892812138235"
      ]
     },
     "execution_count": 37,
     "metadata": {},
     "output_type": "execute_result"
    }
   ],
   "source": [
    "## standard daviation\n",
    "df1[\"column_2\"].std()"
   ]
  },
  {
   "cell_type": "markdown",
   "id": "4da16f2c",
   "metadata": {},
   "source": [
    "# Q5. Replace the data present in the second row of column, ‘column_2’ by a string variable then find the mean of column, column_2."
   ]
  },
  {
   "cell_type": "code",
   "execution_count": 53,
   "id": "e85eb6a5",
   "metadata": {},
   "outputs": [],
   "source": [
    "import pandas as pd\n",
    "import numpy as np\n",
    "columns = ['column_1', 'column_2', 'column_3', 'column_4', 'column_5', 'column_6']\n",
    "indices = [1,2,3,4,5,6]\n",
    "#Creating a dataframe:\n",
    "df1 = pd.DataFrame(np.random.rand(6,6), columns = columns, index = indices)"
   ]
  },
  {
   "cell_type": "markdown",
   "id": "335796fe",
   "metadata": {},
   "source": [
    "# "
   ]
  },
  {
   "cell_type": "code",
   "execution_count": 54,
   "id": "058f6be4",
   "metadata": {},
   "outputs": [
    {
     "data": {
      "text/html": [
       "<div>\n",
       "<style scoped>\n",
       "    .dataframe tbody tr th:only-of-type {\n",
       "        vertical-align: middle;\n",
       "    }\n",
       "\n",
       "    .dataframe tbody tr th {\n",
       "        vertical-align: top;\n",
       "    }\n",
       "\n",
       "    .dataframe thead th {\n",
       "        text-align: right;\n",
       "    }\n",
       "</style>\n",
       "<table border=\"1\" class=\"dataframe\">\n",
       "  <thead>\n",
       "    <tr style=\"text-align: right;\">\n",
       "      <th></th>\n",
       "      <th>column_1</th>\n",
       "      <th>column_2</th>\n",
       "      <th>column_3</th>\n",
       "      <th>column_4</th>\n",
       "      <th>column_5</th>\n",
       "      <th>column_6</th>\n",
       "    </tr>\n",
       "  </thead>\n",
       "  <tbody>\n",
       "    <tr>\n",
       "      <th>1</th>\n",
       "      <td>0.524681</td>\n",
       "      <td>0.582696</td>\n",
       "      <td>0.520926</td>\n",
       "      <td>0.666280</td>\n",
       "      <td>0.202193</td>\n",
       "      <td>0.017098</td>\n",
       "    </tr>\n",
       "    <tr>\n",
       "      <th>2</th>\n",
       "      <td>0.103170</td>\n",
       "      <td>0.082210</td>\n",
       "      <td>0.885802</td>\n",
       "      <td>0.446517</td>\n",
       "      <td>0.132416</td>\n",
       "      <td>0.008962</td>\n",
       "    </tr>\n",
       "    <tr>\n",
       "      <th>3</th>\n",
       "      <td>0.480816</td>\n",
       "      <td>0.548136</td>\n",
       "      <td>0.747656</td>\n",
       "      <td>0.647152</td>\n",
       "      <td>0.855274</td>\n",
       "      <td>0.829770</td>\n",
       "    </tr>\n",
       "    <tr>\n",
       "      <th>4</th>\n",
       "      <td>0.825649</td>\n",
       "      <td>0.847297</td>\n",
       "      <td>0.961586</td>\n",
       "      <td>0.429235</td>\n",
       "      <td>0.922410</td>\n",
       "      <td>0.043729</td>\n",
       "    </tr>\n",
       "    <tr>\n",
       "      <th>5</th>\n",
       "      <td>0.680028</td>\n",
       "      <td>0.086659</td>\n",
       "      <td>0.335072</td>\n",
       "      <td>0.241048</td>\n",
       "      <td>0.051834</td>\n",
       "      <td>0.894663</td>\n",
       "    </tr>\n",
       "    <tr>\n",
       "      <th>6</th>\n",
       "      <td>0.095420</td>\n",
       "      <td>0.707567</td>\n",
       "      <td>0.257584</td>\n",
       "      <td>0.172290</td>\n",
       "      <td>0.332834</td>\n",
       "      <td>0.136858</td>\n",
       "    </tr>\n",
       "  </tbody>\n",
       "</table>\n",
       "</div>"
      ],
      "text/plain": [
       "   column_1  column_2  column_3  column_4  column_5  column_6\n",
       "1  0.524681  0.582696  0.520926  0.666280  0.202193  0.017098\n",
       "2  0.103170  0.082210  0.885802  0.446517  0.132416  0.008962\n",
       "3  0.480816  0.548136  0.747656  0.647152  0.855274  0.829770\n",
       "4  0.825649  0.847297  0.961586  0.429235  0.922410  0.043729\n",
       "5  0.680028  0.086659  0.335072  0.241048  0.051834  0.894663\n",
       "6  0.095420  0.707567  0.257584  0.172290  0.332834  0.136858"
      ]
     },
     "execution_count": 54,
     "metadata": {},
     "output_type": "execute_result"
    }
   ],
   "source": [
    "df1"
   ]
  },
  {
   "cell_type": "code",
   "execution_count": 55,
   "id": "bbd60475",
   "metadata": {},
   "outputs": [],
   "source": [
    "df1.loc[2, \"column_2\"]=\"some string\""
   ]
  },
  {
   "cell_type": "code",
   "execution_count": 56,
   "id": "8d3c266e",
   "metadata": {},
   "outputs": [
    {
     "data": {
      "text/html": [
       "<div>\n",
       "<style scoped>\n",
       "    .dataframe tbody tr th:only-of-type {\n",
       "        vertical-align: middle;\n",
       "    }\n",
       "\n",
       "    .dataframe tbody tr th {\n",
       "        vertical-align: top;\n",
       "    }\n",
       "\n",
       "    .dataframe thead th {\n",
       "        text-align: right;\n",
       "    }\n",
       "</style>\n",
       "<table border=\"1\" class=\"dataframe\">\n",
       "  <thead>\n",
       "    <tr style=\"text-align: right;\">\n",
       "      <th></th>\n",
       "      <th>column_1</th>\n",
       "      <th>column_2</th>\n",
       "      <th>column_3</th>\n",
       "      <th>column_4</th>\n",
       "      <th>column_5</th>\n",
       "      <th>column_6</th>\n",
       "    </tr>\n",
       "  </thead>\n",
       "  <tbody>\n",
       "    <tr>\n",
       "      <th>1</th>\n",
       "      <td>0.524681</td>\n",
       "      <td>0.582696</td>\n",
       "      <td>0.520926</td>\n",
       "      <td>0.666280</td>\n",
       "      <td>0.202193</td>\n",
       "      <td>0.017098</td>\n",
       "    </tr>\n",
       "    <tr>\n",
       "      <th>2</th>\n",
       "      <td>0.103170</td>\n",
       "      <td>some string</td>\n",
       "      <td>0.885802</td>\n",
       "      <td>0.446517</td>\n",
       "      <td>0.132416</td>\n",
       "      <td>0.008962</td>\n",
       "    </tr>\n",
       "    <tr>\n",
       "      <th>3</th>\n",
       "      <td>0.480816</td>\n",
       "      <td>0.548136</td>\n",
       "      <td>0.747656</td>\n",
       "      <td>0.647152</td>\n",
       "      <td>0.855274</td>\n",
       "      <td>0.829770</td>\n",
       "    </tr>\n",
       "    <tr>\n",
       "      <th>4</th>\n",
       "      <td>0.825649</td>\n",
       "      <td>0.847297</td>\n",
       "      <td>0.961586</td>\n",
       "      <td>0.429235</td>\n",
       "      <td>0.922410</td>\n",
       "      <td>0.043729</td>\n",
       "    </tr>\n",
       "    <tr>\n",
       "      <th>5</th>\n",
       "      <td>0.680028</td>\n",
       "      <td>0.086659</td>\n",
       "      <td>0.335072</td>\n",
       "      <td>0.241048</td>\n",
       "      <td>0.051834</td>\n",
       "      <td>0.894663</td>\n",
       "    </tr>\n",
       "    <tr>\n",
       "      <th>6</th>\n",
       "      <td>0.095420</td>\n",
       "      <td>0.707567</td>\n",
       "      <td>0.257584</td>\n",
       "      <td>0.172290</td>\n",
       "      <td>0.332834</td>\n",
       "      <td>0.136858</td>\n",
       "    </tr>\n",
       "  </tbody>\n",
       "</table>\n",
       "</div>"
      ],
      "text/plain": [
       "   column_1     column_2  column_3  column_4  column_5  column_6\n",
       "1  0.524681     0.582696  0.520926  0.666280  0.202193  0.017098\n",
       "2  0.103170  some string  0.885802  0.446517  0.132416  0.008962\n",
       "3  0.480816     0.548136  0.747656  0.647152  0.855274  0.829770\n",
       "4  0.825649     0.847297  0.961586  0.429235  0.922410  0.043729\n",
       "5  0.680028     0.086659  0.335072  0.241048  0.051834  0.894663\n",
       "6  0.095420     0.707567  0.257584  0.172290  0.332834  0.136858"
      ]
     },
     "execution_count": 56,
     "metadata": {},
     "output_type": "execute_result"
    }
   ],
   "source": [
    "df1"
   ]
  },
  {
   "cell_type": "code",
   "execution_count": 63,
   "id": "2d4bf313",
   "metadata": {},
   "outputs": [
    {
     "data": {
      "text/plain": [
       "0.5544712614622637"
      ]
     },
     "execution_count": 63,
     "metadata": {},
     "output_type": "execute_result"
    }
   ],
   "source": [
    "df1['column_2'] = pd.to_numeric(df1['column_2'])\n",
    "df1[\"column_2\"].mean()"
   ]
  },
  {
   "cell_type": "markdown",
   "id": "239fd162",
   "metadata": {},
   "source": [
    "# Q6. What do you understand about the windows function in pandas and list the types of windows functions?"
   ]
  },
  {
   "cell_type": "markdown",
   "id": "78d8483d",
   "metadata": {},
   "source": [
    "\"\"\"\n",
    "Pandas provides several types of window functions that can be used with the rolling() method of a dataframe or series object. The most common types of window functions include:\n",
    "\n",
    "Rolling window functions: These functions compute a rolling or sliding statistic over a fixed-size window of observations. Examples include rolling().mean() to compute the rolling mean, rolling().sum() to compute the rolling sum, and rolling().std() to compute the rolling standard deviation.\n",
    "\n",
    "Expanding window functions: These functions compute a statistic over an expanding window of observations, where the window size grows with the size of the data. Examples include expanding().mean() to compute the expanding mean and expanding().sum() to compute the expanding sum.\n",
    "\n",
    "Exponentially weighted window functions: These functions compute a weighted moving average of the data, where more recent observations are given more weight than older observations. Examples include ewm().mean() to compute the exponentially weighted mean and ewm().std() to compute the exponentially weighted standard deviation.\n",
    "\n",
    "Rolling window aggregation functions: These functions compute an aggregated statistic over a fixed-size rolling window of observations, but return a single value rather than a rolling window of statistics. Examples include rolling().max() to compute the maximum value over a rolling window and rolling().min() to compute the minimum value over a rolling window.\n",
    "\n",
    "Rolling window apply functions: These functions apply a custom function to a rolling window of data. Examples include rolling().apply() to apply a custom function to a rolling window of data.\n",
    "\n",
    "By using these window functions in Pandas, you can gain insight into trends and patterns in your data that might not be immediately apparent from a simple summary statistic.\n",
    "\n",
    "\n",
    "\n",
    "\"\"\""
   ]
  },
  {
   "cell_type": "markdown",
   "id": "11a4cafb",
   "metadata": {},
   "source": [
    "# Q7. Write a code to print only the current month and year at the time of answering this question."
   ]
  },
  {
   "cell_type": "code",
   "execution_count": 66,
   "id": "7b460b4d",
   "metadata": {},
   "outputs": [
    {
     "name": "stdout",
     "output_type": "stream",
     "text": [
      "Current month: March\n",
      "Current year: 2023\n"
     ]
    }
   ],
   "source": [
    "from datetime import datetime\n",
    "\n",
    "# get the current date and time\n",
    "now = datetime.now()\n",
    "\n",
    "# extract the current month and year from the datetime object\n",
    "current_month = now.strftime(\"%B\")\n",
    "current_year = now.strftime(\"%Y\")\n",
    "\n",
    "# print the current month and year\n",
    "print(\"Current month:\", current_month)\n",
    "print(\"Current year:\", current_year)\n"
   ]
  },
  {
   "cell_type": "code",
   "execution_count": 68,
   "id": "06b7dc06",
   "metadata": {},
   "outputs": [
    {
     "name": "stdout",
     "output_type": "stream",
     "text": [
      "Current month: 3\n",
      "Current year: 2023\n"
     ]
    }
   ],
   "source": [
    "import pandas as pd\n",
    "\n",
    "# get the current timestamp as a Pandas timestamp object\n",
    "now = pd.Timestamp.now()\n",
    "\n",
    "# extract the current month and year\n",
    "current_month = now.month\n",
    "current_year = now.year\n",
    "\n",
    "# print the current month and year\n",
    "print(\"Current month:\", current_month)\n",
    "print(\"Current year:\", current_year)\n"
   ]
  },
  {
   "cell_type": "markdown",
   "id": "3ab8cc47",
   "metadata": {},
   "source": [
    "# Q8. Write a Python program that takes in two dates as input (in the format YYYY-MM-DD) and calculates the difference between them in days, hours, and minutes using Pandas time delta. The program should prompt the user to enter the dates and display the result."
   ]
  },
  {
   "cell_type": "code",
   "execution_count": 73,
   "id": "d359ee4b",
   "metadata": {},
   "outputs": [
    {
     "name": "stdout",
     "output_type": "stream",
     "text": [
      "Enter the first date (YYYY-MM-DD): 23-12-2003\n",
      "Enter the second date (YYYY-MM-DD): 23-12-2022\n",
      "Time difference: 6940 days, 0 hours, 0 minutes\n"
     ]
    }
   ],
   "source": [
    "import pandas as pd\n",
    "\n",
    "# prompt the user to enter the first date\n",
    "date1_str = input(\"Enter the first date (YYYY-MM-DD): \")\n",
    "\n",
    "# prompt the user to enter the second date\n",
    "date2_str = input(\"Enter the second date (YYYY-MM-DD): \")\n",
    "\n",
    "# convert the input strings to Pandas timestamp objects\n",
    "date1 = pd.Timestamp(date1_str)\n",
    "date2 = pd.Timestamp(date2_str)\n",
    "\n",
    "# calculate the time difference between the two dates\n",
    "time_diff = date2 - date1\n",
    "\n",
    "# extract the number of days, hours, and minutes from the time difference\n",
    "days = time_diff.days\n",
    "hours = time_diff.seconds\n",
    "minutes = (time_diff.seconds % 3600)\n",
    "\n",
    "# display the result\n",
    "print(\"Time difference: {} days, {} hours, {} minutes\".format(days, hours, minutes))\n"
   ]
  },
  {
   "cell_type": "code",
   "execution_count": null,
   "id": "53b6470f",
   "metadata": {},
   "outputs": [],
   "source": []
  },
  {
   "cell_type": "code",
   "execution_count": null,
   "id": "402e8bb1",
   "metadata": {},
   "outputs": [],
   "source": []
  }
 ],
 "metadata": {
  "kernelspec": {
   "display_name": "Python 3 (ipykernel)",
   "language": "python",
   "name": "python3"
  },
  "language_info": {
   "codemirror_mode": {
    "name": "ipython",
    "version": 3
   },
   "file_extension": ".py",
   "mimetype": "text/x-python",
   "name": "python",
   "nbconvert_exporter": "python",
   "pygments_lexer": "ipython3",
   "version": "3.9.13"
  }
 },
 "nbformat": 4,
 "nbformat_minor": 5
}
