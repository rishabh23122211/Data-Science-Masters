{
 "cells": [
  {
   "cell_type": "markdown",
   "id": "1dbadc6e",
   "metadata": {},
   "source": [
    "# Multithreading:"
   ]
  },
  {
   "cell_type": "code",
   "execution_count": 1,
   "id": "6fba57a7",
   "metadata": {},
   "outputs": [],
   "source": [
    "import threading"
   ]
  },
  {
   "cell_type": "code",
   "execution_count": 16,
   "id": "1c9ffcc8",
   "metadata": {},
   "outputs": [],
   "source": [
    "def test1(id):\n",
    "    print(\"This is my test id {%d}\" %id) ##replacing {%id}--%id"
   ]
  },
  {
   "cell_type": "code",
   "execution_count": 18,
   "id": "ba779b1d",
   "metadata": {},
   "outputs": [
    {
     "name": "stdout",
     "output_type": "stream",
     "text": [
      "This is my test id {10}\n"
     ]
    }
   ],
   "source": [
    "test1(10)"
   ]
  },
  {
   "cell_type": "code",
   "execution_count": 20,
   "id": "0b16813e",
   "metadata": {},
   "outputs": [
    {
     "name": "stdout",
     "output_type": "stream",
     "text": [
      "This is my test id {3}\n"
     ]
    }
   ],
   "source": [
    "test1(3)"
   ]
  },
  {
   "cell_type": "code",
   "execution_count": 38,
   "id": "9c296f57",
   "metadata": {},
   "outputs": [
    {
     "data": {
      "text/plain": [
       "'\"\\nimport time\\ndef timer_test(f):\\n    def inner_test():\\n        start=time.time()\\n        f()\\n        end=time.time()\\n        print(end-start)\\n        return inner_test\\n    '"
      ]
     },
     "execution_count": 38,
     "metadata": {},
     "output_type": "execute_result"
    }
   ],
   "source": [
    "\"\"\"\"\n",
    "import time\n",
    "def timer_test(f):\n",
    "    def inner_test():\n",
    "        start=time.time()\n",
    "        f()\n",
    "        end=time.time()\n",
    "        print(end-start)\n",
    "        return inner_test\n",
    "    \"\"\""
   ]
  },
  {
   "cell_type": "code",
   "execution_count": 26,
   "id": "f874d780",
   "metadata": {},
   "outputs": [
    {
     "name": "stdout",
     "output_type": "stream",
     "text": [
      "This is my test id {20}\n"
     ]
    }
   ],
   "source": [
    "#@timer_test\n",
    "test1(20)"
   ]
  },
  {
   "cell_type": "code",
   "execution_count": 50,
   "id": "65b3051c",
   "metadata": {},
   "outputs": [],
   "source": [
    "#@timer_test\n",
    "def test1(id):\n",
    "    print(\"This is my test id {%d}\" %id) ##replacing {%id}--%id"
   ]
  },
  {
   "cell_type": "code",
   "execution_count": 51,
   "id": "dab19c80",
   "metadata": {},
   "outputs": [
    {
     "name": "stdout",
     "output_type": "stream",
     "text": [
      "This is my test id {2}\n"
     ]
    }
   ],
   "source": [
    "\n",
    "test1(2)"
   ]
  },
  {
   "cell_type": "code",
   "execution_count": 52,
   "id": "98846d88",
   "metadata": {},
   "outputs": [
    {
     "name": "stdout",
     "output_type": "stream",
     "text": [
      "This is my test id {30}\n"
     ]
    }
   ],
   "source": [
    "test1(30)"
   ]
  },
  {
   "cell_type": "code",
   "execution_count": 57,
   "id": "93b52d5a",
   "metadata": {},
   "outputs": [
    {
     "name": "stdout",
     "output_type": "stream",
     "text": [
      "This is my test id {40}\n"
     ]
    }
   ],
   "source": [
    "test1(40)"
   ]
  },
  {
   "cell_type": "code",
   "execution_count": 60,
   "id": "d9690043",
   "metadata": {},
   "outputs": [],
   "source": [
    "thread=[threading.Thread(target=test1 , args=(i,)) for i in [10,2,30,40]]"
   ]
  },
  {
   "cell_type": "code",
   "execution_count": 61,
   "id": "0dae35a5",
   "metadata": {},
   "outputs": [
    {
     "data": {
      "text/plain": [
       "[<Thread(Thread-13, initial)>,\n",
       " <Thread(Thread-14, initial)>,\n",
       " <Thread(Thread-15, initial)>,\n",
       " <Thread(Thread-16, initial)>]"
      ]
     },
     "execution_count": 61,
     "metadata": {},
     "output_type": "execute_result"
    }
   ],
   "source": [
    "thread"
   ]
  },
  {
   "cell_type": "code",
   "execution_count": 62,
   "id": "8832ec8b",
   "metadata": {},
   "outputs": [
    {
     "name": "stdout",
     "output_type": "stream",
     "text": [
      "This is my test id {10}\n",
      "This is my test id {2}\n",
      "This is my test id {30}\n",
      "This is my test id {40}\n"
     ]
    }
   ],
   "source": [
    "for i in thread:\n",
    "    i.start()        ## sp 4 prgramm call together in a single core"
   ]
  },
  {
   "cell_type": "code",
   "execution_count": 64,
   "id": "dcb744c1",
   "metadata": {},
   "outputs": [],
   "source": [
    "import urllib.request\n",
    "\n",
    "def file_download(url, filename):\n",
    "    urllib.request.urlretrieve(url,filename)"
   ]
  },
  {
   "cell_type": "code",
   "execution_count": 66,
   "id": "1e23fbcd",
   "metadata": {},
   "outputs": [],
   "source": [
    "l1=['https://raw.githubusercontent.com/itsfoss/text-files/master/agatha.txt',\n",
    " 'https://raw.githubusercontent.com/itsfoss/text-files/master/sherlock.txt',\n",
    " 'https://raw.githubusercontent.com/itsfoss/text-files/master/sample_log_file.txt']"
   ]
  },
  {
   "cell_type": "code",
   "execution_count": 67,
   "id": "54113aed",
   "metadata": {},
   "outputs": [
    {
     "data": {
      "text/plain": [
       "['https://raw.githubusercontent.com/itsfoss/text-files/master/agatha.txt',\n",
       " 'https://raw.githubusercontent.com/itsfoss/text-files/master/sherlock.txt',\n",
       " 'https://raw.githubusercontent.com/itsfoss/text-files/master/sample_log_file.txt']"
      ]
     },
     "execution_count": 67,
     "metadata": {},
     "output_type": "execute_result"
    }
   ],
   "source": [
    "l1"
   ]
  },
  {
   "cell_type": "code",
   "execution_count": 68,
   "id": "1ea0a042",
   "metadata": {},
   "outputs": [],
   "source": [
    "data_file_list=[\"data1.txt\", \"data2.txt\", \"data3.txt\"]"
   ]
  },
  {
   "cell_type": "code",
   "execution_count": 69,
   "id": "74c58607",
   "metadata": {},
   "outputs": [
    {
     "data": {
      "text/plain": [
       "['data1.txt', 'data2.txt', 'data3.txt']"
      ]
     },
     "execution_count": 69,
     "metadata": {},
     "output_type": "execute_result"
    }
   ],
   "source": [
    "data_file_list"
   ]
  },
  {
   "cell_type": "code",
   "execution_count": 71,
   "id": "a001976a",
   "metadata": {},
   "outputs": [],
   "source": [
    "##using threading \n",
    "t1=[threading.Thread(target=file_download, args=(l1[i],data_file_list[i])) for i in range(len(l1))]"
   ]
  },
  {
   "cell_type": "code",
   "execution_count": 72,
   "id": "48fdcfe2",
   "metadata": {},
   "outputs": [
    {
     "data": {
      "text/plain": [
       "[<Thread(Thread-21, initial)>,\n",
       " <Thread(Thread-22, initial)>,\n",
       " <Thread(Thread-23, initial)>]"
      ]
     },
     "execution_count": 72,
     "metadata": {},
     "output_type": "execute_result"
    }
   ],
   "source": [
    "t1"
   ]
  },
  {
   "cell_type": "code",
   "execution_count": 73,
   "id": "00d4cd70",
   "metadata": {},
   "outputs": [],
   "source": [
    "for t in t1:\n",
    "    t.start()"
   ]
  },
  {
   "cell_type": "code",
   "execution_count": 74,
   "id": "85b418fd",
   "metadata": {},
   "outputs": [
    {
     "data": {
      "text/plain": [
       "[<Thread(Thread-21, stopped 3376)>,\n",
       " <Thread(Thread-22, stopped 7640)>,\n",
       " <Thread(Thread-23, stopped 12236)>]"
      ]
     },
     "execution_count": 74,
     "metadata": {},
     "output_type": "execute_result"
    }
   ],
   "source": [
    "t1"
   ]
  },
  {
   "cell_type": "code",
   "execution_count": 75,
   "id": "e8b20c3c",
   "metadata": {},
   "outputs": [],
   "source": [
    "import time"
   ]
  },
  {
   "cell_type": "code",
   "execution_count": 85,
   "id": "ec73f2b0",
   "metadata": {},
   "outputs": [],
   "source": [
    "def test2(x):\n",
    "    for i in range(10):\n",
    "        print(\"The value of x %d and print value of i %d\" %(x,i))\n",
    "       # time.sleep(1)"
   ]
  },
  {
   "cell_type": "code",
   "execution_count": 81,
   "id": "a7d2eb3b",
   "metadata": {},
   "outputs": [
    {
     "name": "stdout",
     "output_type": "stream",
     "text": [
      "The value of x 10 and print value of i 0\n",
      "The value of x 10 and print value of i 1\n",
      "The value of x 10 and print value of i 2\n",
      "The value of x 10 and print value of i 3\n",
      "The value of x 10 and print value of i 4\n",
      "The value of x 10 and print value of i 5\n",
      "The value of x 10 and print value of i 6\n",
      "The value of x 10 and print value of i 7\n",
      "The value of x 10 and print value of i 8\n",
      "The value of x 10 and print value of i 9\n"
     ]
    }
   ],
   "source": [
    "test2(10)"
   ]
  },
  {
   "cell_type": "code",
   "execution_count": 79,
   "id": "68488d5a",
   "metadata": {},
   "outputs": [
    {
     "name": "stdout",
     "output_type": "stream",
     "text": [
      "The value of x 2 and print value of i 0\n",
      "The value of x 2 and print value of i 1\n",
      "The value of x 2 and print value of i 2\n",
      "The value of x 2 and print value of i 3\n",
      "The value of x 2 and print value of i 4\n",
      "The value of x 2 and print value of i 5\n",
      "The value of x 2 and print value of i 6\n",
      "The value of x 2 and print value of i 7\n",
      "The value of x 2 and print value of i 8\n",
      "The value of x 2 and print value of i 9\n"
     ]
    }
   ],
   "source": [
    "test2(2)"
   ]
  },
  {
   "cell_type": "code",
   "execution_count": 82,
   "id": "cef5f51f",
   "metadata": {},
   "outputs": [],
   "source": [
    "## lets us ethread for multiple inputs"
   ]
  },
  {
   "cell_type": "code",
   "execution_count": 86,
   "id": "e4ef543c",
   "metadata": {},
   "outputs": [],
   "source": [
    "thread2=[threading.Thread(target=test2, args=(i,)) for i in [10,20,50,100]]"
   ]
  },
  {
   "cell_type": "code",
   "execution_count": 87,
   "id": "7077d1a0",
   "metadata": {},
   "outputs": [
    {
     "name": "stdout",
     "output_type": "stream",
     "text": [
      "The value of x 10 and print value of i 0\n",
      "The value of x 10 and print value of i 1\n",
      "The value of x 10 and print value of i 2\n",
      "The value of x 10 and print value of i 3\n",
      "The value of x 10 and print value of i 4\n",
      "The value of x 10 and print value of i 5\n",
      "The value of x 10 and print value of i 6\n",
      "The value of x 10 and print value of i 7\n",
      "The value of x 10 and print value of i 8\n",
      "The value of x 10 and print value of i 9\n",
      "The value of x 20 and print value of i 0\n",
      "The value of x 20 and print value of i 1\n",
      "The value of x 20 and print value of i 2\n",
      "The value of x 20 and print value of i 3\n",
      "The value of x 20 and print value of i 4\n",
      "The value of x 20 and print value of i 5\n",
      "The value of x 20 and print value of i 6\n",
      "The value of x 20 and print value of i 7\n",
      "The value of x 20 and print value of i 8\n",
      "The value of x 20 and print value of i 9\n",
      "The value of x 50 and print value of i 0\n",
      "The value of x 50 and print value of i 1\n",
      "The value of x 50 and print value of i 2\n",
      "The value of x 50 and print value of i 3\n",
      "The value of x 50 and print value of i 4\n",
      "The value of x 50 and print value of i 5\n",
      "The value of x 50 and print value of i 6\n",
      "The value of x 50 and print value of i 7\n",
      "The value of x 50 and print value of i 8\n",
      "The value of x 50 and print value of i 9\n",
      "The value of x 100 and print value of i 0\n",
      "The value of x 100 and print value of i 1\n",
      "The value of x 100 and print value of i 2\n",
      "The value of x 100 and print value of i 3\n",
      "The value of x 100 and print value of i 4\n",
      "The value of x 100 and print value of i 5\n",
      "The value of x 100 and print value of i 6\n",
      "The value of x 100 and print value of i 7\n",
      "The value of x 100 and print value of i 8\n",
      "The value of x 100 and print value of i 9\n"
     ]
    }
   ],
   "source": [
    "for t in thread2:\n",
    "    t.start()"
   ]
  },
  {
   "cell_type": "code",
   "execution_count": 88,
   "id": "ede013ab",
   "metadata": {},
   "outputs": [],
   "source": [
    "def test2(x):\n",
    "    for i in range(10):\n",
    "        print(\"The value of x %d and print value of i %d\" %(x,i))\n",
    "        time.sleep(1)"
   ]
  },
  {
   "cell_type": "code",
   "execution_count": 90,
   "id": "f9b7995c",
   "metadata": {},
   "outputs": [],
   "source": [
    "thread2=[threading.Thread(target=test2, args=(i,)) for i in [10,20,50,100]]"
   ]
  },
  {
   "cell_type": "code",
   "execution_count": 91,
   "id": "dfe99d72",
   "metadata": {},
   "outputs": [
    {
     "name": "stdout",
     "output_type": "stream",
     "text": [
      "The value of x 10 and print value of i 0\n",
      "The value of x 20 and print value of i 0\n",
      "The value of x 50 and print value of i 0\n",
      "The value of x 100 and print value of i 0\n",
      "The value of x 10 and print value of i 1The value of x 20 and print value of i 1\n",
      "\n",
      "The value of x 50 and print value of i 1\n",
      "The value of x 100 and print value of i 1\n",
      "The value of x 10 and print value of i 2The value of x 20 and print value of i 2\n",
      "\n",
      "The value of x 100 and print value of i 2\n",
      "The value of x 50 and print value of i 2\n",
      "The value of x 50 and print value of i 3The value of x 10 and print value of i 3\n",
      "The value of x 20 and print value of i 3\n",
      "The value of x 100 and print value of i 3\n",
      "\n",
      "The value of x 10 and print value of i 4The value of x 50 and print value of i 4\n",
      "\n",
      "The value of x 100 and print value of i 4\n",
      "The value of x 20 and print value of i 4\n",
      "The value of x 50 and print value of i 5The value of x 10 and print value of i 5\n",
      "\n",
      "The value of x 100 and print value of i 5\n",
      "The value of x 20 and print value of i 5\n",
      "The value of x 10 and print value of i 6The value of x 50 and print value of i 6\n",
      "\n",
      "The value of x 20 and print value of i 6\n",
      "The value of x 100 and print value of i 6\n",
      "The value of x 10 and print value of i 7The value of x 50 and print value of i 7\n",
      "\n",
      "The value of x 20 and print value of i 7\n",
      "The value of x 100 and print value of i 7\n",
      "The value of x 10 and print value of i 8The value of x 50 and print value of i 8\n",
      "\n",
      "The value of x 100 and print value of i 8\n",
      "The value of x 20 and print value of i 8\n",
      "The value of x 50 and print value of i 9The value of x 10 and print value of i 9\n",
      "\n",
      "The value of x 100 and print value of i 9\n",
      "The value of x 20 and print value of i 9\n"
     ]
    }
   ],
   "source": [
    "for t in thread2:\n",
    "    t.start()"
   ]
  },
  {
   "cell_type": "code",
   "execution_count": 101,
   "id": "921ecc54",
   "metadata": {},
   "outputs": [
    {
     "name": "stdout",
     "output_type": "stream",
     "text": [
      "The value of x 1 and the value of shared_var 1\n",
      "The value of x 2 and the value of shared_var 2\n",
      "The value of x 3 and the value of shared_var 3\n",
      "The value of x 4 and the value of shared_var 4\n",
      "The value of x 5 and the value of shared_var 5\n",
      "The value of x 8 and the value of shared_var 6\n"
     ]
    }
   ],
   "source": [
    "shared_var=0\n",
    "lock_var=threading.Lock()\n",
    "def test3(x):\n",
    "    global shared_var ##acess of a variable to every one\n",
    "    with lock_var:\n",
    "        shared_var= shared_var +1\n",
    "    print(\"The value of x %d and the value of shared_var %d\"%(x, shared_var))\n",
    "    time.sleep(1)\n",
    "thread4= [threading.Thread(target=test3, args=(i,)) for i in [1,2,3,4,5,8]]\n",
    "for t in thread4:\n",
    "    t.start()"
   ]
  },
  {
   "cell_type": "code",
   "execution_count": 103,
   "id": "88f96491",
   "metadata": {},
   "outputs": [
    {
     "name": "stdout",
     "output_type": "stream",
     "text": [
      "The value of x 1 and the value of shared_var 8\n"
     ]
    }
   ],
   "source": [
    "test3(1)"
   ]
  },
  {
   "cell_type": "code",
   "execution_count": 99,
   "id": "f91bfe69",
   "metadata": {},
   "outputs": [
    {
     "name": "stdout",
     "output_type": "stream",
     "text": [
      "The value of x 2 and the value of shared_var 4\n"
     ]
    }
   ],
   "source": [
    "test3(2)"
   ]
  },
  {
   "cell_type": "code",
   "execution_count": null,
   "id": "1da228a2",
   "metadata": {},
   "outputs": [],
   "source": []
  }
 ],
 "metadata": {
  "kernelspec": {
   "display_name": "Python 3 (ipykernel)",
   "language": "python",
   "name": "python3"
  },
  "language_info": {
   "codemirror_mode": {
    "name": "ipython",
    "version": 3
   },
   "file_extension": ".py",
   "mimetype": "text/x-python",
   "name": "python",
   "nbconvert_exporter": "python",
   "pygments_lexer": "ipython3",
   "version": "3.9.13"
  }
 },
 "nbformat": 4,
 "nbformat_minor": 5
}
