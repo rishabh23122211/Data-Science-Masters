{
 "cells": [
  {
   "cell_type": "code",
   "execution_count": 1,
   "id": "08c88e15-4854-4ad2-ba51-bc64eb928a95",
   "metadata": {},
   "outputs": [
    {
     "data": {
      "text/plain": [
       "'Data Science Masters'"
      ]
     },
     "execution_count": 1,
     "metadata": {},
     "output_type": "execute_result"
    }
   ],
   "source": [
    "name=\"Data Science Masters\"\n",
    "name"
   ]
  },
  {
   "cell_type": "code",
   "execution_count": 3,
   "id": "2b247356-420c-487b-8a07-c11bafad55cb",
   "metadata": {},
   "outputs": [
    {
     "data": {
      "text/plain": [
       "'dATA sCIENCE mASTERS'"
      ]
     },
     "execution_count": 3,
     "metadata": {},
     "output_type": "execute_result"
    }
   ],
   "source": [
    "name.swapcase()"
   ]
  },
  {
   "cell_type": "code",
   "execution_count": 4,
   "id": "7071ca35-4a53-4867-8095-933a2699697d",
   "metadata": {},
   "outputs": [
    {
     "data": {
      "text/plain": [
       "'Data science masters'"
      ]
     },
     "execution_count": 4,
     "metadata": {},
     "output_type": "execute_result"
    }
   ],
   "source": [
    "name.capitalize()"
   ]
  },
  {
   "cell_type": "code",
   "execution_count": 5,
   "id": "3f0e14e9-7a7e-4c3c-aeeb-68fd396aea64",
   "metadata": {},
   "outputs": [
    {
     "data": {
      "text/plain": [
       "'Data Science Masters'"
      ]
     },
     "execution_count": 5,
     "metadata": {},
     "output_type": "execute_result"
    }
   ],
   "source": [
    "name.title()"
   ]
  },
  {
   "cell_type": "code",
   "execution_count": 11,
   "id": "37fd8e24-078f-45cb-a2f9-9761b4b49f85",
   "metadata": {},
   "outputs": [
    {
     "data": {
      "text/plain": [
       "'sretsaM ecneicS ataD'"
      ]
     },
     "execution_count": 11,
     "metadata": {},
     "output_type": "execute_result"
    }
   ],
   "source": [
    "## reversing a string\n",
    "name[::-1]"
   ]
  },
  {
   "cell_type": "code",
   "execution_count": 13,
   "id": "5b5ce1e3-4235-4811-a315-70dd01713afc",
   "metadata": {},
   "outputs": [
    {
     "data": {
      "text/plain": [
       "'s r e t s a M   e c n e i c S   a t a D'"
      ]
     },
     "execution_count": 13,
     "metadata": {},
     "output_type": "execute_result"
    }
   ],
   "source": [
    " \" \".join(reversed(name))##space is joined-added after every char"
   ]
  },
  {
   "cell_type": "code",
   "execution_count": 17,
   "id": "eda23b81-ab09-429b-bdf4-142793a6a030",
   "metadata": {},
   "outputs": [
    {
     "data": {
      "text/plain": [
       "'h b a h s i R'"
      ]
     },
     "execution_count": 17,
     "metadata": {},
     "output_type": "execute_result"
    }
   ],
   "source": [
    "\" \".join(reversed(\"Rishabh\"))"
   ]
  },
  {
   "cell_type": "code",
   "execution_count": 23,
   "id": "e7a94b73-19ff-4385-ac72-37c5e3892f3f",
   "metadata": {},
   "outputs": [
    {
     "data": {
      "text/plain": [
       "<reversed at 0x7efd102ea500>"
      ]
     },
     "execution_count": 23,
     "metadata": {},
     "output_type": "execute_result"
    }
   ],
   "source": [
    "(reversed(\"Rishabh\"))"
   ]
  },
  {
   "cell_type": "code",
   "execution_count": 24,
   "id": "981b5a2a-4110-4cda-899a-95cc7779aab7",
   "metadata": {},
   "outputs": [
    {
     "data": {
      "text/plain": [
       "['h', 'b', 'a', 'h', 's', 'i', 'R']"
      ]
     },
     "execution_count": 24,
     "metadata": {},
     "output_type": "execute_result"
    }
   ],
   "source": [
    "list((reversed(\"Rishabh\")))##type casting"
   ]
  },
  {
   "cell_type": "code",
   "execution_count": 3,
   "id": "084eca4c-7605-43c9-84af-4b9c9f53fce1",
   "metadata": {},
   "outputs": [
    {
     "data": {
      "text/plain": [
       "'Data Science Masters'"
      ]
     },
     "execution_count": 3,
     "metadata": {},
     "output_type": "execute_result"
    }
   ],
   "source": [
    "##for i in list(reversed(name)):\n",
    "  ##  print(i,end=\" \")\n",
    "name=\"Data Science Masters\"\n",
    "name"
   ]
  },
  {
   "cell_type": "code",
   "execution_count": 5,
   "id": "d63fc766-7139-4a59-9b5b-1e8814077893",
   "metadata": {},
   "outputs": [
    {
     "name": "stdout",
     "output_type": "stream",
     "text": [
      "sretsaM ecneicS ataD"
     ]
    }
   ],
   "source": [
    "for i in list(reversed(name)):\n",
    "    print(i,end=\"\")"
   ]
  },
  {
   "cell_type": "code",
   "execution_count": null,
   "id": "f9512c68-d0af-46a6-ab2b-35e22a877f56",
   "metadata": {},
   "outputs": [],
   "source": [
    "## removing character from the end of the string\n"
   ]
  },
  {
   "cell_type": "code",
   "execution_count": 20,
   "id": "3b38ba7c-9114-461d-a8ee-14c85ac6019e",
   "metadata": {},
   "outputs": [],
   "source": [
    "string_a=\" Anya \""
   ]
  },
  {
   "cell_type": "code",
   "execution_count": 12,
   "id": "4e313ab9-b185-491f-b6de-f26fdab1f678",
   "metadata": {},
   "outputs": [
    {
     "name": "stdout",
     "output_type": "stream",
     "text": [
      "Anya\n"
     ]
    }
   ],
   "source": [
    "print(string_a)"
   ]
  },
  {
   "cell_type": "code",
   "execution_count": 22,
   "id": "72f70172-1a9f-4aec-8a87-349e36d8b563",
   "metadata": {},
   "outputs": [
    {
     "data": {
      "text/plain": [
       "'Anya '"
      ]
     },
     "execution_count": 22,
     "metadata": {},
     "output_type": "execute_result"
    }
   ],
   "source": [
    "string_a.lstrip(\"  \")"
   ]
  },
  {
   "cell_type": "code",
   "execution_count": 23,
   "id": "674c3638-6504-4e40-8c83-773d556e0916",
   "metadata": {},
   "outputs": [
    {
     "data": {
      "text/plain": [
       "' Anya'"
      ]
     },
     "execution_count": 23,
     "metadata": {},
     "output_type": "execute_result"
    }
   ],
   "source": [
    "string_a.rstrip(\"  \")"
   ]
  },
  {
   "cell_type": "code",
   "execution_count": 24,
   "id": "ddd0b6c5-73fb-467f-a36b-c412bd9f1012",
   "metadata": {},
   "outputs": [
    {
     "data": {
      "text/plain": [
       "'Happy Valentines Day'"
      ]
     },
     "execution_count": 24,
     "metadata": {},
     "output_type": "execute_result"
    }
   ],
   "source": [
    "##replacing string::\n",
    "string_n=\"Happy Chocolate Day\"\n",
    "string_n.replace(\"Chocolate\",\"Valentines\") ##\"replace\" creates a new string after replacing"
   ]
  },
  {
   "cell_type": "code",
   "execution_count": 25,
   "id": "3b0bf294-446d-46d2-91e1-93f7edda5277",
   "metadata": {},
   "outputs": [
    {
     "data": {
      "text/plain": [
       "'Krish'"
      ]
     },
     "execution_count": 25,
     "metadata": {},
     "output_type": "execute_result"
    }
   ],
   "source": [
    "name=\"Krish\"\n",
    "name"
   ]
  },
  {
   "cell_type": "code",
   "execution_count": 27,
   "id": "bcebb16a-e0d3-4028-b26a-3b67104d96ef",
   "metadata": {},
   "outputs": [
    {
     "data": {
      "text/plain": [
       "'Rishabh'"
      ]
     },
     "execution_count": 27,
     "metadata": {},
     "output_type": "execute_result"
    }
   ],
   "source": [
    "name=\"Rishabh\" ##possible \n",
    "name"
   ]
  },
  {
   "cell_type": "code",
   "execution_count": 28,
   "id": "0cb79bfd-eff1-47f7-a474-d4884d6b1122",
   "metadata": {},
   "outputs": [
    {
     "ename": "TypeError",
     "evalue": "'str' object does not support item assignment",
     "output_type": "error",
     "traceback": [
      "\u001b[0;31m---------------------------------------------------------------------------\u001b[0m",
      "\u001b[0;31mTypeError\u001b[0m                                 Traceback (most recent call last)",
      "Cell \u001b[0;32mIn[28], line 1\u001b[0m\n\u001b[0;32m----> 1\u001b[0m \u001b[43mname\u001b[49m\u001b[43m[\u001b[49m\u001b[38;5;241;43m0\u001b[39;49m\u001b[43m]\u001b[49m\u001b[38;5;241m=\u001b[39m\u001b[38;5;124m\"\u001b[39m\u001b[38;5;124mA\u001b[39m\u001b[38;5;124m\"\u001b[39m\n",
      "\u001b[0;31mTypeError\u001b[0m: 'str' object does not support item assignment"
     ]
    }
   ],
   "source": [
    "name[0]=\"A\" ##error"
   ]
  },
  {
   "cell_type": "code",
   "execution_count": 30,
   "id": "d256de30-7480-46dc-b8ae-35202ff3a07c",
   "metadata": {},
   "outputs": [],
   "source": [
    "string_n=\"Happy Chocolate Day\"\n",
    "var_1=string_n.replace(\"Chocolate\",\"Valentines\")"
   ]
  },
  {
   "cell_type": "code",
   "execution_count": 31,
   "id": "76e7017b-e6fa-4eb9-bd07-9953ec7567d6",
   "metadata": {},
   "outputs": [
    {
     "name": "stdout",
     "output_type": "stream",
     "text": [
      "140711145764256\n",
      "140711145077248\n"
     ]
    }
   ],
   "source": [
    "print(id(string_n))\n",
    "print(id(var_1))"
   ]
  },
  {
   "cell_type": "code",
   "execution_count": 34,
   "id": "595e5266-cb02-4d83-813c-6a9cb0113686",
   "metadata": {},
   "outputs": [
    {
     "data": {
      "text/plain": [
       "'Happy Chocolate Day, & Valentines in advance'"
      ]
     },
     "execution_count": 34,
     "metadata": {},
     "output_type": "execute_result"
    }
   ],
   "source": [
    "str2=\"Happy Chocolate Day, & Valentines in advance\"\n",
    "str2"
   ]
  },
  {
   "cell_type": "code",
   "execution_count": 35,
   "id": "13662156-b406-4eb8-855d-8ca96e250247",
   "metadata": {},
   "outputs": [
    {
     "data": {
      "text/plain": [
       "'Happy Chocolate Life, & Soul in advance'"
      ]
     },
     "execution_count": 35,
     "metadata": {},
     "output_type": "execute_result"
    }
   ],
   "source": [
    "str2.replace(\"Day\",\"Life\").replace(\"Valentines\",\"Soul\")"
   ]
  },
  {
   "cell_type": "code",
   "execution_count": 36,
   "id": "78975909-4e30-47af-b74f-34552e8794a7",
   "metadata": {},
   "outputs": [
    {
     "data": {
      "text/plain": [
       "'Happy Chocolate Day, & Valentines in advance'"
      ]
     },
     "execution_count": 36,
     "metadata": {},
     "output_type": "execute_result"
    }
   ],
   "source": [
    "str2"
   ]
  },
  {
   "cell_type": "code",
   "execution_count": 37,
   "id": "4e795763-4e45-45bb-a85f-00d6f456072b",
   "metadata": {},
   "outputs": [
    {
     "data": {
      "text/plain": [
       "False"
      ]
     },
     "execution_count": 37,
     "metadata": {},
     "output_type": "execute_result"
    }
   ],
   "source": [
    "str2.isupper()"
   ]
  },
  {
   "cell_type": "code",
   "execution_count": 38,
   "id": "86e387bd-8f8c-4450-b06d-610a09357454",
   "metadata": {},
   "outputs": [
    {
     "data": {
      "text/plain": [
       "False"
      ]
     },
     "execution_count": 38,
     "metadata": {},
     "output_type": "execute_result"
    }
   ],
   "source": [
    "str3=\"SINGH\"\n",
    "str3.islower()"
   ]
  },
  {
   "cell_type": "code",
   "execution_count": 39,
   "id": "d96cd4e5-4e82-4209-a3b4-4af9255c6f86",
   "metadata": {},
   "outputs": [
    {
     "data": {
      "text/plain": [
       "True"
      ]
     },
     "execution_count": 39,
     "metadata": {},
     "output_type": "execute_result"
    }
   ],
   "source": [
    "str3.isupper()"
   ]
  },
  {
   "cell_type": "code",
   "execution_count": 58,
   "id": "c2fdb3dd-107b-4e8d-94a7-4172a168cac7",
   "metadata": {},
   "outputs": [
    {
     "data": {
      "text/plain": [
       "' '"
      ]
     },
     "execution_count": 58,
     "metadata": {},
     "output_type": "execute_result"
    }
   ],
   "source": [
    "str4=\" \"\n",
    "str4"
   ]
  },
  {
   "cell_type": "code",
   "execution_count": 44,
   "id": "4586c1f2-dfb3-4b3d-84bc-bd771db96f15",
   "metadata": {},
   "outputs": [
    {
     "data": {
      "text/plain": [
       "'  '"
      ]
     },
     "execution_count": 44,
     "metadata": {},
     "output_type": "execute_result"
    }
   ],
   "source": [
    "str4"
   ]
  },
  {
   "cell_type": "code",
   "execution_count": 46,
   "id": "65fe1645-68d8-45ba-962e-697d8c571ff1",
   "metadata": {},
   "outputs": [
    {
     "data": {
      "text/plain": [
       "True"
      ]
     },
     "execution_count": 46,
     "metadata": {},
     "output_type": "execute_result"
    }
   ],
   "source": [
    "str4.isspace()"
   ]
  },
  {
   "cell_type": "code",
   "execution_count": 63,
   "id": "77930bce-5b8c-4ac4-b67d-8e0e3b28fca3",
   "metadata": {},
   "outputs": [],
   "source": [
    "if str4.isspace():\n",
    "    print(\"Hello\")"
   ]
  },
  {
   "cell_type": "code",
   "execution_count": 60,
   "id": "ced02471-885a-4804-8974-64af0acb1d88",
   "metadata": {},
   "outputs": [
    {
     "data": {
      "text/plain": [
       "'hey'"
      ]
     },
     "execution_count": 60,
     "metadata": {},
     "output_type": "execute_result"
    }
   ],
   "source": [
    "str4=\"hey\"\n",
    "str4"
   ]
  },
  {
   "cell_type": "code",
   "execution_count": 61,
   "id": "0865f9ac-426d-4fbb-b69a-4aa585eb2aa7",
   "metadata": {},
   "outputs": [
    {
     "name": "stdout",
     "output_type": "stream",
     "text": [
      "f*k\n"
     ]
    }
   ],
   "source": [
    "if str4.isspace():\n",
    "    print(\"Hello\")\n",
    "else:\n",
    "    print(\"f*k\")"
   ]
  },
  {
   "cell_type": "code",
   "execution_count": 66,
   "id": "eb45ebca-3683-4d4c-b384-8a9a230e19bb",
   "metadata": {},
   "outputs": [],
   "source": [
    "str5=\"pwskills\""
   ]
  },
  {
   "cell_type": "code",
   "execution_count": 67,
   "id": "1e273744-a47d-4778-bbd7-28e832d76457",
   "metadata": {},
   "outputs": [
    {
     "data": {
      "text/plain": [
       "'pwskills'"
      ]
     },
     "execution_count": 67,
     "metadata": {},
     "output_type": "execute_result"
    }
   ],
   "source": [
    "str5"
   ]
  },
  {
   "cell_type": "code",
   "execution_count": 69,
   "id": "75a6897a-c9f5-4e8b-aee1-aaba16f20ad9",
   "metadata": {},
   "outputs": [
    {
     "data": {
      "text/plain": [
       "True"
      ]
     },
     "execution_count": 69,
     "metadata": {},
     "output_type": "execute_result"
    }
   ],
   "source": [
    "str5.endswith('s')"
   ]
  },
  {
   "cell_type": "code",
   "execution_count": 71,
   "id": "0cd3b619-526a-46fb-9303-32dc05da4866",
   "metadata": {},
   "outputs": [
    {
     "data": {
      "text/plain": [
       "True"
      ]
     },
     "execution_count": 71,
     "metadata": {},
     "output_type": "execute_result"
    }
   ],
   "source": [
    "str5.startswith('p')"
   ]
  },
  {
   "cell_type": "code",
   "execution_count": 73,
   "id": "ce305391-ab5b-46b7-88af-51da395a5dbe",
   "metadata": {},
   "outputs": [
    {
     "data": {
      "text/plain": [
       "True"
      ]
     },
     "execution_count": 73,
     "metadata": {},
     "output_type": "execute_result"
    }
   ],
   "source": [
    "##check if all char in sgring are alpjanumeric\n",
    "a=\"abcde3456\"\n",
    "a.isalnum()"
   ]
  },
  {
   "cell_type": "code",
   "execution_count": 74,
   "id": "23b5a760-47b9-441d-8808-4d36d1553505",
   "metadata": {},
   "outputs": [
    {
     "name": "stdout",
     "output_type": "stream",
     "text": [
      "8\n"
     ]
    }
   ],
   "source": [
    "## write a code to count no of char in the string\n",
    "count=0\n",
    "for i in str5:\n",
    "    count=count+1\n",
    "print(count)"
   ]
  },
  {
   "cell_type": "code",
   "execution_count": 77,
   "id": "e1463673-d478-416e-a2e3-064be13a29d8",
   "metadata": {},
   "outputs": [
    {
     "data": {
      "text/plain": [
       "8"
      ]
     },
     "execution_count": 77,
     "metadata": {},
     "output_type": "execute_result"
    }
   ],
   "source": [
    "len(str5)"
   ]
  },
  {
   "cell_type": "code",
   "execution_count": 78,
   "id": "7a2bbef1-a40c-4675-97d3-dddd33f677ab",
   "metadata": {},
   "outputs": [
    {
     "data": {
      "text/plain": [
       "'pwskills'"
      ]
     },
     "execution_count": 78,
     "metadata": {},
     "output_type": "execute_result"
    }
   ],
   "source": [
    "str5"
   ]
  },
  {
   "cell_type": "code",
   "execution_count": 81,
   "id": "58bb57ef-6384-4527-aec7-a3bb767d6b55",
   "metadata": {},
   "outputs": [
    {
     "name": "stdout",
     "output_type": "stream",
     "text": [
      "p\n",
      "w\n",
      "s\n",
      "k\n",
      "i\n",
      "l\n",
      "l\n",
      "s\n"
     ]
    }
   ],
   "source": [
    "for i in str5:\n",
    "    print(i)"
   ]
  },
  {
   "cell_type": "code",
   "execution_count": 84,
   "id": "3b0cb725-27df-49c9-b920-57e813d8b4e0",
   "metadata": {},
   "outputs": [
    {
     "data": {
      "text/plain": [
       "range(0, 8)"
      ]
     },
     "execution_count": 84,
     "metadata": {},
     "output_type": "execute_result"
    }
   ],
   "source": [
    "range(len(str5))"
   ]
  },
  {
   "cell_type": "code",
   "execution_count": 86,
   "id": "0af64ae8-18d4-4ef5-87a2-dabd8a1dbe1e",
   "metadata": {},
   "outputs": [
    {
     "name": "stdout",
     "output_type": "stream",
     "text": [
      "0 = p\n",
      "1 = w\n",
      "2 = s\n",
      "3 = k\n",
      "4 = i\n",
      "5 = l\n",
      "6 = l\n",
      "7 = s\n"
     ]
    }
   ],
   "source": [
    "for i in range(len(str5)):\n",
    "    print(i,\"=\",str5[i])"
   ]
  },
  {
   "cell_type": "code",
   "execution_count": 88,
   "id": "303ab1e8-a21a-47a3-9db3-48926a1cf882",
   "metadata": {},
   "outputs": [
    {
     "name": "stdout",
     "output_type": "stream",
     "text": [
      "s\n",
      "l\n",
      "l\n",
      "i\n",
      "k\n",
      "s\n",
      "w\n",
      "p\n"
     ]
    }
   ],
   "source": [
    "# we can use index to iterate string reverse direction\n",
    "for i in range(len(str5)-1,-1,-1):\n",
    "    print(str5[i])"
   ]
  },
  {
   "cell_type": "code",
   "execution_count": null,
   "id": "85925782-8833-4c12-8156-6cd1744cd638",
   "metadata": {},
   "outputs": [],
   "source": [
    "str5"
   ]
  },
  {
   "cell_type": "code",
   "execution_count": 5,
   "id": "283b97d4-4cec-47ad-a71f-574fdd70c57f",
   "metadata": {},
   "outputs": [
    {
     "data": {
      "text/plain": [
       "'AaEeIiOoUu'"
      ]
     },
     "execution_count": 5,
     "metadata": {},
     "output_type": "execute_result"
    }
   ],
   "source": [
    "name=\"pwskills\"\n",
    "vowels=\"AaEeIiOoUu\"\n",
    "name\n",
    "vowels"
   ]
  },
  {
   "cell_type": "code",
   "execution_count": 6,
   "id": "02a0536f-8c31-4e14-96ca-84213337d23a",
   "metadata": {},
   "outputs": [
    {
     "name": "stdout",
     "output_type": "stream",
     "text": [
      "p is not a vowels\n",
      "w is not a vowels\n",
      "s is not a vowels\n",
      "k is not a vowels\n",
      "i Character is a vowels\n",
      "l is not a vowels\n",
      "l is not a vowels\n",
      "s is not a vowels\n"
     ]
    }
   ],
   "source": [
    "for ch in name:\n",
    "    if ch in vowels:\n",
    "        print(f\"{ch} Character is a vowels\")\n",
    "    else:\n",
    "        print(f\"{ch} is not a vowels\")"
   ]
  },
  {
   "cell_type": "markdown",
   "id": "6d019b53-f53b-4301-a26c-fb29146bd9a0",
   "metadata": {},
   "source": [
    "## Lists"
   ]
  },
  {
   "cell_type": "code",
   "execution_count": 9,
   "id": "038eb850-d115-4929-8995-2ba3f0deb925",
   "metadata": {},
   "outputs": [
    {
     "data": {
      "text/plain": [
       "list"
      ]
     },
     "execution_count": 9,
     "metadata": {},
     "output_type": "execute_result"
    }
   ],
   "source": [
    "type([])\n"
   ]
  },
  {
   "cell_type": "code",
   "execution_count": 10,
   "id": "02d94f69-768a-4ea0-8609-8b12fac2168a",
   "metadata": {},
   "outputs": [],
   "source": [
    "a=[\"Krish\",\"Rishabh\",\"Pw\",\"20\"]"
   ]
  },
  {
   "cell_type": "code",
   "execution_count": 11,
   "id": "f87baa1e-8273-4941-9a4d-09873bae2718",
   "metadata": {},
   "outputs": [
    {
     "data": {
      "text/plain": [
       "['Krish', 'Rishabh', 'Pw', '20']"
      ]
     },
     "execution_count": 11,
     "metadata": {},
     "output_type": "execute_result"
    }
   ],
   "source": [
    "a"
   ]
  },
  {
   "cell_type": "code",
   "execution_count": 14,
   "id": "154ea075-08c6-448d-9ba6-340d8f0890d2",
   "metadata": {},
   "outputs": [
    {
     "data": {
      "text/plain": [
       "[1, 2, 3, 4, 5]"
      ]
     },
     "execution_count": 14,
     "metadata": {},
     "output_type": "execute_result"
    }
   ],
   "source": [
    "list([1,2,3,4,5])"
   ]
  },
  {
   "cell_type": "code",
   "execution_count": 40,
   "id": "33a2ac9d-6d9a-4106-8c27-2ee6aa9bbb3b",
   "metadata": {},
   "outputs": [
    {
     "data": {
      "text/plain": [
       "'pw skills Data Sceince masters'"
      ]
     },
     "execution_count": 40,
     "metadata": {},
     "output_type": "execute_result"
    }
   ],
   "source": [
    "str4=\"pw skills Data Sceince masters\"\n",
    "str4"
   ]
  },
  {
   "cell_type": "code",
   "execution_count": 48,
   "id": "903fb36d-f4e8-4db0-833e-419a37debd1c",
   "metadata": {},
   "outputs": [
    {
     "data": {
      "text/plain": [
       "'pw skills Data Sceince masters'"
      ]
     },
     "execution_count": 48,
     "metadata": {},
     "output_type": "execute_result"
    }
   ],
   "source": [
    "str4"
   ]
  },
  {
   "cell_type": "code",
   "execution_count": 52,
   "id": "f9aebe8c-924a-4586-858f-27991ed15f53",
   "metadata": {},
   "outputs": [],
   "source": [
    "list1=str4.split(\" \")"
   ]
  },
  {
   "cell_type": "code",
   "execution_count": 53,
   "id": "1f45dea5-fde2-4d15-bc44-a5ea4b4d13d6",
   "metadata": {},
   "outputs": [
    {
     "data": {
      "text/plain": [
       "['pw', 'skills', 'Data', 'Sceince', 'masters']"
      ]
     },
     "execution_count": 53,
     "metadata": {},
     "output_type": "execute_result"
    }
   ],
   "source": [
    "list1"
   ]
  },
  {
   "cell_type": "code",
   "execution_count": 55,
   "id": "6db0713b-4dd2-4efa-bc39-bc1fe6e0e14d",
   "metadata": {},
   "outputs": [
    {
     "data": {
      "text/plain": [
       "['pw']"
      ]
     },
     "execution_count": 55,
     "metadata": {},
     "output_type": "execute_result"
    }
   ],
   "source": [
    "list1[:1]"
   ]
  },
  {
   "cell_type": "code",
   "execution_count": 56,
   "id": "e59ea3bd-95cc-4d75-a9c7-f2a47c6a4efa",
   "metadata": {},
   "outputs": [
    {
     "data": {
      "text/plain": [
       "['skills', 'Data', 'Sceince', 'masters']"
      ]
     },
     "execution_count": 56,
     "metadata": {},
     "output_type": "execute_result"
    }
   ],
   "source": [
    "list1[1:]"
   ]
  },
  {
   "cell_type": "code",
   "execution_count": 57,
   "id": "4848674f-d7a1-4334-8b77-6d9078367643",
   "metadata": {},
   "outputs": [
    {
     "data": {
      "text/plain": [
       "'Data'"
      ]
     },
     "execution_count": 57,
     "metadata": {},
     "output_type": "execute_result"
    }
   ],
   "source": [
    "list1[2]"
   ]
  },
  {
   "cell_type": "code",
   "execution_count": 60,
   "id": "3d9aaa89-40d9-46a6-a243-7da2f8139952",
   "metadata": {},
   "outputs": [],
   "source": [
    "list1[2]=\"hey\""
   ]
  },
  {
   "cell_type": "code",
   "execution_count": 72,
   "id": "dec6b3f4-e05a-4298-a65b-3f2b708ddcfa",
   "metadata": {},
   "outputs": [
    {
     "data": {
      "text/plain": [
       "[-2]"
      ]
     },
     "execution_count": 72,
     "metadata": {},
     "output_type": "execute_result"
    }
   ],
   "source": [
    "list1"
   ]
  },
  {
   "cell_type": "code",
   "execution_count": 73,
   "id": "e8905085-f2ec-411b-bdce-1db1d19ac66d",
   "metadata": {},
   "outputs": [],
   "source": [
    "lst1=str4.split(\" \")"
   ]
  },
  {
   "cell_type": "code",
   "execution_count": 74,
   "id": "32fe7a6e-cbd7-4a46-885a-104a62af61ac",
   "metadata": {},
   "outputs": [
    {
     "data": {
      "text/plain": [
       "['pw', 'skills', 'Data', 'Sceince', 'masters']"
      ]
     },
     "execution_count": 74,
     "metadata": {},
     "output_type": "execute_result"
    }
   ],
   "source": [
    "lst1"
   ]
  },
  {
   "cell_type": "code",
   "execution_count": 77,
   "id": "71b35a82-0910-4221-965f-fd6e7981ebbc",
   "metadata": {},
   "outputs": [
    {
     "data": {
      "text/plain": [
       "['skills', 'Data', 'Sceince', 'masters']"
      ]
     },
     "execution_count": 77,
     "metadata": {},
     "output_type": "execute_result"
    }
   ],
   "source": [
    "lst1[1:]"
   ]
  },
  {
   "cell_type": "code",
   "execution_count": 84,
   "id": "2b02252e-7661-4fd6-98ce-e2db70bf7b54",
   "metadata": {},
   "outputs": [
    {
     "data": {
      "text/plain": [
       "['pw']"
      ]
     },
     "execution_count": 84,
     "metadata": {},
     "output_type": "execute_result"
    }
   ],
   "source": [
    "lst1[:1]"
   ]
  },
  {
   "cell_type": "code",
   "execution_count": 79,
   "id": "4743d6b5-4788-406f-b587-b69b83cc8717",
   "metadata": {},
   "outputs": [
    {
     "data": {
      "text/plain": [
       "['pw', 'skills']"
      ]
     },
     "execution_count": 79,
     "metadata": {},
     "output_type": "execute_result"
    }
   ],
   "source": [
    "lst1[:2]"
   ]
  },
  {
   "cell_type": "code",
   "execution_count": 80,
   "id": "a8e3c62c-68e5-4afb-8731-7993c699ab14",
   "metadata": {},
   "outputs": [],
   "source": [
    "lst1[2]=\"hey\""
   ]
  },
  {
   "cell_type": "code",
   "execution_count": 81,
   "id": "3c259a55-5e15-4e27-8e4d-b2f672e545da",
   "metadata": {},
   "outputs": [
    {
     "data": {
      "text/plain": [
       "['pw', 'skills', 'hey', 'Sceince', 'masters']"
      ]
     },
     "execution_count": 81,
     "metadata": {},
     "output_type": "execute_result"
    }
   ],
   "source": [
    "lst1"
   ]
  },
  {
   "cell_type": "code",
   "execution_count": 82,
   "id": "84aaa5ac-480e-428f-972a-58023855f195",
   "metadata": {},
   "outputs": [
    {
     "data": {
      "text/plain": [
       "'Sceince'"
      ]
     },
     "execution_count": 82,
     "metadata": {},
     "output_type": "execute_result"
    }
   ],
   "source": [
    "lst1[3]"
   ]
  },
  {
   "cell_type": "code",
   "execution_count": 87,
   "id": "216601ca-1285-47c5-b2ba-5512c13b05b8",
   "metadata": {},
   "outputs": [
    {
     "data": {
      "text/plain": [
       "['pw', 'skills', 'hey']"
      ]
     },
     "execution_count": 87,
     "metadata": {},
     "output_type": "execute_result"
    }
   ],
   "source": [
    "lst1[:-2]"
   ]
  },
  {
   "cell_type": "code",
   "execution_count": 88,
   "id": "d8e12d20-0501-440a-bda8-39605a592dcf",
   "metadata": {},
   "outputs": [
    {
     "data": {
      "text/plain": [
       "['masters', 'hey', 'pw']"
      ]
     },
     "execution_count": 88,
     "metadata": {},
     "output_type": "execute_result"
    }
   ],
   "source": [
    "lst1[::-2]"
   ]
  },
  {
   "cell_type": "code",
   "execution_count": 94,
   "id": "768b8e7d-e4f4-4160-955c-fea9dbe9ac52",
   "metadata": {},
   "outputs": [
    {
     "data": {
      "text/plain": [
       "['pw']"
      ]
     },
     "execution_count": 94,
     "metadata": {},
     "output_type": "execute_result"
    }
   ],
   "source": [
    "lst1[-5::-2]"
   ]
  },
  {
   "cell_type": "code",
   "execution_count": 95,
   "id": "950ed952-035c-4e6b-8cfe-986239d723e3",
   "metadata": {},
   "outputs": [
    {
     "data": {
      "text/plain": [
       "['pw', 'skills', 'hey', 'Sceince', 'masters']"
      ]
     },
     "execution_count": 95,
     "metadata": {},
     "output_type": "execute_result"
    }
   ],
   "source": [
    "lst1"
   ]
  },
  {
   "cell_type": "code",
   "execution_count": 96,
   "id": "4fcefdba-1c58-4806-ae98-c69778f05e4f",
   "metadata": {},
   "outputs": [
    {
     "data": {
      "text/plain": [
       "['pw', 'skills', 'hey', 'Sceince', 'masters', 'new', '3']"
      ]
     },
     "execution_count": 96,
     "metadata": {},
     "output_type": "execute_result"
    }
   ],
   "source": [
    "lst1 + [\"new\", \"3\"]"
   ]
  },
  {
   "cell_type": "code",
   "execution_count": 99,
   "id": "4029851e-3d28-4342-8a21-0de6126b1de5",
   "metadata": {},
   "outputs": [],
   "source": [
    "lst2=lst1 + [[\"new\", \"3\"]]"
   ]
  },
  {
   "cell_type": "code",
   "execution_count": 100,
   "id": "2970b46e-db90-4223-aa8f-ed177562af66",
   "metadata": {},
   "outputs": [
    {
     "data": {
      "text/plain": [
       "['pw', 'skills', 'hey', 'Sceince', 'masters', ['new', '3']]"
      ]
     },
     "execution_count": 100,
     "metadata": {},
     "output_type": "execute_result"
    }
   ],
   "source": [
    "lst2"
   ]
  },
  {
   "cell_type": "code",
   "execution_count": 102,
   "id": "88a78408-ffe5-40a4-aa4a-9985e47c1a0f",
   "metadata": {},
   "outputs": [
    {
     "data": {
      "text/plain": [
       "'new'"
      ]
     },
     "execution_count": 102,
     "metadata": {},
     "output_type": "execute_result"
    }
   ],
   "source": [
    "lst2[-1][0]"
   ]
  },
  {
   "cell_type": "code",
   "execution_count": 105,
   "id": "8bf7952a-dc60-47c0-91c8-ee524a9d6e6e",
   "metadata": {},
   "outputs": [
    {
     "data": {
      "text/plain": [
       "['pw', 'skills', 'hey', 'Sceince', 'masters']"
      ]
     },
     "execution_count": 105,
     "metadata": {},
     "output_type": "execute_result"
    }
   ],
   "source": [
    "lst1"
   ]
  },
  {
   "cell_type": "code",
   "execution_count": 108,
   "id": "a1122b04-2e38-4ce6-953f-3c8cef3813c7",
   "metadata": {},
   "outputs": [
    {
     "data": {
      "text/plain": [
       "['pw',\n",
       " 'skills',\n",
       " 'hey',\n",
       " 'Sceince',\n",
       " 'masters',\n",
       " 'pw',\n",
       " 'skills',\n",
       " 'hey',\n",
       " 'Sceince',\n",
       " 'masters']"
      ]
     },
     "execution_count": 108,
     "metadata": {},
     "output_type": "execute_result"
    }
   ],
   "source": [
    "lst1*2"
   ]
  },
  {
   "cell_type": "code",
   "execution_count": 109,
   "id": "1d48a844-f032-47aa-837c-a656bab03e49",
   "metadata": {},
   "outputs": [
    {
     "data": {
      "text/plain": [
       "['pw', 'skills', 'hey', 'Sceince', 'masters']"
      ]
     },
     "execution_count": 109,
     "metadata": {},
     "output_type": "execute_result"
    }
   ],
   "source": [
    "lst1"
   ]
  },
  {
   "cell_type": "code",
   "execution_count": 124,
   "id": "fe462c54-9617-49f3-aa2e-a454bb477e40",
   "metadata": {},
   "outputs": [
    {
     "name": "stdout",
     "output_type": "stream",
     "text": [
      "present\n"
     ]
    }
   ],
   "source": [
    "##for i in lst1:\n",
    "if \"hey\" in lst1:\n",
    "    print(\"present\")\n",
    "        \n",
    "    "
   ]
  },
  {
   "cell_type": "code",
   "execution_count": 123,
   "id": "fa9c0032-2eb3-47df-b1e7-1e9ab8137dca",
   "metadata": {},
   "outputs": [
    {
     "data": {
      "text/plain": [
       "['pw', 'skills', 'hey', 'Sceince', 'masters']"
      ]
     },
     "execution_count": 123,
     "metadata": {},
     "output_type": "execute_result"
    }
   ],
   "source": [
    "lst1"
   ]
  },
  {
   "cell_type": "code",
   "execution_count": 125,
   "id": "ad960c2a-4676-48ab-be52-2004d4187729",
   "metadata": {},
   "outputs": [
    {
     "name": "stdout",
     "output_type": "stream",
     "text": [
      "hey\n"
     ]
    }
   ],
   "source": [
    "for i in lst1:\n",
    "    if i==\"hey\":\n",
    "        print(i)\n",
    "        break"
   ]
  },
  {
   "cell_type": "code",
   "execution_count": 126,
   "id": "430ec646-4ee3-4c96-9132-1498edc8c3bb",
   "metadata": {},
   "outputs": [
    {
     "data": {
      "text/plain": [
       "True"
      ]
     },
     "execution_count": 126,
     "metadata": {},
     "output_type": "execute_result"
    }
   ],
   "source": [
    "##check elements inside a list\n",
    "lst_1=[1,2,3,4]\n",
    "4 in lst_1\n"
   ]
  },
  {
   "cell_type": "code",
   "execution_count": 127,
   "id": "90eccad3-d978-4668-9678-d537732e3cd8",
   "metadata": {},
   "outputs": [
    {
     "data": {
      "text/plain": [
       "False"
      ]
     },
     "execution_count": 127,
     "metadata": {},
     "output_type": "execute_result"
    }
   ],
   "source": [
    "5 in lst_1"
   ]
  },
  {
   "cell_type": "code",
   "execution_count": 129,
   "id": "3ca3dfb6-6f1e-445d-bcfa-c3aec53b5c2c",
   "metadata": {},
   "outputs": [],
   "source": [
    "lst_2=[\"Zebra\", \"Donkey\", \"Lion\",\"Baby\"]\n",
    "lst_3=[5,6,7,8,6]"
   ]
  },
  {
   "cell_type": "code",
   "execution_count": 132,
   "id": "e7b5f4d9-700a-47cc-8196-89b6af3ff4c4",
   "metadata": {},
   "outputs": [
    {
     "name": "stdout",
     "output_type": "stream",
     "text": [
      "8\n"
     ]
    }
   ],
   "source": [
    "print(max(lst_3))"
   ]
  },
  {
   "cell_type": "code",
   "execution_count": 133,
   "id": "8e83efb3-5479-40b6-9ef1-9e8117b30b15",
   "metadata": {},
   "outputs": [
    {
     "data": {
      "text/plain": [
       "'Baby'"
      ]
     },
     "execution_count": 133,
     "metadata": {},
     "output_type": "execute_result"
    }
   ],
   "source": [
    "min(lst_2)"
   ]
  },
  {
   "cell_type": "code",
   "execution_count": 4,
   "id": "82d43b6d-8987-4e74-a770-a248e511da7f",
   "metadata": {},
   "outputs": [
    {
     "ename": "NameError",
     "evalue": "name 'lst_3' is not defined",
     "output_type": "error",
     "traceback": [
      "\u001b[0;31m---------------------------------------------------------------------------\u001b[0m",
      "\u001b[0;31mNameError\u001b[0m                                 Traceback (most recent call last)",
      "Cell \u001b[0;32mIn[4], line 1\u001b[0m\n\u001b[0;32m----> 1\u001b[0m \u001b[38;5;28mmin\u001b[39m(\u001b[43mlst_3\u001b[49m)\n",
      "\u001b[0;31mNameError\u001b[0m: name 'lst_3' is not defined"
     ]
    }
   ],
   "source": [
    "min(lst_3)"
   ]
  },
  {
   "cell_type": "code",
   "execution_count": 5,
   "id": "988c4882-385b-4844-ab03-bd1211ddc4fb",
   "metadata": {},
   "outputs": [
    {
     "data": {
      "text/plain": [
       "7"
      ]
     },
     "execution_count": 5,
     "metadata": {},
     "output_type": "execute_result"
    }
   ],
   "source": [
    "a=7\n",
    "a"
   ]
  },
  {
   "cell_type": "code",
   "execution_count": 7,
   "id": "e36f51b1-f1a0-47b0-b069-cec418bd8ce0",
   "metadata": {},
   "outputs": [
    {
     "data": {
      "text/plain": [
       "['z', 'r', 'e']"
      ]
     },
     "execution_count": 7,
     "metadata": {},
     "output_type": "execute_result"
    }
   ],
   "source": [
    "lst_2=[\"z\",\"r\",\"e\"]\n",
    "lst_2"
   ]
  },
  {
   "cell_type": "code",
   "execution_count": 10,
   "id": "986e644e-c57c-4214-b61b-63c35b6ec744",
   "metadata": {},
   "outputs": [
    {
     "data": {
      "text/plain": [
       "['z', 'r', 'e']"
      ]
     },
     "execution_count": 10,
     "metadata": {},
     "output_type": "execute_result"
    }
   ],
   "source": [
    "lst_2\n"
   ]
  },
  {
   "cell_type": "code",
   "execution_count": null,
   "id": "05296534-a7c4-4299-9351-a75abc6b6844",
   "metadata": {},
   "outputs": [],
   "source": [
    "## Append"
   ]
  },
  {
   "cell_type": "code",
   "execution_count": 11,
   "id": "e7f9194b-ca2a-4a39-8238-c2aa0f156c71",
   "metadata": {},
   "outputs": [],
   "source": [
    "lst=[1,2,3,4,5,6]"
   ]
  },
  {
   "cell_type": "code",
   "execution_count": 12,
   "id": "2d8c5417-ccbd-43a5-bdb6-c21a81765e85",
   "metadata": {},
   "outputs": [
    {
     "data": {
      "text/plain": [
       "[1, 2, 3, 4, 5, 6]"
      ]
     },
     "execution_count": 12,
     "metadata": {},
     "output_type": "execute_result"
    }
   ],
   "source": [
    "lst"
   ]
  },
  {
   "cell_type": "code",
   "execution_count": 13,
   "id": "538d349f-80d0-4eb0-8aea-c723ce6e1b80",
   "metadata": {},
   "outputs": [],
   "source": [
    "lst.append(\"pwskils\") ##adds a object at the end of the list"
   ]
  },
  {
   "cell_type": "code",
   "execution_count": 14,
   "id": "1b1ff8a4-e305-43de-a10d-be6c0a0b64c0",
   "metadata": {},
   "outputs": [
    {
     "data": {
      "text/plain": [
       "[1, 2, 3, 4, 5, 6, 'pwskils']"
      ]
     },
     "execution_count": 14,
     "metadata": {},
     "output_type": "execute_result"
    }
   ],
   "source": [
    "lst"
   ]
  },
  {
   "cell_type": "code",
   "execution_count": 15,
   "id": "4ed07e40-4fd1-4dec-ad9b-889367be9cf5",
   "metadata": {},
   "outputs": [],
   "source": [
    "lst.append([\"Data\",\"Science\",\"Masters\"])"
   ]
  },
  {
   "cell_type": "code",
   "execution_count": 16,
   "id": "58125c76-4298-4a55-b4b9-d30c26f4f50a",
   "metadata": {},
   "outputs": [
    {
     "data": {
      "text/plain": [
       "[1, 2, 3, 4, 5, 6, 'pwskils', ['Data', 'Science', 'Masters']]"
      ]
     },
     "execution_count": 16,
     "metadata": {},
     "output_type": "execute_result"
    }
   ],
   "source": [
    "lst"
   ]
  },
  {
   "cell_type": "code",
   "execution_count": 20,
   "id": "0d481714-16ad-449c-a090-cde1d4a6592d",
   "metadata": {},
   "outputs": [
    {
     "data": {
      "text/plain": [
       "[5, 6, 'pwskils']"
      ]
     },
     "execution_count": 20,
     "metadata": {},
     "output_type": "execute_result"
    }
   ],
   "source": [
    "lst[-4:-1]"
   ]
  },
  {
   "cell_type": "code",
   "execution_count": 21,
   "id": "13fe38d9-a97d-4ce8-b133-7ac76dc93bd5",
   "metadata": {},
   "outputs": [
    {
     "data": {
      "text/plain": [
       "[1, 2, 3, 4, 5, 6]"
      ]
     },
     "execution_count": 21,
     "metadata": {},
     "output_type": "execute_result"
    }
   ],
   "source": [
    "lst=[1,2,3,4,5,6]\n",
    "lst"
   ]
  },
  {
   "cell_type": "code",
   "execution_count": 22,
   "id": "b3b2711b-8150-413c-ba4d-de6f1f8033be",
   "metadata": {},
   "outputs": [
    {
     "data": {
      "text/plain": [
       "6"
      ]
     },
     "execution_count": 22,
     "metadata": {},
     "output_type": "execute_result"
    }
   ],
   "source": [
    "lst.pop()##default index is-1"
   ]
  },
  {
   "cell_type": "code",
   "execution_count": 23,
   "id": "c7f4fb52-517f-44a1-a065-8eba0e12c603",
   "metadata": {},
   "outputs": [
    {
     "data": {
      "text/plain": [
       "[1, 2, 3, 4, 5]"
      ]
     },
     "execution_count": 23,
     "metadata": {},
     "output_type": "execute_result"
    }
   ],
   "source": [
    "lst"
   ]
  },
  {
   "cell_type": "code",
   "execution_count": 24,
   "id": "b5c4811a-1166-42d2-8b83-502e8117b958",
   "metadata": {},
   "outputs": [
    {
     "data": {
      "text/plain": [
       "3"
      ]
     },
     "execution_count": 24,
     "metadata": {},
     "output_type": "execute_result"
    }
   ],
   "source": [
    "lst.pop(2)"
   ]
  },
  {
   "cell_type": "code",
   "execution_count": 25,
   "id": "bfaebfad-701d-4b15-a999-f3d9ca0207e8",
   "metadata": {},
   "outputs": [
    {
     "data": {
      "text/plain": [
       "[1, 2, 4, 5]"
      ]
     },
     "execution_count": 25,
     "metadata": {},
     "output_type": "execute_result"
    }
   ],
   "source": [
    "lst"
   ]
  },
  {
   "cell_type": "code",
   "execution_count": 26,
   "id": "9294d5da-ef95-4d41-a5df-90a51cef76ad",
   "metadata": {},
   "outputs": [],
   "source": [
    "r=lst.pop(0)"
   ]
  },
  {
   "cell_type": "code",
   "execution_count": 28,
   "id": "22a6300a-37c1-4ab9-a6ac-17c9545f96d1",
   "metadata": {},
   "outputs": [
    {
     "data": {
      "text/plain": [
       "1"
      ]
     },
     "execution_count": 28,
     "metadata": {},
     "output_type": "execute_result"
    }
   ],
   "source": [
    "r ##removed element"
   ]
  },
  {
   "cell_type": "code",
   "execution_count": 29,
   "id": "6f4028db-fe20-4fe1-9170-7b8551a3f6c6",
   "metadata": {},
   "outputs": [
    {
     "ename": "NameError",
     "evalue": "name 'lst1' is not defined",
     "output_type": "error",
     "traceback": [
      "\u001b[0;31m---------------------------------------------------------------------------\u001b[0m",
      "\u001b[0;31mNameError\u001b[0m                                 Traceback (most recent call last)",
      "Cell \u001b[0;32mIn[29], line 1\u001b[0m\n\u001b[0;32m----> 1\u001b[0m \u001b[43mlst1\u001b[49m[\u001b[38;5;241m100\u001b[39m]\n",
      "\u001b[0;31mNameError\u001b[0m: name 'lst1' is not defined"
     ]
    }
   ],
   "source": [
    "lst1[100]"
   ]
  },
  {
   "cell_type": "code",
   "execution_count": null,
   "id": "0ce11eca-be66-48af-8df9-785e15136539",
   "metadata": {},
   "outputs": [],
   "source": [
    "##sorting & reverse method in list"
   ]
  },
  {
   "cell_type": "code",
   "execution_count": 31,
   "id": "ced8b2a7-2240-4622-9fca-6ed80868637b",
   "metadata": {},
   "outputs": [],
   "source": [
    "new_list=['q','e','f','s','t','u']"
   ]
  },
  {
   "cell_type": "code",
   "execution_count": 33,
   "id": "58737c9b-aa31-4735-a9b7-ec6acadfaabc",
   "metadata": {},
   "outputs": [],
   "source": [
    "new_list.reverse()  ##inplace operation"
   ]
  },
  {
   "cell_type": "code",
   "execution_count": 43,
   "id": "3f75b603-5575-4121-a0dd-5acc25f92fff",
   "metadata": {},
   "outputs": [
    {
     "data": {
      "text/plain": [
       "['u', 't', 's', 'f', 'e', 'q']"
      ]
     },
     "execution_count": 43,
     "metadata": {},
     "output_type": "execute_result"
    }
   ],
   "source": [
    "new_list"
   ]
  },
  {
   "cell_type": "code",
   "execution_count": 44,
   "id": "ed1cd8be-925a-4a63-a9b7-eb6fbc25fa6f",
   "metadata": {},
   "outputs": [
    {
     "data": {
      "text/plain": [
       "['q', 'e', 'f', 's', 't', 'u']"
      ]
     },
     "execution_count": 44,
     "metadata": {},
     "output_type": "execute_result"
    }
   ],
   "source": [
    "new_list[::-1]"
   ]
  },
  {
   "cell_type": "code",
   "execution_count": null,
   "id": "7898ccdc-3c81-452f-880c-1c56e87158cd",
   "metadata": {},
   "outputs": [],
   "source": []
  },
  {
   "cell_type": "code",
   "execution_count": 45,
   "id": "edee93c9-1283-4778-8fc4-32583b876bc1",
   "metadata": {},
   "outputs": [
    {
     "name": "stdout",
     "output_type": "stream",
     "text": [
      "['u', 't', 's', 'f', 'e', 'q']\n"
     ]
    }
   ],
   "source": [
    "print(new_list)\n"
   ]
  },
  {
   "cell_type": "code",
   "execution_count": 49,
   "id": "2dadff69-e4da-4917-8e7b-db08052cdd70",
   "metadata": {},
   "outputs": [],
   "source": [
    "nl=new_list[::-1]"
   ]
  },
  {
   "cell_type": "code",
   "execution_count": 50,
   "id": "56f77a2e-0af0-470d-b3b7-ac9068c15fa7",
   "metadata": {},
   "outputs": [
    {
     "data": {
      "text/plain": [
       "['u', 't', 's', 'f', 'e', 'q']"
      ]
     },
     "execution_count": 50,
     "metadata": {},
     "output_type": "execute_result"
    }
   ],
   "source": [
    "new_list"
   ]
  },
  {
   "cell_type": "code",
   "execution_count": 51,
   "id": "925380f8-8148-4730-827b-fec85e73db42",
   "metadata": {},
   "outputs": [
    {
     "data": {
      "text/plain": [
       "['q', 'e', 'f', 's', 't', 'u']"
      ]
     },
     "execution_count": 51,
     "metadata": {},
     "output_type": "execute_result"
    }
   ],
   "source": [
    "nl"
   ]
  },
  {
   "cell_type": "code",
   "execution_count": 53,
   "id": "4ed99ba8-a03e-4054-9ce1-3d79adf8551c",
   "metadata": {},
   "outputs": [],
   "source": [
    "nl.sort()"
   ]
  },
  {
   "cell_type": "code",
   "execution_count": 54,
   "id": "f27c4047-c81d-4d18-b223-c8603250f9d6",
   "metadata": {},
   "outputs": [
    {
     "data": {
      "text/plain": [
       "['e', 'f', 'q', 's', 't', 'u']"
      ]
     },
     "execution_count": 54,
     "metadata": {},
     "output_type": "execute_result"
    }
   ],
   "source": [
    "nl"
   ]
  },
  {
   "cell_type": "code",
   "execution_count": 55,
   "id": "072f4d4e-7c47-4472-b3ab-87fbf604b58b",
   "metadata": {},
   "outputs": [],
   "source": [
    "nl.sort()"
   ]
  },
  {
   "cell_type": "code",
   "execution_count": 56,
   "id": "96dbaadd-071d-4918-83b2-2df4bbbd7b54",
   "metadata": {},
   "outputs": [
    {
     "data": {
      "text/plain": [
       "['e', 'f', 'q', 's', 't', 'u']"
      ]
     },
     "execution_count": 56,
     "metadata": {},
     "output_type": "execute_result"
    }
   ],
   "source": [
    "nl"
   ]
  },
  {
   "cell_type": "code",
   "execution_count": 57,
   "id": "84662c1b-1348-4f54-9bf5-a9e2be88594e",
   "metadata": {},
   "outputs": [
    {
     "data": {
      "text/plain": [
       "['e', 'f', 'q', 's', 't', 'u']"
      ]
     },
     "execution_count": 57,
     "metadata": {},
     "output_type": "execute_result"
    }
   ],
   "source": [
    "nl"
   ]
  },
  {
   "cell_type": "code",
   "execution_count": 58,
   "id": "67741ea0-cf8f-4100-b15c-237f052e683a",
   "metadata": {},
   "outputs": [],
   "source": [
    "nl.append(0)"
   ]
  },
  {
   "cell_type": "code",
   "execution_count": 59,
   "id": "9b6f70ba-51d9-4033-aa29-6b382f8f150a",
   "metadata": {},
   "outputs": [
    {
     "data": {
      "text/plain": [
       "['e', 'f', 'q', 's', 't', 'u', 0]"
      ]
     },
     "execution_count": 59,
     "metadata": {},
     "output_type": "execute_result"
    }
   ],
   "source": [
    "nl"
   ]
  },
  {
   "cell_type": "code",
   "execution_count": 71,
   "id": "c458870c-fd7a-4212-a671-3634e0d24555",
   "metadata": {},
   "outputs": [],
   "source": [
    "nl.append([\"Rishu\",\"ge\"])"
   ]
  },
  {
   "cell_type": "markdown",
   "id": "d2e6c5cf-df75-4fc3-ad0d-a9d53dfdc956",
   "metadata": {},
   "source": [
    "## nested list"
   ]
  },
  {
   "cell_type": "code",
   "execution_count": 73,
   "id": "101bd287-9e33-4c31-9d98-f06a3fe3b7e9",
   "metadata": {},
   "outputs": [],
   "source": [
    "lst_1=[1,2,3]\n",
    "lst_2=[4,5,6]\n",
    "lst_3=[7,8,9]\n",
    "\n",
    "matrix=[lst_1,lst_2,lst_3]"
   ]
  },
  {
   "cell_type": "code",
   "execution_count": 74,
   "id": "ecd947ee-c80c-4cb2-9a9e-dd6d5ebf41d4",
   "metadata": {},
   "outputs": [
    {
     "data": {
      "text/plain": [
       "[[1, 2, 3], [4, 5, 6], [7, 8, 9]]"
      ]
     },
     "execution_count": 74,
     "metadata": {},
     "output_type": "execute_result"
    }
   ],
   "source": [
    "matrix"
   ]
  },
  {
   "cell_type": "code",
   "execution_count": 75,
   "id": "36c5dfba-36c0-41c8-8e77-f6e1f9eb0092",
   "metadata": {},
   "outputs": [
    {
     "data": {
      "text/plain": [
       "[0, 1, 2, 3, 4, 5, 6, 7, 8, 9, 10, 11, 12, 13, 14, 15, 16, 17, 18, 19]"
      ]
     },
     "execution_count": 75,
     "metadata": {},
     "output_type": "execute_result"
    }
   ],
   "source": [
    "## list comprehension\n",
    "[i for i in range(20)]"
   ]
  },
  {
   "cell_type": "code",
   "execution_count": 78,
   "id": "f2d67a4b-2138-4cb2-80e3-e192a4df5e4b",
   "metadata": {},
   "outputs": [
    {
     "data": {
      "text/plain": [
       "[0,\n",
       " 'ODD',\n",
       " 2,\n",
       " 'ODD',\n",
       " 4,\n",
       " 'ODD',\n",
       " 6,\n",
       " 'ODD',\n",
       " 8,\n",
       " 'ODD',\n",
       " 10,\n",
       " 'ODD',\n",
       " 12,\n",
       " 'ODD',\n",
       " 14,\n",
       " 'ODD',\n",
       " 16,\n",
       " 'ODD',\n",
       " 18,\n",
       " 'ODD']"
      ]
     },
     "execution_count": 78,
     "metadata": {},
     "output_type": "execute_result"
    }
   ],
   "source": [
    "## list comprehension\n",
    "## even numbers\n",
    "[i if i%2==0 else \"ODD\" for i in range(20) ]"
   ]
  },
  {
   "cell_type": "code",
   "execution_count": 80,
   "id": "453f6eda-e85f-41ec-a132-b3e65bf94f40",
   "metadata": {},
   "outputs": [
    {
     "data": {
      "text/plain": [
       "['', 1, '', 3, '', 5, '', 7, '', 9, '', 11, '', 13, '', 15, '', 17, '', 19]"
      ]
     },
     "execution_count": 80,
     "metadata": {},
     "output_type": "execute_result"
    }
   ],
   "source": [
    "[i if i%2!=0 else \"\" for i in range(0,20)]"
   ]
  },
  {
   "cell_type": "code",
   "execution_count": 81,
   "id": "be29ab8f-1a52-4b82-a3a6-f07ef19091b6",
   "metadata": {},
   "outputs": [
    {
     "data": {
      "text/plain": [
       "[1, 2, 3, 4, 5, 6, 7, 8]"
      ]
     },
     "execution_count": 81,
     "metadata": {},
     "output_type": "execute_result"
    }
   ],
   "source": [
    "lst=[1,2,3,4,5,6,7,8]\n",
    "lst"
   ]
  },
  {
   "cell_type": "code",
   "execution_count": 87,
   "id": "9eb45aeb-b7d4-4faf-8d70-2df08c043c13",
   "metadata": {},
   "outputs": [
    {
     "name": "stdout",
     "output_type": "stream",
     "text": [
      "20\n",
      "16\n"
     ]
    }
   ],
   "source": [
    "sum1=0\n",
    "sum2=0\n",
    "for i in lst:\n",
    "    if i%2==0:\n",
    "        sum1=sum1+i\n",
    "    else:\n",
    "        sum2=sum2+i\n",
    "print(sum1)\n",
    "print(sum2)\n",
    "\n",
    "        \n",
    "    \n",
    "    \n",
    "       \n",
    "        "
   ]
  },
  {
   "cell_type": "code",
   "execution_count": 91,
   "id": "7ae1730c-e327-4886-b882-c28f2aa94210",
   "metadata": {},
   "outputs": [],
   "source": [
    "sum_1=sum([num for num in lst if num%2==0])"
   ]
  },
  {
   "cell_type": "code",
   "execution_count": 92,
   "id": "2677106d-e0dd-4d61-ae7a-e14d029ecca0",
   "metadata": {},
   "outputs": [],
   "source": [
    "sum_2=sum([num for num in lst if num%2!=0])"
   ]
  },
  {
   "cell_type": "code",
   "execution_count": 93,
   "id": "17532e58-90ba-4467-9fe7-dd6ab86d5761",
   "metadata": {},
   "outputs": [
    {
     "data": {
      "text/plain": [
       "20"
      ]
     },
     "execution_count": 93,
     "metadata": {},
     "output_type": "execute_result"
    }
   ],
   "source": [
    "sum_1"
   ]
  },
  {
   "cell_type": "code",
   "execution_count": 94,
   "id": "e4bf5d2f-b359-44ea-9faf-491241b2aace",
   "metadata": {},
   "outputs": [
    {
     "data": {
      "text/plain": [
       "16"
      ]
     },
     "execution_count": 94,
     "metadata": {},
     "output_type": "execute_result"
    }
   ],
   "source": [
    "sum_2"
   ]
  },
  {
   "cell_type": "code",
   "execution_count": 96,
   "id": "699fac7a-8de5-44ac-b5ee-ea9b5b1f1df3",
   "metadata": {},
   "outputs": [],
   "source": [
    "lst=[1,2,3,4,5,6,7,8,9,0] ##sum of squares\n",
    "sum3=sum([i**2 for i in lst])"
   ]
  },
  {
   "cell_type": "code",
   "execution_count": 97,
   "id": "b5e39c27-74dc-4978-bfa3-d062f86451d5",
   "metadata": {},
   "outputs": [
    {
     "data": {
      "text/plain": [
       "285"
      ]
     },
     "execution_count": 97,
     "metadata": {},
     "output_type": "execute_result"
    }
   ],
   "source": [
    "sum3"
   ]
  },
  {
   "cell_type": "code",
   "execution_count": 98,
   "id": "e74e8a45-dadc-45b4-9114-7d245a6e6a7e",
   "metadata": {},
   "outputs": [
    {
     "data": {
      "text/plain": [
       "[2, 4, 6, 7, 0]"
      ]
     },
     "execution_count": 98,
     "metadata": {},
     "output_type": "execute_result"
    }
   ],
   "source": [
    "lst=[-1,2,-3,4,-5,6,7,-8,-9,0]   ## finding positive integers\n",
    "[i for i in lst if i>=0]"
   ]
  },
  {
   "cell_type": "code",
   "execution_count": 99,
   "id": "8cb7ca2c-be04-48de-acd3-db97bf6d4dca",
   "metadata": {},
   "outputs": [],
   "source": [
    "words=['apple','banana','cherry','dates']"
   ]
  },
  {
   "cell_type": "code",
   "execution_count": 100,
   "id": "5c1034f7-15b2-4f76-a11e-5247b71c930e",
   "metadata": {},
   "outputs": [
    {
     "data": {
      "text/plain": [
       "['apple', 'banana', 'cherry', 'dates']"
      ]
     },
     "execution_count": 100,
     "metadata": {},
     "output_type": "execute_result"
    }
   ],
   "source": [
    "words"
   ]
  },
  {
   "cell_type": "code",
   "execution_count": 101,
   "id": "d1d6f33d-bed5-40a0-926a-5e6d29611cf8",
   "metadata": {},
   "outputs": [
    {
     "data": {
      "text/plain": [
       "['a', 'b', 'c', 'd']"
      ]
     },
     "execution_count": 101,
     "metadata": {},
     "output_type": "execute_result"
    }
   ],
   "source": [
    "[i[0] for i in words] ##1st letters of all words in a list"
   ]
  },
  {
   "cell_type": "code",
   "execution_count": 114,
   "id": "5de108f7-61a6-4f3c-b955-d8020bd8507c",
   "metadata": {},
   "outputs": [
    {
     "data": {
      "text/plain": [
       "[32.0, 50.0, 68.0, 86.0, 104.0, 122.0]"
      ]
     },
     "execution_count": 114,
     "metadata": {},
     "output_type": "execute_result"
    }
   ],
   "source": [
    "##degree to celcius\n",
    "##(9/5)*trmp+32\n",
    "cel_temp=[0,10,20,30,40,50]\n",
    "##x=((9/5)*i+32)\n",
    "[(9/5)*i+32 for i in cel_temp]\n"
   ]
  },
  {
   "cell_type": "code",
   "execution_count": 115,
   "id": "7b972cc7-8413-47c7-a8a5-bae8dc11ec43",
   "metadata": {},
   "outputs": [],
   "source": [
    "lists=[[1,2,3],[4,5,6],[7,8,9]]## flatten a list"
   ]
  },
  {
   "cell_type": "code",
   "execution_count": 116,
   "id": "8ddf8024-abf5-4e49-bc2d-bdbb66f5e4eb",
   "metadata": {},
   "outputs": [
    {
     "data": {
      "text/plain": [
       "[[1, 2, 3], [4, 5, 6], [7, 8, 9]]"
      ]
     },
     "execution_count": 116,
     "metadata": {},
     "output_type": "execute_result"
    }
   ],
   "source": [
    "lists"
   ]
  },
  {
   "cell_type": "code",
   "execution_count": 117,
   "id": "cf23d9ca-0b04-46a8-b8cd-40dc7fe9a44f",
   "metadata": {},
   "outputs": [
    {
     "data": {
      "text/plain": [
       "[1, 2, 3, 4, 5, 6, 7, 8, 9]"
      ]
     },
     "execution_count": 117,
     "metadata": {},
     "output_type": "execute_result"
    }
   ],
   "source": [
    "[i for s in lists for i in s]"
   ]
  },
  {
   "cell_type": "code",
   "execution_count": null,
   "id": "4de51904-cfd2-41a4-8522-e7cef7a183cb",
   "metadata": {},
   "outputs": [],
   "source": []
  }
 ],
 "metadata": {
  "kernelspec": {
   "display_name": "Python 3 (ipykernel)",
   "language": "python",
   "name": "python3"
  },
  "language_info": {
   "codemirror_mode": {
    "name": "ipython",
    "version": 3
   },
   "file_extension": ".py",
   "mimetype": "text/x-python",
   "name": "python",
   "nbconvert_exporter": "python",
   "pygments_lexer": "ipython3",
   "version": "3.10.8"
  }
 },
 "nbformat": 4,
 "nbformat_minor": 5
}
