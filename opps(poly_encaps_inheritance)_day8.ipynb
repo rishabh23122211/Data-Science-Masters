{
 "cells": [
  {
   "cell_type": "markdown",
   "id": "c19400b8-878f-455f-91d3-c07cff05392e",
   "metadata": {},
   "source": [
    "# Polymorphism"
   ]
  },
  {
   "cell_type": "code",
   "execution_count": 1,
   "id": "71d88add-2728-46fa-8b89-fa2ed811b2da",
   "metadata": {},
   "outputs": [],
   "source": [
    "def test(a,b):\n",
    "    return a+b"
   ]
  },
  {
   "cell_type": "code",
   "execution_count": 2,
   "id": "e3bcf6b1-8fb7-4910-b9d2-b7742642e1ae",
   "metadata": {},
   "outputs": [
    {
     "data": {
      "text/plain": [
       "9"
      ]
     },
     "execution_count": 2,
     "metadata": {},
     "output_type": "execute_result"
    }
   ],
   "source": [
    "test(4,5)"
   ]
  },
  {
   "cell_type": "code",
   "execution_count": 4,
   "id": "e484900a-63fb-423b-a095-708c74a47001",
   "metadata": {},
   "outputs": [
    {
     "data": {
      "text/plain": [
       "'Sudh Kumar'"
      ]
     },
     "execution_count": 4,
     "metadata": {},
     "output_type": "execute_result"
    }
   ],
   "source": [
    "test(\"Sudh\",\" Kumar\")"
   ]
  },
  {
   "cell_type": "code",
   "execution_count": 5,
   "id": "1f5ae5c7-1dee-4106-868b-0e8394ef1718",
   "metadata": {},
   "outputs": [
    {
     "data": {
      "text/plain": [
       "[2, 3, 4, 5, 8, 9, 7, 6]"
      ]
     },
     "execution_count": 5,
     "metadata": {},
     "output_type": "execute_result"
    }
   ],
   "source": [
    "test([2,3,4,5],[8,9,7,6])"
   ]
  },
  {
   "cell_type": "code",
   "execution_count": 11,
   "id": "00b9feba-10a1-43ab-a500-098b2796045a",
   "metadata": {},
   "outputs": [],
   "source": [
    "class data_science:         ## class 1\n",
    "    def syllabus(self):  ## method\n",
    "        print(\"This is my data science\")"
   ]
  },
  {
   "cell_type": "code",
   "execution_count": 12,
   "id": "0cf26964-ec1a-410e-9134-a65d27c8f880",
   "metadata": {},
   "outputs": [],
   "source": [
    "class web_dev: ##another class \n",
    "    def syllabus(self):  ##another method\n",
    "        print(\"This is my method for web_dev\")"
   ]
  },
  {
   "cell_type": "code",
   "execution_count": 13,
   "id": "d57d1245-43e0-4175-836e-a11099f1b4b1",
   "metadata": {},
   "outputs": [],
   "source": [
    "def class_parcer(class_obj):   ##separate function\n",
    "    for i in class_obj:\n",
    "        i.syllabus()"
   ]
  },
  {
   "cell_type": "code",
   "execution_count": 14,
   "id": "e82ac74c-cdce-440c-9966-ea42b12472da",
   "metadata": {},
   "outputs": [],
   "source": [
    "obj_data_science= data_science()   ##defining object"
   ]
  },
  {
   "cell_type": "code",
   "execution_count": 15,
   "id": "c5188cef-0455-4ec6-9454-0911b9fc941c",
   "metadata": {},
   "outputs": [],
   "source": [
    "obj_web_dev= web_dev() ## defining object"
   ]
  },
  {
   "cell_type": "code",
   "execution_count": 20,
   "id": "ad51925e-5cd3-4bc0-9167-8047cbb5cfaa",
   "metadata": {},
   "outputs": [],
   "source": [
    "class_obj=[obj_data_science, obj_web_dev]"
   ]
  },
  {
   "cell_type": "code",
   "execution_count": 21,
   "id": "72b6d9dd-31ca-48e1-9eeb-2ecaa696aabe",
   "metadata": {},
   "outputs": [
    {
     "name": "stdout",
     "output_type": "stream",
     "text": [
      "This is my data science\n",
      "This is my method for web_dev\n"
     ]
    }
   ],
   "source": [
    "class_parcer(class_obj)"
   ]
  },
  {
   "cell_type": "code",
   "execution_count": 22,
   "id": "22831467-8151-44cc-8765-e00cbe78a770",
   "metadata": {},
   "outputs": [],
   "source": [
    "##polymorphism achived"
   ]
  },
  {
   "cell_type": "markdown",
   "id": "313b3062-99a2-41e8-a43f-7ca997368979",
   "metadata": {},
   "source": [
    "# Encapsulation"
   ]
  },
  {
   "cell_type": "code",
   "execution_count": 23,
   "id": "5aee7d8f-4a4a-4f78-aeea-5b99fc51ffbe",
   "metadata": {},
   "outputs": [],
   "source": [
    "class test:\n",
    "    def __init__(self,a,b):\n",
    "        self.a=a\n",
    "        self.b=b"
   ]
  },
  {
   "cell_type": "code",
   "execution_count": 25,
   "id": "e5cb2565-b4ed-4243-83c1-82639856b47b",
   "metadata": {},
   "outputs": [],
   "source": [
    "rishabh=test(4,67)"
   ]
  },
  {
   "cell_type": "code",
   "execution_count": 26,
   "id": "bb65dc31-d149-4922-b6fb-11565b39aa46",
   "metadata": {},
   "outputs": [
    {
     "data": {
      "text/plain": [
       "4"
      ]
     },
     "execution_count": 26,
     "metadata": {},
     "output_type": "execute_result"
    }
   ],
   "source": [
    "rishabh.a"
   ]
  },
  {
   "cell_type": "code",
   "execution_count": 27,
   "id": "e5451a30-4e91-4b43-bd61-1a967a9f712b",
   "metadata": {},
   "outputs": [
    {
     "data": {
      "text/plain": [
       "67"
      ]
     },
     "execution_count": 27,
     "metadata": {},
     "output_type": "execute_result"
    }
   ],
   "source": [
    "rishabh.b"
   ]
  },
  {
   "cell_type": "code",
   "execution_count": 30,
   "id": "43579513-e2c0-4b34-bd4e-662d89fcef7e",
   "metadata": {},
   "outputs": [],
   "source": [
    "rishabh.b=567   ##blunder user should not be able to acces the method"
   ]
  },
  {
   "cell_type": "code",
   "execution_count": 29,
   "id": "85d4ed89-dbfa-4c4b-a4a5-86198b250c98",
   "metadata": {},
   "outputs": [
    {
     "data": {
      "text/plain": [
       "567"
      ]
     },
     "execution_count": 29,
     "metadata": {},
     "output_type": "execute_result"
    }
   ],
   "source": [
    "rishabh.b"
   ]
  },
  {
   "cell_type": "code",
   "execution_count": 36,
   "id": "84883e86-1fae-4669-97db-2799c07d454d",
   "metadata": {},
   "outputs": [],
   "source": [
    "class car:\n",
    "    def __init__(self,year,make,model,speed):\n",
    "        self.__year=year      \n",
    "        self.__make=make\n",
    "        self.__mode=model          ##__used to secure so u cannot acess it by typing\n",
    "        self.__speed=0\n",
    "        \n",
    "        "
   ]
  },
  {
   "cell_type": "code",
   "execution_count": 35,
   "id": "5a7c51fe-d0bb-41cd-950d-dad1f02d58e3",
   "metadata": {},
   "outputs": [],
   "source": [
    "rishu= car(2022,\"Honda\",\"Activa 6G\",60)"
   ]
  },
  {
   "cell_type": "code",
   "execution_count": 39,
   "id": "c397686f-9207-422a-b48d-2d812ad81285",
   "metadata": {},
   "outputs": [
    {
     "data": {
      "text/plain": [
       "2022"
      ]
     },
     "execution_count": 39,
     "metadata": {},
     "output_type": "execute_result"
    }
   ],
   "source": [
    "rishu._car__year ## i m creater so l can see the class name and variabke name "
   ]
  },
  {
   "cell_type": "code",
   "execution_count": 40,
   "id": "1c3ddce1-85bf-486d-be71-24988d0cc5ea",
   "metadata": {},
   "outputs": [],
   "source": [
    "rishu._car__year=2023"
   ]
  },
  {
   "cell_type": "code",
   "execution_count": 42,
   "id": "3e4fca0e-eebe-417b-ad6f-52a2e319a0d3",
   "metadata": {},
   "outputs": [
    {
     "data": {
      "text/plain": [
       "2023"
      ]
     },
     "execution_count": 42,
     "metadata": {},
     "output_type": "execute_result"
    }
   ],
   "source": [
    "rishu._car__year ##only creater can use or acces it "
   ]
  },
  {
   "cell_type": "code",
   "execution_count": 68,
   "id": "b501fd33-3c70-4ee9-bbb5-f17667544c38",
   "metadata": {},
   "outputs": [],
   "source": [
    "class car:\n",
    "    def __init__(self,year,make,model,speed):\n",
    "        self.__year=year      \n",
    "        self.__make=make\n",
    "        self.__mode=model         \n",
    "        self.__speed=0\n",
    "        \n",
    "    def set_speed(self, speed):   ## acces to user to update speed\n",
    "        self.__speed= 0 if speed <0 else speed\n",
    "        \n",
    "    def get_speed(self):\n",
    "        return self.__speed"
   ]
  },
  {
   "cell_type": "code",
   "execution_count": 69,
   "id": "0db8a226-6fc2-4084-bdc7-9f44dababda4",
   "metadata": {},
   "outputs": [],
   "source": [
    "singh=car(2022,\"Honda\",\"Activa 6G\",60)"
   ]
  },
  {
   "cell_type": "code",
   "execution_count": 70,
   "id": "9e89fc55-7f8c-4877-a5f8-bd6c02d757aa",
   "metadata": {},
   "outputs": [],
   "source": [
    "singh.set_speed(-40)"
   ]
  },
  {
   "cell_type": "code",
   "execution_count": 71,
   "id": "834a81f8-55fc-461a-a783-88ad9e2895c3",
   "metadata": {},
   "outputs": [
    {
     "data": {
      "text/plain": [
       "80"
      ]
     },
     "execution_count": 71,
     "metadata": {},
     "output_type": "execute_result"
    }
   ],
   "source": [
    "singh.set_speed(80)\n",
    "singh._car__speed  ## user can modify but only owner can view the updated speed"
   ]
  },
  {
   "cell_type": "code",
   "execution_count": 77,
   "id": "86f972e0-2a1b-440b-99e8-1257573e1de9",
   "metadata": {},
   "outputs": [
    {
     "data": {
      "text/plain": [
       "80"
      ]
     },
     "execution_count": 77,
     "metadata": {},
     "output_type": "execute_result"
    }
   ],
   "source": [
    "singh.get_speed()"
   ]
  },
  {
   "cell_type": "code",
   "execution_count": 22,
   "id": "a08a6412-277b-4e9a-9a4c-38843a40a8b3",
   "metadata": {},
   "outputs": [],
   "source": [
    "class bank_account:\n",
    "    def __init__(self, balance):\n",
    "        self.__balance= balance\n",
    "    \n",
    "    def deposit(self, amount):\n",
    "        self.__balance= self.__balance + amount\n",
    "    \n",
    "    def withdraw(self, amount):\n",
    "        if self.__balance>=amount:\n",
    "            self.__balance=self.__balance-amount\n",
    "            \n",
    "            return True\n",
    "        else:\n",
    "            return False\n",
    "    def get_balance(self):\n",
    "        return self.__balance"
   ]
  },
  {
   "cell_type": "code",
   "execution_count": 34,
   "id": "0d9b10eb-e5b1-45a9-b2ae-6bb74a25a5a5",
   "metadata": {},
   "outputs": [],
   "source": [
    "Rishabh_acc=bank_account(100000)"
   ]
  },
  {
   "cell_type": "code",
   "execution_count": 35,
   "id": "6c1e6d61-a9f0-4f02-8f70-f235a8b8f9f7",
   "metadata": {},
   "outputs": [
    {
     "data": {
      "text/plain": [
       "100000"
      ]
     },
     "execution_count": 35,
     "metadata": {},
     "output_type": "execute_result"
    }
   ],
   "source": [
    "Rishabh_acc.get_balance()"
   ]
  },
  {
   "cell_type": "code",
   "execution_count": 36,
   "id": "22fca188-6597-43e3-b42f-360596ac462e",
   "metadata": {},
   "outputs": [
    {
     "data": {
      "text/plain": [
       "100000"
      ]
     },
     "execution_count": 36,
     "metadata": {},
     "output_type": "execute_result"
    }
   ],
   "source": [
    "Rishabh_acc._bank_account__balance ## onlt user can do this"
   ]
  },
  {
   "cell_type": "code",
   "execution_count": 37,
   "id": "f3f7c981-e058-4394-8326-18492fda019b",
   "metadata": {},
   "outputs": [
    {
     "data": {
      "text/plain": [
       "100000"
      ]
     },
     "execution_count": 37,
     "metadata": {},
     "output_type": "execute_result"
    }
   ],
   "source": [
    "Rishabh_acc.get_balance()"
   ]
  },
  {
   "cell_type": "code",
   "execution_count": 38,
   "id": "1356ad3a-81e6-44b2-812d-9cc331f9d2b6",
   "metadata": {},
   "outputs": [],
   "source": [
    "Rishabh_acc.deposit(50000)"
   ]
  },
  {
   "cell_type": "code",
   "execution_count": 39,
   "id": "7672fa14-5933-4ebf-855b-8e2326847818",
   "metadata": {},
   "outputs": [
    {
     "data": {
      "text/plain": [
       "150000"
      ]
     },
     "execution_count": 39,
     "metadata": {},
     "output_type": "execute_result"
    }
   ],
   "source": [
    "Rishabh_acc.get_balance()"
   ]
  },
  {
   "cell_type": "code",
   "execution_count": 40,
   "id": "915561fc-ebf6-401b-b653-259796f52319",
   "metadata": {},
   "outputs": [
    {
     "data": {
      "text/plain": [
       "True"
      ]
     },
     "execution_count": 40,
     "metadata": {},
     "output_type": "execute_result"
    }
   ],
   "source": [
    "Rishabh_acc.withdraw(40000)"
   ]
  },
  {
   "cell_type": "code",
   "execution_count": 41,
   "id": "356677e9-6ab0-42ee-b9ae-f9d5698cd1b8",
   "metadata": {},
   "outputs": [
    {
     "data": {
      "text/plain": [
       "False"
      ]
     },
     "execution_count": 41,
     "metadata": {},
     "output_type": "execute_result"
    }
   ],
   "source": [
    "Rishabh_acc.withdraw(200000)"
   ]
  },
  {
   "cell_type": "code",
   "execution_count": 42,
   "id": "8fb31f29-6aba-49d2-ba14-43693396e8ca",
   "metadata": {},
   "outputs": [
    {
     "data": {
      "text/plain": [
       "110000"
      ]
     },
     "execution_count": 42,
     "metadata": {},
     "output_type": "execute_result"
    }
   ],
   "source": [
    "Rishabh_acc.get_balance()"
   ]
  },
  {
   "cell_type": "markdown",
   "id": "ac1d7982-0ea4-412c-ac40-dff2042cb3f8",
   "metadata": {},
   "source": [
    "# Inheritance"
   ]
  },
  {
   "cell_type": "code",
   "execution_count": 43,
   "id": "e43ffa35-021c-43ae-993e-bfd9bdb5940f",
   "metadata": {},
   "outputs": [],
   "source": [
    "## class can inherit a property of another class"
   ]
  },
  {
   "cell_type": "code",
   "execution_count": 46,
   "id": "783c2911-882f-4aba-abfb-9fc88c9a86a4",
   "metadata": {},
   "outputs": [],
   "source": [
    "class parent:\n",
    "    def test_parent(self):   #points the objects towards the class\n",
    "        print(\"This is my Parent class\")"
   ]
  },
  {
   "cell_type": "code",
   "execution_count": 48,
   "id": "b5497e1b-0cc8-430f-a4b5-c60df5757215",
   "metadata": {},
   "outputs": [],
   "source": [
    "class child(parent):\n",
    "    pass\n"
   ]
  },
  {
   "cell_type": "code",
   "execution_count": 49,
   "id": "d4b2b279-cfe9-40c8-8f2d-d9f33f078926",
   "metadata": {},
   "outputs": [],
   "source": [
    "child_obj=child()"
   ]
  },
  {
   "cell_type": "code",
   "execution_count": 51,
   "id": "572619b8-f63d-4166-bc0b-048fbbd4ecf6",
   "metadata": {},
   "outputs": [
    {
     "name": "stdout",
     "output_type": "stream",
     "text": [
      "This is my Parent class\n"
     ]
    }
   ],
   "source": [
    "child_obj.test_parent() ##it takes the properties of my parent class"
   ]
  },
  {
   "cell_type": "code",
   "execution_count": 52,
   "id": "09e146c2-f4b4-4337-bb76-222f8f24d778",
   "metadata": {},
   "outputs": [],
   "source": [
    "## This is called inheritance"
   ]
  },
  {
   "cell_type": "code",
   "execution_count": 56,
   "id": "e70eb09b-4fb5-41b1-897f-928208e3cf0a",
   "metadata": {},
   "outputs": [],
   "source": [
    "## multilevel inhertence:\n",
    "class class1:\n",
    "    def test_class1(self):\n",
    "        print(\"This is my class1\")"
   ]
  },
  {
   "cell_type": "code",
   "execution_count": 57,
   "id": "b928a14e-f5d5-4625-aaa4-279e2628ed73",
   "metadata": {},
   "outputs": [],
   "source": [
    "class class2(class1):\n",
    "    def test_class2(self):\n",
    "        print(\"This is my class2\")"
   ]
  },
  {
   "cell_type": "code",
   "execution_count": 58,
   "id": "f95c91f0-b97e-4981-8d1a-928a612b1c11",
   "metadata": {},
   "outputs": [],
   "source": [
    "class class3(class2):\n",
    "    def test_class3(self):\n",
    "        print(\"This is my class3\")"
   ]
  },
  {
   "cell_type": "code",
   "execution_count": 60,
   "id": "732f7977-741a-48c9-8a47-9700e5d0fb61",
   "metadata": {},
   "outputs": [],
   "source": [
    "Rishabh = class3()"
   ]
  },
  {
   "cell_type": "code",
   "execution_count": 61,
   "id": "2c2c152e-df10-403b-8264-cbaa47ea0609",
   "metadata": {},
   "outputs": [
    {
     "name": "stdout",
     "output_type": "stream",
     "text": [
      "This is my class1\n"
     ]
    }
   ],
   "source": [
    "Rishabh.test_class1()\n"
   ]
  },
  {
   "cell_type": "code",
   "execution_count": 62,
   "id": "5b211929-be3e-4857-b16e-fa7377976015",
   "metadata": {},
   "outputs": [
    {
     "name": "stdout",
     "output_type": "stream",
     "text": [
      "This is my class2\n"
     ]
    }
   ],
   "source": [
    "Rishabh.test_class2()"
   ]
  },
  {
   "cell_type": "code",
   "execution_count": 63,
   "id": "53d8ad08-61b9-4090-9f69-28d29f7de651",
   "metadata": {},
   "outputs": [
    {
     "name": "stdout",
     "output_type": "stream",
     "text": [
      "This is my class3\n"
     ]
    }
   ],
   "source": [
    "Rishabh.test_class3()"
   ]
  },
  {
   "cell_type": "code",
   "execution_count": 64,
   "id": "d7d6f0eb-a12b-4183-9e16-14bc7784635f",
   "metadata": {},
   "outputs": [],
   "source": [
    "##multiple class inhertance"
   ]
  },
  {
   "cell_type": "code",
   "execution_count": 65,
   "id": "68b710ad-d07d-49f2-b289-1aca33c1e88d",
   "metadata": {},
   "outputs": [],
   "source": [
    "class class1:\n",
    "    def test_class1(self):\n",
    "        print(\"This is my class 1\")"
   ]
  },
  {
   "cell_type": "code",
   "execution_count": 66,
   "id": "2464c261-ea53-4ebf-8520-d8cf273deb5b",
   "metadata": {},
   "outputs": [],
   "source": [
    "class class2:\n",
    "    def test_class2(self):\n",
    "        print(\"This is my class2\")"
   ]
  },
  {
   "cell_type": "code",
   "execution_count": 67,
   "id": "0a686769-421c-4b54-a4d2-8bce0a5f4ae8",
   "metadata": {},
   "outputs": [],
   "source": [
    "class class3 (class1,class2):\n",
    "    pass"
   ]
  },
  {
   "cell_type": "code",
   "execution_count": 68,
   "id": "c3981e82-54cc-4aa9-b938-3f798d56b7bb",
   "metadata": {},
   "outputs": [],
   "source": [
    "Singh=class3()"
   ]
  },
  {
   "cell_type": "code",
   "execution_count": 69,
   "id": "ba1a1ddc-e208-4831-a7e0-a99b55d14c7a",
   "metadata": {},
   "outputs": [
    {
     "name": "stdout",
     "output_type": "stream",
     "text": [
      "This is my class 1\n"
     ]
    }
   ],
   "source": [
    "Singh.test_class1()"
   ]
  },
  {
   "cell_type": "code",
   "execution_count": 71,
   "id": "604079fe-fcc6-4c0c-817a-f663f6b31ddc",
   "metadata": {},
   "outputs": [
    {
     "name": "stdout",
     "output_type": "stream",
     "text": [
      "This is my class2\n"
     ]
    }
   ],
   "source": [
    "Singh.test_class2()"
   ]
  },
  {
   "cell_type": "code",
   "execution_count": null,
   "id": "b5789fd2-0565-47b5-8c3a-f84810ce23ea",
   "metadata": {},
   "outputs": [],
   "source": []
  }
 ],
 "metadata": {
  "kernelspec": {
   "display_name": "Python 3 (ipykernel)",
   "language": "python",
   "name": "python3"
  },
  "language_info": {
   "codemirror_mode": {
    "name": "ipython",
    "version": 3
   },
   "file_extension": ".py",
   "mimetype": "text/x-python",
   "name": "python",
   "nbconvert_exporter": "python",
   "pygments_lexer": "ipython3",
   "version": "3.10.8"
  }
 },
 "nbformat": 4,
 "nbformat_minor": 5
}
