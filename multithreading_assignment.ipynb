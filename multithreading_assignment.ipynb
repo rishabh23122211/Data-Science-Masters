{
 "cells": [
  {
   "cell_type": "markdown",
   "id": "42f99211",
   "metadata": {},
   "source": [
    "# Q1. What is multithreading in python? Why is it used? Name the module used to handle threads in python"
   ]
  },
  {
   "cell_type": "markdown",
   "id": "d2fb1116",
   "metadata": {},
   "source": [
    "## Multithreading refers to concurrently executing multiple threads by rapidly switching the control of the CPU between threads (called context switching). The Python Global Interpreter Lock limits one thread to run at a time even if the machine contains multiple processors.​"
   ]
  },
  {
   "cell_type": "markdown",
   "id": "ebd95df4",
   "metadata": {},
   "source": [
    "##  Multithreading in Python streamlines the efficient utilization of resources as the threads share the same memory and data space. It also allows the concurrent appearance of multiple tasks and reduces the response time. This improves the performance."
   ]
  },
  {
   "cell_type": "markdown",
   "id": "e8249905",
   "metadata": {},
   "source": [
    "\"\"\"\"\n",
    "The Threading Module\n",
    "The newer threading module included with Python 2.4 provides much more powerful, high-level support for threads than the thread module discussed in the previous section.\n",
    "\n",
    "The threading module exposes all the methods of the thread module and provides some additional methods −\n",
    "\n",
    "threading.activeCount() − Returns the number of thread objects that are active.\n",
    "\n",
    "threading.currentThread() − Returns the number of thread objects in the caller's thread control.\n",
    "\n",
    "threading.enumerate() − Returns a list of all thread objects that are currently active.\n",
    "\n",
    "In addition to the methods, the threading module has the Thread class that implements threading. The methods provided by the Thread class are as follows −\n",
    "\n",
    "run() − The run() method is the entry point for a thread.\n",
    "\n",
    "start() − The start() method starts a thread by calling the run method.\n",
    "\n",
    "join([time]) − The join() waits for threads to terminate.\n",
    "\n",
    "isAlive() − The isAlive() method checks whether a thread is still executing.\n",
    "\n",
    "getName() − The getName() method returns the name of a thread.\n",
    "\n",
    "setName() − The setName() method sets the name of a thread.\n",
    "\"\"\"\""
   ]
  },
  {
   "cell_type": "markdown",
   "id": "ab626802",
   "metadata": {},
   "source": [
    "# Q2.Why threading module used? Write the use of the following functions\n",
    "\n",
    " # 1.activeCount\n",
    " # 2.currentThread\n",
    " # 3.enumerate\n",
    " "
   ]
  },
  {
   "cell_type": "markdown",
   "id": "143c6241",
   "metadata": {},
   "source": [
    "## activeCount:\n",
    " ### threading.activeCount() − Returns the number of thread objects that are active.\n",
    "\n",
    "## currentThread:\n",
    " ### threading.currentThread() − Returns the number of thread objects in the caller's thread control.\n",
    "\n",
    "## enumerate:\n",
    " ### threading.enumerate() − Returns a list of all thread objects that are currently active."
   ]
  },
  {
   "cell_type": "markdown",
   "id": "a969a4b5",
   "metadata": {},
   "source": [
    "# Q3. 3. Explain the following functions\n",
    "# 1.run\n",
    "# 2.start\n",
    "# 3.join\n",
    "# 4.isAlive)"
   ]
  },
  {
   "cell_type": "markdown",
   "id": "c7ee59b2",
   "metadata": {},
   "source": [
    "## run:\n",
    "### run() − The run() method is the entry point for a thread.\n",
    "\n",
    "## start:\n",
    "### start() − The start() method starts a thread by calling the run method.\n",
    "\n",
    "## join:\n",
    "### join([time]) − The join() waits for threads to terminate.\n",
    "\n",
    "## isalive:\n",
    "### isAlive() − The isAlive() method checks whether a thread is still executing.\n"
   ]
  },
  {
   "cell_type": "markdown",
   "id": "00edc6f6",
   "metadata": {},
   "source": [
    "# Q4. Write a python program to create two threads. Thread one must print the list of squares and threadtwo must print the list of cubes"
   ]
  },
  {
   "cell_type": "code",
   "execution_count": 13,
   "id": "12973f79",
   "metadata": {},
   "outputs": [],
   "source": [
    "import threading\n",
    "def print_square(x):\n",
    "    print(\"Square is: {}\".format(x**2))\n",
    "def print_cubes(y):\n",
    "    print(\"Cube is: {}\".format(y**3))\n"
   ]
  },
  {
   "cell_type": "code",
   "execution_count": 33,
   "id": "16f29d40",
   "metadata": {},
   "outputs": [
    {
     "name": "stdout",
     "output_type": "stream",
     "text": [
      "Square is: 4\n",
      "Square is: 9\n",
      "Square is: 16\n",
      "Square is: 25\n",
      "Square is: 36\n",
      "Square is: 49\n",
      "Cube is: 8\n",
      "Cube is: 27\n",
      "Cube is: 64\n",
      "Cube is: 125\n",
      "Cube is: 216\n",
      "Cube is: 343\n"
     ]
    }
   ],
   "source": [
    "thread_1=[threading.Thread(target=print_square, args=(i,)) for i in [2,3,4,5,6,7]]\n",
    "thread_2=[threading.Thread(target=print_cubes, args=(i,)) for i in [2,3,4,5,6,7]]\n",
    "for t in thread_1:\n",
    "    t.start()\n",
    "for t in thread_2:\n",
    "    t.start()"
   ]
  },
  {
   "cell_type": "markdown",
   "id": "4bc94cb4",
   "metadata": {},
   "source": [
    "# Q5. State advantages and disadvantages of multithreading"
   ]
  },
  {
   "cell_type": "markdown",
   "id": "557028b3",
   "metadata": {},
   "source": [
    "## Advantages of a Multithreaded/Multicontexted Application\n",
    "\"\"\"\n",
    "Multithreaded and multicontexted applications offer the following advantages:\n",
    "\n",
    "\n",
    "Improved performance and concurrency\n",
    "For certain applications, performance and concurrency can be improved by using multithreading and multicontexting together. In other applications, performance can be unaffected or even degraded by using multithreading and multicontexting together. How performance is affected depends on your application.\n",
    "\n",
    "\n",
    "Simplified coding of remote procedure calls and conversations\n",
    "In some applications it is easier to code different remote procedure calls and conversations in separate threads than to manage them from the same thread.\n",
    "\n",
    "\n",
    "Simultaneous access to multiple applications\n",
    "Your BEA Tuxedo clients can be connected to more than one application at a time.\n",
    "\n",
    "\n",
    "Reduced number of required servers\n",
    "Because one server can dispatch multiple service threads, the number of servers to start for your application is reduced. This capability for multiple dispatched threads is especially useful for conversational servers, which otherwise must be dedicated to one client for the entire duration of a conversation.\n",
    "\n",
    "For applications in which client threads are created by the Microsoft Internet Information Server API or the Netscape Enterprise Server interface (that is, the NSAPI), the use of multiple threads is essential if you want to obtain the full benefits afforded by these tools. This may be true of other tools, as well.\n",
    "\n",
    " ## Disadvantages of a Multithreaded/Multicontexted Application\n",
    "\n",
    "Multithreaded and multicontexted applications present the following disadvantages:\n",
    "\n",
    "\n",
    "Difficulty of writing code\n",
    "Multithreaded and multicontexted applications are not easy to write. Only experienced programmers should undertake coding for these types of applications.\n",
    "\n",
    "\n",
    "Difficulty of debugging\n",
    "It is much harder to replicate an error in a multithreaded or multicontexted application than it is to do so in a single-threaded, single-contexted application. As a result, it is more difficult, in the former case, to identify and verify root causes when errors occur.\n",
    "\n",
    "\n",
    "Difficulty of managing concurrency\n",
    "The task of managing concurrency among threads is difficult and has the potential to introduce new problems into an application.\n",
    "\n",
    "\n",
    "Difficulty of testing\n",
    "Testing a multithreaded application is more difficult than testing a single-threaded application because defects are often timing-related and more difficult to reproduce.\n",
    "\n",
    "\n",
    "Difficulty of porting existing code\n",
    "Existing code often requires significant re-architecting to take advantage of multithreading and multicontexting. Programmers need to:\n",
    "\n",
    "\n",
    "Remove static variables\n",
    "\n",
    "Replace any function calls that are not thread-safe\n",
    "\n",
    "Replace any other code that is not thread-safe\n",
    "\"\"\"\n"
   ]
  },
  {
   "cell_type": "markdown",
   "id": "f44b4ee0",
   "metadata": {},
   "source": [
    "# Q6. Explain deadlocks and race conditions."
   ]
  },
  {
   "cell_type": "markdown",
   "id": "23252484",
   "metadata": {},
   "source": [
    "## Deadlock condition"
   ]
  },
  {
   "cell_type": "markdown",
   "id": "27564f2e",
   "metadata": {},
   "source": [
    "\"\"\"\n",
    "Every process needs some resources to complete its execution. However, the resource is granted in a sequential order.\n",
    "\n",
    "The process requests for some resource.\n",
    "OS grant the resource if it is available otherwise let the process waits.\n",
    "The process uses it and release on the completion.\n",
    "A Deadlock is a situation where each of the computer process waits for a resource which is being assigned to some another process. In this situation, none of the process gets executed since the resource it needs, is held by some other process which is also waiting for some other resource to be released.\n",
    "\"\"\""
   ]
  },
  {
   "cell_type": "markdown",
   "id": "0f3f6c6c",
   "metadata": {},
   "source": [
    "# Race Condition:"
   ]
  },
  {
   "cell_type": "markdown",
   "id": "503e3c8a",
   "metadata": {},
   "source": [
    "\"\"\"\n",
    "Race Condition\n",
    "A race condition is a situation that may occur inside a critical section. This happens when the result of multiple thread execution in critical section differs according to the order in which the threads execute.\n",
    "\n",
    "Race conditions in critical sections can be avoided if the critical section is treated as an atomic instruction. Also, proper thread synchronization using locks or atomic variables can prevent race conditions.\n",
    "\n",
    "Critical Section\n",
    "The critical section in a code segment where the shared variables can be accessed. Atomic action is required in a critical section i.e. only one process can execute in its critical section at a time. All the other processes have to wait to execute in their critical sections.\n",
    "\"\"\""
   ]
  },
  {
   "cell_type": "code",
   "execution_count": null,
   "id": "58725fb1",
   "metadata": {},
   "outputs": [],
   "source": []
  }
 ],
 "metadata": {
  "kernelspec": {
   "display_name": "Python 3 (ipykernel)",
   "language": "python",
   "name": "python3"
  },
  "language_info": {
   "codemirror_mode": {
    "name": "ipython",
    "version": 3
   },
   "file_extension": ".py",
   "mimetype": "text/x-python",
   "name": "python",
   "nbconvert_exporter": "python",
   "pygments_lexer": "ipython3",
   "version": "3.9.13"
  }
 },
 "nbformat": 4,
 "nbformat_minor": 5
}
