{
 "cells": [
  {
   "cell_type": "markdown",
   "id": "94d90ae6-9b57-41d2-9a32-1ea8c0b695f2",
   "metadata": {},
   "source": [
    "##Numbers"
   ]
  },
  {
   "cell_type": "code",
   "execution_count": 2,
   "id": "c6065764-44f9-411a-b13b-4dff62b9cc66",
   "metadata": {},
   "outputs": [
    {
     "data": {
      "text/plain": [
       "4"
      ]
     },
     "execution_count": 2,
     "metadata": {},
     "output_type": "execute_result"
    }
   ],
   "source": [
    "1+3"
   ]
  },
  {
   "cell_type": "code",
   "execution_count": 3,
   "id": "05f5715e-bf91-4119-a11a-a0ab656d6197",
   "metadata": {},
   "outputs": [
    {
     "name": "stdout",
     "output_type": "stream",
     "text": [
      "15\n"
     ]
    }
   ],
   "source": [
    "print(7+8)"
   ]
  },
  {
   "cell_type": "code",
   "execution_count": 4,
   "id": "4764ff0c-3e57-4502-8cce-757ce69cc642",
   "metadata": {},
   "outputs": [
    {
     "name": "stdout",
     "output_type": "stream",
     "text": [
      "78\n"
     ]
    }
   ],
   "source": [
    "a=78\n",
    "print(a)"
   ]
  },
  {
   "cell_type": "code",
   "execution_count": 6,
   "id": "4d053bdb-51ba-47d2-b1c3-8bae645a6ecb",
   "metadata": {
    "tags": []
   },
   "outputs": [
    {
     "name": "stdout",
     "output_type": "stream",
     "text": [
      "Hellow World\n"
     ]
    }
   ],
   "source": [
    "print(\"Hellow World\")"
   ]
  },
  {
   "cell_type": "markdown",
   "id": "65a5dbef-28f8-4d58-8b16-527fe3c9f563",
   "metadata": {},
   "source": [
    "##Variable assignment"
   ]
  },
  {
   "cell_type": "code",
   "execution_count": 9,
   "id": "50ca84f2-c30d-4df7-bf12-73f737f6dbd1",
   "metadata": {},
   "outputs": [],
   "source": [
    "name=\"Rishabh\"\n",
    "college=\"SLRTCE\""
   ]
  },
  {
   "cell_type": "code",
   "execution_count": 10,
   "id": "1b7f382b-31d3-47fb-a0c5-c924fa3c2818",
   "metadata": {},
   "outputs": [
    {
     "data": {
      "text/plain": [
       "'Rishabh'"
      ]
     },
     "execution_count": 10,
     "metadata": {},
     "output_type": "execute_result"
    }
   ],
   "source": [
    "name"
   ]
  },
  {
   "cell_type": "code",
   "execution_count": 11,
   "id": "e8659b8f-0607-465d-a65a-c1fd0372e862",
   "metadata": {},
   "outputs": [
    {
     "name": "stdout",
     "output_type": "stream",
     "text": [
      "Rishabh\n"
     ]
    }
   ],
   "source": [
    "print(name)"
   ]
  },
  {
   "cell_type": "code",
   "execution_count": 12,
   "id": "938e29dc-adca-4a32-a371-deb27a04d79e",
   "metadata": {},
   "outputs": [
    {
     "data": {
      "text/plain": [
       "'SLRTCE'"
      ]
     },
     "execution_count": 12,
     "metadata": {},
     "output_type": "execute_result"
    }
   ],
   "source": [
    "college"
   ]
  },
  {
   "cell_type": "code",
   "execution_count": 13,
   "id": "d88433ee-9e17-4f24-a836-c0b7c7ddb91a",
   "metadata": {},
   "outputs": [
    {
     "name": "stdout",
     "output_type": "stream",
     "text": [
      "SLRTCE\n"
     ]
    }
   ],
   "source": [
    "print(college)"
   ]
  },
  {
   "cell_type": "code",
   "execution_count": 14,
   "id": "cf448ae3-e7b9-4e71-8c8e-2c636733f80d",
   "metadata": {},
   "outputs": [],
   "source": [
    "name=\"bala\""
   ]
  },
  {
   "cell_type": "code",
   "execution_count": 15,
   "id": "d48c91df-85c8-451d-bc41-bcbdce301928",
   "metadata": {},
   "outputs": [
    {
     "data": {
      "text/plain": [
       "'bala'"
      ]
     },
     "execution_count": 15,
     "metadata": {},
     "output_type": "execute_result"
    }
   ],
   "source": [
    "name"
   ]
  },
  {
   "cell_type": "code",
   "execution_count": 16,
   "id": "4320df63-2a48-49d5-b85c-692bb4d6390c",
   "metadata": {},
   "outputs": [
    {
     "data": {
      "text/plain": [
       "str"
      ]
     },
     "execution_count": 16,
     "metadata": {},
     "output_type": "execute_result"
    }
   ],
   "source": [
    "type(name)"
   ]
  },
  {
   "cell_type": "code",
   "execution_count": 18,
   "id": "578ced4c-5c99-4d02-b56e-45b1f93f61e9",
   "metadata": {
    "collapsed": true,
    "jupyter": {
     "outputs_hidden": true,
     "source_hidden": true
    },
    "tags": []
   },
   "outputs": [
    {
     "data": {
      "text/plain": [
       "str"
      ]
     },
     "execution_count": 18,
     "metadata": {},
     "output_type": "execute_result"
    }
   ],
   "source": [
    "type(college)"
   ]
  },
  {
   "cell_type": "code",
   "execution_count": 19,
   "id": "d2ddd489-aafa-4ea4-8be7-039fdbba282b",
   "metadata": {},
   "outputs": [],
   "source": [
    "number=20"
   ]
  },
  {
   "cell_type": "code",
   "execution_count": 20,
   "id": "ad6faa41-4e00-4581-b637-06fb8c58f46b",
   "metadata": {
    "jupyter": {
     "source_hidden": true
    },
    "tags": []
   },
   "outputs": [
    {
     "data": {
      "text/plain": [
       "20"
      ]
     },
     "execution_count": 20,
     "metadata": {},
     "output_type": "execute_result"
    }
   ],
   "source": [
    "number"
   ]
  },
  {
   "cell_type": "code",
   "execution_count": 21,
   "id": "eaa32486-abd9-4f70-95ed-58fafff98ad2",
   "metadata": {},
   "outputs": [
    {
     "data": {
      "text/plain": [
       "int"
      ]
     },
     "execution_count": 21,
     "metadata": {},
     "output_type": "execute_result"
    }
   ],
   "source": [
    "type(number)"
   ]
  },
  {
   "cell_type": "code",
   "execution_count": 22,
   "id": "03af9fd7-d950-4aef-b67b-ec70e4fb986a",
   "metadata": {},
   "outputs": [],
   "source": [
    "decimal_num=6.9"
   ]
  },
  {
   "cell_type": "code",
   "execution_count": 23,
   "id": "f7fa76e4-4f4f-4b80-a929-04b062480cef",
   "metadata": {},
   "outputs": [
    {
     "data": {
      "text/plain": [
       "6.9"
      ]
     },
     "execution_count": 23,
     "metadata": {},
     "output_type": "execute_result"
    }
   ],
   "source": [
    "decimal_num"
   ]
  },
  {
   "cell_type": "code",
   "execution_count": 24,
   "id": "31526398-c2c6-4136-8ea0-09a5d6fbb2a5",
   "metadata": {},
   "outputs": [
    {
     "data": {
      "text/plain": [
       "float"
      ]
     },
     "execution_count": 24,
     "metadata": {},
     "output_type": "execute_result"
    }
   ],
   "source": [
    "type(decimal_num)"
   ]
  },
  {
   "cell_type": "code",
   "execution_count": 25,
   "id": "a793efae-372c-49e1-86cd-863c35439e22",
   "metadata": {},
   "outputs": [],
   "source": [
    "a=1+2j"
   ]
  },
  {
   "cell_type": "code",
   "execution_count": 26,
   "id": "8bfcc825-080d-4138-aa24-452b11b3ffe2",
   "metadata": {},
   "outputs": [
    {
     "data": {
      "text/plain": [
       "(1+2j)"
      ]
     },
     "execution_count": 26,
     "metadata": {},
     "output_type": "execute_result"
    }
   ],
   "source": [
    "a"
   ]
  },
  {
   "cell_type": "code",
   "execution_count": 27,
   "id": "328127f5-d296-483e-8832-83f2bb3b40a1",
   "metadata": {},
   "outputs": [
    {
     "data": {
      "text/plain": [
       "complex"
      ]
     },
     "execution_count": 27,
     "metadata": {},
     "output_type": "execute_result"
    }
   ],
   "source": [
    "type(a)"
   ]
  },
  {
   "cell_type": "code",
   "execution_count": 28,
   "id": "c1ce8b5e-a718-4398-acae-4329748a7404",
   "metadata": {},
   "outputs": [],
   "source": [
    "##dont start the variable name with number\n",
    "\n",
    "number1=20"
   ]
  },
  {
   "cell_type": "code",
   "execution_count": 30,
   "id": "5aedb141-6006-453f-a76e-e53bbe335b75",
   "metadata": {},
   "outputs": [
    {
     "name": "stdout",
     "output_type": "stream",
     "text": [
      "ineuron\n",
      "pw skills\n"
     ]
    }
   ],
   "source": [
    "##variables are case sensitive\n",
    "company1=\"ineuron\"\n",
    "company=\"pw skills\"\n",
    "print(company1)\n",
    "print(company)"
   ]
  },
  {
   "cell_type": "code",
   "execution_count": 32,
   "id": "455a0df7-d9c9-4016-ae71-9458a04356fb",
   "metadata": {},
   "outputs": [
    {
     "data": {
      "text/plain": [
       "True"
      ]
     },
     "execution_count": 32,
     "metadata": {},
     "output_type": "execute_result"
    }
   ],
   "source": [
    "True"
   ]
  },
  {
   "cell_type": "code",
   "execution_count": 33,
   "id": "45b042b9-d52a-414d-98b6-e86599e57860",
   "metadata": {},
   "outputs": [
    {
     "data": {
      "text/plain": [
       "False"
      ]
     },
     "execution_count": 33,
     "metadata": {},
     "output_type": "execute_result"
    }
   ],
   "source": [
    "False"
   ]
  },
  {
   "cell_type": "code",
   "execution_count": 34,
   "id": "add582fb-a1e6-4aa4-b79d-5f2e21636e76",
   "metadata": {},
   "outputs": [
    {
     "data": {
      "text/plain": [
       "bool"
      ]
     },
     "execution_count": 34,
     "metadata": {},
     "output_type": "execute_result"
    }
   ],
   "source": [
    "type(True)"
   ]
  },
  {
   "cell_type": "code",
   "execution_count": 35,
   "id": "cd25d7b5-c47f-459a-bb7e-62d65987428f",
   "metadata": {},
   "outputs": [
    {
     "data": {
      "text/plain": [
       "False"
      ]
     },
     "execution_count": 35,
     "metadata": {},
     "output_type": "execute_result"
    }
   ],
   "source": [
    "bool(0)"
   ]
  },
  {
   "cell_type": "code",
   "execution_count": 36,
   "id": "3c7062b6-ab7f-4840-96eb-e48f1b955efe",
   "metadata": {},
   "outputs": [
    {
     "data": {
      "text/plain": [
       "True"
      ]
     },
     "execution_count": 36,
     "metadata": {},
     "output_type": "execute_result"
    }
   ],
   "source": [
    "bool(1)"
   ]
  },
  {
   "cell_type": "code",
   "execution_count": 38,
   "id": "6a2ed99c-6880-44e1-804b-6c1fed2437d9",
   "metadata": {},
   "outputs": [
    {
     "name": "stdout",
     "output_type": "stream",
     "text": [
      "True\n"
     ]
    }
   ],
   "source": [
    "a=1\n",
    "if bool(a)==True:\n",
    "    print(\"True\")"
   ]
  },
  {
   "cell_type": "code",
   "execution_count": 39,
   "id": "d94eba21-4198-45b7-9e36-cd62a2bae8c8",
   "metadata": {},
   "outputs": [
    {
     "data": {
      "text/plain": [
       "23"
      ]
     },
     "execution_count": 39,
     "metadata": {},
     "output_type": "execute_result"
    }
   ],
   "source": [
    "int('23')"
   ]
  },
  {
   "cell_type": "markdown",
   "id": "e88b20c0-552c-4d82-92cc-d94cb96de22a",
   "metadata": {
    "tags": []
   },
   "source": [
    "###dynamic typing"
   ]
  },
  {
   "cell_type": "code",
   "execution_count": 40,
   "id": "999f3a17-a04e-4fcc-8cb1-d93e006adb15",
   "metadata": {},
   "outputs": [
    {
     "data": {
      "text/plain": [
       "'11'"
      ]
     },
     "execution_count": 40,
     "metadata": {},
     "output_type": "execute_result"
    }
   ],
   "source": [
    "##concatenation\n",
    "\"1\" + \"1\""
   ]
  },
  {
   "cell_type": "code",
   "execution_count": 41,
   "id": "0254bab6-2831-4953-8b78-1c2c494cb417",
   "metadata": {},
   "outputs": [
    {
     "data": {
      "text/plain": [
       "'1111111111111111111111111111111111111111111111111111111111111111111111111111111111111111111111111111'"
      ]
     },
     "execution_count": 41,
     "metadata": {},
     "output_type": "execute_result"
    }
   ],
   "source": [
    "\"1\"*100"
   ]
  },
  {
   "cell_type": "code",
   "execution_count": 42,
   "id": "798df75a-b878-43de-9c38-773d473365bb",
   "metadata": {},
   "outputs": [
    {
     "data": {
      "text/plain": [
       "2"
      ]
     },
     "execution_count": 42,
     "metadata": {},
     "output_type": "execute_result"
    }
   ],
   "source": [
    "int(\"1\")+int(\"1\")"
   ]
  },
  {
   "cell_type": "code",
   "execution_count": null,
   "id": "c3d1e088-1e72-4b1c-bde5-086a07b43430",
   "metadata": {},
   "outputs": [],
   "source": []
  }
 ],
 "metadata": {
  "kernelspec": {
   "display_name": "Python 3 (ipykernel)",
   "language": "python",
   "name": "python3"
  },
  "language_info": {
   "codemirror_mode": {
    "name": "ipython",
    "version": 3
   },
   "file_extension": ".py",
   "mimetype": "text/x-python",
   "name": "python",
   "nbconvert_exporter": "python",
   "pygments_lexer": "ipython3",
   "version": "3.10.8"
  }
 },
 "nbformat": 4,
 "nbformat_minor": 5
}
