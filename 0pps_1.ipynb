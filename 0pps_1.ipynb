{
 "cells": [
  {
   "cell_type": "markdown",
   "id": "e2294ed8-34eb-4db2-a50c-90106b0db756",
   "metadata": {},
   "source": [
    "## oops stands for - object oriented programming:"
   ]
  },
  {
   "cell_type": "code",
   "execution_count": 1,
   "id": "16efe758-dba3-4b71-8129-55a6373d7f6b",
   "metadata": {},
   "outputs": [],
   "source": [
    "a=1"
   ]
  },
  {
   "cell_type": "code",
   "execution_count": 2,
   "id": "c9358e14-6a14-4980-a775-7c19721f01a1",
   "metadata": {},
   "outputs": [
    {
     "data": {
      "text/plain": [
       "1"
      ]
     },
     "execution_count": 2,
     "metadata": {},
     "output_type": "execute_result"
    }
   ],
   "source": [
    "a"
   ]
  },
  {
   "cell_type": "code",
   "execution_count": 7,
   "id": "7971a5bd-976c-42da-9822-eabee9435896",
   "metadata": {},
   "outputs": [
    {
     "name": "stdout",
     "output_type": "stream",
     "text": [
      "<class 'int'>\n"
     ]
    }
   ],
   "source": [
    " print(type(a)) ##class"
   ]
  },
  {
   "cell_type": "code",
   "execution_count": 10,
   "id": "3562a3a8-e0b9-4cb4-b794-27ed1f39e9f5",
   "metadata": {},
   "outputs": [
    {
     "name": "stdout",
     "output_type": "stream",
     "text": [
      "<class 'str'>\n"
     ]
    }
   ],
   "source": [
    "print(type(\"Rishabh\"))"
   ]
  },
  {
   "cell_type": "code",
   "execution_count": 11,
   "id": "5f8cd516-f529-46cb-b4d9-c2294ef82565",
   "metadata": {},
   "outputs": [],
   "source": [
    "## to make a development process easy by forming it in a structured way:"
   ]
  },
  {
   "cell_type": "markdown",
   "id": "296819d8-c22c-450e-8f7d-597d0c2051d4",
   "metadata": {},
   "source": [
    "## creating a class in python:"
   ]
  },
  {
   "cell_type": "code",
   "execution_count": 11,
   "id": "73da13cd-b227-4b51-ab1c-1f329b8be503",
   "metadata": {},
   "outputs": [],
   "source": [
    "class krish:\n",
    "    pass"
   ]
  },
  {
   "cell_type": "code",
   "execution_count": 4,
   "id": "ac762968-8c59-4004-aa89-dfd40d9eaee5",
   "metadata": {},
   "outputs": [],
   "source": [
    "a=krish()"
   ]
  },
  {
   "cell_type": "code",
   "execution_count": 5,
   "id": "fe4d6e52-130a-4466-b3bc-e0d6f48f1a32",
   "metadata": {},
   "outputs": [
    {
     "data": {
      "text/plain": [
       "__main__.krish"
      ]
     },
     "execution_count": 5,
     "metadata": {},
     "output_type": "execute_result"
    }
   ],
   "source": [
    "type(a) ## a called as object/instance or variable of a class integer"
   ]
  },
  {
   "cell_type": "code",
   "execution_count": 12,
   "id": "b4cb8719-a762-4aef-b103-ef4d043bac28",
   "metadata": {},
   "outputs": [],
   "source": [
    "class pwskills():\n",
    "    def welcome(self):\n",
    "        print(\"welcome to Pw_skills\")"
   ]
  },
  {
   "cell_type": "code",
   "execution_count": 13,
   "id": "3546fef8-5af2-4ed2-a3cc-2593ceb40129",
   "metadata": {},
   "outputs": [],
   "source": [
    "rishabh= pwskills()"
   ]
  },
  {
   "cell_type": "code",
   "execution_count": 6,
   "id": "121b5d8b-7b82-4b35-a8fe-bf65ba2fee30",
   "metadata": {},
   "outputs": [
    {
     "name": "stdout",
     "output_type": "stream",
     "text": [
      "welcome to Pw_skills\n"
     ]
    }
   ],
   "source": [
    "rishabh.welcome()"
   ]
  },
  {
   "cell_type": "code",
   "execution_count": 7,
   "id": "8035ee57-f6bf-44b5-b946-36b843abd205",
   "metadata": {},
   "outputs": [],
   "source": [
    "singh=pwskills()\n",
    "    "
   ]
  },
  {
   "cell_type": "code",
   "execution_count": 14,
   "id": "115efcf9-654b-4b7f-910d-a004fec67ea1",
   "metadata": {},
   "outputs": [
    {
     "name": "stdout",
     "output_type": "stream",
     "text": [
      "welcome to Pw_skills\n"
     ]
    }
   ],
   "source": [
    "singh.welcome()"
   ]
  },
  {
   "cell_type": "code",
   "execution_count": 19,
   "id": "2ddb8580-e4e6-43ac-a7dc-846d34653229",
   "metadata": {},
   "outputs": [],
   "source": [
    "## constructor helps class to take the data:\n",
    "class pwskills1:\n",
    "    \n",
    "    def __init__(self, phone_number,email_id,student_id):\n",
    "        \n",
    "        self.phone_number= phone_number\n",
    "        self.email_id= email_id\n",
    "        self.student_id= student_id\n",
    "        \n",
    "    def s_details(self):\n",
    "        return self.phone_number,self.email_id,self.student_id\n",
    "        "
   ]
  },
  {
   "cell_type": "code",
   "execution_count": 22,
   "id": "d75d9758-c146-4960-9f34-d3174b7ae9f4",
   "metadata": {},
   "outputs": [],
   "source": [
    "rishabh=pwskills1(8052531390,\"rishabhthakur2322@gmail.com\",45)"
   ]
  },
  {
   "cell_type": "code",
   "execution_count": 23,
   "id": "2e90b900-dd17-4822-881a-9da1264672f7",
   "metadata": {},
   "outputs": [
    {
     "data": {
      "text/plain": [
       "8052531390"
      ]
     },
     "execution_count": 23,
     "metadata": {},
     "output_type": "execute_result"
    }
   ],
   "source": [
    "rishabh.phone_number"
   ]
  },
  {
   "cell_type": "code",
   "execution_count": 24,
   "id": "342d083b-e85b-41b6-b1a5-343eb6c8edb8",
   "metadata": {},
   "outputs": [
    {
     "data": {
      "text/plain": [
       "'rishabhthakur2322@gmail.com'"
      ]
     },
     "execution_count": 24,
     "metadata": {},
     "output_type": "execute_result"
    }
   ],
   "source": [
    "rishabh.email_id"
   ]
  },
  {
   "cell_type": "code",
   "execution_count": 25,
   "id": "ffb4e473-9e6c-4323-9cc0-d62d5f7e3fec",
   "metadata": {},
   "outputs": [
    {
     "data": {
      "text/plain": [
       "45"
      ]
     },
     "execution_count": 25,
     "metadata": {},
     "output_type": "execute_result"
    }
   ],
   "source": [
    "rishabh.student_id"
   ]
  },
  {
   "cell_type": "code",
   "execution_count": 27,
   "id": "2dfb71a1-6f01-4417-9521-a893ed6c7724",
   "metadata": {},
   "outputs": [
    {
     "data": {
      "text/plain": [
       "(8052531390, 'rishabhthakur2322@gmail.com', 45)"
      ]
     },
     "execution_count": 27,
     "metadata": {},
     "output_type": "execute_result"
    }
   ],
   "source": [
    "rishabh.s_details()"
   ]
  },
  {
   "cell_type": "code",
   "execution_count": 49,
   "id": "740ef507-2343-4dea-97a3-220cd95c1f34",
   "metadata": {},
   "outputs": [],
   "source": [
    "## constructor helps class to take the data:\n",
    "class pwskills1:\n",
    "    \n",
    "    def __init__(self, phone_number,email_id,student_id,dog):\n",
    "        \n",
    "        self.phone_number= phone_number\n",
    "        self.email_id= email_id\n",
    "        self.student_id= student_id\n",
    "        self.she_loves=dog\n",
    "        \n",
    "    def s_details(self):\n",
    "        return self.phone_number,self.email_id,self.student_id,self.she_loves\n",
    "        "
   ]
  },
  {
   "cell_type": "code",
   "execution_count": 50,
   "id": "4c87b2b1-4a54-42f1-8c51-3a885d73c741",
   "metadata": {},
   "outputs": [],
   "source": [
    "anya=pwskills1(6393970872,\"anyasingh@2211\",903,\"bailey\")"
   ]
  },
  {
   "cell_type": "code",
   "execution_count": 30,
   "id": "e648d6af-a4aa-47aa-8791-7ba5b2338ae8",
   "metadata": {},
   "outputs": [
    {
     "data": {
      "text/plain": [
       "6393970872"
      ]
     },
     "execution_count": 30,
     "metadata": {},
     "output_type": "execute_result"
    }
   ],
   "source": [
    "anya.phone_number"
   ]
  },
  {
   "cell_type": "code",
   "execution_count": 31,
   "id": "b763dbbe-69a8-4d45-a67e-634b0a877696",
   "metadata": {},
   "outputs": [
    {
     "data": {
      "text/plain": [
       "'anyasingh@2211'"
      ]
     },
     "execution_count": 31,
     "metadata": {},
     "output_type": "execute_result"
    }
   ],
   "source": [
    "anya.email_id"
   ]
  },
  {
   "cell_type": "code",
   "execution_count": 32,
   "id": "771da368-74dd-4391-82f0-ba425e622abf",
   "metadata": {},
   "outputs": [
    {
     "data": {
      "text/plain": [
       "903"
      ]
     },
     "execution_count": 32,
     "metadata": {},
     "output_type": "execute_result"
    }
   ],
   "source": [
    "anya.student_id\n"
   ]
  },
  {
   "cell_type": "code",
   "execution_count": 52,
   "id": "22508626-0ae1-4974-ac21-8b58f229095f",
   "metadata": {},
   "outputs": [
    {
     "data": {
      "text/plain": [
       "'bailey'"
      ]
     },
     "execution_count": 52,
     "metadata": {},
     "output_type": "execute_result"
    }
   ],
   "source": [
    "anya.she_loves"
   ]
  },
  {
   "cell_type": "code",
   "execution_count": 53,
   "id": "1e69e4e7-fe85-421e-88a3-b97af9420788",
   "metadata": {},
   "outputs": [
    {
     "data": {
      "text/plain": [
       "(6393970872, 'anyasingh@2211', 903, 'bailey')"
      ]
     },
     "execution_count": 53,
     "metadata": {},
     "output_type": "execute_result"
    }
   ],
   "source": [
    "anya.s_details()"
   ]
  },
  {
   "cell_type": "code",
   "execution_count": 54,
   "id": "4be557ec-f27a-4501-9490-82e30eea7836",
   "metadata": {},
   "outputs": [],
   "source": [
    "## constructor helps class to take the data:\n",
    "class _anya_:\n",
    "    \n",
    "    def __init__(anya, phone_number,email_id,student_id,dog):\n",
    "        \n",
    "        anya.phone_number= phone_number\n",
    "        anya.email_id= email_id\n",
    "        anya.student_id= student_id\n",
    "        anya.she_loves=dog\n",
    "        \n",
    "    def s_details(anya):\n",
    "        return anya.phone_number,anya.email_id,anya.student_id,anya.she_loves\n",
    "        "
   ]
  },
  {
   "cell_type": "code",
   "execution_count": 57,
   "id": "46dc1834-7a5d-476b-bab7-fd29fa4cb878",
   "metadata": {},
   "outputs": [],
   "source": [
    "Anya_Singh=_anya_(6393970872,\"anyasingh@2211\",903,\"bailey\")"
   ]
  },
  {
   "cell_type": "code",
   "execution_count": 58,
   "id": "78d486b3-1167-4ab0-b84b-040d315887c9",
   "metadata": {},
   "outputs": [
    {
     "data": {
      "text/plain": [
       "6393970872"
      ]
     },
     "execution_count": 58,
     "metadata": {},
     "output_type": "execute_result"
    }
   ],
   "source": [
    "Anya_Singh.phone_number"
   ]
  },
  {
   "cell_type": "code",
   "execution_count": 59,
   "id": "05557e72-b7cc-4f83-b6a2-871ed8fabf84",
   "metadata": {},
   "outputs": [
    {
     "data": {
      "text/plain": [
       "'anyasingh@2211'"
      ]
     },
     "execution_count": 59,
     "metadata": {},
     "output_type": "execute_result"
    }
   ],
   "source": [
    "Anya_Singh.email_id"
   ]
  },
  {
   "cell_type": "code",
   "execution_count": 60,
   "id": "54efa238-d03d-4110-89f3-a2a9230707bb",
   "metadata": {},
   "outputs": [
    {
     "data": {
      "text/plain": [
       "903"
      ]
     },
     "execution_count": 60,
     "metadata": {},
     "output_type": "execute_result"
    }
   ],
   "source": [
    "Anya_Singh.student_id"
   ]
  },
  {
   "cell_type": "code",
   "execution_count": 61,
   "id": "6b66c198-4b49-4b4c-94f1-d5774f2bd16b",
   "metadata": {},
   "outputs": [
    {
     "data": {
      "text/plain": [
       "'bailey'"
      ]
     },
     "execution_count": 61,
     "metadata": {},
     "output_type": "execute_result"
    }
   ],
   "source": [
    "Anya_Singh.she_loves"
   ]
  },
  {
   "cell_type": "code",
   "execution_count": 62,
   "id": "7b1e10e2-74c2-4ff7-8e35-0a06554a4ea4",
   "metadata": {},
   "outputs": [
    {
     "data": {
      "text/plain": [
       "(6393970872, 'anyasingh@2211', 903, 'bailey')"
      ]
     },
     "execution_count": 62,
     "metadata": {},
     "output_type": "execute_result"
    }
   ],
   "source": [
    "Anya_Singh.s_details()"
   ]
  },
  {
   "cell_type": "code",
   "execution_count": null,
   "id": "158bca57-af29-4642-adfc-769b61556745",
   "metadata": {},
   "outputs": [],
   "source": []
  }
 ],
 "metadata": {
  "kernelspec": {
   "display_name": "Python 3 (ipykernel)",
   "language": "python",
   "name": "python3"
  },
  "language_info": {
   "codemirror_mode": {
    "name": "ipython",
    "version": 3
   },
   "file_extension": ".py",
   "mimetype": "text/x-python",
   "name": "python",
   "nbconvert_exporter": "python",
   "pygments_lexer": "ipython3",
   "version": "3.10.8"
  }
 },
 "nbformat": 4,
 "nbformat_minor": 5
}
