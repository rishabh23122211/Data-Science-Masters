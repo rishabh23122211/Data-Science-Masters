{
 "cells": [
  {
   "cell_type": "markdown",
   "id": "24eafe88-bab3-4421-aa27-27fef6eef0a8",
   "metadata": {},
   "source": [
    "## Q1. Explain Class and Object with respect to Object-Oriented Programming. Give a suitable example."
   ]
  },
  {
   "cell_type": "markdown",
   "id": "720434f5-c524-4a8a-925d-d6b4dc4259ce",
   "metadata": {},
   "source": [
    "###  An object is simply a collection of data (variables) and methods (functions). Similarly, a class is a blueprint for that object."
   ]
  },
  {
   "cell_type": "markdown",
   "id": "6133d402-f91b-4ec0-b38f-94ec760dfffd",
   "metadata": {},
   "source": [
    "## Python classes:"
   ]
  },
  {
   "cell_type": "markdown",
   "id": "288ed521-36ed-4008-83cf-5f7ad946a1f0",
   "metadata": {},
   "source": [
    "### A class is considered as a blueprint of objects. We can think of the class as a sketch (prototype) of a house. It contains all the details about the floors, doors, windows, etc. Based on these descriptions we build the house. House is the object. Since many houses can be made from the same description, we can create many objects from a class."
   ]
  },
  {
   "cell_type": "markdown",
   "id": "11afa5f8-8322-4ee8-957f-7155081e5639",
   "metadata": {},
   "source": [
    "## Python objects:"
   ]
  },
  {
   "cell_type": "markdown",
   "id": "4b9c640f-388f-4909-9c86-ed129aa2f83c",
   "metadata": {},
   "source": [
    "### An object is called an instance of a class. For example, suppose Bike is a class then we can create objects like bike1, bike2, etc from the class.\n",
    "### We use the . notation to access the attributes of a class."
   ]
  },
  {
   "cell_type": "code",
   "execution_count": 3,
   "id": "232dd418-a5f9-4029-ae5f-07058b9b1d2e",
   "metadata": {},
   "outputs": [],
   "source": [
    "## constructor helps class to take the data:\n",
    "class _anya_:  ## creating a class\n",
    "    \n",
    "    def __init__(anya, phone_number,email_id,student_id,dog): ##constructor to take data\n",
    "        \n",
    "        anya.phone_number= phone_number\n",
    "        anya.email_id= email_id                   ##(attributes)\n",
    "        anya.student_id= student_id\n",
    "        anya.she_loves=dog\n",
    "        \n",
    "    def s_details(anya):\n",
    "        return anya.phone_number,anya.email_id,anya.student_id,anya.she_loves ##function\n",
    "        "
   ]
  },
  {
   "cell_type": "code",
   "execution_count": 4,
   "id": "757c1058-a8ff-461f-b0d5-f26cf16ee865",
   "metadata": {},
   "outputs": [],
   "source": [
    "Anya_Singh=_anya_(6393970872,\"anyasingh@2211\",903,\"bailey\")"
   ]
  },
  {
   "cell_type": "code",
   "execution_count": 6,
   "id": "4b3d9b06-9346-430c-8bb5-7a77db3a893a",
   "metadata": {},
   "outputs": [
    {
     "data": {
      "text/plain": [
       "'bailey'"
      ]
     },
     "execution_count": 6,
     "metadata": {},
     "output_type": "execute_result"
    }
   ],
   "source": [
    "Anya_Singh.she_loves"
   ]
  },
  {
   "cell_type": "code",
   "execution_count": 7,
   "id": "ac49cce8-55d6-4960-b117-98b6f0207c07",
   "metadata": {},
   "outputs": [
    {
     "data": {
      "text/plain": [
       "6393970872"
      ]
     },
     "execution_count": 7,
     "metadata": {},
     "output_type": "execute_result"
    }
   ],
   "source": [
    "Anya_Singh.phone_number\n"
   ]
  },
  {
   "cell_type": "code",
   "execution_count": 8,
   "id": "c603c4ec-8a64-4007-9959-7792eb8ccb2a",
   "metadata": {},
   "outputs": [
    {
     "data": {
      "text/plain": [
       "'anyasingh@2211'"
      ]
     },
     "execution_count": 8,
     "metadata": {},
     "output_type": "execute_result"
    }
   ],
   "source": [
    "Anya_Singh.email_id"
   ]
  },
  {
   "cell_type": "code",
   "execution_count": 9,
   "id": "4ec57eaf-e6ac-47be-9b4c-0444a551dc9a",
   "metadata": {},
   "outputs": [
    {
     "data": {
      "text/plain": [
       "(6393970872, 'anyasingh@2211', 903, 'bailey')"
      ]
     },
     "execution_count": 9,
     "metadata": {},
     "output_type": "execute_result"
    }
   ],
   "source": [
    "Anya_Singh.s_details()"
   ]
  },
  {
   "cell_type": "markdown",
   "id": "42f26dc2-d9ee-4b6c-9a9e-9500053c5c7e",
   "metadata": {},
   "source": [
    "## Q2.Name the four pillars of OOPs."
   ]
  },
  {
   "cell_type": "markdown",
   "id": "e02b502e-ddc4-4903-9a55-ac779d5a1588",
   "metadata": {},
   "source": [
    "### These four pillars are eInheritance, Polymorphism, Encapsulation and Abstraction."
   ]
  },
  {
   "cell_type": "markdown",
   "id": "b6608b10-5bcb-4f74-b4a4-04230cc2ef69",
   "metadata": {},
   "source": [
    "## Q3. Explain why the __init__() function is used. Give a suitable example."
   ]
  },
  {
   "cell_type": "markdown",
   "id": "1f34295e-b973-4ffd-ae11-370d692e1368",
   "metadata": {},
   "source": [
    "### All classes have a function called __init__(), which is always executed when the class is being initiated. Use the __init__() function to assign values to object properties, or other operations that are necessary to do when the object is being created:"
   ]
  },
  {
   "cell_type": "code",
   "execution_count": 11,
   "id": "0a05d479-6c60-4e5f-9663-69b29637713c",
   "metadata": {},
   "outputs": [
    {
     "name": "stdout",
     "output_type": "stream",
     "text": [
      "John\n",
      "36\n"
     ]
    }
   ],
   "source": [
    "## For example\n",
    "\n",
    "#Create a class named Person, use the __init__() function to assign values for name and age:\n",
    "\n",
    "class Person:\n",
    "    def __init__(self, name, age):\n",
    "        self.name = name\n",
    "        self.age = age\n",
    "\n",
    "p1 = Person(\"John\", 36)\n",
    "\n",
    "print(p1.name)\n",
    "print(p1.age)"
   ]
  },
  {
   "cell_type": "markdown",
   "id": "9e3ad39b-e787-4185-8ead-ace0dd0b7d62",
   "metadata": {},
   "source": [
    "## Q4.Why self is used in OOPs?"
   ]
  },
  {
   "cell_type": "markdown",
   "id": "29c88bff-6e2d-423b-b6d8-795dd4d641d5",
   "metadata": {},
   "source": [
    "### The self variable is used to represent the instance of the class which is often used in object-oriented programming. It works as a reference to the object. Python uses the self parameter to refer to instance attributes and methods of the class."
   ]
  },
  {
   "cell_type": "markdown",
   "id": "f3a5c14b-c06d-4672-b0e7-152e1c88c142",
   "metadata": {},
   "source": [
    "## Q5. What is inheritance? Give an example for each type of inheritance."
   ]
  },
  {
   "cell_type": "markdown",
   "id": "b2adea02-af78-4563-a859-c5a91b2802b6",
   "metadata": {},
   "source": [
    "### Inheritance is a mechanism of acquiring the features and behaviors of a class by another class. The class whose members are inherited is called the base class, and the class that inherits those members is called the derived class. Inheritance implements the IS-A relationship."
   ]
  },
  {
   "cell_type": "markdown",
   "id": "56867c30-e9d6-4696-9a94-b260159f4c4a",
   "metadata": {},
   "source": [
    "### --For example, mammal IS-A animal, dog IS-A mammal; Hence dog IS-A animal as well.\n",
    "\n"
   ]
  },
  {
   "cell_type": "markdown",
   "id": "d06ef1c2-1c94-4289-9de0-abfd9970ee66",
   "metadata": {},
   "source": [
    "### Inheritance is one of the core aspects of the fundamental called Object-Oriented Programming (OOPs) and if we need to describe then inheritance is that it provides the way of achieving code re-usability were writing the same code the multiple times, again and again, rather we can use inherit a version of the given properties of one class into the other by extending it."
   ]
  },
  {
   "cell_type": "markdown",
   "id": "25b32b9b-86a4-4c14-ab7d-50d7a4f84fd1",
   "metadata": {},
   "source": [
    "## Different Types of Inheritance"
   ]
  },
  {
   "cell_type": "code",
   "execution_count": null,
   "id": "aa90ad42-2533-4f6d-af05-d4f45c7a6f79",
   "metadata": {},
   "outputs": [],
   "source": []
  }
 ],
 "metadata": {
  "kernelspec": {
   "display_name": "Python 3 (ipykernel)",
   "language": "python",
   "name": "python3"
  },
  "language_info": {
   "codemirror_mode": {
    "name": "ipython",
    "version": 3
   },
   "file_extension": ".py",
   "mimetype": "text/x-python",
   "name": "python",
   "nbconvert_exporter": "python",
   "pygments_lexer": "ipython3",
   "version": "3.10.8"
  }
 },
 "nbformat": 4,
 "nbformat_minor": 5
}
