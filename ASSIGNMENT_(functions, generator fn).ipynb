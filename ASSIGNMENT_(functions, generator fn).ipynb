{
 "cells": [
  {
   "cell_type": "markdown",
   "id": "28bd6d30-0680-4e7f-86eb-cad75aef1afb",
   "metadata": {},
   "source": [
    "# fUNCTIONS assignment"
   ]
  },
  {
   "cell_type": "markdown",
   "id": "21890d80-8b52-464a-93d2-274e4087191b",
   "metadata": {},
   "source": [
    "## Q1. Which keyword is used to create a function? Create a function to return a list of odd numbers in the range of 1 to 25."
   ]
  },
  {
   "cell_type": "markdown",
   "id": "f48962b1-6be9-44f4-be36-bb24e1576869",
   "metadata": {},
   "source": [
    "### --The def keyword is used to create, (or define) a function in python"
   ]
  },
  {
   "cell_type": "code",
   "execution_count": 3,
   "id": "1627bdab-ef4b-44de-8b5d-8632dbe15ff6",
   "metadata": {},
   "outputs": [
    {
     "data": {
      "text/plain": [
       "range(1, 25)"
      ]
     },
     "execution_count": 3,
     "metadata": {},
     "output_type": "execute_result"
    }
   ],
   "source": [
    "range(1,25)"
   ]
  },
  {
   "cell_type": "code",
   "execution_count": 42,
   "id": "e81fe2d2-fb4a-471e-86ac-ed1948590677",
   "metadata": {},
   "outputs": [
    {
     "name": "stdout",
     "output_type": "stream",
     "text": [
      "1 2 3 4 5 6 7 8 9 10 11 12 13 14 15 16 17 18 19 20 21 22 23 24 "
     ]
    }
   ],
   "source": [
    "for i in range(1,25):\n",
    "    print(i,end=\" \")"
   ]
  },
  {
   "cell_type": "code",
   "execution_count": 77,
   "id": "7fcd655d-fc87-4806-a40e-0f77f4ae5828",
   "metadata": {},
   "outputs": [],
   "source": [
    "list1=[*range(1,25)]"
   ]
  },
  {
   "cell_type": "code",
   "execution_count": 25,
   "id": "540f3099-2316-4fe3-b17a-cf686200bc92",
   "metadata": {},
   "outputs": [
    {
     "name": "stdout",
     "output_type": "stream",
     "text": [
      "[1, 2, 3, 4, 5, 6, 7, 8, 9, 10, 11, 12, 13, 14, 15, 16, 17, 18, 19, 20, 21, 22, 23, 24]\n"
     ]
    }
   ],
   "source": [
    "print(list1)"
   ]
  },
  {
   "cell_type": "code",
   "execution_count": 79,
   "id": "bb568109-1336-4588-a8f1-2c1db001768f",
   "metadata": {},
   "outputs": [
    {
     "name": "stdout",
     "output_type": "stream",
     "text": [
      "[1, 2, 3, 4, 5, 6, 7, 8, 9, 10, 11, 12, 13, 14, 15, 16, 17, 18, 19, 20, 21, 22, 23, 24]"
     ]
    }
   ],
   "source": [
    "print(list1,end=\"\")"
   ]
  },
  {
   "cell_type": "code",
   "execution_count": null,
   "id": "eec9f81e-9b30-4282-aaf0-0f07ff0ce2b1",
   "metadata": {},
   "outputs": [],
   "source": []
  },
  {
   "cell_type": "code",
   "execution_count": 81,
   "id": "31cac316-fd4b-4b39-80ce-838229a0c478",
   "metadata": {},
   "outputs": [],
   "source": [
    "def krish(agrs):\n",
    "    n=[]\n",
    "    for i in agrs:\n",
    "        if i%2!=0:\n",
    "            n.append(i)\n",
    "    return n"
   ]
  },
  {
   "cell_type": "code",
   "execution_count": 82,
   "id": "900aa0e9-6b60-473d-a572-905e59f6b436",
   "metadata": {},
   "outputs": [
    {
     "data": {
      "text/plain": [
       "[1, 3, 5, 7, 9, 11, 13, 15, 17, 19, 21, 23]"
      ]
     },
     "execution_count": 82,
     "metadata": {},
     "output_type": "execute_result"
    }
   ],
   "source": [
    "krish(list1)\n"
   ]
  },
  {
   "cell_type": "markdown",
   "id": "1f89a925-11f4-41fd-82e8-9ac67a8cd000",
   "metadata": {},
   "source": [
    "## Q2. Why *args and **kwargs is used in some functions? Create a function each for *args and **kwargs to demonstrate their use."
   ]
  },
  {
   "cell_type": "markdown",
   "id": "abf67c9a-1fc2-41f4-8450-32e4b7ce0bc9",
   "metadata": {},
   "source": [
    "### -We use *args and **kwargs as an argument when we are unsure about the number of arguments to pass in the functions."
   ]
  },
  {
   "cell_type": "code",
   "execution_count": 50,
   "id": "35ca329f-7195-47bb-b502-67189e7bcadb",
   "metadata": {},
   "outputs": [],
   "source": [
    "def rishabh(*args):\n",
    "    return args"
   ]
  },
  {
   "cell_type": "code",
   "execution_count": 52,
   "id": "afc490e6-849d-4ac1-b0b8-6b884020cc33",
   "metadata": {},
   "outputs": [
    {
     "data": {
      "text/plain": [
       "('SIngh', 1, 2, 3, 4, [4, 5, 6], 78.98, (1, 2, 3), {1, 2, 36})"
      ]
     },
     "execution_count": 52,
     "metadata": {},
     "output_type": "execute_result"
    }
   ],
   "source": [
    "rishabh(\"SIngh\",1,2,3,4,[4,5,6],78.98,(1,2,3),{1,2,36}) ##and so on"
   ]
  },
  {
   "cell_type": "code",
   "execution_count": 53,
   "id": "f8d37ce4-fd33-4748-8505-e0627b76217f",
   "metadata": {},
   "outputs": [],
   "source": [
    "def singh(**kwargs):\n",
    "    return kwargs"
   ]
  },
  {
   "cell_type": "code",
   "execution_count": 57,
   "id": "a622dfb5-9bca-423c-922e-781253d9843a",
   "metadata": {},
   "outputs": [
    {
     "data": {
      "text/plain": [
       "{'name': 'Rishabh', 'age': 20}"
      ]
     },
     "execution_count": 57,
     "metadata": {},
     "output_type": "execute_result"
    }
   ],
   "source": [
    "singh(name=\"Rishabh\",age=20)"
   ]
  },
  {
   "cell_type": "markdown",
   "id": "1a4aeb1d-2930-4c2a-9033-e1551133a0f7",
   "metadata": {},
   "source": [
    "## Q3. What is an iterator in python? Name the method used to initialise the iterator object and the method used for iteration. Use these methods to print the first five elements of the given list"
   ]
  },
  {
   "cell_type": "markdown",
   "id": "66b9fe9b-a1f5-4a68-84f9-1ddce46e551c",
   "metadata": {},
   "source": [
    "### Iterators are methods that iterate collections like lists, tuples, etc. Using an iterator method, we can loop through an object and return its elements.Technically, a Python iterator object must implement two special methods, __iter__() and __next__(), collectively called the iterator protocol.\n",
    "\n"
   ]
  },
  {
   "cell_type": "markdown",
   "id": "17a4f373-2efd-4190-acd1-4db2d8154c14",
   "metadata": {},
   "source": [
    "## iter() and next() are the two methods use to initialise iteratirs and for iteration"
   ]
  },
  {
   "cell_type": "code",
   "execution_count": 5,
   "id": "33af6f88-1204-452c-b0a0-328e3f205aaa",
   "metadata": {},
   "outputs": [],
   "source": [
    "lst_1= [2, 4, 6, 8, 10, 12, 14, 16,18, 20]"
   ]
  },
  {
   "cell_type": "code",
   "execution_count": 6,
   "id": "4ae95333-1e49-4507-8bcd-755ae3b9eb86",
   "metadata": {},
   "outputs": [
    {
     "data": {
      "text/plain": [
       "[2, 4, 6, 8, 10, 12, 14, 16, 18, 20]"
      ]
     },
     "execution_count": 6,
     "metadata": {},
     "output_type": "execute_result"
    }
   ],
   "source": [
    "lst_1"
   ]
  },
  {
   "cell_type": "code",
   "execution_count": 7,
   "id": "03e64110-d462-4509-a59f-f2e23b5a743a",
   "metadata": {},
   "outputs": [],
   "source": [
    "def krish(a):\n",
    "    n=[]\n",
    "    for i in a:\n",
    "        if i<=10:\n",
    "            n.append(i)\n",
    "    return n"
   ]
  },
  {
   "cell_type": "code",
   "execution_count": 8,
   "id": "40a057e4-cb5f-4b44-a6c5-656d89d616ae",
   "metadata": {},
   "outputs": [
    {
     "data": {
      "text/plain": [
       "[2, 4, 6, 8, 10]"
      ]
     },
     "execution_count": 8,
     "metadata": {},
     "output_type": "execute_result"
    }
   ],
   "source": [
    "krish(lst_1)"
   ]
  },
  {
   "cell_type": "code",
   "execution_count": 9,
   "id": "189ab62f-436f-46a6-8811-b02a1dbd1c61",
   "metadata": {},
   "outputs": [
    {
     "data": {
      "text/plain": [
       "[2, 4, 6, 8, 10, 12, 14, 16, 18, 20]"
      ]
     },
     "execution_count": 9,
     "metadata": {},
     "output_type": "execute_result"
    }
   ],
   "source": [
    "lst_1"
   ]
  },
  {
   "cell_type": "code",
   "execution_count": 146,
   "id": "80f88ce1-5488-4fe6-ad83-a942ccc1fa8f",
   "metadata": {},
   "outputs": [
    {
     "data": {
      "text/plain": [
       "[2, 4, 6, 8, 10, 12, 14, 16, 18, 20]"
      ]
     },
     "execution_count": 146,
     "metadata": {},
     "output_type": "execute_result"
    }
   ],
   "source": [
    "lst_1"
   ]
  },
  {
   "cell_type": "code",
   "execution_count": 10,
   "id": "3ab67293-6e47-4048-ad20-8fc256b265ca",
   "metadata": {},
   "outputs": [
    {
     "name": "stdout",
     "output_type": "stream",
     "text": [
      "2 4 6 8 10 12 14 16 18 20 "
     ]
    }
   ],
   "source": [
    "iterator=iter(lst_1)\n",
    "for i in iterator:\n",
    "    print(i,end=\" \")"
   ]
  },
  {
   "cell_type": "code",
   "execution_count": 17,
   "id": "052b348c-b3d7-4bad-9d73-8b77176b6b51",
   "metadata": {},
   "outputs": [
    {
     "name": "stdout",
     "output_type": "stream",
     "text": [
      "2 4 6 8 10 "
     ]
    }
   ],
   "source": [
    "iterator=(iter(lst_1))\n",
    "for i in iterator:\n",
    "    if i<=10:\n",
    "        print(i,end=\" \")"
   ]
  },
  {
   "cell_type": "code",
   "execution_count": 15,
   "id": "0de78fee-54e6-40a3-a032-88ac8dca6ee2",
   "metadata": {},
   "outputs": [
    {
     "data": {
      "text/plain": [
       "[2, 4, 6, 8, 10, 12, 14, 16, 18, 20]"
      ]
     },
     "execution_count": 15,
     "metadata": {},
     "output_type": "execute_result"
    }
   ],
   "source": [
    "lst_1"
   ]
  },
  {
   "cell_type": "code",
   "execution_count": 19,
   "id": "099a22d2-3146-41e9-8343-6c2e7606a139",
   "metadata": {},
   "outputs": [
    {
     "name": "stdout",
     "output_type": "stream",
     "text": [
      "2 4 6 8 10 "
     ]
    }
   ],
   "source": [
    "iterator=iter(lst_1)\n",
    "print(next(iterator),end=\" \")## prints 2\n",
    "print(next(iterator),end=\" \")##prints 4\n",
    "print(next(iterator),end=\" \")##prints 6\n",
    "print(next(iterator),end=\" \")##prints 8\n",
    "print(next(iterator),end=\" \")##prints 10\n"
   ]
  },
  {
   "cell_type": "markdown",
   "id": "7a79c8e1-f512-46d6-aa66-eb1d83014019",
   "metadata": {},
   "source": [
    "## Q4. What is a generator function in python? Why yield keyword is used? Give an example of a generator function."
   ]
  },
  {
   "cell_type": "markdown",
   "id": "df212793-3d0b-4b2c-b132-15d60fb64af1",
   "metadata": {},
   "source": [
    "### - In Python, a generator is a function that returns an iterator that produces a sequence of values when iterated over. -Generators are useful when we want to produce a large sequence of values, but we don't want to store all of them in memory at once."
   ]
  },
  {
   "cell_type": "markdown",
   "id": "cdbd6ddc-0d00-49a1-a0ea-7a07036a50de",
   "metadata": {},
   "source": [
    "### Using yield keyword is highly memory efficient, since the execution happens only when the caller iterates over the object. As the variables states are saved, we can pause and resume from the same point, thus saving time."
   ]
  },
  {
   "cell_type": "code",
   "execution_count": 21,
   "id": "adae257e-7e13-4b88-8c75-f33ba23ad035",
   "metadata": {},
   "outputs": [],
   "source": [
    "##example of a generator function(fabonacci)\n",
    "\n",
    "def generator_fn(n):\n",
    "    a,b=0,1\n",
    "    for i in range(n):\n",
    "        yield a    \n",
    "        a,b=b,a+b"
   ]
  },
  {
   "cell_type": "code",
   "execution_count": 22,
   "id": "760019bf-5079-4027-8292-8c043cf098b1",
   "metadata": {},
   "outputs": [
    {
     "data": {
      "text/plain": [
       "<generator object generator_fn at 0x7f100c6159a0>"
      ]
     },
     "execution_count": 22,
     "metadata": {},
     "output_type": "execute_result"
    }
   ],
   "source": [
    "generator_fn(10)"
   ]
  },
  {
   "cell_type": "code",
   "execution_count": 25,
   "id": "d1aa437f-3318-4bfe-9a39-d0be8ebd33e7",
   "metadata": {},
   "outputs": [
    {
     "name": "stdout",
     "output_type": "stream",
     "text": [
      "0 1 1 2 3 5 8 13 21 34 "
     ]
    }
   ],
   "source": [
    "for i in generator_fn(10):\n",
    "    print(i,end=\" \")"
   ]
  },
  {
   "cell_type": "markdown",
   "id": "62f81240-5194-4712-af9d-430a0bb22abd",
   "metadata": {},
   "source": [
    "## Q.5 Create a generator function for prime numbers less than 1000. Use the next() method to print the first 20 prime numbers.\n",
    "\n",
    "# GENERATOR FUNCTIONS IS NOT CLEAR, HAVE DOUBT IN THIS WILL RE UPLOAD ONCE GET CLEAR IN LIVE SESSION."
   ]
  },
  {
   "cell_type": "code",
   "execution_count": null,
   "id": "55375270-7167-477a-97d4-1c589381b4a9",
   "metadata": {},
   "outputs": [],
   "source": []
  }
 ],
 "metadata": {
  "kernelspec": {
   "display_name": "Python 3 (ipykernel)",
   "language": "python",
   "name": "python3"
  },
  "language_info": {
   "codemirror_mode": {
    "name": "ipython",
    "version": 3
   },
   "file_extension": ".py",
   "mimetype": "text/x-python",
   "name": "python",
   "nbconvert_exporter": "python",
   "pygments_lexer": "ipython3",
   "version": "3.10.8"
  }
 },
 "nbformat": 4,
 "nbformat_minor": 5
}
