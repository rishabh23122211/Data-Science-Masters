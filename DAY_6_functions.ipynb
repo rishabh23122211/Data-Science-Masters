{
 "cells": [
  {
   "cell_type": "markdown",
   "id": "33f96011-e613-44b1-9e69-a6125acc169d",
   "metadata": {},
   "source": [
    "## Functions"
   ]
  },
  {
   "cell_type": "code",
   "execution_count": 2,
   "id": "9eed7e5f-027a-4bad-a49d-fdebfab8db0e",
   "metadata": {},
   "outputs": [],
   "source": [
    "#creating your own functions now\n",
    "def test():\n",
    "    pass"
   ]
  },
  {
   "cell_type": "code",
   "execution_count": 3,
   "id": "c46eb7ad-2cbf-4f3e-8289-7a69fe4424c8",
   "metadata": {},
   "outputs": [],
   "source": [
    "def test1():\n",
    "    print(\"This is my very very 1st function\")"
   ]
  },
  {
   "cell_type": "code",
   "execution_count": 4,
   "id": "ed85dcb5-3f26-4091-a0ca-a347c4e6ee51",
   "metadata": {},
   "outputs": [
    {
     "name": "stdout",
     "output_type": "stream",
     "text": [
      "This is my very very 1st function\n"
     ]
    }
   ],
   "source": [
    "test1() ##calling my functon"
   ]
  },
  {
   "cell_type": "code",
   "execution_count": 5,
   "id": "e2bc5a6f-6245-49df-a0e4-72b5f7c21bfd",
   "metadata": {},
   "outputs": [
    {
     "name": "stdout",
     "output_type": "stream",
     "text": [
      "This is my very very 1st function\n"
     ]
    },
    {
     "ename": "TypeError",
     "evalue": "unsupported operand type(s) for +: 'NoneType' and 'str'",
     "output_type": "error",
     "traceback": [
      "\u001b[0;31m---------------------------------------------------------------------------\u001b[0m",
      "\u001b[0;31mTypeError\u001b[0m                                 Traceback (most recent call last)",
      "Cell \u001b[0;32mIn[5], line 1\u001b[0m\n\u001b[0;32m----> 1\u001b[0m \u001b[43mtest1\u001b[49m\u001b[43m(\u001b[49m\u001b[43m)\u001b[49m\u001b[43m \u001b[49m\u001b[38;5;241;43m+\u001b[39;49m\u001b[43m \u001b[49m\u001b[38;5;124;43m\"\u001b[39;49m\u001b[38;5;124;43mRishabh\u001b[39;49m\u001b[38;5;124;43m\"\u001b[39;49m\n",
      "\u001b[0;31mTypeError\u001b[0m: unsupported operand type(s) for +: 'NoneType' and 'str'"
     ]
    }
   ],
   "source": [
    "test1() + \"Rishabh\""
   ]
  },
  {
   "cell_type": "code",
   "execution_count": null,
   "id": "5cb4deef-1085-4477-9737-b931b166d83a",
   "metadata": {},
   "outputs": [],
   "source": [
    "## test1 is nontype"
   ]
  },
  {
   "cell_type": "code",
   "execution_count": 6,
   "id": "f1df2ba0-158b-475d-a878-cb7812bcbc11",
   "metadata": {},
   "outputs": [],
   "source": [
    "def test2():\n",
    "    return \"This is my function with return\"\n",
    "## always use return instead of print"
   ]
  },
  {
   "cell_type": "code",
   "execution_count": 7,
   "id": "8587f2c8-c4e9-40c7-b4d7-50bf04809cd7",
   "metadata": {},
   "outputs": [
    {
     "data": {
      "text/plain": [
       "'This is my function with return'"
      ]
     },
     "execution_count": 7,
     "metadata": {},
     "output_type": "execute_result"
    }
   ],
   "source": [
    "test2()"
   ]
  },
  {
   "cell_type": "code",
   "execution_count": 9,
   "id": "cbd0c242-9a4b-4c62-941a-0c4caedf5494",
   "metadata": {},
   "outputs": [
    {
     "data": {
      "text/plain": [
       "'This is my function with return Rishabh'"
      ]
     },
     "execution_count": 9,
     "metadata": {},
     "output_type": "execute_result"
    }
   ],
   "source": [
    "test2() + \" Rishabh\""
   ]
  },
  {
   "cell_type": "code",
   "execution_count": 10,
   "id": "71011009-99ff-490a-a819-a94bef883aee",
   "metadata": {},
   "outputs": [],
   "source": [
    "def test3():\n",
    "    return 1,2,\"PWSKILLS\",34.5"
   ]
  },
  {
   "cell_type": "code",
   "execution_count": 11,
   "id": "3ba6a5df-67b5-45ce-8d77-90c761010bdb",
   "metadata": {},
   "outputs": [
    {
     "data": {
      "text/plain": [
       "(1, 2, 'PWSKILLS', 34.5)"
      ]
     },
     "execution_count": 11,
     "metadata": {},
     "output_type": "execute_result"
    }
   ],
   "source": [
    "test3()"
   ]
  },
  {
   "cell_type": "code",
   "execution_count": 12,
   "id": "fd96639a-a3aa-4ee9-8388-3c9552145bea",
   "metadata": {},
   "outputs": [
    {
     "data": {
      "text/plain": [
       "(1, 2, 3, 4, 5)"
      ]
     },
     "execution_count": 12,
     "metadata": {},
     "output_type": "execute_result"
    }
   ],
   "source": [
    "a=1,2,3,4,5\n",
    "a"
   ]
  },
  {
   "cell_type": "code",
   "execution_count": 16,
   "id": "a4c8c99b-97ee-4ee4-b8e7-46ec3fc0bb2a",
   "metadata": {},
   "outputs": [
    {
     "data": {
      "text/plain": [
       "1"
      ]
     },
     "execution_count": 16,
     "metadata": {},
     "output_type": "execute_result"
    }
   ],
   "source": [
    "a,b,c,d,e=1,2,3,34.5,True\n",
    "a"
   ]
  },
  {
   "cell_type": "code",
   "execution_count": 17,
   "id": "372aeb0f-f2e1-4693-a3a2-1c9b0e45aef4",
   "metadata": {},
   "outputs": [
    {
     "data": {
      "text/plain": [
       "True"
      ]
     },
     "execution_count": 17,
     "metadata": {},
     "output_type": "execute_result"
    }
   ],
   "source": [
    "e"
   ]
  },
  {
   "cell_type": "code",
   "execution_count": 18,
   "id": "2b9616ea-0fc2-4245-8f7e-ec3300b80be2",
   "metadata": {},
   "outputs": [
    {
     "data": {
      "text/plain": [
       "34.5"
      ]
     },
     "execution_count": 18,
     "metadata": {},
     "output_type": "execute_result"
    }
   ],
   "source": [
    "d"
   ]
  },
  {
   "cell_type": "code",
   "execution_count": 19,
   "id": "f6d1af2f-48f1-4acb-9abc-e4c5363891bb",
   "metadata": {},
   "outputs": [
    {
     "data": {
      "text/plain": [
       "(1, 2, 'PWSKILLS', 34.5)"
      ]
     },
     "execution_count": 19,
     "metadata": {},
     "output_type": "execute_result"
    }
   ],
   "source": [
    "test3()"
   ]
  },
  {
   "cell_type": "code",
   "execution_count": 20,
   "id": "2d016ba0-5000-4829-be4e-3ac6c29b92bb",
   "metadata": {},
   "outputs": [
    {
     "data": {
      "text/plain": [
       "1"
      ]
     },
     "execution_count": 20,
     "metadata": {},
     "output_type": "execute_result"
    }
   ],
   "source": [
    "test3()[0]"
   ]
  },
  {
   "cell_type": "code",
   "execution_count": 21,
   "id": "0784bde3-bcd3-4747-bf41-eeb9d76cfbbc",
   "metadata": {},
   "outputs": [
    {
     "data": {
      "text/plain": [
       "2"
      ]
     },
     "execution_count": 21,
     "metadata": {},
     "output_type": "execute_result"
    }
   ],
   "source": [
    "test3()[1]"
   ]
  },
  {
   "cell_type": "code",
   "execution_count": 22,
   "id": "191b44f6-d06d-4cbe-9487-3d1a6a052f22",
   "metadata": {},
   "outputs": [
    {
     "data": {
      "text/plain": [
       "'PWSKILLS'"
      ]
     },
     "execution_count": 22,
     "metadata": {},
     "output_type": "execute_result"
    }
   ],
   "source": [
    "test3()[2]"
   ]
  },
  {
   "cell_type": "code",
   "execution_count": 23,
   "id": "ed1b9e27-debe-4b6d-b30d-fdd0c3dd6deb",
   "metadata": {},
   "outputs": [
    {
     "data": {
      "text/plain": [
       "34.5"
      ]
     },
     "execution_count": 23,
     "metadata": {},
     "output_type": "execute_result"
    }
   ],
   "source": [
    "test3()[3]"
   ]
  },
  {
   "cell_type": "code",
   "execution_count": 24,
   "id": "8059af4d-0077-4409-8d7b-9c466e2d2783",
   "metadata": {},
   "outputs": [],
   "source": [
    "a,b,c,d=test3()"
   ]
  },
  {
   "cell_type": "code",
   "execution_count": 25,
   "id": "a7576283-0707-4bf7-b9ff-3071942149e7",
   "metadata": {},
   "outputs": [
    {
     "data": {
      "text/plain": [
       "1"
      ]
     },
     "execution_count": 25,
     "metadata": {},
     "output_type": "execute_result"
    }
   ],
   "source": [
    "a"
   ]
  },
  {
   "cell_type": "code",
   "execution_count": 26,
   "id": "c2d9c8aa-2937-499c-b7db-ce2e68ec7d2a",
   "metadata": {},
   "outputs": [
    {
     "data": {
      "text/plain": [
       "2"
      ]
     },
     "execution_count": 26,
     "metadata": {},
     "output_type": "execute_result"
    }
   ],
   "source": [
    "b"
   ]
  },
  {
   "cell_type": "code",
   "execution_count": 27,
   "id": "9c7cea1b-14bf-4744-be6e-8e1d7e8152d0",
   "metadata": {},
   "outputs": [
    {
     "data": {
      "text/plain": [
       "'PWSKILLS'"
      ]
     },
     "execution_count": 27,
     "metadata": {},
     "output_type": "execute_result"
    }
   ],
   "source": [
    "c"
   ]
  },
  {
   "cell_type": "code",
   "execution_count": 28,
   "id": "90c11908-4f37-4021-af09-e42a21200a96",
   "metadata": {},
   "outputs": [
    {
     "data": {
      "text/plain": [
       "34.5"
      ]
     },
     "execution_count": 28,
     "metadata": {},
     "output_type": "execute_result"
    }
   ],
   "source": [
    "d"
   ]
  },
  {
   "cell_type": "code",
   "execution_count": 30,
   "id": "0fca589d-583f-449f-b91a-aef111b3a37a",
   "metadata": {},
   "outputs": [],
   "source": [
    "def test4():\n",
    "    a=(3*4)+5\n",
    "    return a"
   ]
  },
  {
   "cell_type": "code",
   "execution_count": 31,
   "id": "cbb3fd97-b105-4d81-9c8d-90419cbd3bff",
   "metadata": {},
   "outputs": [
    {
     "data": {
      "text/plain": [
       "17"
      ]
     },
     "execution_count": 31,
     "metadata": {},
     "output_type": "execute_result"
    }
   ],
   "source": [
    "test4()"
   ]
  },
  {
   "cell_type": "code",
   "execution_count": 32,
   "id": "d6b23a78-09de-4cd0-8ebc-e493230c65d7",
   "metadata": {},
   "outputs": [
    {
     "data": {
      "text/plain": [
       "int"
      ]
     },
     "execution_count": 32,
     "metadata": {},
     "output_type": "execute_result"
    }
   ],
   "source": [
    "type(test4())"
   ]
  },
  {
   "cell_type": "code",
   "execution_count": 1,
   "id": "53426510-8d69-4ba9-9f56-1dfa99da5ed6",
   "metadata": {},
   "outputs": [],
   "source": [
    "def test5(a,b):\n",
    "    c = a+b\n",
    "    return c"
   ]
  },
  {
   "cell_type": "code",
   "execution_count": 39,
   "id": "c7b7664f-f2f5-48eb-a8c3-7d645ae129e8",
   "metadata": {},
   "outputs": [
    {
     "data": {
      "text/plain": [
       "9"
      ]
     },
     "execution_count": 39,
     "metadata": {},
     "output_type": "execute_result"
    }
   ],
   "source": [
    "test5(4,5) ##give input a&b"
   ]
  },
  {
   "cell_type": "code",
   "execution_count": 41,
   "id": "265bc9f6-e179-48e7-8e5f-6f678b1e2724",
   "metadata": {},
   "outputs": [
    {
     "data": {
      "text/plain": [
       "'Rishabh Singh'"
      ]
     },
     "execution_count": 41,
     "metadata": {},
     "output_type": "execute_result"
    }
   ],
   "source": [
    "test5(\"Rishabh\",\" Singh\")"
   ]
  },
  {
   "cell_type": "code",
   "execution_count": 42,
   "id": "8c7aef29-e121-42bf-948e-2ac95563c56f",
   "metadata": {},
   "outputs": [
    {
     "data": {
      "text/plain": [
       "[1, 2, 3, 4, 4, 5, 6, 7, 8]"
      ]
     },
     "execution_count": 42,
     "metadata": {},
     "output_type": "execute_result"
    }
   ],
   "source": [
    "test5([1,2,3,4],[4,5,6,7,8])"
   ]
  },
  {
   "cell_type": "code",
   "execution_count": 47,
   "id": "1e57e039-e944-4d07-9f77-7f82f96bc2dc",
   "metadata": {},
   "outputs": [
    {
     "data": {
      "text/plain": [
       "'KumarSudh'"
      ]
     },
     "execution_count": 47,
     "metadata": {},
     "output_type": "execute_result"
    }
   ],
   "source": [
    "test5(b=\"Sudh\", a=\"Kumar\")"
   ]
  },
  {
   "cell_type": "code",
   "execution_count": 48,
   "id": "a7469e87-dbcb-4dcf-9fc0-0442af420b8f",
   "metadata": {},
   "outputs": [],
   "source": [
    "l=[1,2,3,4,5,\"Rishabh\",\"Singh\",[1,2,3,4,45,37]]"
   ]
  },
  {
   "cell_type": "code",
   "execution_count": 49,
   "id": "7ce6196b-a420-4b00-965d-531814e05b9b",
   "metadata": {},
   "outputs": [
    {
     "data": {
      "text/plain": [
       "[1, 2, 3, 4, 5, 'Rishabh', 'Singh', [1, 2, 3, 4, 45, 37]]"
      ]
     },
     "execution_count": 49,
     "metadata": {},
     "output_type": "execute_result"
    }
   ],
   "source": [
    "l"
   ]
  },
  {
   "cell_type": "code",
   "execution_count": 50,
   "id": "ebb7ab06-21d3-4aae-87f2-0d7606589bab",
   "metadata": {},
   "outputs": [],
   "source": [
    "##create a fn which ll take list as a input and give a final list of numeric values"
   ]
  },
  {
   "cell_type": "code",
   "execution_count": 51,
   "id": "ead213a3-1355-48a7-aa78-8fe80894eb7f",
   "metadata": {},
   "outputs": [],
   "source": [
    "def test_1(a): ## a ll be the new list with all numeric values\n",
    "    n=[]\n",
    "    for i in a:\n",
    "        if type(i)==int or type(i)==float:\n",
    "            n.append(i)\n",
    "    return n"
   ]
  },
  {
   "cell_type": "code",
   "execution_count": 52,
   "id": "8aa66d35-a6cf-45c7-ac92-5428ce9483d4",
   "metadata": {},
   "outputs": [
    {
     "data": {
      "text/plain": [
       "[1, 2, 3, 4, 5]"
      ]
     },
     "execution_count": 52,
     "metadata": {},
     "output_type": "execute_result"
    }
   ],
   "source": [
    "test_1(l)"
   ]
  },
  {
   "cell_type": "code",
   "execution_count": 53,
   "id": "60da8361-c185-4ba3-b6b0-51a818ec54f8",
   "metadata": {},
   "outputs": [
    {
     "data": {
      "text/plain": [
       "[1, 2, 3, 4, 5, 'Rishabh', 'Singh', [1, 2, 3, 4, 45, 37]]"
      ]
     },
     "execution_count": 53,
     "metadata": {},
     "output_type": "execute_result"
    }
   ],
   "source": [
    "l"
   ]
  },
  {
   "cell_type": "code",
   "execution_count": 59,
   "id": "95871356-9c95-4b2d-9b0e-273d511445c7",
   "metadata": {},
   "outputs": [],
   "source": [
    "def test7(a):\n",
    "    n=[]\n",
    "    for i in a:\n",
    "        if type(i)==list:\n",
    "            for j in i:\n",
    "                if type(j)==int or type(j)==float:\n",
    "                    n.append(j)\n",
    "    else:\n",
    "        if type(i)==int or type(i)==float:\n",
    "            n.append(i)\n",
    "    return n"
   ]
  },
  {
   "cell_type": "code",
   "execution_count": 60,
   "id": "71ecd2b6-7676-4af9-9e72-413e66e012d3",
   "metadata": {},
   "outputs": [
    {
     "data": {
      "text/plain": [
       "[1, 2, 3, 4, 45, 37]"
      ]
     },
     "execution_count": 60,
     "metadata": {},
     "output_type": "execute_result"
    }
   ],
   "source": [
    "test7(l)"
   ]
  },
  {
   "cell_type": "code",
   "execution_count": 57,
   "id": "a5cc927d-0117-4e10-be17-81a0df337266",
   "metadata": {},
   "outputs": [
    {
     "data": {
      "text/plain": [
       "[1, 2, 3, 4, 5, 'Rishabh', 'Singh', [1, 2, 3, 4, 45, 37]]"
      ]
     },
     "execution_count": 57,
     "metadata": {},
     "output_type": "execute_result"
    }
   ],
   "source": [
    "l"
   ]
  },
  {
   "cell_type": "code",
   "execution_count": 61,
   "id": "48a889fd-8666-4af3-90f3-9860b0cac92a",
   "metadata": {},
   "outputs": [],
   "source": [
    "def test7(a):\n",
    "    n=[]\n",
    "    for i in a:\n",
    "        if type(i)==list:\n",
    "            for j in i:\n",
    "                if type(j)==int or type(j)==float:\n",
    "                    n.append(j)\n",
    "    else:\n",
    "        if type(i)==int or type(i)==float:\n",
    "            n.append(i)\n",
    "    return n"
   ]
  },
  {
   "cell_type": "code",
   "execution_count": 62,
   "id": "81550026-b6f7-4ca5-8fef-5028a3d664ab",
   "metadata": {},
   "outputs": [
    {
     "data": {
      "text/plain": [
       "[1, 2, 3, 4, 45, 37]"
      ]
     },
     "execution_count": 62,
     "metadata": {},
     "output_type": "execute_result"
    }
   ],
   "source": [
    "test7(l)"
   ]
  },
  {
   "cell_type": "code",
   "execution_count": 63,
   "id": "ff2ca107-6e2d-40a4-8e2a-0847d2625a64",
   "metadata": {},
   "outputs": [],
   "source": [
    "def test(a,b,c,d,e):\n",
    "    pass"
   ]
  },
  {
   "cell_type": "code",
   "execution_count": 64,
   "id": "d449ffd2-bb1e-46f8-af61-cc209591eb1f",
   "metadata": {},
   "outputs": [],
   "source": [
    "test(1,2,3,4,5)"
   ]
  },
  {
   "cell_type": "code",
   "execution_count": 65,
   "id": "864adb72-6a77-458b-909a-94643771ab08",
   "metadata": {},
   "outputs": [
    {
     "ename": "TypeError",
     "evalue": "test() takes 5 positional arguments but 6 were given",
     "output_type": "error",
     "traceback": [
      "\u001b[0;31m---------------------------------------------------------------------------\u001b[0m",
      "\u001b[0;31mTypeError\u001b[0m                                 Traceback (most recent call last)",
      "Cell \u001b[0;32mIn[65], line 1\u001b[0m\n\u001b[0;32m----> 1\u001b[0m \u001b[43mtest\u001b[49m\u001b[43m(\u001b[49m\u001b[38;5;241;43m1\u001b[39;49m\u001b[43m,\u001b[49m\u001b[38;5;241;43m2\u001b[39;49m\u001b[43m,\u001b[49m\u001b[38;5;241;43m3\u001b[39;49m\u001b[43m,\u001b[49m\u001b[38;5;241;43m4\u001b[39;49m\u001b[43m,\u001b[49m\u001b[38;5;241;43m5\u001b[39;49m\u001b[43m,\u001b[49m\u001b[38;5;241;43m6\u001b[39;49m\u001b[43m)\u001b[49m\n",
      "\u001b[0;31mTypeError\u001b[0m: test() takes 5 positional arguments but 6 were given"
     ]
    }
   ],
   "source": [
    "test(1,2,3,4,5,6) ##limmited input issue"
   ]
  },
  {
   "cell_type": "code",
   "execution_count": 66,
   "id": "abbfa2af-8a58-4390-b3c1-72297e9614cb",
   "metadata": {},
   "outputs": [],
   "source": [
    "def test1(*agrs): infinite input\n",
    "    return agrs"
   ]
  },
  {
   "cell_type": "code",
   "execution_count": 67,
   "id": "f36b293b-78e1-419d-a9f4-c0db713736f4",
   "metadata": {},
   "outputs": [
    {
     "data": {
      "text/plain": [
       "(2,)"
      ]
     },
     "execution_count": 67,
     "metadata": {},
     "output_type": "execute_result"
    }
   ],
   "source": [
    "test1(2)"
   ]
  },
  {
   "cell_type": "code",
   "execution_count": 69,
   "id": "07cfe042-611b-4eec-b5b4-83347f243cf2",
   "metadata": {},
   "outputs": [
    {
     "data": {
      "text/plain": [
       "('sudh', 3, 4, 5, 67, 890, (1, 2, 3, 4), [1, 2, 3, 4])"
      ]
     },
     "execution_count": 69,
     "metadata": {},
     "output_type": "execute_result"
    }
   ],
   "source": [
    "test1(\"sudh\",3,4,5,67,890,(1,2,3,4),[1,2,3,4])"
   ]
  },
  {
   "cell_type": "code",
   "execution_count": 70,
   "id": "86986761-aad1-4d20-8d2d-30acd7a1f1e0",
   "metadata": {},
   "outputs": [],
   "source": [
    "def test2(*sudh):\n",
    "    return sudh"
   ]
  },
  {
   "cell_type": "code",
   "execution_count": 71,
   "id": "4b402030-99bc-44d8-bb11-bea8f2921320",
   "metadata": {},
   "outputs": [
    {
     "data": {
      "text/plain": [
       "(1, 2, 3, 4)"
      ]
     },
     "execution_count": 71,
     "metadata": {},
     "output_type": "execute_result"
    }
   ],
   "source": [
    "test2(1,2,3,4)"
   ]
  },
  {
   "cell_type": "code",
   "execution_count": 72,
   "id": "cf4506c8-dcb1-48c3-8246-3566306d36dd",
   "metadata": {},
   "outputs": [],
   "source": [
    "def test_2(*args,a):\n",
    "    return args,a"
   ]
  },
  {
   "cell_type": "code",
   "execution_count": 73,
   "id": "831b9535-f879-497b-9418-bf38809d70b4",
   "metadata": {},
   "outputs": [
    {
     "ename": "TypeError",
     "evalue": "test_2() missing 1 required keyword-only argument: 'a'",
     "output_type": "error",
     "traceback": [
      "\u001b[0;31m---------------------------------------------------------------------------\u001b[0m",
      "\u001b[0;31mTypeError\u001b[0m                                 Traceback (most recent call last)",
      "Cell \u001b[0;32mIn[73], line 1\u001b[0m\n\u001b[0;32m----> 1\u001b[0m \u001b[43mtest_2\u001b[49m\u001b[43m(\u001b[49m\u001b[38;5;241;43m3\u001b[39;49m\u001b[43m)\u001b[49m\n",
      "\u001b[0;31mTypeError\u001b[0m: test_2() missing 1 required keyword-only argument: 'a'"
     ]
    }
   ],
   "source": [
    "test_2(3)"
   ]
  },
  {
   "cell_type": "code",
   "execution_count": 74,
   "id": "e327338e-b406-4ead-affa-07304427394d",
   "metadata": {},
   "outputs": [
    {
     "data": {
      "text/plain": [
       "((1, 2, 3), 'Rishabh')"
      ]
     },
     "execution_count": 74,
     "metadata": {},
     "output_type": "execute_result"
    }
   ],
   "source": [
    "test_2(1,2,3,a=\"Rishabh\")"
   ]
  },
  {
   "cell_type": "code",
   "execution_count": 77,
   "id": "74d9e098-79d1-48a7-bb32-b89a6cafc358",
   "metadata": {},
   "outputs": [],
   "source": [
    "def test_3(*args):\n",
    "    x=[]\n",
    "    for i in args:\n",
    "        if type(i)==list:\n",
    "             x.append(i)\n",
    "    return l"
   ]
  },
  {
   "cell_type": "code",
   "execution_count": 78,
   "id": "6140c139-ccdd-403f-9c56-31cb92897c19",
   "metadata": {},
   "outputs": [
    {
     "data": {
      "text/plain": [
       "[1, 2, 3, 4, 5, 'Rishabh', 'Singh', [1, 2, 3, 4, 45, 37]]"
      ]
     },
     "execution_count": 78,
     "metadata": {},
     "output_type": "execute_result"
    }
   ],
   "source": [
    "test_3(1,2,3,[1,2,3],[4,5,6,7],\"sudh\")"
   ]
  },
  {
   "cell_type": "code",
   "execution_count": null,
   "id": "fc457cd4-074f-4d00-985e-310e21976278",
   "metadata": {},
   "outputs": [],
   "source": []
  },
  {
   "cell_type": "code",
   "execution_count": null,
   "id": "f9ef3091-4a71-4cb1-bcde-5fc9a308f0fa",
   "metadata": {},
   "outputs": [],
   "source": [
    "##functions part 2\n"
   ]
  },
  {
   "cell_type": "code",
   "execution_count": 2,
   "id": "f2d307a9-e99c-4a93-8923-935f5ca7445e",
   "metadata": {},
   "outputs": [],
   "source": [
    "def test(a,b,c,d):\n",
    "    pass"
   ]
  },
  {
   "cell_type": "code",
   "execution_count": 3,
   "id": "dff61a49-5105-4562-b338-387805642fce",
   "metadata": {},
   "outputs": [],
   "source": [
    "test(1,2,3,4) ##no complaints bcoz arg matches the input"
   ]
  },
  {
   "cell_type": "code",
   "execution_count": 4,
   "id": "86ecba39-7286-40ad-a111-4d4dec44d83c",
   "metadata": {},
   "outputs": [
    {
     "ename": "TypeError",
     "evalue": "test() takes 4 positional arguments but 5 were given",
     "output_type": "error",
     "traceback": [
      "\u001b[0;31m---------------------------------------------------------------------------\u001b[0m",
      "\u001b[0;31mTypeError\u001b[0m                                 Traceback (most recent call last)",
      "Cell \u001b[0;32mIn[4], line 1\u001b[0m\n\u001b[0;32m----> 1\u001b[0m \u001b[43mtest\u001b[49m\u001b[43m(\u001b[49m\u001b[38;5;241;43m1\u001b[39;49m\u001b[43m,\u001b[49m\u001b[38;5;241;43m2\u001b[39;49m\u001b[43m,\u001b[49m\u001b[38;5;241;43m3\u001b[39;49m\u001b[43m,\u001b[49m\u001b[38;5;241;43m4\u001b[39;49m\u001b[43m,\u001b[49m\u001b[38;5;241;43m5\u001b[39;49m\u001b[43m)\u001b[49m\n",
      "\u001b[0;31mTypeError\u001b[0m: test() takes 4 positional arguments but 5 were given"
     ]
    }
   ],
   "source": [
    "test(1,2,3,4,5) ## error"
   ]
  },
  {
   "cell_type": "code",
   "execution_count": 5,
   "id": "6bf84636-39e1-480c-8816-14d111210cfe",
   "metadata": {},
   "outputs": [],
   "source": [
    "def test1(*args):\n",
    "    return args\n",
    "## inpur not limited"
   ]
  },
  {
   "cell_type": "code",
   "execution_count": 8,
   "id": "b199f5a0-af50-4385-a02b-54701668c5bb",
   "metadata": {},
   "outputs": [
    {
     "data": {
      "text/plain": [
       "(1, 2, 3, 4, 'Rishabh', 6, [1, 2, 3], 7, 8)"
      ]
     },
     "execution_count": 8,
     "metadata": {},
     "output_type": "execute_result"
    }
   ],
   "source": [
    "test1(1,2,3,4,\"Rishabh\",6,[1,2,3],7,8,)"
   ]
  },
  {
   "cell_type": "code",
   "execution_count": 9,
   "id": "6daba380-45c6-4ac7-a6c8-26ce840098d1",
   "metadata": {},
   "outputs": [],
   "source": [
    "def test2(*rish):\n",
    "    return rish\n"
   ]
  },
  {
   "cell_type": "code",
   "execution_count": 10,
   "id": "81c15f16-8109-4b46-a06e-3493602c9ff8",
   "metadata": {},
   "outputs": [
    {
     "data": {
      "text/plain": [
       "(1, 2, 3, 4, 5, 'Risahbh')"
      ]
     },
     "execution_count": 10,
     "metadata": {},
     "output_type": "execute_result"
    }
   ],
   "source": [
    "test2(1,2,3,4,5,\"Risahbh\")"
   ]
  },
  {
   "cell_type": "code",
   "execution_count": 11,
   "id": "6cb010de-b6d5-4b3a-a1f0-27fd80299f49",
   "metadata": {},
   "outputs": [],
   "source": [
    "def test3(*args,a):\n",
    "    return args,a"
   ]
  },
  {
   "cell_type": "code",
   "execution_count": 12,
   "id": "3008df74-e8d5-49c0-9e47-5a8f89a60aa5",
   "metadata": {},
   "outputs": [
    {
     "data": {
      "text/plain": [
       "((1, 23, 4), 'Rishabh')"
      ]
     },
     "execution_count": 12,
     "metadata": {},
     "output_type": "execute_result"
    }
   ],
   "source": [
    "test3(1,23,4,a=\"Rishabh\")"
   ]
  },
  {
   "cell_type": "code",
   "execution_count": 15,
   "id": "43135afe-ed85-4fd1-810d-d961a99e84bd",
   "metadata": {},
   "outputs": [],
   "source": [
    "def test4(*args):\n",
    "    l=[]\n",
    "    for i in args:\n",
    "        if type(i)==list:\n",
    "            l.append(i)\n",
    "    return l \n",
    "## print only list out of test4"
   ]
  },
  {
   "cell_type": "code",
   "execution_count": 17,
   "id": "6c5923b2-044b-4100-aa93-da74c05f39cd",
   "metadata": {},
   "outputs": [
    {
     "data": {
      "text/plain": [
       "[[4, 5, 6], ['RIshabh', 12, 3, 4]]"
      ]
     },
     "execution_count": 17,
     "metadata": {},
     "output_type": "execute_result"
    }
   ],
   "source": [
    "test4(1,2,3,[4,5,6],(1,2,6,79,0),\"Rishabh\",{\"nam\":\"value\"},[\"RIshabh\",12,3,4])"
   ]
  },
  {
   "cell_type": "code",
   "execution_count": 19,
   "id": "4687a0b7-0fbb-402f-8c46-7f9ea0bf1dbf",
   "metadata": {},
   "outputs": [],
   "source": [
    "def test5(**kwargs): ## n number of inputs in key value pairs\n",
    "        return kwargs\n",
    "    "
   ]
  },
  {
   "cell_type": "code",
   "execution_count": 20,
   "id": "c0f79f19-2ec8-410e-9f12-d4e37b472855",
   "metadata": {},
   "outputs": [
    {
     "data": {
      "text/plain": [
       "{}"
      ]
     },
     "execution_count": 20,
     "metadata": {},
     "output_type": "execute_result"
    }
   ],
   "source": [
    "test5()"
   ]
  },
  {
   "cell_type": "code",
   "execution_count": 23,
   "id": "b350e7fa-0396-49fe-9f94-4419ec7ce31a",
   "metadata": {},
   "outputs": [
    {
     "data": {
      "text/plain": [
       "{'a': 34, 'b': 67, 'c': 8.9, 'd': 'Rishabh Singh'}"
      ]
     },
     "execution_count": 23,
     "metadata": {},
     "output_type": "execute_result"
    }
   ],
   "source": [
    "test5(a=34,b=67,c=8.90,d=\"Rishabh Singh\")"
   ]
  },
  {
   "cell_type": "code",
   "execution_count": 3,
   "id": "91b7113d-c1d9-43b3-8093-7618d14808da",
   "metadata": {},
   "outputs": [],
   "source": [
    "def test6(**kwargs):\n",
    "    for i in kwargs.keys():\n",
    "        if type(kwargs[i])==str:\n",
    "            return i, kwargs[i]"
   ]
  },
  {
   "cell_type": "code",
   "execution_count": 4,
   "id": "24d0437b-a859-4e27-8235-af358f76c163",
   "metadata": {},
   "outputs": [
    {
     "data": {
      "text/plain": [
       "('d', 'Rishabh Singh')"
      ]
     },
     "execution_count": 4,
     "metadata": {},
     "output_type": "execute_result"
    }
   ],
   "source": [
    "test6(a=34,b=67,c=8.90,d=\"Rishabh Singh\")"
   ]
  },
  {
   "cell_type": "code",
   "execution_count": 31,
   "id": "bff20ae5-8e71-4b80-af40-72b78ab455ed",
   "metadata": {},
   "outputs": [],
   "source": [
    "def test7(*args,**kwargs):\n",
    "    return args, kwargs"
   ]
  },
  {
   "cell_type": "code",
   "execution_count": 32,
   "id": "82672cc3-2068-40c3-b2ab-e09b6ad45136",
   "metadata": {},
   "outputs": [
    {
     "data": {
      "text/plain": [
       "((1, 2, 3, 4), {'a': 0, 'b': 76})"
      ]
     },
     "execution_count": 32,
     "metadata": {},
     "output_type": "execute_result"
    }
   ],
   "source": [
    "test7(1,2,3,4,a=0,b=76)"
   ]
  },
  {
   "cell_type": "markdown",
   "id": "eb177b0e-279c-40f6-8ee9-ae34e9230241",
   "metadata": {},
   "source": [
    "## Generator functons"
   ]
  },
  {
   "cell_type": "code",
   "execution_count": 33,
   "id": "b1573412-4bb2-47a1-af98-ff7b2f8b929d",
   "metadata": {},
   "outputs": [
    {
     "data": {
      "text/plain": [
       "range(1, 10)"
      ]
     },
     "execution_count": 33,
     "metadata": {},
     "output_type": "execute_result"
    }
   ],
   "source": [
    "range(1,10)"
   ]
  },
  {
   "cell_type": "code",
   "execution_count": 35,
   "id": "6c487728-f172-4b64-840f-945d7f83d7ff",
   "metadata": {},
   "outputs": [
    {
     "name": "stdout",
     "output_type": "stream",
     "text": [
      "1\n",
      "2\n",
      "3\n",
      "4\n",
      "5\n",
      "6\n",
      "7\n",
      "8\n",
      "9\n"
     ]
    }
   ],
   "source": [
    "for i in range(1,10):\n",
    "    print(i)"
   ]
  },
  {
   "cell_type": "code",
   "execution_count": 36,
   "id": "de0b222d-93e5-4417-80e5-0099adbe0502",
   "metadata": {},
   "outputs": [],
   "source": [
    "l=[1,2,3,4,5,6,7,8,\"Rishah\",\"pwskills\"]"
   ]
  },
  {
   "cell_type": "code",
   "execution_count": 37,
   "id": "f161b610-c9f0-4253-a9a8-9af489a847f0",
   "metadata": {},
   "outputs": [],
   "source": [
    "def test1(a):\n",
    "    n=[]\n",
    "    for i in a:\n",
    "        if type(i)==int:\n",
    "            n.append(i)\n",
    "    return n"
   ]
  },
  {
   "cell_type": "code",
   "execution_count": 38,
   "id": "e3cf3feb-5ae2-41fe-ae41-ba5fa23b9741",
   "metadata": {},
   "outputs": [
    {
     "data": {
      "text/plain": [
       "[1, 2, 3, 4, 5, 6, 7, 8]"
      ]
     },
     "execution_count": 38,
     "metadata": {},
     "output_type": "execute_result"
    }
   ],
   "source": [
    "test1([1,2,3,4,5,6,7,8,\"Rishah\",\"pwskills\"])"
   ]
  },
  {
   "cell_type": "code",
   "execution_count": 39,
   "id": "aa54f25e-78c6-4d19-83b9-37fd19fb239f",
   "metadata": {},
   "outputs": [],
   "source": [
    "##Fibonacci:\n",
    "   ## 0,1,1,2,3,5,8,13,21,34...."
   ]
  },
  {
   "cell_type": "code",
   "execution_count": 41,
   "id": "438ed002-0018-4414-a84b-f058042a8945",
   "metadata": {},
   "outputs": [],
   "source": [
    "def fibbo(n):\n",
    "    a,b=0,1\n",
    "    for i in range(n):\n",
    "        yield a    ##one by one\n",
    "        a,b=b,a+b"
   ]
  },
  {
   "cell_type": "code",
   "execution_count": 42,
   "id": "14b0adf2-5bb7-4a35-b069-10a019865f3a",
   "metadata": {},
   "outputs": [
    {
     "data": {
      "text/plain": [
       "<generator object fibbo at 0x7f75581deb20>"
      ]
     },
     "execution_count": 42,
     "metadata": {},
     "output_type": "execute_result"
    }
   ],
   "source": [
    "fibbo(10)"
   ]
  },
  {
   "cell_type": "code",
   "execution_count": 43,
   "id": "88977257-5be5-45fc-8407-3fea758aee00",
   "metadata": {},
   "outputs": [
    {
     "name": "stdout",
     "output_type": "stream",
     "text": [
      "0\n",
      "1\n",
      "1\n",
      "2\n",
      "3\n",
      "5\n",
      "8\n",
      "13\n",
      "21\n",
      "34\n"
     ]
    }
   ],
   "source": [
    "for i in fibbo(10):\n",
    "    print(i)"
   ]
  },
  {
   "cell_type": "code",
   "execution_count": 1,
   "id": "2b3ea488-2eca-4896-8b8a-5e938b79214b",
   "metadata": {},
   "outputs": [
    {
     "name": "stdout",
     "output_type": "stream",
     "text": [
      "30\n"
     ]
    }
   ],
   "source": [
    "x = 10\n",
    "\n",
    "y = 20\n",
    "\n",
    "if x == 10:\n",
    "\n",
    "    x = x + y\n",
    "\n",
    "print(x)"
   ]
  },
  {
   "cell_type": "markdown",
   "id": "56d9a9cf-a580-41cc-aaf6-07c7a2d71a8e",
   "metadata": {},
   "source": [
    "# Lambda function"
   ]
  },
  {
   "cell_type": "code",
   "execution_count": 1,
   "id": "80f1b78d-bf56-4f12-93d4-dffddc891bc3",
   "metadata": {},
   "outputs": [],
   "source": [
    "n=3\n",
    "p=2"
   ]
  },
  {
   "cell_type": "code",
   "execution_count": 2,
   "id": "96811579-689d-4bc0-a1c5-24ac7d8ea443",
   "metadata": {},
   "outputs": [],
   "source": [
    "def tst(n,p):\n",
    "    return n**p"
   ]
  },
  {
   "cell_type": "code",
   "execution_count": 4,
   "id": "a9a59011-7f9c-4da7-87d3-785a760af812",
   "metadata": {},
   "outputs": [
    {
     "data": {
      "text/plain": [
       "9"
      ]
     },
     "execution_count": 4,
     "metadata": {},
     "output_type": "execute_result"
    }
   ],
   "source": [
    "tst(3,2)"
   ]
  },
  {
   "cell_type": "code",
   "execution_count": 7,
   "id": "cf69bab1-a8a7-4672-9981-f9138596d44f",
   "metadata": {},
   "outputs": [
    {
     "data": {
      "text/plain": [
       "43046721"
      ]
     },
     "execution_count": 7,
     "metadata": {},
     "output_type": "execute_result"
    }
   ],
   "source": [
    "tst(9,8)"
   ]
  },
  {
   "cell_type": "code",
   "execution_count": 9,
   "id": "b6deb4d4-e657-46cc-86d1-01e30726f980",
   "metadata": {},
   "outputs": [
    {
     "data": {
      "text/plain": [
       "<function __main__.<lambda>(n, p)>"
      ]
     },
     "execution_count": 9,
     "metadata": {},
     "output_type": "execute_result"
    }
   ],
   "source": [
    "## lambda function\n",
    "lambda n,p:n**p ## also called anonymous function\n"
   ]
  },
  {
   "cell_type": "code",
   "execution_count": 10,
   "id": "0508b4eb-a5e0-4ae2-ace6-a5c89fbb3b1d",
   "metadata": {},
   "outputs": [],
   "source": [
    "a=lambda n,p:n**p ## u just have to declare and call "
   ]
  },
  {
   "cell_type": "code",
   "execution_count": 11,
   "id": "44faf03e-2fb3-499f-8427-89af2c89066c",
   "metadata": {},
   "outputs": [
    {
     "data": {
      "text/plain": [
       "9"
      ]
     },
     "execution_count": 11,
     "metadata": {},
     "output_type": "execute_result"
    }
   ],
   "source": [
    "a(3,2)"
   ]
  },
  {
   "cell_type": "code",
   "execution_count": 12,
   "id": "670175ba-4e74-4499-968c-eb58d6734762",
   "metadata": {},
   "outputs": [],
   "source": [
    "add= lambda x,y: x+y\n"
   ]
  },
  {
   "cell_type": "code",
   "execution_count": 13,
   "id": "8b71af56-a410-4de5-b276-246979f9f17c",
   "metadata": {},
   "outputs": [
    {
     "data": {
      "text/plain": [
       "11"
      ]
     },
     "execution_count": 13,
     "metadata": {},
     "output_type": "execute_result"
    }
   ],
   "source": [
    "add(4,7)"
   ]
  },
  {
   "cell_type": "code",
   "execution_count": 14,
   "id": "d194ceab-b8d4-4fce-9761-f33da26467cc",
   "metadata": {},
   "outputs": [],
   "source": [
    "c_to_f=lambda c:(9/5)*c+32"
   ]
  },
  {
   "cell_type": "code",
   "execution_count": 17,
   "id": "da6f7a88-99df-46f4-af85-cc91b9694b27",
   "metadata": {},
   "outputs": [
    {
     "data": {
      "text/plain": [
       "93.2"
      ]
     },
     "execution_count": 17,
     "metadata": {},
     "output_type": "execute_result"
    }
   ],
   "source": [
    "c_to_f(34) ## celcius t0 f"
   ]
  },
  {
   "cell_type": "code",
   "execution_count": 22,
   "id": "8c1ae1eb-89d0-4158-a434-12b54a3d912e",
   "metadata": {},
   "outputs": [],
   "source": [
    "## max no bw to numbers\n",
    "max_two_num =lambda x,y: x if x>y else y"
   ]
  },
  {
   "cell_type": "code",
   "execution_count": 27,
   "id": "0ea32982-b388-4429-b508-11383c0e6ada",
   "metadata": {},
   "outputs": [
    {
     "data": {
      "text/plain": [
       "46"
      ]
     },
     "execution_count": 27,
     "metadata": {},
     "output_type": "execute_result"
    }
   ],
   "source": [
    "max_two_num(4,46)"
   ]
  },
  {
   "cell_type": "code",
   "execution_count": 28,
   "id": "4766a6f4-408d-4461-898d-6deab126b7f8",
   "metadata": {},
   "outputs": [],
   "source": [
    "s=\"Rishabh\""
   ]
  },
  {
   "cell_type": "code",
   "execution_count": 29,
   "id": "c4674a04-12f1-4bc2-adc8-2d84939535ef",
   "metadata": {},
   "outputs": [
    {
     "data": {
      "text/plain": [
       "'Rishabh'"
      ]
     },
     "execution_count": 29,
     "metadata": {},
     "output_type": "execute_result"
    }
   ],
   "source": [
    "s"
   ]
  },
  {
   "cell_type": "code",
   "execution_count": 30,
   "id": "ad565d2e-a605-4173-9214-2fcc5a68950f",
   "metadata": {},
   "outputs": [
    {
     "data": {
      "text/plain": [
       "7"
      ]
     },
     "execution_count": 30,
     "metadata": {},
     "output_type": "execute_result"
    }
   ],
   "source": [
    "len(s)"
   ]
  },
  {
   "cell_type": "code",
   "execution_count": 31,
   "id": "b5a81b28-a53b-431b-833c-27cbbec053bc",
   "metadata": {},
   "outputs": [],
   "source": [
    "length= lambda s: len(s)"
   ]
  },
  {
   "cell_type": "code",
   "execution_count": 33,
   "id": "b2c65c22-bf57-4cb1-b1a1-e20175c96f3c",
   "metadata": {},
   "outputs": [
    {
     "data": {
      "text/plain": [
       "7"
      ]
     },
     "execution_count": 33,
     "metadata": {},
     "output_type": "execute_result"
    }
   ],
   "source": [
    "length(s)"
   ]
  },
  {
   "cell_type": "code",
   "execution_count": 44,
   "id": "68673890-69f6-4df9-833a-344e00017ba6",
   "metadata": {},
   "outputs": [],
   "source": [
    "l=[1,2,3,4,5,45]"
   ]
  },
  {
   "cell_type": "code",
   "execution_count": 45,
   "id": "365c6ca1-1699-4e19-808e-2d04655ec3d0",
   "metadata": {},
   "outputs": [
    {
     "name": "stdout",
     "output_type": "stream",
     "text": [
      "[1, 2, 3, 4, 5, 45]\n"
     ]
    }
   ],
   "source": [
    "print(l)"
   ]
  },
  {
   "cell_type": "code",
   "execution_count": 52,
   "id": "4a434445-77f7-4a0a-81e0-aedbb3a86062",
   "metadata": {},
   "outputs": [],
   "source": [
    "def test(a):\n",
    "    n=[]\n",
    "    for i in a:\n",
    "        i=i**2\n",
    "        n.append(i)\n",
    "    return n"
   ]
  },
  {
   "cell_type": "code",
   "execution_count": 55,
   "id": "1c520185-99b5-40e4-9181-db67032feef1",
   "metadata": {},
   "outputs": [
    {
     "data": {
      "text/plain": [
       "[1, 4, 9, 16, 25, 2025]"
      ]
     },
     "execution_count": 55,
     "metadata": {},
     "output_type": "execute_result"
    }
   ],
   "source": [
    "test(l)"
   ]
  },
  {
   "cell_type": "markdown",
   "id": "07d2f5c6-ab0b-4f23-a26b-458269267fcb",
   "metadata": {},
   "source": [
    "# Map function"
   ]
  },
  {
   "cell_type": "code",
   "execution_count": 60,
   "id": "9b5aae22-d879-41c3-b59a-34e1c03e2368",
   "metadata": {},
   "outputs": [
    {
     "data": {
      "text/plain": [
       "[1, 2, 3, 4, 5, 45]"
      ]
     },
     "execution_count": 60,
     "metadata": {},
     "output_type": "execute_result"
    }
   ],
   "source": [
    "l"
   ]
  },
  {
   "cell_type": "code",
   "execution_count": 58,
   "id": "963b84d1-d196-4bc1-9161-e77ee67ee04a",
   "metadata": {},
   "outputs": [
    {
     "data": {
      "text/plain": [
       "<map at 0x7fce7c5a9360>"
      ]
     },
     "execution_count": 58,
     "metadata": {},
     "output_type": "execute_result"
    }
   ],
   "source": [
    "def sq(x):\n",
    "    return x**2\n",
    "\n",
    "map(sq,l)"
   ]
  },
  {
   "cell_type": "code",
   "execution_count": 59,
   "id": "3dbb3963-53e4-40e5-96ae-445f973beadc",
   "metadata": {},
   "outputs": [
    {
     "data": {
      "text/plain": [
       "[1, 4, 9, 16, 25, 2025]"
      ]
     },
     "execution_count": 59,
     "metadata": {},
     "output_type": "execute_result"
    }
   ],
   "source": [
    "list(map(sq,l))"
   ]
  },
  {
   "cell_type": "code",
   "execution_count": 62,
   "id": "f87fa51c-dc3f-44be-a19c-6a4ee5324f3a",
   "metadata": {},
   "outputs": [
    {
     "data": {
      "text/plain": [
       "[1, 2, 3, 4, 5, 45]"
      ]
     },
     "execution_count": 62,
     "metadata": {},
     "output_type": "execute_result"
    }
   ],
   "source": [
    "l"
   ]
  },
  {
   "cell_type": "code",
   "execution_count": 63,
   "id": "4c502a44-7603-403d-89b5-58513a999b50",
   "metadata": {},
   "outputs": [
    {
     "data": {
      "text/plain": [
       "[1, 2, 3, 4, 5, 45]"
      ]
     },
     "execution_count": 63,
     "metadata": {},
     "output_type": "execute_result"
    }
   ],
   "source": [
    "l"
   ]
  },
  {
   "cell_type": "code",
   "execution_count": 64,
   "id": "d64199a6-9810-4cf7-9b69-230aa363ff37",
   "metadata": {},
   "outputs": [
    {
     "data": {
      "text/plain": [
       "[1, 4, 9, 16, 25, 2025]"
      ]
     },
     "execution_count": 64,
     "metadata": {},
     "output_type": "execute_result"
    }
   ],
   "source": [
    "list(map(lambda x: x**2,l))"
   ]
  },
  {
   "cell_type": "code",
   "execution_count": 65,
   "id": "b6eed6b1-fd5b-4545-b330-fe9766df5118",
   "metadata": {},
   "outputs": [],
   "source": [
    "l1=[1,2,3,4,5]\n",
    "l2=[6,7,8,910]"
   ]
  },
  {
   "cell_type": "code",
   "execution_count": 66,
   "id": "54dca80f-01c5-472f-8f9b-3096fc03e697",
   "metadata": {},
   "outputs": [
    {
     "data": {
      "text/plain": [
       "7"
      ]
     },
     "execution_count": 66,
     "metadata": {},
     "output_type": "execute_result"
    }
   ],
   "source": [
    "l1[0]+l2[0]"
   ]
  },
  {
   "cell_type": "code",
   "execution_count": 67,
   "id": "66d45382-b916-4ff0-b0f2-1dd2e173118f",
   "metadata": {},
   "outputs": [
    {
     "data": {
      "text/plain": [
       "[7, 9, 11, 914]"
      ]
     },
     "execution_count": 67,
     "metadata": {},
     "output_type": "execute_result"
    }
   ],
   "source": [
    "list(map(lambda x,y : x+y,l1,l2))"
   ]
  },
  {
   "cell_type": "code",
   "execution_count": 68,
   "id": "ba47131d-6c83-41f6-920e-c7808d854aa2",
   "metadata": {},
   "outputs": [],
   "source": [
    "s=\"pwskills\""
   ]
  },
  {
   "cell_type": "code",
   "execution_count": 69,
   "id": "551a2ce0-651a-4776-b844-c3a6de8d2ce0",
   "metadata": {},
   "outputs": [
    {
     "data": {
      "text/plain": [
       "['P', 'W', 'S', 'K', 'I', 'L', 'L', 'S']"
      ]
     },
     "execution_count": 69,
     "metadata": {},
     "output_type": "execute_result"
    }
   ],
   "source": [
    "list(map(lambda x:x.upper(), s))"
   ]
  },
  {
   "cell_type": "code",
   "execution_count": null,
   "id": "9e8ec5b5-8f60-4041-a98c-0f664810b6d2",
   "metadata": {},
   "outputs": [],
   "source": [
    "# Reduce function"
   ]
  },
  {
   "cell_type": "code",
   "execution_count": 71,
   "id": "5cfe1673-cc7f-499b-a881-4fd2c808cb50",
   "metadata": {},
   "outputs": [],
   "source": [
    "from functools import reduce"
   ]
  },
  {
   "cell_type": "code",
   "execution_count": 72,
   "id": "f3b33fce-12a6-4b47-95dc-337d904eef07",
   "metadata": {},
   "outputs": [],
   "source": [
    "l=[1,2,3,4,5,6]"
   ]
  },
  {
   "cell_type": "code",
   "execution_count": 73,
   "id": "307619f8-7b29-4419-9b9e-c4096989cbdc",
   "metadata": {},
   "outputs": [
    {
     "data": {
      "text/plain": [
       "21"
      ]
     },
     "execution_count": 73,
     "metadata": {},
     "output_type": "execute_result"
    }
   ],
   "source": [
    "reduce(lambda x,y : x+y, l)"
   ]
  },
  {
   "cell_type": "code",
   "execution_count": null,
   "id": "d66650b8-d44d-4ad8-ba91-f2d685bbd78e",
   "metadata": {},
   "outputs": [],
   "source": [
    "def add(x,y):\n",
    "    return x+y"
   ]
  },
  {
   "cell_type": "code",
   "execution_count": 74,
   "id": "e502c3b8-6456-418c-937f-323d11f08673",
   "metadata": {},
   "outputs": [
    {
     "data": {
      "text/plain": [
       "21"
      ]
     },
     "execution_count": 74,
     "metadata": {},
     "output_type": "execute_result"
    }
   ],
   "source": [
    "reduce(add,l)"
   ]
  },
  {
   "cell_type": "code",
   "execution_count": 75,
   "id": "17b5881d-30c9-4c26-ba68-54eb96303150",
   "metadata": {},
   "outputs": [
    {
     "data": {
      "text/plain": [
       "[1, 2, 3, 4, 5, 6]"
      ]
     },
     "execution_count": 75,
     "metadata": {},
     "output_type": "execute_result"
    }
   ],
   "source": [
    "l"
   ]
  },
  {
   "cell_type": "code",
   "execution_count": 79,
   "id": "bfcaf73a-64ad-495a-bb34-58862135963d",
   "metadata": {},
   "outputs": [
    {
     "data": {
      "text/plain": [
       "21"
      ]
     },
     "execution_count": 79,
     "metadata": {},
     "output_type": "execute_result"
    }
   ],
   "source": [
    "reduce(lambda x,y : x+y,l )"
   ]
  },
  {
   "cell_type": "code",
   "execution_count": 80,
   "id": "f5714786-a6a5-4245-9251-1322b73f1b2d",
   "metadata": {},
   "outputs": [
    {
     "data": {
      "text/plain": [
       "[1, 2, 3, 4, 5, 6]"
      ]
     },
     "execution_count": 80,
     "metadata": {},
     "output_type": "execute_result"
    }
   ],
   "source": [
    "l"
   ]
  },
  {
   "cell_type": "code",
   "execution_count": 81,
   "id": "fa771be9-ce1d-4b69-9b8e-734a11ed9be1",
   "metadata": {},
   "outputs": [
    {
     "data": {
      "text/plain": [
       "6"
      ]
     },
     "execution_count": 81,
     "metadata": {},
     "output_type": "execute_result"
    }
   ],
   "source": [
    "reduce(lambda x,y: x if x>y else y,l)"
   ]
  },
  {
   "cell_type": "markdown",
   "id": "5286d31c-b7bf-4600-997b-e60e59f6aed8",
   "metadata": {},
   "source": [
    "# Filter function"
   ]
  },
  {
   "cell_type": "code",
   "execution_count": 82,
   "id": "ae48a50c-1f03-4568-aa9d-f203b964457a",
   "metadata": {},
   "outputs": [
    {
     "data": {
      "text/plain": [
       "[1, 2, 3, 4, 5, 6]"
      ]
     },
     "execution_count": 82,
     "metadata": {},
     "output_type": "execute_result"
    }
   ],
   "source": [
    "l"
   ]
  },
  {
   "cell_type": "code",
   "execution_count": 85,
   "id": "69cbd07c-2381-4253-8b51-86a83b27b1fe",
   "metadata": {},
   "outputs": [
    {
     "data": {
      "text/plain": [
       "[2, 4, 6]"
      ]
     },
     "execution_count": 85,
     "metadata": {},
     "output_type": "execute_result"
    }
   ],
   "source": [
    "list(filter(lambda x: x%2==0,l))"
   ]
  },
  {
   "cell_type": "code",
   "execution_count": 86,
   "id": "08d5008b-02cd-4842-922f-378c70a588bf",
   "metadata": {},
   "outputs": [
    {
     "data": {
      "text/plain": [
       "[1, 3, 5]"
      ]
     },
     "execution_count": 86,
     "metadata": {},
     "output_type": "execute_result"
    }
   ],
   "source": [
    "list(filter(lambda x: x%2!=0,l))"
   ]
  },
  {
   "cell_type": "code",
   "execution_count": 90,
   "id": "e590daaf-1433-4155-94b1-3e6839b58e2b",
   "metadata": {},
   "outputs": [],
   "source": [
    "l1=[-1,2,3,4,6,7,-3,-7]"
   ]
  },
  {
   "cell_type": "code",
   "execution_count": 91,
   "id": "2835acfb-a35f-4d38-97b8-701b9dfaa088",
   "metadata": {},
   "outputs": [
    {
     "data": {
      "text/plain": [
       "[-1, 2, 3, 4, 6, 7, -3, -7]"
      ]
     },
     "execution_count": 91,
     "metadata": {},
     "output_type": "execute_result"
    }
   ],
   "source": [
    "l1"
   ]
  },
  {
   "cell_type": "code",
   "execution_count": 92,
   "id": "55a105b4-8819-4200-9a57-ca97946a1ae8",
   "metadata": {},
   "outputs": [
    {
     "data": {
      "text/plain": [
       "[-1, -3, -7]"
      ]
     },
     "execution_count": 92,
     "metadata": {},
     "output_type": "execute_result"
    }
   ],
   "source": [
    "list(filter(lambda x: x<0,l1))"
   ]
  },
  {
   "cell_type": "code",
   "execution_count": 93,
   "id": "752cc01c-e9e9-4a1a-a9fe-27e91b4f387e",
   "metadata": {},
   "outputs": [
    {
     "data": {
      "text/plain": [
       "[2, 3, 4, 6, 7]"
      ]
     },
     "execution_count": 93,
     "metadata": {},
     "output_type": "execute_result"
    }
   ],
   "source": [
    "list(filter(lambda x: x>=0,l1))"
   ]
  },
  {
   "cell_type": "code",
   "execution_count": 94,
   "id": "e76bee69-d212-4a23-b31f-6a6ebb64e3c8",
   "metadata": {},
   "outputs": [],
   "source": [
    "l2=[\"Sudh\", \"Rishabh\", \"Singh\", \"Krish\"]"
   ]
  },
  {
   "cell_type": "code",
   "execution_count": 95,
   "id": "4d5a97c1-4e08-4946-893a-dce77eea5725",
   "metadata": {},
   "outputs": [
    {
     "data": {
      "text/plain": [
       "['Sudh', 'Rishabh', 'Singh', 'Krish']"
      ]
     },
     "execution_count": 95,
     "metadata": {},
     "output_type": "execute_result"
    }
   ],
   "source": [
    "l2"
   ]
  },
  {
   "cell_type": "code",
   "execution_count": 98,
   "id": "bb176813-f87c-4eb9-abcb-cdd6cf7e916f",
   "metadata": {},
   "outputs": [
    {
     "data": {
      "text/plain": [
       "['Sudh', 'Singh', 'Krish']"
      ]
     },
     "execution_count": 98,
     "metadata": {},
     "output_type": "execute_result"
    }
   ],
   "source": [
    "list(filter(lambda x:len(x)<6, l2))"
   ]
  },
  {
   "cell_type": "code",
   "execution_count": 99,
   "id": "255889e7-0fad-47c1-87c7-270bf22d5996",
   "metadata": {},
   "outputs": [
    {
     "name": "stdout",
     "output_type": "stream",
     "text": [
      "120\n"
     ]
    }
   ],
   "source": [
    "from functools import reduce\n",
    "\n",
    "numbers = [1, 2, 3, 4, 5]\n",
    "\n",
    "product = reduce(lambda x, y: x*y, numbers)\n",
    "\n",
    "print(product)"
   ]
  },
  {
   "cell_type": "code",
   "execution_count": 100,
   "id": "25cb28db-f451-4245-82f8-f30ddaeb8457",
   "metadata": {},
   "outputs": [
    {
     "name": "stdout",
     "output_type": "stream",
     "text": [
      "['0', '10', '20', '30', '40', '50']\n"
     ]
    }
   ],
   "source": [
    "list_out=[]\n",
    "\n",
    "for i in range(0,51,10):\n",
    "\n",
    "    list_out.append(str(i))\n",
    "\n",
    "print(list_out)"
   ]
  },
  {
   "cell_type": "code",
   "execution_count": null,
   "id": "2cf31737-c505-4255-bbe1-4b688c4b6b9f",
   "metadata": {},
   "outputs": [],
   "source": []
  }
 ],
 "metadata": {
  "kernelspec": {
   "display_name": "Python 3 (ipykernel)",
   "language": "python",
   "name": "python3"
  },
  "language_info": {
   "codemirror_mode": {
    "name": "ipython",
    "version": 3
   },
   "file_extension": ".py",
   "mimetype": "text/x-python",
   "name": "python",
   "nbconvert_exporter": "python",
   "pygments_lexer": "ipython3",
   "version": "3.10.8"
  }
 },
 "nbformat": 4,
 "nbformat_minor": 5
}
