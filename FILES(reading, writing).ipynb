{
 "cells": [
  {
   "cell_type": "markdown",
   "id": "2c66acee-729e-4874-b20b-4247c90b85d9",
   "metadata": {},
   "source": [
    "# files"
   ]
  },
  {
   "cell_type": "code",
   "execution_count": 1,
   "id": "fdeee4d7-9ad3-43a0-ba6c-52f9b6182f53",
   "metadata": {},
   "outputs": [],
   "source": [
    "f = open(\"text.txt\",'a')"
   ]
  },
  {
   "cell_type": "code",
   "execution_count": 2,
   "id": "222ac125-c648-4ec0-859f-e9ce9ee6584b",
   "metadata": {},
   "outputs": [
    {
     "data": {
      "text/plain": [
       "'/home/jovyan/work'"
      ]
     },
     "execution_count": 2,
     "metadata": {},
     "output_type": "execute_result"
    }
   ],
   "source": [
    "pwd ##current directory"
   ]
  },
  {
   "cell_type": "code",
   "execution_count": 3,
   "id": "410ebebb-0c36-449a-ba6c-61ce7d51fe2b",
   "metadata": {},
   "outputs": [
    {
     "name": "stdout",
     "output_type": "stream",
     "text": [
      " 0pps1_Day7.ipynb\n",
      " ASSIGN.lambda,filter,map,reduce.ipynb\n",
      "'ASSIGNMENT_(functions, generator fn).ipynb'\n",
      " Assignment_opps1.ipynb\n",
      "'ASSIGNMENT_(tuples,dict,set).ipynb'\n",
      " DAY_2.ipynb\n",
      " DAY_4_Strings_List.ipynb\n",
      " DAY_5.ipynb\n",
      " DAY_6_functions.ipynb\n",
      "'FILES(reading, writing).ipynb'\n",
      " ML_mpdel.ipynb\n",
      " opps_assignment_2.ipynb\n",
      " opps_day8.11feb.ipynb\n",
      "'opps(poly_encaps_inheritance)_day8.ipynb'\n",
      " README.md\n",
      " sample-code.ipynb\n",
      " student_dataset.csv\n",
      " student_model_final.ipynb\n",
      " test1.json\n",
      " test1.txt\n",
      " test3.csv\n",
      " test4.bin\n",
      " test.log\n",
      " text.txt\n",
      " tst2.log\n"
     ]
    }
   ],
   "source": [
    "ls"
   ]
  },
  {
   "cell_type": "code",
   "execution_count": 4,
   "id": "b028f457-6c0e-4636-9586-b8aff01500ab",
   "metadata": {},
   "outputs": [
    {
     "data": {
      "text/plain": [
       "765"
      ]
     },
     "execution_count": 4,
     "metadata": {},
     "output_type": "execute_result"
    }
   ],
   "source": [
    "f.write(\"Data Science Masters course is highly curated and uniquely designed according to the latest industry standards. This program instills students the skills essential to knowledge discovery efforts to identify standard, novel, and truly differentiated solutions and decision-making, including skills in managing, querying, analyzing, visualizing, and extracting meaning from extremely large data sets. This trending program provides students with the statistical, mathematical and computational skills needed to meet the large-scale data science challenges of today's professional world. You will learn all the stack required to work in data science industry including cloud infrastructure and real-time industry projects. This course will be taught in Hindi language.\")"
   ]
  },
  {
   "cell_type": "code",
   "execution_count": 5,
   "id": "7491ec9d-7c1e-4791-88cb-ca5a9d31c5ee",
   "metadata": {},
   "outputs": [],
   "source": [
    "f.close()"
   ]
  },
  {
   "cell_type": "code",
   "execution_count": 6,
   "id": "348ed959-7e2f-413b-9bb4-34e96f335650",
   "metadata": {},
   "outputs": [],
   "source": [
    "data=open(\"text.txt\",\"r\")"
   ]
  },
  {
   "cell_type": "code",
   "execution_count": 7,
   "id": "b45860f1-76d3-4267-9d63-4a6cba4c226d",
   "metadata": {},
   "outputs": [
    {
     "data": {
      "text/plain": [
       "\"Data Science Masters course is highly curated and uniquely designed according to the latest industry standards. This program instills students the skills essential to knowledge discovery efforts to identify standard, novel, and truly differentiated solutions and decision-making, including skills in managing, querying, analyzing, visualizing, and extracting meaning from extremely large data sets. This trending program provides students with the statistical, mathematical and computational skills needed to meet the large-scale data science challenges of today's professional world. You will learn all the stack required to work in data science industry including cloud infrastructure and real-time industry projects. This course will be taught in Hindi language.\""
      ]
     },
     "execution_count": 7,
     "metadata": {},
     "output_type": "execute_result"
    }
   ],
   "source": [
    "data.read()"
   ]
  },
  {
   "cell_type": "code",
   "execution_count": 8,
   "id": "f875b3fb-3b6d-428e-b296-2327e2bba19b",
   "metadata": {},
   "outputs": [
    {
     "data": {
      "text/plain": [
       "''"
      ]
     },
     "execution_count": 8,
     "metadata": {},
     "output_type": "execute_result"
    }
   ],
   "source": [
    "data.read()"
   ]
  },
  {
   "cell_type": "code",
   "execution_count": 9,
   "id": "c985f253-32c6-408b-86ed-6b117594809f",
   "metadata": {},
   "outputs": [
    {
     "data": {
      "text/plain": [
       "0"
      ]
     },
     "execution_count": 9,
     "metadata": {},
     "output_type": "execute_result"
    }
   ],
   "source": [
    "data.seek(0)"
   ]
  },
  {
   "cell_type": "code",
   "execution_count": 10,
   "id": "b7cb5a3a-48d4-445a-bb67-4f54a304d80f",
   "metadata": {},
   "outputs": [
    {
     "data": {
      "text/plain": [
       "\"Data Science Masters course is highly curated and uniquely designed according to the latest industry standards. This program instills students the skills essential to knowledge discovery efforts to identify standard, novel, and truly differentiated solutions and decision-making, including skills in managing, querying, analyzing, visualizing, and extracting meaning from extremely large data sets. This trending program provides students with the statistical, mathematical and computational skills needed to meet the large-scale data science challenges of today's professional world. You will learn all the stack required to work in data science industry including cloud infrastructure and real-time industry projects. This course will be taught in Hindi language.\""
      ]
     },
     "execution_count": 10,
     "metadata": {},
     "output_type": "execute_result"
    }
   ],
   "source": [
    "data.read()"
   ]
  },
  {
   "cell_type": "code",
   "execution_count": 11,
   "id": "3fd235fa-b986-4ed6-9a2e-638547008f26",
   "metadata": {},
   "outputs": [
    {
     "data": {
      "text/plain": [
       "100"
      ]
     },
     "execution_count": 11,
     "metadata": {},
     "output_type": "execute_result"
    }
   ],
   "source": [
    "data.seek(100)"
   ]
  },
  {
   "cell_type": "code",
   "execution_count": 12,
   "id": "1f017441-f14b-4102-a2f9-394e67626ab7",
   "metadata": {},
   "outputs": [
    {
     "data": {
      "text/plain": [
       "\" standards. This program instills students the skills essential to knowledge discovery efforts to identify standard, novel, and truly differentiated solutions and decision-making, including skills in managing, querying, analyzing, visualizing, and extracting meaning from extremely large data sets. This trending program provides students with the statistical, mathematical and computational skills needed to meet the large-scale data science challenges of today's professional world. You will learn all the stack required to work in data science industry including cloud infrastructure and real-time industry projects. This course will be taught in Hindi language.\""
      ]
     },
     "execution_count": 12,
     "metadata": {},
     "output_type": "execute_result"
    }
   ],
   "source": [
    "data.read()"
   ]
  },
  {
   "cell_type": "code",
   "execution_count": 13,
   "id": "66aeaa95-1130-43ef-b361-c94e57b7f1b9",
   "metadata": {},
   "outputs": [],
   "source": [
    "data1= open(\"text.txt\",\"r\")"
   ]
  },
  {
   "cell_type": "code",
   "execution_count": 14,
   "id": "111bbd39-1ed5-4c99-a0e3-1d2e2d2fa977",
   "metadata": {},
   "outputs": [
    {
     "name": "stdout",
     "output_type": "stream",
     "text": [
      "Data Science Masters course is highly curated and uniquely designed according to the latest industry standards. This program instills students the skills essential to knowledge discovery efforts to identify standard, novel, and truly differentiated solutions and decision-making, including skills in managing, querying, analyzing, visualizing, and extracting meaning from extremely large data sets. This trending program provides students with the statistical, mathematical and computational skills needed to meet the large-scale data science challenges of today's professional world. You will learn all the stack required to work in data science industry including cloud infrastructure and real-time industry projects. This course will be taught in Hindi language.\n"
     ]
    }
   ],
   "source": [
    "for i in data1:\n",
    "    print(i)"
   ]
  },
  {
   "cell_type": "code",
   "execution_count": 15,
   "id": "8632a84b-2c77-40f0-b561-3483e362eac5",
   "metadata": {},
   "outputs": [],
   "source": [
    "import os"
   ]
  },
  {
   "cell_type": "code",
   "execution_count": 16,
   "id": "ffbe3328-c8df-4063-bd62-11ed3b2f0975",
   "metadata": {},
   "outputs": [
    {
     "data": {
      "text/plain": [
       "765"
      ]
     },
     "execution_count": 16,
     "metadata": {},
     "output_type": "execute_result"
    }
   ],
   "source": [
    "os.path.getsize(\"text.txt\")"
   ]
  },
  {
   "cell_type": "code",
   "execution_count": 17,
   "id": "3e14ee8d-5639-4c40-83c1-2ee91371a760",
   "metadata": {},
   "outputs": [],
   "source": [
    "import shutil"
   ]
  },
  {
   "cell_type": "code",
   "execution_count": 18,
   "id": "26ec826e-e96a-4568-8afc-7993dabe9e3f",
   "metadata": {},
   "outputs": [
    {
     "data": {
      "text/plain": [
       "'new_text.txt'"
      ]
     },
     "execution_count": 18,
     "metadata": {},
     "output_type": "execute_result"
    }
   ],
   "source": [
    "shutil.copy(\"text.txt\",\"new_text.txt\")"
   ]
  },
  {
   "cell_type": "code",
   "execution_count": 19,
   "id": "b27da5ae-2dc6-4f74-ac03-71d4a0bcd17f",
   "metadata": {},
   "outputs": [],
   "source": [
    "os.remove(\"text.txt\")"
   ]
  },
  {
   "cell_type": "code",
   "execution_count": 20,
   "id": "65fa86b5-057f-45fb-a525-2f3cdc96d213",
   "metadata": {},
   "outputs": [
    {
     "name": "stdout",
     "output_type": "stream",
     "text": [
      "Data Science Masters course is highly curated and uniquely designed according to the latest industry standards. This program instills students the skills essential to knowledge discovery efforts to identify standard, novel, and truly differentiated solutions and decision-making, including skills in managing, querying, analyzing, visualizing, and extracting meaning from extremely large data sets. This trending program provides students with the statistical, mathematical and computational skills needed to meet the large-scale data science challenges of today's professional world. You will learn all the stack required to work in data science industry including cloud infrastructure and real-time industry projects. This course will be taught in Hindi language.\n"
     ]
    }
   ],
   "source": [
    "with open(\"new_text.txt\",\"r\") as f:\n",
    "    print(f.read())"
   ]
  },
  {
   "cell_type": "code",
   "execution_count": 21,
   "id": "548d9efb-1916-4b72-8486-b2a88131d12d",
   "metadata": {},
   "outputs": [],
   "source": [
    "os.rename(\"new_text.txt\",\"test1.txt\")"
   ]
  },
  {
   "cell_type": "markdown",
   "id": "d8a4344b-b6cf-4e97-973a-199e51f25bb5",
   "metadata": {},
   "source": [
    " # Reading & Writing files"
   ]
  },
  {
   "cell_type": "code",
   "execution_count": 22,
   "id": "5761d818-0715-4c9f-852e-a55004c33190",
   "metadata": {},
   "outputs": [],
   "source": [
    "d={\"name\": \"Rish\", \"mail\":\"r@gmail.com\",\"phone_no\": 80535456,\"subj\":[\"data science\",\"bigdata\"]}"
   ]
  },
  {
   "cell_type": "code",
   "execution_count": 23,
   "id": "6e388a5e-5acd-4a65-8bcc-b4d2e5edbf15",
   "metadata": {},
   "outputs": [],
   "source": [
    "import json"
   ]
  },
  {
   "cell_type": "code",
   "execution_count": 24,
   "id": "934bdbd1-c0ae-4773-8fcf-ef4b2f9c7e0f",
   "metadata": {},
   "outputs": [],
   "source": [
    "with open(\"test1.json\",\"w\") as f:\n",
    "    json.dump(d,f)"
   ]
  },
  {
   "cell_type": "code",
   "execution_count": 25,
   "id": "a4f9cb83-74ba-4eb9-8ada-9338675660f1",
   "metadata": {},
   "outputs": [],
   "source": [
    "with open (\"test1.json\",\"r\") as f:\n",
    "    d1=json.load(f)"
   ]
  },
  {
   "cell_type": "code",
   "execution_count": 26,
   "id": "937b91f5-e636-4e05-a22a-846e23f8a435",
   "metadata": {},
   "outputs": [
    {
     "data": {
      "text/plain": [
       "{'name': 'Rish',\n",
       " 'mail': 'r@gmail.com',\n",
       " 'phone_no': 80535456,\n",
       " 'subj': ['data science', 'bigdata']}"
      ]
     },
     "execution_count": 26,
     "metadata": {},
     "output_type": "execute_result"
    }
   ],
   "source": [
    "d1\n"
   ]
  },
  {
   "cell_type": "code",
   "execution_count": 27,
   "id": "8ad19601-4edb-4c5a-a3f5-e2f318689908",
   "metadata": {},
   "outputs": [
    {
     "data": {
      "text/plain": [
       "'bigdata'"
      ]
     },
     "execution_count": 27,
     "metadata": {},
     "output_type": "execute_result"
    }
   ],
   "source": [
    "d1[\"subj\"][1]"
   ]
  },
  {
   "cell_type": "code",
   "execution_count": 28,
   "id": "91c03094-fda5-4808-8a55-d20b47348c7a",
   "metadata": {},
   "outputs": [],
   "source": [
    "data=[\"name\", \"e\",\"number\",[4,5,6],[\"rishabh\",567,45]]"
   ]
  },
  {
   "cell_type": "code",
   "execution_count": 29,
   "id": "83c0d3e6-c3f5-4f68-884d-9b0b6a0a64ac",
   "metadata": {},
   "outputs": [],
   "source": [
    "import csv"
   ]
  },
  {
   "cell_type": "code",
   "execution_count": 30,
   "id": "e59e6248-19ff-4154-9659-5f58be8c9614",
   "metadata": {},
   "outputs": [
    {
     "ename": "AttributeError",
     "evalue": "module 'csv' has no attribute 'writter'",
     "output_type": "error",
     "traceback": [
      "\u001b[0;31m---------------------------------------------------------------------------\u001b[0m",
      "\u001b[0;31mAttributeError\u001b[0m                            Traceback (most recent call last)",
      "Cell \u001b[0;32mIn[30], line 2\u001b[0m\n\u001b[1;32m      1\u001b[0m \u001b[38;5;28;01mwith\u001b[39;00m \u001b[38;5;28mopen\u001b[39m (\u001b[38;5;124m\"\u001b[39m\u001b[38;5;124mtest3.csv\u001b[39m\u001b[38;5;124m\"\u001b[39m,\u001b[38;5;124m\"\u001b[39m\u001b[38;5;124mw\u001b[39m\u001b[38;5;124m\"\u001b[39m) \u001b[38;5;28;01mas\u001b[39;00m f:\n\u001b[0;32m----> 2\u001b[0m     w\u001b[38;5;241m=\u001b[39m\u001b[43mcsv\u001b[49m\u001b[38;5;241;43m.\u001b[39;49m\u001b[43mwritter\u001b[49m(f)\n\u001b[1;32m      3\u001b[0m     \u001b[38;5;28;01mfor\u001b[39;00m i \u001b[38;5;129;01min\u001b[39;00m data:\n\u001b[1;32m      4\u001b[0m         w\u001b[38;5;241m.\u001b[39mwriterow(i)\n",
      "\u001b[0;31mAttributeError\u001b[0m: module 'csv' has no attribute 'writter'"
     ]
    }
   ],
   "source": [
    "with open (\"test3.csv\",\"w\") as f:\n",
    "    w=csv.writter(f)\n",
    "    for i in data:\n",
    "        w.writerow(i)"
   ]
  },
  {
   "cell_type": "code",
   "execution_count": null,
   "id": "234cea46-dda2-4097-b18c-6300927c2905",
   "metadata": {},
   "outputs": [],
   "source": [
    "with open (\"test3.csv\",\"r\") as f:\n",
    "    read=csv.reader(f)\n",
    "    for i in read:\n",
    "        print(i)"
   ]
  },
  {
   "cell_type": "code",
   "execution_count": null,
   "id": "081d032b-c289-48bc-8cb0-2f79ddfd4ef0",
   "metadata": {},
   "outputs": [],
   "source": [
    "with open (\"test4.bin\", \"wb\") as f:\n",
    "    f.write(b\"\\x01\\x02\\x03\")"
   ]
  },
  {
   "cell_type": "code",
   "execution_count": null,
   "id": "83c4f49a-f756-4191-913e-696aa9eba626",
   "metadata": {},
   "outputs": [],
   "source": [
    "with open (\"test4.bin\", \"rb\") as f:\n",
    "    print(f.read())"
   ]
  },
  {
   "cell_type": "markdown",
   "id": "4137f3b3-5365-46f5-af42-73c69b552288",
   "metadata": {},
   "source": [
    "# Buffer read and write"
   ]
  },
  {
   "cell_type": "code",
   "execution_count": null,
   "id": "27f5d9d7-dd2b-412d-a268-434e092408a1",
   "metadata": {},
   "outputs": [],
   "source": [
    "import io"
   ]
  },
  {
   "cell_type": "code",
   "execution_count": null,
   "id": "34004536-5362-4198-b92c-58ab11901aa1",
   "metadata": {},
   "outputs": [],
   "source": [
    "with open (\"test1.txt\", \"wb\") as f:\n",
    "    file=io.BufferedWriter(f)\n",
    "    file.write(b\"Data science is important because it combines tools, methods, and technology to generate meaning from data. Modern organizations are inundated with data; there is a proliferation of devices that can automatically collect and store information. Online systems and payment portals capture more data in the fields of e-commerce, medicine, finance, and every other aspect of human life. We have text, audio, video, and image data available in vast quantities.  s\\n,\")\n",
    "    file.write(b\"this is my second line\")\n",
    "    file.flush()"
   ]
  },
  {
   "cell_type": "markdown",
   "id": "7aa1fcbd-f590-4371-80ad-2eb848cf689b",
   "metadata": {},
   "source": [
    "with open(\"test1.txt\", \"rb\") as f:\n",
    "    file1=io.BufferedReader(f)\n",
    "    data=file1.read()\n",
    "    print(data)"
   ]
  },
  {
   "cell_type": "code",
   "execution_count": null,
   "id": "e6c989c6-9955-4afc-b5ac-551ab5f670d0",
   "metadata": {},
   "outputs": [],
   "source": [
    "with open(\"test1.txt\", \"rb\") as f:\n",
    "    file1=io.BufferedReader(f)\n",
    "    data=file1.read(200)\n",
    "    print(data)"
   ]
  },
  {
   "cell_type": "markdown",
   "id": "19edf246-7ccc-4d27-86ea-e5d1afe17dc8",
   "metadata": {},
   "source": [
    "# logging and debugging"
   ]
  },
  {
   "cell_type": "code",
   "execution_count": 32,
   "id": "0cb1e094-8623-4905-a5f2-7a8b2307c817",
   "metadata": {},
   "outputs": [],
   "source": [
    "import logging"
   ]
  },
  {
   "cell_type": "code",
   "execution_count": null,
   "id": "b21b648e-a257-4c0b-bc06-0878ccc536eb",
   "metadata": {},
   "outputs": [],
   "source": [
    "logging.basicConfig(filename= \"test.log\",level=logging.INFO)"
   ]
  },
  {
   "cell_type": "code",
   "execution_count": null,
   "id": "5b482b0f-55e4-4623-9bab-5726af9fb27a",
   "metadata": {},
   "outputs": [],
   "source": [
    "logging.info(\"this  is my kine of execution\")"
   ]
  },
  {
   "cell_type": "code",
   "execution_count": null,
   "id": "f893cc5a-45fd-48f0-bc80-9f1185c78965",
   "metadata": {},
   "outputs": [],
   "source": [
    "logging.error(\"this is error\")"
   ]
  },
  {
   "cell_type": "code",
   "execution_count": null,
   "id": "029538c5-2bc0-4a30-b9f5-c85e10978404",
   "metadata": {},
   "outputs": [],
   "source": [
    "logging.critical(\"this ismy critical\")"
   ]
  },
  {
   "cell_type": "code",
   "execution_count": null,
   "id": "35682fdc-3c5a-4d33-8acd-6ce971182f9c",
   "metadata": {},
   "outputs": [],
   "source": [
    "logging.warning(\"this is mu warning\")"
   ]
  },
  {
   "cell_type": "code",
   "execution_count": null,
   "id": "8532f470-3d43-433e-918f-64c3fa39b70f",
   "metadata": {},
   "outputs": [],
   "source": [
    "logging.shutdown()"
   ]
  },
  {
   "cell_type": "code",
   "execution_count": null,
   "id": "3e17ecde-9a83-4ac4-87f0-ca4a7ec736b9",
   "metadata": {},
   "outputs": [],
   "source": [
    "logging.basicConfig(filename = \"tst2.log\",level=logging.DEBUG,format =\"%(asctime)s %(message)s\")"
   ]
  },
  {
   "cell_type": "code",
   "execution_count": null,
   "id": "d3828b56-ca01-4c8b-ae8d-6f740dd654c5",
   "metadata": {},
   "outputs": [],
   "source": [
    "logging.debug(\"this is my debug log\")"
   ]
  },
  {
   "cell_type": "code",
   "execution_count": null,
   "id": "cee4ae09-027e-416e-8b38-7b11f19e8e3f",
   "metadata": {},
   "outputs": [],
   "source": [
    "logging.warning(\"This is my warning log\")"
   ]
  },
  {
   "cell_type": "code",
   "execution_count": null,
   "id": "6c6b9361-6b2e-40c3-b71d-f6caf89723ab",
   "metadata": {},
   "outputs": [],
   "source": [
    "logging.shutdown()"
   ]
  },
  {
   "cell_type": "code",
   "execution_count": 34,
   "id": "45a9ea2c-c037-4069-8caa-14b0990a9bc2",
   "metadata": {},
   "outputs": [],
   "source": [
    "logging.basicConfig(file_name=\"test3.log\", level = logging.debug, format= \"%(asctime)s %(name)s %(levelname)s %(message)s \")"
   ]
  },
  {
   "cell_type": "code",
   "execution_count": null,
   "id": "c766dde6-03a6-4b16-909d-b9ee265f6db5",
   "metadata": {},
   "outputs": [],
   "source": []
  },
  {
   "cell_type": "code",
   "execution_count": 33,
   "id": "63d70a38-a2fc-4cc7-8fc5-b09baa404c5a",
   "metadata": {},
   "outputs": [],
   "source": [
    "logging.basicConfig(filename= \"testt.log\",level=logging.INFO)"
   ]
  },
  {
   "cell_type": "code",
   "execution_count": 40,
   "id": "c76006fa-b4c2-48c6-a5b3-608b4eb678e1",
   "metadata": {},
   "outputs": [],
   "source": [
    "logging.info(\"This is the logging info\")"
   ]
  },
  {
   "cell_type": "code",
   "execution_count": 41,
   "id": "55e28ca0-b994-4294-b783-4e3822ed66e2",
   "metadata": {},
   "outputs": [],
   "source": [
    "l=[1,2,3,4,[5,6,7], \"rish\", \"singh\"]"
   ]
  },
  {
   "cell_type": "code",
   "execution_count": 49,
   "id": "6d067f56-4692-4ce1-98e0-b8fe84f0436c",
   "metadata": {},
   "outputs": [],
   "source": [
    "l1=[]\n",
    "l2=[]\n",
    "for i in l:\n",
    "    logging.info(\"This is the start of my for loop {}\".format(l))\n",
    "    logging.info(\"This is the value i m logging {}\".format(i))\n",
    "    if type(i)==list:\n",
    "        for j in i:\n",
    "            logging.info(\"logging in my j {j} and i is {i}\".format(i=i, j=j))\n",
    "            if type(j)==int:\n",
    "                l1.append(j)\n",
    "    elif type(i)==int:\n",
    "        l1.append(i)\n",
    "    else:\n",
    "        if type(i)==str:\n",
    "            l2.append(i)\n",
    "logging.info (\"This is my final result with all int {l1}, with all str {l2}\".format(l1=l1,l2=l2))"
   ]
  },
  {
   "cell_type": "code",
   "execution_count": 38,
   "id": "33161d41-3932-464c-a71e-81410911054a",
   "metadata": {},
   "outputs": [
    {
     "data": {
      "text/plain": [
       "[1, 2, 3, 4, 5, 6, 7]"
      ]
     },
     "execution_count": 38,
     "metadata": {},
     "output_type": "execute_result"
    }
   ],
   "source": [
    "l1"
   ]
  },
  {
   "cell_type": "code",
   "execution_count": 39,
   "id": "da8d1f4a-8e5c-4287-a623-0ec4bd9d5a19",
   "metadata": {},
   "outputs": [
    {
     "data": {
      "text/plain": [
       "['rish', 'singh']"
      ]
     },
     "execution_count": 39,
     "metadata": {},
     "output_type": "execute_result"
    }
   ],
   "source": [
    "l2"
   ]
  },
  {
   "cell_type": "code",
   "execution_count": null,
   "id": "6ffe2410-f505-4214-9205-465f257bd039",
   "metadata": {},
   "outputs": [],
   "source": []
  }
 ],
 "metadata": {
  "kernelspec": {
   "display_name": "Python 3 (ipykernel)",
   "language": "python",
   "name": "python3"
  },
  "language_info": {
   "codemirror_mode": {
    "name": "ipython",
    "version": 3
   },
   "file_extension": ".py",
   "mimetype": "text/x-python",
   "name": "python",
   "nbconvert_exporter": "python",
   "pygments_lexer": "ipython3",
   "version": "3.10.8"
  }
 },
 "nbformat": 4,
 "nbformat_minor": 5
}
