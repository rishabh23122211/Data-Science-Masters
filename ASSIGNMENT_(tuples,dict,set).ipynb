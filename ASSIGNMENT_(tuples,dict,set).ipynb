{
 "cells": [
  {
   "cell_type": "markdown",
   "id": "84658aa5-779f-485e-a08f-4e2cae84170f",
   "metadata": {},
   "source": [
    "## Q1: What are the characteristics of the tuples? Is tuple immutable?"
   ]
  },
  {
   "cell_type": "markdown",
   "id": "a0a86115-460a-451e-9b06-749c3f86acfa",
   "metadata": {},
   "source": [
    "### These tuples are an ordered collection of elements of different data types. Furthermore, we represent them by writing the elements inside the parenthesis separated by commas. We can also define tuples as lists that we cannot change. Therefore, we can call them immutable tuples."
   ]
  },
  {
   "cell_type": "markdown",
   "id": "5895875a-1f8d-49cf-b143-7c54eeef6b9b",
   "metadata": {},
   "source": [
    "## Q2. What are the two tuple methods in python? python? Give an example of each method. Give a reason why tuples have only two in-built methods as compared to Lists."
   ]
  },
  {
   "cell_type": "markdown",
   "id": "b7334f8f-775b-4678-b930-b23a578d6231",
   "metadata": {},
   "source": [
    "### There are only two tuple methods count() and index() that a tuple object can call."
   ]
  },
  {
   "cell_type": "code",
   "execution_count": 3,
   "id": "66fc02ca-f6ad-4faa-ab12-8deca4bd8961",
   "metadata": {},
   "outputs": [
    {
     "data": {
      "text/plain": [
       "(1, 2, 3, True, 1, 6)"
      ]
     },
     "execution_count": 3,
     "metadata": {},
     "output_type": "execute_result"
    }
   ],
   "source": [
    "tuple=(1,2,3,True,1,6)\n",
    "tuple\n"
   ]
  },
  {
   "cell_type": "code",
   "execution_count": 4,
   "id": "1535a2af-8475-45b3-b5b6-5cbe3a14f4c6",
   "metadata": {},
   "outputs": [
    {
     "data": {
      "text/plain": [
       "3"
      ]
     },
     "execution_count": 4,
     "metadata": {},
     "output_type": "execute_result"
    }
   ],
   "source": [
    "tuple.count(1)"
   ]
  },
  {
   "cell_type": "markdown",
   "id": "685f4000-1ed4-491c-a012-cd1a60b738e0",
   "metadata": {},
   "source": [
    "tuple.index(True)"
   ]
  },
  {
   "cell_type": "code",
   "execution_count": 6,
   "id": "306c1c90-6044-40e3-bd75-643a2d5a6d89",
   "metadata": {},
   "outputs": [
    {
     "data": {
      "text/plain": [
       "2"
      ]
     },
     "execution_count": 6,
     "metadata": {},
     "output_type": "execute_result"
    }
   ],
   "source": [
    "tuple.index(3)"
   ]
  },
  {
   "cell_type": "markdown",
   "id": "712c64b5-8279-4dda-95a3-422ce8aed616",
   "metadata": {},
   "source": [
    "### 1.Tuples are faster than lists\n",
    "### 2.It makes your code safer if you “write-protect” data that does not need to be changed\n",
    "### 3.Some tuples can be used as dictionary keys (specifically, tuples that contain immutable values like strings, numbers, and other tuples)"
   ]
  },
  {
   "cell_type": "markdown",
   "id": "8eba45e6-c544-4789-abeb-6ad310aa9341",
   "metadata": {},
   "source": [
    "## Q3. Which collection datatypes in python do not allow duplicate items? Write a code using a set to remove duplicates from the given list."
   ]
  },
  {
   "cell_type": "code",
   "execution_count": 9,
   "id": "34a285ec-4861-4d28-a5a5-7a49644f6d30",
   "metadata": {},
   "outputs": [
    {
     "name": "stdout",
     "output_type": "stream",
     "text": [
      "[1, 1, 1, 2, 1, 3, 1, 4, 2, 1, 2, 2, 2, 3, 2, 4, 3, 1, 3, 2, 3, 3, 3, 4, 4, 1, 4, 2, 4, 3, 4, 4] "
     ]
    }
   ],
   "source": [
    "list1=[1, 1, 1, 2, 1, 3, 1, 4, 2, 1, 2, 2, 2, 3, 2, 4, 3, 1, 3, 2, 3, 3, 3, 4, 4, 1, 4, 2, 4, 3, 4, 4]\n",
    "print(list1,end=\" \")"
   ]
  },
  {
   "cell_type": "code",
   "execution_count": 12,
   "id": "0fb9b745-1468-49d5-b7b6-3ba5da27abbb",
   "metadata": {},
   "outputs": [
    {
     "name": "stdout",
     "output_type": "stream",
     "text": [
      "{1, 2, 3, 4}\n"
     ]
    }
   ],
   "source": [
    "print(set(list1))"
   ]
  },
  {
   "cell_type": "markdown",
   "id": "6f39057a-9fcd-4122-9f0f-cf5fed1738b5",
   "metadata": {},
   "source": [
    "## Q4. Explain the difference between the union() and update() methods for a set. Give an example of each method."
   ]
  },
  {
   "cell_type": "markdown",
   "id": "cf512645-ee1d-41ba-b163-fce3686778e8",
   "metadata": {},
   "source": [
    "### -Python update() function in set adds elements from a set (passed as an argument) to the set. "
   ]
  },
  {
   "cell_type": "code",
   "execution_count": 15,
   "id": "ada0e9d5-53b8-4ebe-afe2-2e9f17b561ff",
   "metadata": {},
   "outputs": [],
   "source": [
    "set1={1,2,3,4}\n",
    "set2={5,6,7,8}\n",
    "set1.update(set2) ## set1 gets updated \n"
   ]
  },
  {
   "cell_type": "code",
   "execution_count": 16,
   "id": "95e10ee5-eddc-4c04-9136-9964a7171833",
   "metadata": {},
   "outputs": [
    {
     "data": {
      "text/plain": [
       "{1, 2, 3, 4, 5, 6, 7, 8}"
      ]
     },
     "execution_count": 16,
     "metadata": {},
     "output_type": "execute_result"
    }
   ],
   "source": [
    "set1"
   ]
  },
  {
   "cell_type": "code",
   "execution_count": 17,
   "id": "347095a2-02c5-4f5c-bb8f-484444020963",
   "metadata": {},
   "outputs": [
    {
     "data": {
      "text/plain": [
       "{5, 6, 7, 8}"
      ]
     },
     "execution_count": 17,
     "metadata": {},
     "output_type": "execute_result"
    }
   ],
   "source": [
    "set2"
   ]
  },
  {
   "cell_type": "markdown",
   "id": "9c044bbe-e2f0-416b-af26-bb36e362dff2",
   "metadata": {},
   "source": [
    "### -Union of two or more sets is the set containing all the elements of the given sets. Union of sets can be written using the symbol “⋃”. Suppose the union of two sets X and Y can be represented as X ⋃ Y."
   ]
  },
  {
   "cell_type": "code",
   "execution_count": 21,
   "id": "c0339784-bd03-42bb-a3dc-5075b4ca34bb",
   "metadata": {},
   "outputs": [
    {
     "name": "stdout",
     "output_type": "stream",
     "text": [
      "{'a', 'c', 'f', 'd', 'b'}\n"
     ]
    }
   ],
   "source": [
    "x = {\"a\", \"b\", \"c\"}\n",
    "y = {\"f\", \"d\", \"a\"}\n",
    "result = x.union(y) \n",
    "print(result)"
   ]
  },
  {
   "cell_type": "markdown",
   "id": "4ea0f44c-e071-4d57-8ed0-bd29bcec2f57",
   "metadata": {},
   "source": [
    "## Q5. What is a dictionary? Give an example. Also, state whether a dictionary is ordered or unordered."
   ]
  },
  {
   "cell_type": "markdown",
   "id": "695d0600-539f-4efb-98a2-f6e7d52de838",
   "metadata": {},
   "source": [
    "### -The dictionary is an unordered collection that contains key:value pairs separated by commas inside curly brackets. Dictionaries are optimized to retrieve values when the key is known."
   ]
  },
  {
   "cell_type": "code",
   "execution_count": 22,
   "id": "7156fbb2-410e-4539-b812-c267279b08e2",
   "metadata": {},
   "outputs": [],
   "source": [
    "dict1={\"Name\": \"Rishabh\",\"age\": 20, \"mob_no\": \"8052531390\"}"
   ]
  },
  {
   "cell_type": "code",
   "execution_count": 23,
   "id": "c1791d23-e865-419e-b308-3ef3439034a4",
   "metadata": {},
   "outputs": [
    {
     "data": {
      "text/plain": [
       "{'Name': 'Rishabh', 'age': 20, 'mob_no': '8052531390'}"
      ]
     },
     "execution_count": 23,
     "metadata": {},
     "output_type": "execute_result"
    }
   ],
   "source": [
    "dict1"
   ]
  },
  {
   "cell_type": "markdown",
   "id": "667b52c0-569d-4f50-a1ac-7dc6922df13e",
   "metadata": {},
   "source": [
    "## --dictionaries are unordered, meaning that any time you loop through a dictionary, you will go through every key, but you are not guaranteed to get them in any particular order."
   ]
  },
  {
   "cell_type": "markdown",
   "id": "98a1125c-f8dc-4627-a12b-2bc3a72cec34",
   "metadata": {},
   "source": [
    "## Q5.Can we create a nested dictionary? If so, please give an example by creating a simple one-level nested dictionary."
   ]
  },
  {
   "cell_type": "markdown",
   "id": "ce5975d8-a93f-42e2-a876-5ba445e54731",
   "metadata": {},
   "source": [
    "### - Yes, nested dict can be created."
   ]
  },
  {
   "cell_type": "code",
   "execution_count": 24,
   "id": "0152c9b0-3f8d-4830-a6b2-4e82e460edad",
   "metadata": {},
   "outputs": [],
   "source": [
    "dict2={\"key\":{\"name\":\"Rishabh\",\"age\":20}}"
   ]
  },
  {
   "cell_type": "code",
   "execution_count": 25,
   "id": "a1c9f8dd-60e5-4367-a964-157382fda2d6",
   "metadata": {},
   "outputs": [
    {
     "data": {
      "text/plain": [
       "{'key': {'name': 'Rishabh', 'age': 20}}"
      ]
     },
     "execution_count": 25,
     "metadata": {},
     "output_type": "execute_result"
    }
   ],
   "source": [
    "dict2"
   ]
  },
  {
   "cell_type": "markdown",
   "id": "d686c422-86d9-433e-81be-cfffaa88fa7c",
   "metadata": {},
   "source": [
    "## Q7.Using setdefault() method, create key named topics in the given dictionary and also add the value of the key as this list"
   ]
  },
  {
   "cell_type": "code",
   "execution_count": 29,
   "id": "5b97ab3e-d6b0-416c-86c4-7b50aef82900",
   "metadata": {},
   "outputs": [],
   "source": [
    "list3= [\"Python\", \"Machine Learning\", \"Deep Learning\"]"
   ]
  },
  {
   "cell_type": "code",
   "execution_count": 31,
   "id": "023075a9-7a08-484b-a0e6-5c4e8b26b9a9",
   "metadata": {},
   "outputs": [
    {
     "data": {
      "text/plain": [
       "['Python', 'Machine Learning', 'Deep Learning']"
      ]
     },
     "execution_count": 31,
     "metadata": {},
     "output_type": "execute_result"
    }
   ],
   "source": [
    "list3"
   ]
  },
  {
   "cell_type": "code",
   "execution_count": 32,
   "id": "16690904-fc05-4a4b-b707-4a39451faaee",
   "metadata": {},
   "outputs": [],
   "source": [
    "dict1 = {'language' : 'Python', 'course': 'Data Science Masters'}"
   ]
  },
  {
   "cell_type": "code",
   "execution_count": 33,
   "id": "38d731bc-76c3-43f8-a149-62c7d1c1dd35",
   "metadata": {},
   "outputs": [
    {
     "data": {
      "text/plain": [
       "{'language': 'Python', 'course': 'Data Science Masters'}"
      ]
     },
     "execution_count": 33,
     "metadata": {},
     "output_type": "execute_result"
    }
   ],
   "source": [
    "dict1"
   ]
  },
  {
   "cell_type": "code",
   "execution_count": 52,
   "id": "3b57e619-5fd5-4063-b1d0-297368b0408c",
   "metadata": {},
   "outputs": [
    {
     "data": {
      "text/plain": [
       "'Deep learning'"
      ]
     },
     "execution_count": 52,
     "metadata": {},
     "output_type": "execute_result"
    }
   ],
   "source": [
    "dict1.setdefault(\"p\",\"Python\")\n",
    "dict1.setdefault(\"m\",\"Machine learning\")\n",
    "dict1.setdefault(\"d\",\"Deep learning\")"
   ]
  },
  {
   "cell_type": "code",
   "execution_count": 54,
   "id": "211da026-cce9-4a76-a7fd-c212fc7fd7c6",
   "metadata": {},
   "outputs": [
    {
     "data": {
      "text/plain": [
       "{'language': 'Python',\n",
       " 'course': 'Data Science Masters',\n",
       " 'P': None,\n",
       " 'p': 'Python',\n",
       " 'm': 'Machine learning',\n",
       " 'd': 'Deep learning'}"
      ]
     },
     "execution_count": 54,
     "metadata": {},
     "output_type": "execute_result"
    }
   ],
   "source": [
    "dict1"
   ]
  },
  {
   "cell_type": "code",
   "execution_count": 55,
   "id": "7c61db4a-f392-453f-a2a9-df419ba1840a",
   "metadata": {},
   "outputs": [
    {
     "data": {
      "text/plain": [
       "['language', 'course', 'P', 'p', 'm', 'd']"
      ]
     },
     "execution_count": 55,
     "metadata": {},
     "output_type": "execute_result"
    }
   ],
   "source": [
    "list(dict1)"
   ]
  },
  {
   "cell_type": "markdown",
   "id": "c73d87ed-3804-4503-94db-b6d00af2351c",
   "metadata": {},
   "source": [
    "## Q8. What are the three view objects in dictionaries? Use the three in-built methods in python to display these three view objects for the given dictionary."
   ]
  },
  {
   "cell_type": "code",
   "execution_count": 59,
   "id": "2e0fc0a2-44c5-484c-b54b-288796c1eeb0",
   "metadata": {},
   "outputs": [
    {
     "data": {
      "text/plain": [
       "{'Sport': 'Cricket',\n",
       " 'Teams': ['India',\n",
       "  'Australia',\n",
       "  'England',\n",
       "  'South Africa',\n",
       "  'Sri Lanka',\n",
       "  'New Zealand']}"
      ]
     },
     "execution_count": 59,
     "metadata": {},
     "output_type": "execute_result"
    }
   ],
   "source": [
    "dict1 = {'Sport': 'Cricket' , 'Teams': ['India', 'Australia', 'England', 'South Africa', 'Sri Lanka', 'New Zealand']}\n",
    "dict1"
   ]
  },
  {
   "cell_type": "code",
   "execution_count": 60,
   "id": "93c34d49-f1a7-4b49-838f-0e354bf83091",
   "metadata": {},
   "outputs": [
    {
     "data": {
      "text/plain": [
       "dict_values(['Cricket', ['India', 'Australia', 'England', 'South Africa', 'Sri Lanka', 'New Zealand']])"
      ]
     },
     "execution_count": 60,
     "metadata": {},
     "output_type": "execute_result"
    }
   ],
   "source": [
    "dict1.values()"
   ]
  },
  {
   "cell_type": "code",
   "execution_count": 61,
   "id": "69c7fdda-92b8-40e6-96df-f7738071a6dc",
   "metadata": {},
   "outputs": [
    {
     "data": {
      "text/plain": [
       "dict_keys(['Sport', 'Teams'])"
      ]
     },
     "execution_count": 61,
     "metadata": {},
     "output_type": "execute_result"
    }
   ],
   "source": [
    "dict1.keys()"
   ]
  },
  {
   "cell_type": "code",
   "execution_count": 62,
   "id": "a423b43e-37d9-46e4-b101-0ced99418c06",
   "metadata": {},
   "outputs": [
    {
     "data": {
      "text/plain": [
       "dict_items([('Sport', 'Cricket'), ('Teams', ['India', 'Australia', 'England', 'South Africa', 'Sri Lanka', 'New Zealand'])])"
      ]
     },
     "execution_count": 62,
     "metadata": {},
     "output_type": "execute_result"
    }
   ],
   "source": [
    "dict1.items()"
   ]
  },
  {
   "cell_type": "code",
   "execution_count": null,
   "id": "8d69272e-26bb-4aed-84bc-bc5b7cc8af97",
   "metadata": {},
   "outputs": [],
   "source": []
  }
 ],
 "metadata": {
  "kernelspec": {
   "display_name": "Python 3 (ipykernel)",
   "language": "python",
   "name": "python3"
  },
  "language_info": {
   "codemirror_mode": {
    "name": "ipython",
    "version": 3
   },
   "file_extension": ".py",
   "mimetype": "text/x-python",
   "name": "python",
   "nbconvert_exporter": "python",
   "pygments_lexer": "ipython3",
   "version": "3.10.8"
  }
 },
 "nbformat": 4,
 "nbformat_minor": 5
}
