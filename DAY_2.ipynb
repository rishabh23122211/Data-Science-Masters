 "#Day 2:"
   ]
  },
  {
   "cell_type": "code",
   "execution_count": 4,
   "id": "c3d1e088-1e72-4b1c-bde5-086a07b43430",
   "metadata": {
    "tags": []
   },
   "outputs": [
    {
     "name": "stdout",
     "output_type": "stream",
     "text": [
      "My age is: 20\n"
     ]
    }
   ],
   "source": [
    "##different print statement\n",
    "age=20\n",
    "print(\"My age is:\",age)"
   ]
  },
  {
   "cell_type": "code",
   "execution_count": 8,
   "id": "681bde35-52a2-414e-8f37-5ee6c7f37cae",
   "metadata": {},
   "outputs": [
    {
     "name": "stdout",
     "output_type": "stream",
     "text": [
      "My age is: 20\n"
     ]
    }
   ],
   "source": [
    "print(f\"My age is: {age}\")"
   ]
  },
  {
   "cell_type": "code",
   "execution_count": 2,
   "id": "736f5d2e-8104-4190-a9fe-008ba2392cd1",
   "metadata": {
    "tags": []
   },
   "outputs": [
    {
     "name": "stdout",
     "output_type": "stream",
     "text": [
      "My age is: {age}\n"
     ]
    }
   ],
   "source": [
    "print(\"My age is: {age}\") ##reads completely as string"
   ]
  },
  {
   "cell_type": "code",
   "execution_count": 3,
   "id": "101078b3-775e-4111-bcff-9ab2390f9831",
   "metadata": {},
   "outputs": [
    {
     "name": "stdout",
     "output_type": "stream",
     "text": [
      "My name is Rishabh and age is 20\n"
     ]
    }
   ],
   "source": [
    "##format()\n",
    "name= \"Rishabh\"\n",
    "age=20\n",
    "print(\"My name is {} and age is {}\".format(name,age))"
   ]
  },
  {
   "cell_type": "code",
   "execution_count": 6,
   "id": "722f5d7d-670b-4c46-8bb8-30ef2176f43f",
   "metadata": {},
   "outputs": [
    {
     "name": "stdout",
     "output_type": "stream",
     "text": [
      "My name is Rishabh and age is 20\n"
     ]
    }
   ],
   "source": [
    "##place holder\n",
    "print(\"My name is {firstname} and age is {firstage}\".format(firstname=name,firstage=age))"
   ]
  },
  {
   "cell_type": "code",
   "execution_count": 9,
   "id": "442dc100-2ce3-4a60-8ef3-3595172db056",
   "metadata": {},
   "outputs": [
    {
     "name": "stdout",
     "output_type": "stream",
     "text": [
      "My age is 20 and i have completed: my degree of BMS with the name of Anya Singh\n"
     ]
    }
   ],
   "source": [
    "name=\"Anya Singh\"\n",
    "age=\"20\"\n",
    "degree=\"BMS\"\n",
    "     ###output format=== \"My age 20 and i have completed: my degree of BMS with the name of Anya Singh\"\"\"\n",
    "print(\"My age is {} and i have completed: my degree of {} with the name of {}\".format(age,degree,name))"
   ]
  },
  {
   "cell_type": "code",
   "execution_count": 11,
   "id": "130f8b62-4fd1-4d15-8274-6e83d9334c6e",
   "metadata": {},
   "outputs": [
    {
     "name": "stdout",
     "output_type": "stream",
     "text": [
      "My age is 20 and i have completed: my degree of BMS with the name of Anya Singh\n"
     ]
    }
   ],
   "source": [
    "print(f\"My age is {age} and i have completed: my degree of {degree} with the name of {name}\")"
   ]
  },
  {
   "cell_type": "code",
   "execution_count": 13,
   "id": "ca78d181-cbde-4362-b89f-8c82dd04aae6",
   "metadata": {},
   "outputs": [
    {
     "data": {
      "text/plain": [
       "575"
      ]
     },
     "execution_count": 13,
     "metadata": {},
     "output_type": "execute_result"
    }
   ],
   "source": [
    "a=575\n",
    "a"
   ]
  },
  {
   "cell_type": "code",
   "execution_count": 15,
   "id": "04dd4fec-9af4-4265-9807-36bd9771bc98",
   "metadata": {},
   "outputs": [
    {
     "name": "stdout",
     "output_type": "stream",
     "text": [
      "You can vote\n"
     ]
    }
   ],
   "source": [
    "##if statements\n",
    "age=18\n",
    "if age>=18:  ##colon indicates start of if block\n",
    "    print(\"You can vote\")\n",
    "    \n",
    "        \n",
    "    "
   ]
  },
  {
   "cell_type": "code",
   "execution_count": 16,
   "id": "9f2d6207-fb71-471c-904f-b44494833afc",
   "metadata": {},
   "outputs": [
    {
     "name": "stdin",
     "output_type": "stream",
     "text": [
      " Rishabh Singh\n"
     ]
    },
    {
     "data": {
      "text/plain": [
       "'Rishabh Singh'"
      ]
     },
     "execution_count": 16,
     "metadata": {},
     "output_type": "execute_result"
    }
   ],
   "source": [
    "input()"
   ]
  },
  {
   "cell_type": "code",
   "execution_count": 17,
   "id": "d7bd63db-0e0d-40df-9f5c-a738b101f25e",
   "metadata": {},
   "outputs": [
    {
     "name": "stdin",
     "output_type": "stream",
     "text": [
      "Enter the name Anya Singh\n"
     ]
    }
   ],
   "source": [
    "name=input(\"Enter the name\")"
   ]
  },
  {
   "cell_type": "code",
   "execution_count": 18,
   "id": "4e4808c6-5ac2-4748-a92d-6673930902d8",
   "metadata": {},
   "outputs": [
    {
     "data": {
      "text/plain": [
       "'Anya Singh'"
      ]
     },
     "execution_count": 18,
     "metadata": {},
     "output_type": "execute_result"
    }
   ],
   "source": [
    "name"
   ]
  },
  {
   "cell_type": "code",
   "execution_count": 19,
   "id": "3ec5d405-df22-4ce6-a6d0-246c4df7ccaf",
   "metadata": {},
   "outputs": [
    {
     "name": "stdin",
     "output_type": "stream",
     "text": [
      "Enter Your age 20\n"
     ]
    }
   ],
   "source": [
    "##importance of type casting in (input) function\n",
    "\n",
    "age=int(input(\"Enter Your age\"))\n"
   ]
  },
  {
   "cell_type": "code",
   "execution_count": 20,
   "id": "f74a6945-b13c-4615-98da-1d1baddd8449",
   "metadata": {},
   "outputs": [
    {
     "data": {
      "text/plain": [
       "20"
      ]
     },
     "execution_count": 20,
     "metadata": {},
     "output_type": "execute_result"
    }
   ],
   "source": [
    "age"
   ]
  },
  {
   "cell_type": "code",
   "execution_count": 21,
   "id": "5b9971d4-5e61-40a2-a28e-8c1c86aaf6d2",
   "metadata": {},
   "outputs": [
    {
     "data": {
      "text/plain": [
       "int"
      ]
     },
     "execution_count": 21,
     "metadata": {},
     "output_type": "execute_result"
    }
   ],
   "source": [
    "type(age)"
   ]
  },
  {
   "cell_type": "code",
   "execution_count": null,
   "id": "7fbdf824-db94-4ab5-a724-1727d9e1c174",
   "metadata": {},
   "outputs": [],
   "source": [
    "##task 1:\n",
    "## take a input of age\n",
    "## check weather age is >=18 and age<=45\n",
    "## display you are Young"
   ]
  },
  {
   "cell_type": "code",
   "execution_count": 29,
   "id": "d8ed5760-44a7-4307-8a0d-15cb089b8eee",
   "metadata": {},
   "outputs": [
    {
     "name": "stdin",
     "output_type": "stream",
     "text": [
      "Enter your age 30\n"
     ]
    },
    {
     "name": "stdout",
     "output_type": "stream",
     "text": [
      "You are ayoung\n"
     ]
    }
   ],
   "source": [
    "age=int(input(\"Enter your age\"))\n",
    "if age>=18 and age<=45:\n",
    "    print(\"You are ayoung\")"
   ]
  },
  {
   "cell_type": "code",
   "execution_count": null,
   "id": "c5ac1227-b045-461d-8237-2899b084e256",
   "metadata": {},
   "outputs": [
    {
     "name": "stdin",
     "output_type": "stream",
     "text": [
      "Enter your age 67\n"
     ]
    },
    {
     "name": "stdout",
     "output_type": "stream",
     "text": [
      "Thanku, we ll  let you know\n"
     ]
    }
   ],
   "source": [
    "##if else:\n",
    "age=int(input(\"Enter your age\"))\n",
    "if age>=18 and age<=45:\n",
    "    print(\"You are ayoung\")\n",
    "else:\n",
    "    print(\"Thanku, we ll  let you know\")"
   ]
  },
  {
   "cell_type": "code",
   "execution_count": null,
   "id": "adcbcadd-838c-49ac-976c-8a0b9b2a73b0",
   "metadata": {},
   "outputs": [],
   "source": [
    "## mall ---input product price\n",
    "## prodct > 1000rs 20% off\n",
    "#  print the actuall price after discount\n",
    "## prodct <= 1000rs 30% off\n",
    "# print the actuall price after discount\n"
   ]
  },
  {
   "cell_type": "code",
   "execution_count": 35,
   "id": "303b7406-3bda-466f-80f7-27645bc36b37",
   "metadata": {},
   "outputs": [
    {
     "name": "stdin",
     "output_type": "stream",
     "text": [
      "Enter the product price 5000\n"
     ]
    },
    {
     "name": "stdout",
     "output_type": "stream",
     "text": [
      "The price after discout is 4000.0\n"
     ]
    }
   ],
   "source": [
    "product_price=int(input(\"Enter the product price\"))\n",
    "if product_price>1000:\n",
    "    print(\"The price after discout is {}\".format(product_price*0.8))\n",
    "else:\n",
    "    print(\"The product price is: {}\".format(product_price*0.7))\n",
    "    "
   ]
  },
  {
   "cell_type": "code",
   "execution_count": null,
   "id": "cd694daf-5a49-40fe-ae2d-e57969a5cea8",
   "metadata": {},
   "outputs": [],
   "source": [
    "## mall ---input product price\n",
    "## prodct > 3000rs 20% off\n",
    "#  print the actuall price after discount\n",
    "## prodct >= 2000rs and <=3000, 30% off\n",
    "# print the actuall price after discount\n",
    "##product < 2000;"
   ]
  },
  {
   "cell_type": "code",
   "execution_count": 4,
   "id": "ff10a5ed-0e50-48e0-8c6a-b8cc0fa78e67",
   "metadata": {},
   "outputs": [
    {
     "name": "stdin",
     "output_type": "stream",
     "text": [
      "Enter the product price 4000\n"
     ]
    },
    {
     "name": "stdout",
     "output_type": "stream",
     "text": [
      "The price after discout is 3200.0\n"
     ]
    }
   ],
   "source": [
    "product_price=int(input(\"Enter the product price\"))\n",
    "if product_price>3000:\n",
    "    print(\"The price after discout is {}\".format(product_price*0.8))\n",
    "elif product_price>=2000 and product_price<=3000:\n",
    "    if product_price==2999: ##nested if\n",
    "        print(\"congrats u get an additional gift\")\n",
    "    print(\"The product price is: {}\".format(product_price*0.7))\n",
    "else:\n",
    "    print(\"The product price is: {}\".format(product_price*0.6))"
   ]
  },
  {
   "cell_type": "code",
   "execution_count": null,
   "id": "aa58023b-98e4-4e8c-bc07-fb7bd930647d",
   "metadata": {},
   "outputs": [],
   "source": [
    "#single statement \n",
    "val=int(input(\"Enter a number\"))\n",
    "if (val<=999):print(\"value is less than equall to 999\")\n",
    "else:\n",
    "    print(\"go home\")"
   ]
  },
  {
   "cell_type": "markdown",
   "id": "6e0f66c3-4304-414f-a843-0ff7a707fb7e",
   "metadata": {},
   "source": [
    "##loops statement\n",
    "1. while loops\n",
    "2. for loop\n",
    "3. nested loops\n",
    "4. loops control(break,continue,pass)"
   ]
  },
  {
   "cell_type": "code",
   "execution_count": 12,
   "id": "842083d3-9f94-49fe-b1a2-b1d4ebd7674d",
   "metadata": {},
   "outputs": [
    {
     "name": "stdout",
     "output_type": "stream",
     "text": [
      "23\n",
      "24\n",
      "25\n",
      "26\n",
      "27\n",
      "28\n",
      "29\n",
      "30\n",
      "31\n",
      "32\n",
      "33\n",
      "34\n",
      "35\n",
      "36\n",
      "37\n",
      "38\n",
      "39\n",
      "40\n",
      "41\n",
      "42\n",
      "43\n",
      "44\n",
      "45\n",
      "46\n",
      "47\n",
      "48\n",
      "49\n",
      "50\n",
      "51\n",
      "52\n",
      "53\n",
      "54\n",
      "55\n",
      "56\n",
      "57\n",
      "58\n",
      "59\n",
      "60\n",
      "61\n",
      "sorry its time to retire\n"
     ]
    }
   ],
   "source": [
    "#while loops\n",
    "joining_age=22\n",
    "\n",
    "while joining_age<=60:\n",
    "    joining_age=joining_age+1\n",
    "    print(joining_age)\n",
    "else:\n",
    "    print(\"sorry its time to retire\")\n"
   ]
  },
  {
   "cell_type": "code",
   "execution_count": 13,
   "id": "fc1610f1-ccbd-4b9d-81ac-4e85b178ad35",
   "metadata": {},
   "outputs": [
    {
     "name": "stdout",
     "output_type": "stream",
     "text": [
      "22\n",
      "23\n",
      "24\n",
      "25\n",
      "26\n",
      "27\n",
      "28\n",
      "29\n",
      "30\n",
      "31\n",
      "32\n",
      "33\n",
      "34\n",
      "35\n",
      "36\n",
      "37\n",
      "38\n",
      "39\n",
      "40\n",
      "41\n",
      "42\n",
      "43\n",
      "44\n",
      "45\n",
      "46\n",
      "47\n",
      "48\n",
      "49\n",
      "50\n",
      "51\n",
      "52\n",
      "53\n",
      "54\n",
      "55\n",
      "56\n",
      "57\n",
      "58\n",
      "59\n",
      "60\n",
      "sorry its time to retire\n"
     ]
    }
   ],
   "source": [
    "#while loops\n",
    "joining_age=22\n",
    "\n",
    "while joining_age<=60:\n",
    "    print(joining_age)\n",
    "    joining_age=joining_age+1\n",
    "    \n",
    "else:\n",
    "    print(\"sorry its time to retire\")\n"
   ]
  },
  {
   "cell_type": "code",
   "execution_count": 16,
   "id": "6975d0c5-1dd3-40d6-817b-f7c35395c9fb",
   "metadata": {},
   "outputs": [
    {
     "name": "stdout",
     "output_type": "stream",
     "text": [
      "1000\n",
      "900\n",
      "800\n",
      "700\n",
      "600\n",
      "500\n",
      "400\n",
      "300\n",
      "200\n",
      "100\n",
      "Paisa bharo garibo\n"
     ]
    }
   ],
   "source": [
    "##atm machine with 1000rs\n",
    "money=1000\n",
    "while money!=0:\n",
    "    print(money)\n",
    "    money=money-100\n",
    "else:\n",
    "    print(\"Paisa bharo garibo\")"
   ]
  },
  {
   "cell_type": "markdown",
   "id": "85d790be-ffc2-4809-9568-929ca6085152",
   "metadata": {},
   "source": [
    "#For loops"
   ]
  },
  {
   "cell_type": "code",
   "execution_count": 18,
   "id": "bc18c9b1-c19f-46d2-9936-1a03368b5ba1",
   "metadata": {},
   "outputs": [],
   "source": [
    "lst=[\"krish\", \"apple\", 23, 22, \"banana\"] ##indexing starts from o..\n"
   ]
  },
  {
   "cell_type": "code",
   "execution_count": 19,
   "id": "de2a3cbc-c2f4-4340-b168-bfb31ea63b89",
   "metadata": {},
   "outputs": [
    {
     "data": {
      "text/plain": [
       "list"
      ]
     },
     "execution_count": 19,
     "metadata": {},
     "output_type": "execute_result"
    }
   ],
   "source": [
    "type(lst)"
   ]
  },
  {
   "cell_type": "code",
   "execution_count": 20,
   "id": "67751532-d172-4bd6-9bc0-8043bd444825",
   "metadata": {},
   "outputs": [
    {
     "name": "stdout",
     "output_type": "stream",
     "text": [
      "['krish', 'apple', 23, 22, 'banana']\n"
     ]
    }
   ],
   "source": [
    "print(lst)"
   ]
  },
  {
   "cell_type": "code",
   "execution_count": 22,
   "id": "b7d84f38-34b4-4ae7-b3c9-a6c19c8a58d3",
   "metadata": {},
   "outputs": [
    {
     "data": {
      "text/plain": [
       "22"
      ]
     },
     "execution_count": 22,
     "metadata": {},
     "output_type": "execute_result"
    }
   ],
   "source": [
    "lst[3]"
   ]
  },
  {
   "cell_type": "code",
   "execution_count": null,
   "id": "e88a7f85-7a71-4ec5-abc3-ac508dd7aac4",
   "metadata": {},
   "outputs": [
    {
     "name": "stdout",
     "output_type": "stream",
     "text": [
      "krish\n",
      "apple\n",
      "23\n",
      "22\n",
      "banana\n"
     ]
    }
   ],
   "source": [
    "for i in lst: ##x will traverse throughout the list \n",
    "    print(i)\n"
   ]
  },
  {
   "cell_type": "code",
   "execution_count": 26,
   "id": "fe4c3bc2-be75-4317-99d1-49ccc042e92d",
   "metadata": {},
   "outputs": [],
   "source": [
    "fruits=[\"mango\", \"banana\", \"papaya\", \"Cherry\"]\n"
   ]
  },
  {
   "cell_type": "code",
   "execution_count": 27,
   "id": "d319e5ad-b95c-499e-9f25-596fc11bc845",
   "metadata": {},
   "outputs": [
    {
     "name": "stdout",
     "output_type": "stream",
     "text": [
      "mango\n",
      "banana\n",
      "papaya\n",
      "Cherry\n"
     ]
    }
   ],
   "source": [
    "for x in fruits:\n",
    "    print(x)\n",
    "    "
   ]
  },
  {
   "cell_type": "code",
   "execution_count": 29,
   "id": "0379f68f-bf76-4c5e-ac1c-41c65952db50",
   "metadata": {},
   "outputs": [
    {
     "name": "stdout",
     "output_type": "stream",
     "text": [
      "mango\n",
      "banana\n",
      "papaya\n",
      "Cherry\n",
      "Its delicious\n"
     ]
    }
   ],
   "source": [
    "for x in fruits:\n",
    "    print(x)\n",
    "    if x==\"Cherry\":\n",
    "        print(\"Its delicious\")"
   ]
  },
  {
   "cell_type": "code",
   "execution_count": 33,
   "id": "03d3b38e-3311-4624-9bc1-44585742c652",
   "metadata": {},
   "outputs": [
    {
     "name": "stdout",
     "output_type": "stream",
     "text": [
      "R  i  s  h  a  b  h  "
     ]
    }
   ],
   "source": [
    "name= \"Rishabh\"\n",
    "for a in name:\n",
    "    print(a,end='  ')"
   ]
  },
  {
   "cell_type": "code",
   "execution_count": null,
   "id": "62d3e6b3-5b8d-457a-8650-740e0aa687c5",
   "metadata": {},
   "outputs": [],
   "source": [
    "name[2]"
   ]
  },
  {
   "cell_type": "code",
   "execution_count": null,
   "id": "6866830d-7862-4eb3-8777-1365d40db7b0",
   "metadata": {},
   "outputs": [],
   "source": [
    "#nested loops\n",
    "n=7\n"
   ]
  },
  {
   "cell_type": "code",
   "execution_count": 13,
   "id": "ba17ef67-ef5b-4ebe-90c0-9d4bbe29517a",
   "metadata": {},
   "outputs": [
    {
     "name": "stdout",
     "output_type": "stream",
     "text": [
      "0\n",
      "1\n",
      "2\n",
      "3\n",
      "4\n",
      "5\n"
     ]
    }
   ],
   "source": [
    "##range\n",
    "for i in range(0,6):\n",
    "    print(i)\n"
   ]
  },
  {
   "cell_type": "code",
   "execution_count": 14,
   "id": "1cce5339-1b47-4f66-a4ef-6cd5ef3786af",
   "metadata": {},
   "outputs": [
    {
     "name": "stdout",
     "output_type": "stream",
     "text": [
      "1\n",
      "3\n",
      "5\n",
      "7\n",
      "9\n"
     ]
    }
   ],
   "source": [
    "for i in range(1,10,2):\n",
    "    print(i)\n"
   ]
  },
  {
   "cell_type": "code",
   "execution_count": 21,
   "id": "8ec97d17-50e5-42f7-a5c9-272fb279f8d7",
   "metadata": {},
   "outputs": [
    {
     "name": "stdout",
     "output_type": "stream",
     "text": [
      "*\n",
      "**\n",
      "***\n",
      "****\n",
      "*****\n",
      "******\n",
      "*******\n"
     ]
    }
   ],
   "source": [
    "##nested loops\n",
    "n=7\n",
    "for i in range (0,n):\n",
    "    for j in range(0,i+1):\n",
    "        print(\"*\",end=\"\")\n",
    "    print(\"\\r\") ##next line and left most side"
   ]
  },
  {
   "cell_type": "code",
   "execution_count": 24,
   "id": "935c9c25-ecb0-4c33-90b7-48879266406d",
   "metadata": {},
   "outputs": [
    {
     "name": "stdout",
     "output_type": "stream",
     "text": [
      "The fruit is apple\n",
      "mango\n",
      "banana\n",
      "papaya\n",
      "Cherry\n"
     ]
    }
   ],
   "source": [
    "##loops controls\n",
    "#break and continue\n",
    "\n",
    "fruits_list=[\"mango\", \"banana\", \"papaya\", \"Cherry\"]\n",
    "for i in fruits_list:\n",
    "    if i==\"mango\":\n",
    "        print(\"The fruit is apple\")\n",
    "        \n",
    "    print(i)"
   ]
  },
  {
   "cell_type": "code",
   "execution_count": 25,
   "id": "0fa627dd-1fab-48ee-9de7-84dfae767dba",
   "metadata": {},
   "outputs": [
    {
     "name": "stdout",
     "output_type": "stream",
     "text": [
      "mango\n",
      "The fruit is yummy\n"
     ]
    }
   ],
   "source": [
    "fruits_list=[\"mango\", \"banana\", \"papaya\", \"Cherry\"]\n",
    "for i in fruits_list:\n",
    "    if i==\"banana\":\n",
    "        print(\"The fruit is yummy\")\n",
    "        break ##execution breaks after this statement gets true\n",
    "    print(i)"
   ]
  },
  {
   "cell_type": "code",
   "execution_count": 28,
   "id": "1706743b-c209-40c6-baa1-953e77ae5ed8",
   "metadata": {},
   "outputs": [
    {
     "name": "stdout",
     "output_type": "stream",
     "text": [
      "mango\n",
      "banana\n",
      "The fruit is papaya\n",
      "Cherry\n"
     ]
    }
   ],
   "source": [
    "fruits_list=[\"mango\", \"banana\", \"papaya\", \"Cherry\"]\n",
    "for i in fruits_list:\n",
    "    if i==\"papaya\":\n",
    "        print(\"The fruit is papaya\")\n",
    "        continue\n",
    "        \n",
    "    print(i)"
   ]
  },
  {
   "cell_type": "code",
   "execution_count": null,
   "id": "d818f94a-5ab3-4ad6-9142-e2102f131f67",
   "metadata": {},
   "outputs": [],
   "source": []
  }
 ],
 "metadata": {
  "kernelspec": {
   "display_name": "Python 3 (ipykernel)",
   "language": "python",
   "name": "python3"
  },
  "language_info": {
   "codemirror_mode": {
    "name": "ipython",
    "version": 3
   },
   "file_extension": ".py",
   "mimetype": "text/x-python",
   "name": "python",
   "nbconvert_exporter": "python",
   "pygments_lexer": "ipython3",
   "version": "3.10.8"
  }
 },
 "nbformat": 4,
 "nbformat_minor": 5
}
