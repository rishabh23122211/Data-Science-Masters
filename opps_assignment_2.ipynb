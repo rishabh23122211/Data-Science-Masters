{
 "cells": [
  {
   "cell_type": "markdown",
   "id": "f1f860de-29f2-4588-8a38-a16cfe874859",
   "metadata": {},
   "source": [
    " ## Q1, Create a vehicle class with an init method having instance variables as name_of_vehicle, max_speed and average_of_vehicle."
   ]
  },
  {
   "cell_type": "code",
   "execution_count": 58,
   "id": "b62bf804-5b0f-42e6-a087-338078ebf6d9",
   "metadata": {},
   "outputs": [],
   "source": [
    "class vehicle:\n",
    "    def __init__(self, name_of_vehicle, max_speed, average_of_vehicle):\n",
    "        self.name_of_vehicle=name_of_vehicle\n",
    "        self.max_speed=max_speed\n",
    "        self.average_of_vehicle=average_of_vehicle\n",
    "\n",
    "    "
   ]
  },
  {
   "cell_type": "code",
   "execution_count": 59,
   "id": "af779151-2eb9-4a55-88fa-04ff08fd84ac",
   "metadata": {},
   "outputs": [],
   "source": [
    "vehicle1=vehicle(\"Activa 6G\", 80, 50)"
   ]
  },
  {
   "cell_type": "code",
   "execution_count": 60,
   "id": "cf70e1ab-44ea-4458-a879-db83dac6ce26",
   "metadata": {},
   "outputs": [
    {
     "data": {
      "text/plain": [
       "50"
      ]
     },
     "execution_count": 60,
     "metadata": {},
     "output_type": "execute_result"
    }
   ],
   "source": [
    "vehicle1.average_of_vehicle"
   ]
  },
  {
   "cell_type": "code",
   "execution_count": 61,
   "id": "9202ff61-d303-45db-bba4-776d72af5cb4",
   "metadata": {},
   "outputs": [
    {
     "data": {
      "text/plain": [
       "80"
      ]
     },
     "execution_count": 61,
     "metadata": {},
     "output_type": "execute_result"
    }
   ],
   "source": [
    "vehicle1.max_speed"
   ]
  },
  {
   "cell_type": "code",
   "execution_count": 62,
   "id": "d212461d-393e-4521-a924-68d326a4321c",
   "metadata": {},
   "outputs": [
    {
     "data": {
      "text/plain": [
       "'Activa 6G'"
      ]
     },
     "execution_count": 62,
     "metadata": {},
     "output_type": "execute_result"
    }
   ],
   "source": [
    "vehicle1.name_of_vehicle"
   ]
  },
  {
   "cell_type": "markdown",
   "id": "48c6cfed-aa21-4f1f-9a58-1a02a6af84f4",
   "metadata": {},
   "source": [
    "## Q2. Create a child class car from the vehicle class created in Que 1, which will inherit the vehicle class. Create a method named seating_capacity which takes capacity as an argument and returns the name of the vehicle and its seating capacity."
   ]
  },
  {
   "cell_type": "code",
   "execution_count": 112,
   "id": "1badbca4-19ae-41c5-8566-f21a8135c0cb",
   "metadata": {},
   "outputs": [],
   "source": [
    "class child(vehicle):\n",
    "    def seating_capacity(self, capacity):\n",
    "        return f\"The seating capacity of {self.name_of_vehicle} is {capacity}\""
   ]
  },
  {
   "cell_type": "code",
   "execution_count": 113,
   "id": "11ab1e8e-0e10-4abf-9650-838fa53293fe",
   "metadata": {},
   "outputs": [],
   "source": [
    "vehicle2=child(\"Activa 6G\", 80, 50)"
   ]
  },
  {
   "cell_type": "code",
   "execution_count": 109,
   "id": "b7edacd8-9775-4fec-9ae8-c502a7f6f451",
   "metadata": {},
   "outputs": [
    {
     "data": {
      "text/plain": [
       "'Activa 6G'"
      ]
     },
     "execution_count": 109,
     "metadata": {},
     "output_type": "execute_result"
    }
   ],
   "source": [
    "vehicle2.name_of_vehicle"
   ]
  },
  {
   "cell_type": "code",
   "execution_count": 110,
   "id": "45bbef83-2b02-4529-b3ae-7495d4b3ce58",
   "metadata": {},
   "outputs": [],
   "source": [
    "vehicle2.seating_capacity=2"
   ]
  },
  {
   "cell_type": "code",
   "execution_count": 111,
   "id": "625e53a9-a0e3-4dec-8269-a578fc248a0a",
   "metadata": {},
   "outputs": [
    {
     "data": {
      "text/plain": [
       "2"
      ]
     },
     "execution_count": 111,
     "metadata": {},
     "output_type": "execute_result"
    }
   ],
   "source": [
    "vehicle2.seating_capacity\n"
   ]
  },
  {
   "cell_type": "markdown",
   "id": "cbc5a8e3-41af-44b4-a873-6596bf420768",
   "metadata": {},
   "source": [
    "## Q3.What is multiple inheritance? Write a python code to demonstrate multiple inheritance."
   ]
  },
  {
   "cell_type": "markdown",
   "id": "88dbf614-7f55-4d9e-8b31-17732db87e2b",
   "metadata": {},
   "source": [
    "### When a class is derived from more than one base class it is called multiple Inheritance. The derived class inherits all the features of the base case"
   ]
  },
  {
   "cell_type": "code",
   "execution_count": 114,
   "id": "d452aa65-40e0-4862-a635-47b7d70e176f",
   "metadata": {},
   "outputs": [],
   "source": [
    "class class1:\n",
    "    def test_class1(self):\n",
    "        print(\"This is my class 1\")"
   ]
  },
  {
   "cell_type": "code",
   "execution_count": 115,
   "id": "d91b67d5-7448-4492-95cd-262f3be8067f",
   "metadata": {},
   "outputs": [],
   "source": [
    "class class2:\n",
    "    def test_class2(self):\n",
    "        print(\"This is my class2\")"
   ]
  },
  {
   "cell_type": "code",
   "execution_count": 116,
   "id": "5071bb7a-2afe-4f57-83dc-4373dea6ae29",
   "metadata": {},
   "outputs": [],
   "source": [
    "class class3 (class1,class2):\n",
    "    pass"
   ]
  },
  {
   "cell_type": "code",
   "execution_count": 117,
   "id": "aa7fa3fb-8c06-47c2-a8a7-a0f812631af5",
   "metadata": {},
   "outputs": [],
   "source": [
    "Rishabh=class3()"
   ]
  },
  {
   "cell_type": "code",
   "execution_count": 119,
   "id": "47d3edef-c20b-45a6-a90c-148e4e0f1eb3",
   "metadata": {},
   "outputs": [
    {
     "name": "stdout",
     "output_type": "stream",
     "text": [
      "This is my class 1\n"
     ]
    }
   ],
   "source": [
    "Rishabh.test_class1()"
   ]
  },
  {
   "cell_type": "code",
   "execution_count": 121,
   "id": "46fce637-64e2-4074-ac85-80bb9c243740",
   "metadata": {},
   "outputs": [
    {
     "name": "stdout",
     "output_type": "stream",
     "text": [
      "This is my class2\n"
     ]
    }
   ],
   "source": [
    "Rishabh.test_class2()"
   ]
  },
  {
   "cell_type": "markdown",
   "id": "78d83956-4355-440f-8209-3aeea58838f9",
   "metadata": {},
   "source": [
    " ## Q4. What are getter and setter in python? Create a class and create a getter and a setter method in this class."
   ]
  },
  {
   "cell_type": "markdown",
   "id": "fb9796ac-1b05-4524-bd13-1e0febea3f55",
   "metadata": {},
   "source": [
    "### Getter: A method that allows you to access an attribute in a given class\n",
    "### Setter: A method that allows you to set or mutate the value of an attribute in a class"
   ]
  },
  {
   "cell_type": "code",
   "execution_count": 122,
   "id": "7fd5f0c5-7262-416c-b728-ab28a16302db",
   "metadata": {},
   "outputs": [],
   "source": [
    "class car:\n",
    "    def __init__(self,year,make,model,speed):\n",
    "        self.__year=year      \n",
    "        self.__make=make\n",
    "        self.__mode=model         \n",
    "        self.__speed=0\n",
    "        \n",
    "    def set_speed(self, speed):   ## acces to user to update speed\n",
    "        self.__speed= 0 if speed <0 else speed\n",
    "        \n",
    "    def get_speed(self):         ## access to user ti check speed without knowing the acctual working of the methods and codes accept the owner\n",
    "        return self.__speed"
   ]
  },
  {
   "cell_type": "code",
   "execution_count": 123,
   "id": "993b9853-951b-4dd0-93d4-c3a90100ce2f",
   "metadata": {},
   "outputs": [],
   "source": [
    "veh_1=car(2022,\"Honda\",\"Activa 6G\",60)"
   ]
  },
  {
   "cell_type": "code",
   "execution_count": 125,
   "id": "e356cedb-4f48-460a-8282-0f052789532e",
   "metadata": {},
   "outputs": [
    {
     "data": {
      "text/plain": [
       "0"
      ]
     },
     "execution_count": 125,
     "metadata": {},
     "output_type": "execute_result"
    }
   ],
   "source": [
    "veh_1.get_speed()"
   ]
  },
  {
   "cell_type": "code",
   "execution_count": 127,
   "id": "c7d062b1-8238-4c05-8ee9-07d61d88b588",
   "metadata": {},
   "outputs": [],
   "source": [
    "veh_1.set_speed(80)"
   ]
  },
  {
   "cell_type": "code",
   "execution_count": 129,
   "id": "9013c7ab-c4f1-408f-b199-6fd16bfb561b",
   "metadata": {},
   "outputs": [
    {
     "data": {
      "text/plain": [
       "80"
      ]
     },
     "execution_count": 129,
     "metadata": {},
     "output_type": "execute_result"
    }
   ],
   "source": [
    "veh_1.get_speed()\n"
   ]
  },
  {
   "cell_type": "markdown",
   "id": "b7f1e2d8-395d-43a0-a55f-4c046d0ae8dd",
   "metadata": {},
   "source": [
    "## Q5.What is method overriding in python? Write a python code to demonstrate method overriding."
   ]
  },
  {
   "cell_type": "markdown",
   "id": "f6f4adf0-d8a0-41c4-8aa0-123d0000a4f8",
   "metadata": {},
   "source": [
    "### Method overriding is an ability of any object-oriented programming language that allows a subclass or child class to provide a specific implementation of a method that is already provided by one of its super-classes or parent classes."
   ]
  },
  {
   "cell_type": "code",
   "execution_count": 132,
   "id": "be77f13b-a58b-4d60-bdb1-3d681234fb02",
   "metadata": {},
   "outputs": [],
   "source": [
    "class Parent():\n",
    "\t\n",
    "\tdef __init__(self,a):\n",
    "\t\tself.a = \" I m Parent \"\n",
    "\t\n",
    "\tdef show(self):\n",
    "\t\tprint(self.a)\n",
    "\t\t\n",
    "class Child(Parent):\n",
    "\t\n",
    "\tdef __init__(self,b):\n",
    "\t\tself.b = \"I m Child\"\n",
    "\t\t\n",
    "\t\n",
    "\tdef show(self):\n",
    "\t\tprint(self.b)\n",
    "\t\t"
   ]
  },
  {
   "cell_type": "code",
   "execution_count": 135,
   "id": "01a2f8a1-cd57-463a-b489-c8f9bea3391c",
   "metadata": {},
   "outputs": [],
   "source": [
    "obj_1=Parent(\"i m parent\")"
   ]
  },
  {
   "cell_type": "code",
   "execution_count": 137,
   "id": "e1d6cae3-d6ac-4019-834f-3529e9d7433f",
   "metadata": {},
   "outputs": [
    {
     "name": "stdout",
     "output_type": "stream",
     "text": [
      " I m Parent \n"
     ]
    }
   ],
   "source": [
    "obj_1.show()"
   ]
  },
  {
   "cell_type": "code",
   "execution_count": 139,
   "id": "2339ec67-bed9-4bda-95f9-e4fbbe519e4c",
   "metadata": {},
   "outputs": [],
   "source": [
    "obj_2=Child(\"i m child\")"
   ]
  },
  {
   "cell_type": "code",
   "execution_count": 140,
   "id": "0fe0f15a-27c1-4e63-9a58-017bae141561",
   "metadata": {},
   "outputs": [
    {
     "name": "stdout",
     "output_type": "stream",
     "text": [
      "I m Child\n"
     ]
    }
   ],
   "source": [
    "obj_2.show()"
   ]
  },
  {
   "cell_type": "code",
   "execution_count": null,
   "id": "44fdba69-d62e-4ca9-9781-7f4ab33fc929",
   "metadata": {},
   "outputs": [],
   "source": []
  }
 ],
 "metadata": {
  "kernelspec": {
   "display_name": "Python 3 (ipykernel)",
   "language": "python",
   "name": "python3"
  },
  "language_info": {
   "codemirror_mode": {
    "name": "ipython",
    "version": 3
   },
   "file_extension": ".py",
   "mimetype": "text/x-python",
   "name": "python",
   "nbconvert_exporter": "python",
   "pygments_lexer": "ipython3",
   "version": "3.10.8"
  }
 },
 "nbformat": 4,
 "nbformat_minor": 5
}
