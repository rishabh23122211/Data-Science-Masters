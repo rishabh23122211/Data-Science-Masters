{
 "cells": [
  {
   "cell_type": "markdown",
   "id": "bbf4a6d4-bda0-4a4e-9e15-7e3a9b87a069",
   "metadata": {},
   "source": [
    "# Decorators:"
   ]
  },
  {
   "cell_type": "code",
   "execution_count": 3,
   "id": "959f2359-9853-47c3-bcdc-d1614fe361dd",
   "metadata": {},
   "outputs": [],
   "source": [
    "def test():  ##basic function\n",
    "    print(4+9)\n",
    "    "
   ]
  },
  {
   "cell_type": "code",
   "execution_count": 4,
   "id": "f2fc5c94-26da-4f28-ac23-a45466da6fdb",
   "metadata": {},
   "outputs": [
    {
     "name": "stdout",
     "output_type": "stream",
     "text": [
      "13\n"
     ]
    }
   ],
   "source": [
    "test()"
   ]
  },
  {
   "cell_type": "code",
   "execution_count": 5,
   "id": "a44e1b51-878b-40e1-9be7-b20dc06c6f76",
   "metadata": {},
   "outputs": [],
   "source": [
    "def test():  ##basic function\n",
    "    print(4+9)\n",
    "    print(\"This is the start\")\n",
    "    print(\"This is the end\")"
   ]
  },
  {
   "cell_type": "code",
   "execution_count": 6,
   "id": "84fac489-a275-4200-8037-cbad4bbde469",
   "metadata": {},
   "outputs": [
    {
     "name": "stdout",
     "output_type": "stream",
     "text": [
      "13\n",
      "This is the start\n",
      "This is the end\n"
     ]
    }
   ],
   "source": [
    "test()"
   ]
  },
  {
   "cell_type": "code",
   "execution_count": 7,
   "id": "c9b6d0b8-9ade-48cb-937e-ebed1439c6e1",
   "metadata": {},
   "outputs": [],
   "source": [
    "##decorator function"
   ]
  },
  {
   "cell_type": "code",
   "execution_count": 9,
   "id": "c3559afb-311f-4069-899c-023437cc525e",
   "metadata": {},
   "outputs": [],
   "source": [
    "def deco(func):\n",
    "    def inner_deco():\n",
    "        print(\"This is the start\")\n",
    "        func()\n",
    "        print(\"This is the end\")\n",
    "    return inner_deco\n",
    "        "
   ]
  },
  {
   "cell_type": "code",
   "execution_count": 10,
   "id": "e0c0b2c3-6c96-43ee-85c4-df1b4fe02c40",
   "metadata": {},
   "outputs": [],
   "source": [
    "def test1():\n",
    "    print(3+7)"
   ]
  },
  {
   "cell_type": "code",
   "execution_count": 11,
   "id": "56cb8338-9056-42cb-8163-7713e43606db",
   "metadata": {},
   "outputs": [
    {
     "name": "stdout",
     "output_type": "stream",
     "text": [
      "10\n"
     ]
    }
   ],
   "source": [
    "test1()"
   ]
  },
  {
   "cell_type": "code",
   "execution_count": 12,
   "id": "4241c87b-a667-4f2f-ae85-6fd0803f0561",
   "metadata": {},
   "outputs": [],
   "source": [
    "@deco\n",
    "def test1():\n",
    "    print(3+7)"
   ]
  },
  {
   "cell_type": "code",
   "execution_count": 13,
   "id": "c35d820e-1090-440f-9cfd-c53868194993",
   "metadata": {},
   "outputs": [
    {
     "name": "stdout",
     "output_type": "stream",
     "text": [
      "This is the start\n",
      "10\n",
      "This is the end\n"
     ]
    }
   ],
   "source": [
    "test1()"
   ]
  },
  {
   "cell_type": "code",
   "execution_count": 1,
   "id": "bb98c6ef-c90c-4b4b-9bbe-d2f728aa527c",
   "metadata": {},
   "outputs": [],
   "source": [
    "##lets understad the time complexity of test1()"
   ]
  },
  {
   "cell_type": "code",
   "execution_count": 2,
   "id": "a4a614cb-347f-48eb-97cd-cceffe759393",
   "metadata": {},
   "outputs": [],
   "source": [
    "import time\n",
    "def timer_test(func):\n",
    "    def timer_test_inner():\n",
    "        start= time.time()\n",
    "        func()\n",
    "        end=time.time()\n",
    "        print(end-start)\n",
    "    return timer_test_inner"
   ]
  },
  {
   "cell_type": "code",
   "execution_count": 3,
   "id": "e72eddf9-14bb-4662-add7-a79cab6bffba",
   "metadata": {},
   "outputs": [],
   "source": [
    "def test2():\n",
    "    print(45+67)"
   ]
  },
  {
   "cell_type": "code",
   "execution_count": 4,
   "id": "0532619c-78e3-4330-8199-edc85fa3a866",
   "metadata": {},
   "outputs": [
    {
     "name": "stdout",
     "output_type": "stream",
     "text": [
      "112\n"
     ]
    }
   ],
   "source": [
    "test2()"
   ]
  },
  {
   "cell_type": "code",
   "execution_count": 5,
   "id": "e03a81eb-260b-4a4d-a754-efa352d55b8b",
   "metadata": {},
   "outputs": [],
   "source": [
    "@timer_test\n",
    "def test2():\n",
    "    print(45+67)"
   ]
  },
  {
   "cell_type": "code",
   "execution_count": 6,
   "id": "319a3719-616d-4798-879b-1dfadbc38f30",
   "metadata": {},
   "outputs": [
    {
     "name": "stdout",
     "output_type": "stream",
     "text": [
      "112\n",
      "4.458427429199219e-05\n"
     ]
    }
   ],
   "source": [
    "test2()"
   ]
  },
  {
   "cell_type": "code",
   "execution_count": 8,
   "id": "2ec60dc1-ef75-4d30-8481-5985919c41ce",
   "metadata": {},
   "outputs": [],
   "source": [
    "@timer_test\n",
    "def test3():\n",
    "    for i in range(1000000000):\n",
    "        pass"
   ]
  },
  {
   "cell_type": "code",
   "execution_count": 9,
   "id": "085a0c15-1fca-44d8-ace0-46dd05493614",
   "metadata": {},
   "outputs": [
    {
     "name": "stdout",
     "output_type": "stream",
     "text": [
      "28.629228830337524\n"
     ]
    }
   ],
   "source": [
    "test3()"
   ]
  },
  {
   "cell_type": "markdown",
   "id": "7837121d-83ae-444f-942d-dbf5307f322d",
   "metadata": {},
   "source": [
    "# Class Method"
   ]
  },
  {
   "cell_type": "code",
   "execution_count": 14,
   "id": "b5f5d61e-61ac-462b-b90a-768e1c3f8de9",
   "metadata": {},
   "outputs": [],
   "source": [
    "class pwskills:\n",
    "    def __init__(self, name, email_id):\n",
    "        \n",
    "        self.name = name\n",
    "        self.email_id=email_id\n",
    "    def student_details(self):\n",
    "        print(self.name,self.email_id)"
   ]
  },
  {
   "cell_type": "code",
   "execution_count": 15,
   "id": "919febaa-49c4-4d40-9cc8-d79f89728207",
   "metadata": {},
   "outputs": [],
   "source": [
    "anya = pwskills(\"Anya_Singh\",\"anyasingh2211@gmail.com\")"
   ]
  },
  {
   "cell_type": "code",
   "execution_count": 17,
   "id": "6e1031c3-2a69-404c-8ecc-bde465319124",
   "metadata": {},
   "outputs": [
    {
     "data": {
      "text/plain": [
       "'Anya_Singh'"
      ]
     },
     "execution_count": 17,
     "metadata": {},
     "output_type": "execute_result"
    }
   ],
   "source": [
    "anya.name"
   ]
  },
  {
   "cell_type": "code",
   "execution_count": 18,
   "id": "a20d83e6-8814-4b64-9efc-67027d7f12bc",
   "metadata": {},
   "outputs": [
    {
     "data": {
      "text/plain": [
       "'anyasingh2211@gmail.com'"
      ]
     },
     "execution_count": 18,
     "metadata": {},
     "output_type": "execute_result"
    }
   ],
   "source": [
    "anya.email_id"
   ]
  },
  {
   "cell_type": "code",
   "execution_count": 20,
   "id": "ad8cef6b-1fd2-4f7a-bfff-501aa68df04b",
   "metadata": {},
   "outputs": [
    {
     "name": "stdout",
     "output_type": "stream",
     "text": [
      "Anya_Singh anyasingh2211@gmail.com\n"
     ]
    }
   ],
   "source": [
    "anya.student_details()"
   ]
  },
  {
   "cell_type": "code",
   "execution_count": 38,
   "id": "b75adb71-ecd1-43bc-9ae8-552e9b35befa",
   "metadata": {},
   "outputs": [],
   "source": [
    "class pwskills1:\n",
    "    def __init__(self, name, email_id):\n",
    "        \n",
    "        self.name = name\n",
    "        self.email_id=email_id\n",
    "        \n",
    "    @classmethod                      ##inbuilt decorator for any class\n",
    "    def details(cls, name1 , email1):\n",
    "        return cls(name1, email1)     ##name1 & email1 is assign to name and email_id of init is called method overloading\n",
    "    \n",
    "    def student_details(self):\n",
    "        print(self.name,self.email_id)"
   ]
  },
  {
   "cell_type": "code",
   "execution_count": 34,
   "id": "caeb456b-ec15-469d-be5e-4a5ff43cb240",
   "metadata": {},
   "outputs": [],
   "source": [
    "Rishabh=pwskills1.details(\"Anya\",\"anyasingh2211@gmail.com\")"
   ]
  },
  {
   "cell_type": "code",
   "execution_count": 35,
   "id": "5fd38ecb-875a-45de-93ce-6ad6e3e91bfc",
   "metadata": {},
   "outputs": [
    {
     "data": {
      "text/plain": [
       "'Anya'"
      ]
     },
     "execution_count": 35,
     "metadata": {},
     "output_type": "execute_result"
    }
   ],
   "source": [
    "Rishabh.name"
   ]
  },
  {
   "cell_type": "code",
   "execution_count": 36,
   "id": "0919e906-72bd-4f5c-9fd8-437cd62df51f",
   "metadata": {},
   "outputs": [
    {
     "data": {
      "text/plain": [
       "'anyasingh2211@gmail.com'"
      ]
     },
     "execution_count": 36,
     "metadata": {},
     "output_type": "execute_result"
    }
   ],
   "source": [
    "Rishabh.email_id"
   ]
  },
  {
   "cell_type": "code",
   "execution_count": 37,
   "id": "25d40054-54f3-461b-ad5c-d8be87e8dd9d",
   "metadata": {},
   "outputs": [
    {
     "name": "stdout",
     "output_type": "stream",
     "text": [
      "Anya anyasingh2211@gmail.com\n"
     ]
    }
   ],
   "source": [
    "Rishabh.student_details()"
   ]
  },
  {
   "cell_type": "code",
   "execution_count": 47,
   "id": "528511ea-01fc-443c-94f8-01c259529baa",
   "metadata": {},
   "outputs": [],
   "source": [
    "class pwskills2:\n",
    "    mob_no=8052531390\n",
    "    def __init__(self, name, email_id):\n",
    "        \n",
    "        self.name = name\n",
    "        self.email_id=email_id\n",
    "        \n",
    "    @classmethod                      \n",
    "    def details(cls, name1 , email1):\n",
    "        return cls(name1, email1)    \n",
    "    \n",
    "    def student_details(self):\n",
    "        print(self.name,self.email_id, pwskills2.mob_no)"
   ]
  },
  {
   "cell_type": "code",
   "execution_count": 48,
   "id": "ab8bea7d-cb11-43f4-ab8d-e503a36e1db6",
   "metadata": {},
   "outputs": [
    {
     "data": {
      "text/plain": [
       "8052531390"
      ]
     },
     "execution_count": 48,
     "metadata": {},
     "output_type": "execute_result"
    }
   ],
   "source": [
    "pwskills2.mob_no"
   ]
  },
  {
   "cell_type": "code",
   "execution_count": 49,
   "id": "740c89cf-c383-4a2c-9177-40bd7c0d269c",
   "metadata": {},
   "outputs": [],
   "source": [
    "Rishu=pwskills2.details(\"anuj\", \"abc@gmail.com\")"
   ]
  },
  {
   "cell_type": "code",
   "execution_count": 50,
   "id": "a15085fb-bcc5-4e50-bdcc-bacb2b1e29d5",
   "metadata": {},
   "outputs": [
    {
     "data": {
      "text/plain": [
       "'anuj'"
      ]
     },
     "execution_count": 50,
     "metadata": {},
     "output_type": "execute_result"
    }
   ],
   "source": [
    "Rishu.name"
   ]
  },
  {
   "cell_type": "code",
   "execution_count": 51,
   "id": "bec4dd3a-a0d1-4b62-8d8a-bc4cb28b653e",
   "metadata": {},
   "outputs": [
    {
     "name": "stdout",
     "output_type": "stream",
     "text": [
      "anuj abc@gmail.com 8052531390\n"
     ]
    }
   ],
   "source": [
    "Rishu.student_details()"
   ]
  },
  {
   "cell_type": "code",
   "execution_count": 59,
   "id": "78a212ee-9dfa-4e55-b671-71a32e2def03",
   "metadata": {},
   "outputs": [],
   "source": [
    "class pwskills3:\n",
    "    mob_no=8052531390\n",
    "    def __init__(self, name, email_id):\n",
    "        \n",
    "        self.name = name\n",
    "        self.email_id=email_id\n",
    "    @classmethod\n",
    "    def change_no(cls,mobile):\n",
    "        pwskills3.mob_no=mobile\n",
    "        \n",
    "    @classmethod                      \n",
    "    def details(cls, name1 , email1):\n",
    "        return cls(name1, email1)    \n",
    "    \n",
    "    def student_details(self):\n",
    "        print(self.name,self.email_id, pwskills3.mob_no)"
   ]
  },
  {
   "cell_type": "code",
   "execution_count": 54,
   "id": "1189bfc4-2cf8-4857-94f1-1866dd6e0630",
   "metadata": {},
   "outputs": [
    {
     "data": {
      "text/plain": [
       "8052531390"
      ]
     },
     "execution_count": 54,
     "metadata": {},
     "output_type": "execute_result"
    }
   ],
   "source": [
    "pwskills3.mob_no"
   ]
  },
  {
   "cell_type": "code",
   "execution_count": 56,
   "id": "5dec9698-fa25-49bf-a5a6-caaf500ca4e9",
   "metadata": {},
   "outputs": [],
   "source": [
    "pwskills3.change_no(6393970872)"
   ]
  },
  {
   "cell_type": "code",
   "execution_count": 57,
   "id": "ca2aaad5-ee0b-412c-8a87-3527a7db2bc8",
   "metadata": {},
   "outputs": [
    {
     "data": {
      "text/plain": [
       "6393970872"
      ]
     },
     "execution_count": 57,
     "metadata": {},
     "output_type": "execute_result"
    }
   ],
   "source": [
    "pwskills3.mob_no"
   ]
  },
  {
   "cell_type": "code",
   "execution_count": 60,
   "id": "d6590e05-ac62-4235-87c2-1e49b1160c66",
   "metadata": {},
   "outputs": [],
   "source": [
    "class pwskills4:\n",
    "    mob_no=8052531390\n",
    "    def __init__(self, name, email_id):\n",
    "        \n",
    "        self.name = name\n",
    "        self.email_id=email_id\n",
    "    @classmethod\n",
    "    def change_no(cls,mobile):\n",
    "        pwskills3.mob_no=mobile\n",
    "        \n",
    "    @classmethod                      \n",
    "    def details(cls, name1 , email1):\n",
    "        return cls(name1, email1)    \n",
    "    \n",
    "    def student_details(self):\n",
    "        print(self.name,self.email_id, pwskills4.mob_no)"
   ]
  },
  {
   "cell_type": "code",
   "execution_count": 63,
   "id": "e746818b-e3c7-4853-9c73-50196d495f53",
   "metadata": {},
   "outputs": [],
   "source": [
    "##connecting the external f into the class\n",
    "def course_details(cls,course_name):\n",
    "    print(\"course details\", course_name)"
   ]
  },
  {
   "cell_type": "code",
   "execution_count": 64,
   "id": "1bd7d843-82f0-44f5-899c-311e952512ed",
   "metadata": {},
   "outputs": [],
   "source": [
    "pwskills4.course_details = classmethod(course_details)"
   ]
  },
  {
   "cell_type": "code",
   "execution_count": 66,
   "id": "46632280-ca76-4e7c-b1d1-c3d603a2648a",
   "metadata": {},
   "outputs": [
    {
     "name": "stdout",
     "output_type": "stream",
     "text": [
      "course details DSM\n"
     ]
    }
   ],
   "source": [
    "pwskills4.course_details(\"DSM\")"
   ]
  },
  {
   "cell_type": "code",
   "execution_count": 67,
   "id": "26d1601a-c4cc-4f95-aac1-ec542a15b8d1",
   "metadata": {},
   "outputs": [],
   "source": [
    "ris= pwskills4(\"Rish\",\"r@gmail.com\")"
   ]
  },
  {
   "cell_type": "code",
   "execution_count": 68,
   "id": "651594c2-d9da-45b7-85da-7d0f6ac42b03",
   "metadata": {},
   "outputs": [
    {
     "name": "stdout",
     "output_type": "stream",
     "text": [
      "course details web_dev\n"
     ]
    }
   ],
   "source": [
    "ris.course_details(\"web_dev\")"
   ]
  },
  {
   "cell_type": "markdown",
   "id": "d196ed2c-a55d-4550-b4a0-1c343ed17f54",
   "metadata": {},
   "source": [
    "# Static MEthod"
   ]
  },
  {
   "cell_type": "code",
   "execution_count": 23,
   "id": "b00ca407-d211-4028-85f2-c27cb9a003ab",
   "metadata": {},
   "outputs": [],
   "source": [
    "class rish:\n",
    "    def student_details(self, name, mail_id , number):\n",
    "        print(name,mail_id,number)"
   ]
  },
  {
   "cell_type": "code",
   "execution_count": 24,
   "id": "25de0203-1736-4be9-82ef-d257c08f8ba0",
   "metadata": {},
   "outputs": [],
   "source": [
    "rishabh=rish()"
   ]
  },
  {
   "cell_type": "code",
   "execution_count": 27,
   "id": "0350de83-4c0a-4369-9fc1-1c14456798bb",
   "metadata": {},
   "outputs": [
    {
     "name": "stdout",
     "output_type": "stream",
     "text": [
      "Rishah Singh rishabhthakur2322@gmail.com 8052531390\n"
     ]
    }
   ],
   "source": [
    "rishabh.student_details(\"Rishah Singh\", \"rishabhthakur2322@gmail.com\",8052531390)"
   ]
  },
  {
   "cell_type": "code",
   "execution_count": 40,
   "id": "78b011ff-c1a7-483b-9362-bd8538c1907a",
   "metadata": {},
   "outputs": [],
   "source": [
    "class rish1:\n",
    "    def student_details(self, name, mail_id , number):\n",
    "        print(name,mail_id,number)\n",
    "    @staticmethod\n",
    "    def mentor_class(list_mentor):\n",
    "        print(list_mentor)\n",
    "        \n",
    "    def mentor(self, mentor_list):\n",
    "        print(mentor_list)"
   ]
  },
  {
   "cell_type": "code",
   "execution_count": 41,
   "id": "44b5c7ee-c3d9-458a-87f0-fd0aed1f7e7d",
   "metadata": {},
   "outputs": [
    {
     "name": "stdout",
     "output_type": "stream",
     "text": [
      "krish\n"
     ]
    }
   ],
   "source": [
    "\n",
    "rish1.mentor_class(\"krish\")"
   ]
  },
  {
   "cell_type": "code",
   "execution_count": 42,
   "id": "eec9b1d8-3ba7-4efb-9f42-06e2a7677a67",
   "metadata": {},
   "outputs": [],
   "source": [
    "pw=rish1()"
   ]
  },
  {
   "cell_type": "code",
   "execution_count": 43,
   "id": "9f06a6e8-3f9f-4ab3-bb13-1ccd21f57ee9",
   "metadata": {},
   "outputs": [
    {
     "name": "stdout",
     "output_type": "stream",
     "text": [
      "Sudh\n"
     ]
    }
   ],
   "source": [
    "pw.mentor_class(\"Sudh\")"
   ]
  },
  {
   "cell_type": "code",
   "execution_count": 2,
   "id": "b40b6ba6-67d3-417d-8f78-b67efaf22131",
   "metadata": {},
   "outputs": [
    {
     "data": {
      "text/plain": [
       "0"
      ]
     },
     "execution_count": 2,
     "metadata": {},
     "output_type": "execute_result"
    }
   ],
   "source": []
  },
  {
   "cell_type": "code",
   "execution_count": 34,
   "id": "79487540-dfb8-4412-857b-3e1b8d69c729",
   "metadata": {},
   "outputs": [],
   "source": [
    "class rishabh1:\n",
    "    def student_details(self, name, mail_id , number):\n",
    "        print(name,mail_id,number)\n",
    "    @staticmethod\n",
    "    def mentor_mail_id(mail_id):\n",
    "        print(mail_id)\n",
    "    @staticmethod\n",
    "    def mentor_class(list_mentor):\n",
    "        print(list_mentor)\n",
    "        rishabh1.mentor_mail_id([\"krish@gmail.com\",\"sudh@gmail.ocm\"])  ##static inside a static\n",
    "    @classmethod \n",
    "    def class_name(cls,class_name):\n",
    "        cls.mentor_class([\"sudh\",\"krish\"]) ##static method inside a class method\n",
    "        \n",
    "    def mentor(self, mentor_list):\n",
    "        print(mentor_list)\n",
    "        self.mentor_class([\"Krish\",\"Sudh\"])    ##static method inside an instance method"
   ]
  },
  {
   "cell_type": "code",
   "execution_count": 15,
   "id": "c54739d9-6ed8-4888-972e-a1c7614add5d",
   "metadata": {},
   "outputs": [],
   "source": [
    "singh=rishabh1()\n"
   ]
  },
  {
   "cell_type": "code",
   "execution_count": 17,
   "id": "29507871-14e3-44be-b4d1-114f604a6952",
   "metadata": {},
   "outputs": [
    {
     "name": "stdout",
     "output_type": "stream",
     "text": [
      "Anuj Anuj@gmail.com 8052531390\n"
     ]
    }
   ],
   "source": [
    "singh.student_details(\"Anuj\",\"Anuj@gmail.com\",8052531390 )"
   ]
  },
  {
   "cell_type": "code",
   "execution_count": 31,
   "id": "1e37c685-c4b5-4c06-8876-6ba32d6a12d1",
   "metadata": {},
   "outputs": [
    {
     "name": "stdout",
     "output_type": "stream",
     "text": [
      "['k@gmail.com', 'S@gmail.com']\n"
     ]
    }
   ],
   "source": [
    "singh.mentor_mail_id([\"k@gmail.com\",\"S@gmail.com\"])"
   ]
  },
  {
   "cell_type": "code",
   "execution_count": 36,
   "id": "a664f396-8cd6-4ee1-b44a-a2ffd9e2eeac",
   "metadata": {},
   "outputs": [
    {
     "name": "stdout",
     "output_type": "stream",
     "text": [
      "['sudh', 'krish']\n"
     ]
    },
    {
     "ename": "TypeError",
     "evalue": "rishabh1.mentor_mail_id() takes 1 positional argument but 2 were given",
     "output_type": "error",
     "traceback": [
      "\u001b[0;31m---------------------------------------------------------------------------\u001b[0m",
      "\u001b[0;31mTypeError\u001b[0m                                 Traceback (most recent call last)",
      "Cell \u001b[0;32mIn[36], line 1\u001b[0m\n\u001b[0;32m----> 1\u001b[0m \u001b[43msingh\u001b[49m\u001b[38;5;241;43m.\u001b[39;49m\u001b[43mclass_name\u001b[49m\u001b[43m(\u001b[49m\u001b[38;5;124;43m\"\u001b[39;49m\u001b[38;5;124;43mData Science Masters\u001b[39;49m\u001b[38;5;124;43m\"\u001b[39;49m\u001b[43m)\u001b[49m\n",
      "Cell \u001b[0;32mIn[9], line 13\u001b[0m, in \u001b[0;36mrishabh1.class_name\u001b[0;34m(cls, class_name)\u001b[0m\n\u001b[1;32m     11\u001b[0m \u001b[38;5;129m@classmethod\u001b[39m \n\u001b[1;32m     12\u001b[0m \u001b[38;5;28;01mdef\u001b[39;00m \u001b[38;5;21mclass_name\u001b[39m(\u001b[38;5;28mcls\u001b[39m,class_name):\n\u001b[0;32m---> 13\u001b[0m     \u001b[38;5;28;43mcls\u001b[39;49m\u001b[38;5;241;43m.\u001b[39;49m\u001b[43mmentor_class\u001b[49m\u001b[43m(\u001b[49m\u001b[43m[\u001b[49m\u001b[38;5;124;43m\"\u001b[39;49m\u001b[38;5;124;43msudh\u001b[39;49m\u001b[38;5;124;43m\"\u001b[39;49m\u001b[43m,\u001b[49m\u001b[38;5;124;43m\"\u001b[39;49m\u001b[38;5;124;43mkrish\u001b[39;49m\u001b[38;5;124;43m\"\u001b[39;49m\u001b[43m]\u001b[49m\u001b[43m)\u001b[49m\n",
      "Cell \u001b[0;32mIn[9], line 10\u001b[0m, in \u001b[0;36mrishabh1.mentor_class\u001b[0;34m(list_mentor)\u001b[0m\n\u001b[1;32m      7\u001b[0m \u001b[38;5;129m@staticmethod\u001b[39m\n\u001b[1;32m      8\u001b[0m \u001b[38;5;28;01mdef\u001b[39;00m \u001b[38;5;21mmentor_class\u001b[39m(list_mentor):\n\u001b[1;32m      9\u001b[0m     \u001b[38;5;28mprint\u001b[39m(list_mentor)\n\u001b[0;32m---> 10\u001b[0m     \u001b[43mrishabh1\u001b[49m\u001b[38;5;241;43m.\u001b[39;49m\u001b[43mmentor_mail_id\u001b[49m\u001b[43m(\u001b[49m\u001b[38;5;124;43m\"\u001b[39;49m\u001b[38;5;124;43mkrish@gmail.com\u001b[39;49m\u001b[38;5;124;43m\"\u001b[39;49m\u001b[43m,\u001b[49m\u001b[38;5;124;43m\"\u001b[39;49m\u001b[38;5;124;43msudh@gmail.ocm\u001b[39;49m\u001b[38;5;124;43m\"\u001b[39;49m\u001b[43m)\u001b[49m\n",
      "\u001b[0;31mTypeError\u001b[0m: rishabh1.mentor_mail_id() takes 1 positional argument but 2 were given"
     ]
    }
   ],
   "source": [
    "singh.class_name(\"Data Science Masters\")"
   ]
  },
  {
   "cell_type": "code",
   "execution_count": 35,
   "id": "7c017f4b-f22e-4d15-ac1e-bb60ead0394c",
   "metadata": {},
   "outputs": [
    {
     "name": "stdout",
     "output_type": "stream",
     "text": [
      "['krish@gmail.com', 'sudh@gmail.com']\n"
     ]
    }
   ],
   "source": [
    "rishabh1.mentor_mail_id([\"krish@gmail.com\",\"sudh@gmail.com\"])"
   ]
  },
  {
   "cell_type": "markdown",
   "id": "37c05158-2190-4b86-887f-819784925b29",
   "metadata": {},
   "source": [
    "# Special (magic/Dunder) methods"
   ]
  },
  {
   "cell_type": "code",
   "execution_count": 38,
   "id": "e29c013d-5fdd-4db3-ab6b-bbed427205fc",
   "metadata": {},
   "outputs": [
    {
     "data": {
      "text/plain": [
       "['__abs__',\n",
       " '__add__',\n",
       " '__and__',\n",
       " '__bool__',\n",
       " '__ceil__',\n",
       " '__class__',\n",
       " '__delattr__',\n",
       " '__dir__',\n",
       " '__divmod__',\n",
       " '__doc__',\n",
       " '__eq__',\n",
       " '__float__',\n",
       " '__floor__',\n",
       " '__floordiv__',\n",
       " '__format__',\n",
       " '__ge__',\n",
       " '__getattribute__',\n",
       " '__getnewargs__',\n",
       " '__gt__',\n",
       " '__hash__',\n",
       " '__index__',\n",
       " '__init__',\n",
       " '__init_subclass__',\n",
       " '__int__',\n",
       " '__invert__',\n",
       " '__le__',\n",
       " '__lshift__',\n",
       " '__lt__',\n",
       " '__mod__',\n",
       " '__mul__',\n",
       " '__ne__',\n",
       " '__neg__',\n",
       " '__new__',\n",
       " '__or__',\n",
       " '__pos__',\n",
       " '__pow__',\n",
       " '__radd__',\n",
       " '__rand__',\n",
       " '__rdivmod__',\n",
       " '__reduce__',\n",
       " '__reduce_ex__',\n",
       " '__repr__',\n",
       " '__rfloordiv__',\n",
       " '__rlshift__',\n",
       " '__rmod__',\n",
       " '__rmul__',\n",
       " '__ror__',\n",
       " '__round__',\n",
       " '__rpow__',\n",
       " '__rrshift__',\n",
       " '__rshift__',\n",
       " '__rsub__',\n",
       " '__rtruediv__',\n",
       " '__rxor__',\n",
       " '__setattr__',\n",
       " '__sizeof__',\n",
       " '__str__',\n",
       " '__sub__',\n",
       " '__subclasshook__',\n",
       " '__truediv__',\n",
       " '__trunc__',\n",
       " '__xor__',\n",
       " 'as_integer_ratio',\n",
       " 'bit_count',\n",
       " 'bit_length',\n",
       " 'conjugate',\n",
       " 'denominator',\n",
       " 'from_bytes',\n",
       " 'imag',\n",
       " 'numerator',\n",
       " 'real',\n",
       " 'to_bytes']"
      ]
     },
     "execution_count": 38,
     "metadata": {},
     "output_type": "execute_result"
    }
   ],
   "source": [
    "dir(int) ##magic fn/dunder"
   ]
  },
  {
   "cell_type": "code",
   "execution_count": 39,
   "id": "a8d66ef2-a46e-49cf-8038-ed432d93782f",
   "metadata": {},
   "outputs": [],
   "source": [
    "a=10"
   ]
  },
  {
   "cell_type": "code",
   "execution_count": 40,
   "id": "047da11d-7727-4bd0-a1ee-d86e18760d9f",
   "metadata": {},
   "outputs": [
    {
     "data": {
      "text/plain": [
       "16"
      ]
     },
     "execution_count": 40,
     "metadata": {},
     "output_type": "execute_result"
    }
   ],
   "source": [
    "a+6"
   ]
  },
  {
   "cell_type": "code",
   "execution_count": 42,
   "id": "41564512-aa26-420c-b8ca-4a887c30311c",
   "metadata": {},
   "outputs": [
    {
     "data": {
      "text/plain": [
       "16"
      ]
     },
     "execution_count": 42,
     "metadata": {},
     "output_type": "execute_result"
    }
   ],
   "source": [
    "a.__add__(6) ##magic fn"
   ]
  },
  {
   "cell_type": "code",
   "execution_count": 43,
   "id": "5a132433-3fa0-4fa6-af20-f0c5d0bee817",
   "metadata": {},
   "outputs": [
    {
     "data": {
      "text/plain": [
       "['__add__',\n",
       " '__class__',\n",
       " '__contains__',\n",
       " '__delattr__',\n",
       " '__dir__',\n",
       " '__doc__',\n",
       " '__eq__',\n",
       " '__format__',\n",
       " '__ge__',\n",
       " '__getattribute__',\n",
       " '__getitem__',\n",
       " '__getnewargs__',\n",
       " '__gt__',\n",
       " '__hash__',\n",
       " '__init__',\n",
       " '__init_subclass__',\n",
       " '__iter__',\n",
       " '__le__',\n",
       " '__len__',\n",
       " '__lt__',\n",
       " '__mod__',\n",
       " '__mul__',\n",
       " '__ne__',\n",
       " '__new__',\n",
       " '__reduce__',\n",
       " '__reduce_ex__',\n",
       " '__repr__',\n",
       " '__rmod__',\n",
       " '__rmul__',\n",
       " '__setattr__',\n",
       " '__sizeof__',\n",
       " '__str__',\n",
       " '__subclasshook__',\n",
       " 'capitalize',\n",
       " 'casefold',\n",
       " 'center',\n",
       " 'count',\n",
       " 'encode',\n",
       " 'endswith',\n",
       " 'expandtabs',\n",
       " 'find',\n",
       " 'format',\n",
       " 'format_map',\n",
       " 'index',\n",
       " 'isalnum',\n",
       " 'isalpha',\n",
       " 'isascii',\n",
       " 'isdecimal',\n",
       " 'isdigit',\n",
       " 'isidentifier',\n",
       " 'islower',\n",
       " 'isnumeric',\n",
       " 'isprintable',\n",
       " 'isspace',\n",
       " 'istitle',\n",
       " 'isupper',\n",
       " 'join',\n",
       " 'ljust',\n",
       " 'lower',\n",
       " 'lstrip',\n",
       " 'maketrans',\n",
       " 'partition',\n",
       " 'removeprefix',\n",
       " 'removesuffix',\n",
       " 'replace',\n",
       " 'rfind',\n",
       " 'rindex',\n",
       " 'rjust',\n",
       " 'rpartition',\n",
       " 'rsplit',\n",
       " 'rstrip',\n",
       " 'split',\n",
       " 'splitlines',\n",
       " 'startswith',\n",
       " 'strip',\n",
       " 'swapcase',\n",
       " 'title',\n",
       " 'translate',\n",
       " 'upper',\n",
       " 'zfill']"
      ]
     },
     "execution_count": 43,
     "metadata": {},
     "output_type": "execute_result"
    }
   ],
   "source": [
    "dir(str)"
   ]
  },
  {
   "cell_type": "code",
   "execution_count": 44,
   "id": "65457791-a0ea-4458-96a9-48e9d150679c",
   "metadata": {},
   "outputs": [
    {
     "data": {
      "text/plain": [
       "'ra'"
      ]
     },
     "execution_count": 44,
     "metadata": {},
     "output_type": "execute_result"
    }
   ],
   "source": [
    "\"r\" + \"a\""
   ]
  },
  {
   "cell_type": "code",
   "execution_count": 51,
   "id": "f3ebe3cf-c5af-4d1b-9453-894df3f731c4",
   "metadata": {},
   "outputs": [],
   "source": [
    "class pwskills:\n",
    "    def __new__(cls):\n",
    "        print(\"This is my new \")\n",
    "    def __init__(self):\n",
    "        print(\"this is my init\")\n",
    "        "
   ]
  },
  {
   "cell_type": "code",
   "execution_count": 52,
   "id": "8ae0bb92-1f89-4126-b99d-5b74ff2ecb51",
   "metadata": {},
   "outputs": [
    {
     "name": "stdout",
     "output_type": "stream",
     "text": [
      "This is my new \n"
     ]
    }
   ],
   "source": [
    "r=pwskills()"
   ]
  },
  {
   "cell_type": "code",
   "execution_count": 58,
   "id": "8f08686a-a186-4adf-a752-0900fa9ff8a6",
   "metadata": {},
   "outputs": [],
   "source": [
    "class pwskills1:\n",
    "    def __init__(self):\n",
    "        self.mob_no=8052531390\n",
    "        \n",
    "    def __str__(self):\n",
    "        return \"This is a magic method\""
   ]
  },
  {
   "cell_type": "code",
   "execution_count": 59,
   "id": "cba8edb0-d32e-4255-9464-ff5825753ea4",
   "metadata": {},
   "outputs": [],
   "source": [
    "pw1=pwskills1()"
   ]
  },
  {
   "cell_type": "code",
   "execution_count": 63,
   "id": "5cee6b9a-8bee-4749-bc96-68fd046eacae",
   "metadata": {},
   "outputs": [
    {
     "data": {
      "text/plain": [
       "<__main__.pwskills1 at 0x7f8c60817f40>"
      ]
     },
     "execution_count": 63,
     "metadata": {},
     "output_type": "execute_result"
    }
   ],
   "source": [
    "pw1"
   ]
  },
  {
   "cell_type": "code",
   "execution_count": 61,
   "id": "b8f7e673-29f7-4e01-a18a-4b5f9bb55358",
   "metadata": {},
   "outputs": [
    {
     "name": "stdout",
     "output_type": "stream",
     "text": [
      "This is a magic method\n"
     ]
    }
   ],
   "source": [
    "print(pw1)\n"
   ]
  },
  {
   "cell_type": "markdown",
   "id": "85a46409-2331-4db4-9f90-4840f3be97b5",
   "metadata": {},
   "source": [
    "# Property Decorators(getters,settters, delete)"
   ]
  },
  {
   "cell_type": "code",
   "execution_count": 6,
   "id": "52bfa937-de55-4b54-978a-3cf1140cc595",
   "metadata": {},
   "outputs": [],
   "source": [
    "class name:\n",
    "    def __init__(self,course_price , course_name):\n",
    "        self.__course_price=course_price\n",
    "        self.course_name=course_name"
   ]
  },
  {
   "cell_type": "code",
   "execution_count": 7,
   "id": "27b94839-f4b2-4658-8532-fdf5e98312f4",
   "metadata": {},
   "outputs": [],
   "source": [
    "rishabh=name(3500, \"DSM\")"
   ]
  },
  {
   "cell_type": "code",
   "execution_count": 8,
   "id": "79daac1e-38fa-401e-af5b-506e01d4ad7b",
   "metadata": {},
   "outputs": [
    {
     "data": {
      "text/plain": [
       "'DSM'"
      ]
     },
     "execution_count": 8,
     "metadata": {},
     "output_type": "execute_result"
    }
   ],
   "source": [
    "rishabh.course_name"
   ]
  },
  {
   "cell_type": "code",
   "execution_count": 9,
   "id": "3790f2c0-b871-4fdb-b92e-ba93768f27c5",
   "metadata": {},
   "outputs": [
    {
     "data": {
      "text/plain": [
       "3500"
      ]
     },
     "execution_count": 9,
     "metadata": {},
     "output_type": "execute_result"
    }
   ],
   "source": [
    "rishabh._name__course_price  ##only creater csn acces by this"
   ]
  },
  {
   "cell_type": "code",
   "execution_count": 10,
   "id": "66ac8db3-3754-4cda-b28d-6ab59c9f16c9",
   "metadata": {},
   "outputs": [],
   "source": [
    "##lets make it accesable to outer world"
   ]
  },
  {
   "cell_type": "code",
   "execution_count": 18,
   "id": "13886d72-8248-4ccd-a322-ab421945881f",
   "metadata": {},
   "outputs": [],
   "source": [
    "class name:\n",
    "    def __init__(self,course_price , course_name):\n",
    "        self.__course_price=course_price\n",
    "        self.course_name=course_name\n",
    "        \n",
    "    @property\n",
    "    def course_price_access(self):\n",
    "        return self.__course_price\n",
    "    \n",
    "    @course_price_access.setter\n",
    "    def course_price_set(self,price):\n",
    "        if price <=3500:\n",
    "            pass\n",
    "        else:\n",
    "            self.__course_price=price\n",
    "        "
   ]
  },
  {
   "cell_type": "code",
   "execution_count": 19,
   "id": "7b5897c1-81a6-413d-a707-f04461516650",
   "metadata": {},
   "outputs": [],
   "source": [
    "rishabh1=name(3500, \"DSM\")"
   ]
  },
  {
   "cell_type": "code",
   "execution_count": 20,
   "id": "4adc5dd1-d323-45fc-b985-02088fc31992",
   "metadata": {},
   "outputs": [
    {
     "data": {
      "text/plain": [
       "3500"
      ]
     },
     "execution_count": 20,
     "metadata": {},
     "output_type": "execute_result"
    }
   ],
   "source": [
    "rishabh1.course_price_access"
   ]
  },
  {
   "cell_type": "code",
   "execution_count": 23,
   "id": "549a8dce-08c0-4365-9fb3-654911e725e3",
   "metadata": {},
   "outputs": [],
   "source": [
    "rishabh1.course_price_set=4000"
   ]
  },
  {
   "cell_type": "code",
   "execution_count": 24,
   "id": "5c10520f-fa97-4329-bd10-df344d75985e",
   "metadata": {},
   "outputs": [
    {
     "data": {
      "text/plain": [
       "4000"
      ]
     },
     "execution_count": 24,
     "metadata": {},
     "output_type": "execute_result"
    }
   ],
   "source": [
    "rishabh1.course_price_access"
   ]
  },
  {
   "cell_type": "code",
   "execution_count": 25,
   "id": "5bb918ee-8844-414f-b694-20b05637528f",
   "metadata": {},
   "outputs": [],
   "source": [
    "rishabh1.course_price_set=3000"
   ]
  },
  {
   "cell_type": "code",
   "execution_count": 26,
   "id": "de17def9-dfc2-4e66-a92d-d78ebce40146",
   "metadata": {},
   "outputs": [
    {
     "data": {
      "text/plain": [
       "4000"
      ]
     },
     "execution_count": 26,
     "metadata": {},
     "output_type": "execute_result"
    }
   ],
   "source": [
    "rishabh1.course_price_access"
   ]
  },
  {
   "cell_type": "code",
   "execution_count": 27,
   "id": "b97cdd34-a162-48fa-abe1-c9bcc3f77600",
   "metadata": {},
   "outputs": [],
   "source": [
    "class name:\n",
    "    def __init__(self,course_price , course_name):\n",
    "        self.__course_price=course_price\n",
    "        self.course_name=course_name\n",
    "        \n",
    "    @property\n",
    "    def course_price_access(self):\n",
    "        return self.__course_price\n",
    "    \n",
    "    @course_price_access.setter\n",
    "    def course_price_set(self,price):\n",
    "        if price <=3500:\n",
    "            pass\n",
    "        else:\n",
    "            self.__course_price=price\n",
    "    @course_price_access.deleter\n",
    "    def course_price_del(self):\n",
    "        del self.__course_price"
   ]
  },
  {
   "cell_type": "code",
   "execution_count": 28,
   "id": "9939d6e3-663c-4d75-a10b-a4f65e20475b",
   "metadata": {},
   "outputs": [],
   "source": [
    "ris=name(3500,\"DSM\")"
   ]
  },
  {
   "cell_type": "code",
   "execution_count": 29,
   "id": "6889fa9f-874f-4695-8d58-7a819fdfbc92",
   "metadata": {},
   "outputs": [
    {
     "data": {
      "text/plain": [
       "3500"
      ]
     },
     "execution_count": 29,
     "metadata": {},
     "output_type": "execute_result"
    }
   ],
   "source": [
    "ris.course_price_access"
   ]
  },
  {
   "cell_type": "code",
   "execution_count": 30,
   "id": "d4fab66a-5ddc-40be-804f-5780c3843cdc",
   "metadata": {},
   "outputs": [],
   "source": [
    "ris.course_price_set=4000"
   ]
  },
  {
   "cell_type": "code",
   "execution_count": 31,
   "id": "972f6c41-83bf-4d83-84eb-c0a7c3c4ac13",
   "metadata": {},
   "outputs": [
    {
     "data": {
      "text/plain": [
       "4000"
      ]
     },
     "execution_count": 31,
     "metadata": {},
     "output_type": "execute_result"
    }
   ],
   "source": [
    "ris.course_price_access"
   ]
  },
  {
   "cell_type": "code",
   "execution_count": 32,
   "id": "5deb47e0-abac-4e2a-94d5-90e24eaf0f2c",
   "metadata": {},
   "outputs": [],
   "source": [
    "del ris.course_price_del"
   ]
  },
  {
   "cell_type": "code",
   "execution_count": null,
   "id": "5c0d0526-e0bf-4802-bed8-9ae9e3ebd48d",
   "metadata": {},
   "outputs": [],
   "source": []
  }
 ],
 "metadata": {
  "kernelspec": {
   "display_name": "Python 3 (ipykernel)",
   "language": "python",
   "name": "python3"
  },
  "language_info": {
   "codemirror_mode": {
    "name": "ipython",
    "version": 3
   },
   "file_extension": ".py",
   "mimetype": "text/x-python",
   "name": "python",
   "nbconvert_exporter": "python",
   "pygments_lexer": "ipython3",
   "version": "3.10.8"
  }
 },
 "nbformat": 4,
 "nbformat_minor": 5
}
