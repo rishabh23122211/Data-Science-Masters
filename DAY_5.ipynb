{
 "cells": [
  {
   "cell_type": "markdown",
   "id": "f11100b6-2e19-4a02-8bd7-2ad00ca8a799",
   "metadata": {},
   "source": [
    "### Tuples"
   ]
  },
  {
   "cell_type": "code",
   "execution_count": 2,
   "id": "7c2241d6-8393-4415-9ce5-f31449bd3f0d",
   "metadata": {},
   "outputs": [
    {
     "data": {
      "text/plain": [
       "tuple"
      ]
     },
     "execution_count": 2,
     "metadata": {},
     "output_type": "execute_result"
    }
   ],
   "source": [
    "t= ()\n",
    "type(t)"
   ]
  },
  {
   "cell_type": "code",
   "execution_count": 5,
   "id": "ae6c87e0-e154-4728-ad88-4d98a39a24b1",
   "metadata": {},
   "outputs": [],
   "source": [
    "t1=(1,2,3,4,5,45.7,\"Rishabh\",True,4+5j)"
   ]
  },
  {
   "cell_type": "code",
   "execution_count": 4,
   "id": "876ca46c-df4d-42c5-bf2b-fcd59f094459",
   "metadata": {},
   "outputs": [
    {
     "ename": "NameError",
     "evalue": "name 't1' is not defined",
     "output_type": "error",
     "traceback": [
      "\u001b[0;31m---------------------------------------------------------------------------\u001b[0m",
      "\u001b[0;31mNameError\u001b[0m                                 Traceback (most recent call last)",
      "Cell \u001b[0;32mIn[4], line 1\u001b[0m\n\u001b[0;32m----> 1\u001b[0m \u001b[43mt1\u001b[49m\n",
      "\u001b[0;31mNameError\u001b[0m: name 't1' is not defined"
     ]
    }
   ],
   "source": [
    "t1"
   ]
  },
  {
   "cell_type": "code",
   "execution_count": 6,
   "id": "5a713b70-f021-4bf2-bb60-d4b620326070",
   "metadata": {},
   "outputs": [
    {
     "data": {
      "text/plain": [
       "complex"
      ]
     },
     "execution_count": 6,
     "metadata": {},
     "output_type": "execute_result"
    }
   ],
   "source": []
  },
  {
   "cell_type": "code",
   "execution_count": 7,
   "id": "04f5cc5b-cbfd-43bd-97f2-12826f6a2650",
   "metadata": {},
   "outputs": [
    {
     "data": {
      "text/plain": [
       "(1, 2, 3, 4, 5, 45.7, 'Rishabh', True, (4+5j))"
      ]
     },
     "execution_count": 7,
     "metadata": {},
     "output_type": "execute_result"
    }
   ],
   "source": [
    "t1"
   ]
  },
  {
   "cell_type": "code",
   "execution_count": 8,
   "id": "1bd2b583-2ee9-44b4-8870-0f204be14a9a",
   "metadata": {},
   "outputs": [
    {
     "data": {
      "text/plain": [
       "tuple"
      ]
     },
     "execution_count": 8,
     "metadata": {},
     "output_type": "execute_result"
    }
   ],
   "source": [
    "type(t1)"
   ]
  },
  {
   "cell_type": "code",
   "execution_count": 9,
   "id": "54b8b64f-8f89-43b7-8d70-798837671d32",
   "metadata": {},
   "outputs": [
    {
     "data": {
      "text/plain": [
       "(1, 2, 3, 4, 5, 45.7, 'Rishabh', True, (4+5j))"
      ]
     },
     "execution_count": 9,
     "metadata": {},
     "output_type": "execute_result"
    }
   ],
   "source": [
    "t1"
   ]
  },
  {
   "cell_type": "code",
   "execution_count": 10,
   "id": "b5791164-0d95-41c1-be38-466810526a2f",
   "metadata": {},
   "outputs": [
    {
     "data": {
      "text/plain": [
       "1"
      ]
     },
     "execution_count": 10,
     "metadata": {},
     "output_type": "execute_result"
    }
   ],
   "source": [
    "t1[0] ##extract '1'"
   ]
  },
  {
   "cell_type": "code",
   "execution_count": 11,
   "id": "d46790e2-e33b-47e2-b6f2-9f3641bf1661",
   "metadata": {},
   "outputs": [
    {
     "data": {
      "text/plain": [
       "(4+5j)"
      ]
     },
     "execution_count": 11,
     "metadata": {},
     "output_type": "execute_result"
    }
   ],
   "source": [
    "t1[-1]"
   ]
  },
  {
   "cell_type": "code",
   "execution_count": 12,
   "id": "dacb6be4-5401-4483-8356-43e0a6313da7",
   "metadata": {},
   "outputs": [
    {
     "data": {
      "text/plain": [
       "True"
      ]
     },
     "execution_count": 12,
     "metadata": {},
     "output_type": "execute_result"
    }
   ],
   "source": [
    "t1[7]"
   ]
  },
  {
   "cell_type": "code",
   "execution_count": 17,
   "id": "1bc03757-68a8-4c2a-b19d-8c64c014ed43",
   "metadata": {},
   "outputs": [],
   "source": [
    "t2=t1[::-1]"
   ]
  },
  {
   "cell_type": "code",
   "execution_count": 16,
   "id": "ef1e3e3e-773e-4c0e-bb6e-a3d9af7d2b8d",
   "metadata": {},
   "outputs": [
    {
     "data": {
      "text/plain": [
       "(1, 2, 3, 4, 5, 45.7, 'Rishabh', True, (4+5j))"
      ]
     },
     "execution_count": 16,
     "metadata": {},
     "output_type": "execute_result"
    }
   ],
   "source": [
    "t1"
   ]
  },
  {
   "cell_type": "code",
   "execution_count": 18,
   "id": "de5b3c8c-8abd-4965-97c3-15ce91476cee",
   "metadata": {},
   "outputs": [
    {
     "data": {
      "text/plain": [
       "((4+5j), True, 'Rishabh', 45.7, 5, 4, 3, 2, 1)"
      ]
     },
     "execution_count": 18,
     "metadata": {},
     "output_type": "execute_result"
    }
   ],
   "source": [
    "t2"
   ]
  },
  {
   "cell_type": "code",
   "execution_count": 20,
   "id": "013ee2c2-8972-4999-9918-83b959e5ec22",
   "metadata": {},
   "outputs": [
    {
     "data": {
      "text/plain": [
       "((4+5j), True, 'Rishabh')"
      ]
     },
     "execution_count": 20,
     "metadata": {},
     "output_type": "execute_result"
    }
   ],
   "source": [
    "t2[0:3]"
   ]
  },
  {
   "cell_type": "code",
   "execution_count": 21,
   "id": "b13f2b29-3a12-4c71-a7ce-bfc310d93f32",
   "metadata": {},
   "outputs": [
    {
     "data": {
      "text/plain": [
       "((4+5j), True, 'Rishabh', 45.7, 5, 4, 3, 2, 1)"
      ]
     },
     "execution_count": 21,
     "metadata": {},
     "output_type": "execute_result"
    }
   ],
   "source": [
    "t2"
   ]
  },
  {
   "cell_type": "code",
   "execution_count": 22,
   "id": "1800734d-47b2-4d00-9656-5d7c14ea66ac",
   "metadata": {},
   "outputs": [
    {
     "data": {
      "text/plain": [
       "(1, 2, 3, 4, 5, 45.7, 'Rishabh', True, (4+5j))"
      ]
     },
     "execution_count": 22,
     "metadata": {},
     "output_type": "execute_result"
    }
   ],
   "source": [
    "t1"
   ]
  },
  {
   "cell_type": "code",
   "execution_count": 25,
   "id": "52b9db78-d5d3-4e54-9b1a-f2e878076969",
   "metadata": {},
   "outputs": [
    {
     "data": {
      "text/plain": [
       "1"
      ]
     },
     "execution_count": 25,
     "metadata": {},
     "output_type": "execute_result"
    }
   ],
   "source": [
    "t1.count(4)"
   ]
  },
  {
   "cell_type": "code",
   "execution_count": 26,
   "id": "c66f39cd-e70f-48e3-a7c0-e291f6e1523b",
   "metadata": {},
   "outputs": [
    {
     "data": {
      "text/plain": [
       "3"
      ]
     },
     "execution_count": 26,
     "metadata": {},
     "output_type": "execute_result"
    }
   ],
   "source": [
    "t1.index(4)"
   ]
  },
  {
   "cell_type": "code",
   "execution_count": 28,
   "id": "61d79f57-ef96-421e-a52a-bd953e90d979",
   "metadata": {},
   "outputs": [
    {
     "data": {
      "text/plain": [
       "8"
      ]
     },
     "execution_count": 28,
     "metadata": {},
     "output_type": "execute_result"
    }
   ],
   "source": [
    "t1.index(4+5j)"
   ]
  },
  {
   "cell_type": "code",
   "execution_count": 29,
   "id": "86a6e9c6-f672-430f-927e-61ab42e81956",
   "metadata": {},
   "outputs": [
    {
     "data": {
      "text/plain": [
       "6"
      ]
     },
     "execution_count": 29,
     "metadata": {},
     "output_type": "execute_result"
    }
   ],
   "source": [
    "t1.index(\"Rishabh\")"
   ]
  },
  {
   "cell_type": "code",
   "execution_count": 30,
   "id": "d40e6acb-975c-4216-af03-42e37b37d711",
   "metadata": {},
   "outputs": [
    {
     "data": {
      "text/plain": [
       "(1, 2, 3, 4, 5, 45.7, 'Rishabh', True, (4+5j))"
      ]
     },
     "execution_count": 30,
     "metadata": {},
     "output_type": "execute_result"
    }
   ],
   "source": [
    "t1"
   ]
  },
  {
   "cell_type": "code",
   "execution_count": 31,
   "id": "1d240e41-4395-4130-ab12-d24a442901c1",
   "metadata": {},
   "outputs": [
    {
     "data": {
      "text/plain": [
       "2"
      ]
     },
     "execution_count": 31,
     "metadata": {},
     "output_type": "execute_result"
    }
   ],
   "source": [
    "t1.count(True)"
   ]
  },
  {
   "cell_type": "code",
   "execution_count": 32,
   "id": "183de7c9-3382-4c2e-b1d1-5bd27dcc5fb9",
   "metadata": {},
   "outputs": [],
   "source": [
    "##mutability & inmutability"
   ]
  },
  {
   "cell_type": "code",
   "execution_count": 33,
   "id": "34b8e111-ff75-4006-b571-606397b05ba7",
   "metadata": {},
   "outputs": [
    {
     "data": {
      "text/plain": [
       "(1, 2, 3, 4, 5, 45.7, 'Rishabh', True, (4+5j))"
      ]
     },
     "execution_count": 33,
     "metadata": {},
     "output_type": "execute_result"
    }
   ],
   "source": [
    "t1"
   ]
  },
  {
   "cell_type": "code",
   "execution_count": 34,
   "id": "b8a5d68e-4603-4e2c-9f3e-586c04dc9846",
   "metadata": {},
   "outputs": [
    {
     "data": {
      "text/plain": [
       "3"
      ]
     },
     "execution_count": 34,
     "metadata": {},
     "output_type": "execute_result"
    }
   ],
   "source": [
    "t1[2]"
   ]
  },
  {
   "cell_type": "code",
   "execution_count": 35,
   "id": "5738b4e4-9c7d-45b9-ad70-1f86fa96e262",
   "metadata": {},
   "outputs": [
    {
     "ename": "TypeError",
     "evalue": "'tuple' object does not support item assignment",
     "output_type": "error",
     "traceback": [
      "\u001b[0;31m---------------------------------------------------------------------------\u001b[0m",
      "\u001b[0;31mTypeError\u001b[0m                                 Traceback (most recent call last)",
      "Cell \u001b[0;32mIn[35], line 1\u001b[0m\n\u001b[0;32m----> 1\u001b[0m \u001b[43mt1\u001b[49m\u001b[43m[\u001b[49m\u001b[38;5;241;43m6\u001b[39;49m\u001b[43m]\u001b[49m\u001b[38;5;241m=\u001b[39m\u001b[38;5;124m\"\u001b[39m\u001b[38;5;124mR\u001b[39m\u001b[38;5;124m\"\u001b[39m\n",
      "\u001b[0;31mTypeError\u001b[0m: 'tuple' object does not support item assignment"
     ]
    }
   ],
   "source": [
    "t1[6]=\"R\"  ##inmutable cannot update tuples"
   ]
  },
  {
   "cell_type": "code",
   "execution_count": 39,
   "id": "2bd101bf-c119-4509-95a4-f435b3f6fe9f",
   "metadata": {},
   "outputs": [
    {
     "data": {
      "text/plain": [
       "[1, 2, 3]"
      ]
     },
     "execution_count": 39,
     "metadata": {},
     "output_type": "execute_result"
    }
   ],
   "source": [
    "l=[1,2,3]\n",
    "l"
   ]
  },
  {
   "cell_type": "code",
   "execution_count": 40,
   "id": "eb5e7bd2-ad74-4df5-8f24-a9cde308fe5e",
   "metadata": {},
   "outputs": [],
   "source": [
    "l[2]=\"6\" ##mutable"
   ]
  },
  {
   "cell_type": "code",
   "execution_count": 41,
   "id": "81965616-314b-4b0d-b9ae-9e53a6bd154c",
   "metadata": {},
   "outputs": [
    {
     "data": {
      "text/plain": [
       "[1, 2, '6']"
      ]
     },
     "execution_count": 41,
     "metadata": {},
     "output_type": "execute_result"
    }
   ],
   "source": [
    "l"
   ]
  },
  {
   "cell_type": "markdown",
   "id": "82ae5497-4109-49db-b20e-819372a45b67",
   "metadata": {},
   "source": [
    "t1"
   ]
  },
  {
   "cell_type": "code",
   "execution_count": 42,
   "id": "c0a0b399-997a-4e74-b64c-60bd4cd71b57",
   "metadata": {},
   "outputs": [
    {
     "data": {
      "text/plain": [
       "((4+5j), True, 'Rishabh', 45.7, 5, 4, 3, 2, 1)"
      ]
     },
     "execution_count": 42,
     "metadata": {},
     "output_type": "execute_result"
    }
   ],
   "source": [
    "t2"
   ]
  },
  {
   "cell_type": "code",
   "execution_count": 43,
   "id": "7f292aa5-f876-4699-85a3-c13009922993",
   "metadata": {},
   "outputs": [
    {
     "data": {
      "text/plain": [
       "(1, 2, 3, 4, 5, 45.7, 'Rishabh', True, (4+5j))"
      ]
     },
     "execution_count": 43,
     "metadata": {},
     "output_type": "execute_result"
    }
   ],
   "source": [
    "t1"
   ]
  },
  {
   "cell_type": "code",
   "execution_count": 47,
   "id": "39dc2158-3fb7-42f8-81cc-ad4e5ea9505f",
   "metadata": {},
   "outputs": [
    {
     "name": "stdout",
     "output_type": "stream",
     "text": [
      "1 <class 'int'>\n",
      "2 <class 'int'>\n",
      "3 <class 'int'>\n",
      "4 <class 'int'>\n",
      "5 <class 'int'>\n",
      "45.7 <class 'float'>\n",
      "Rishabh <class 'str'>\n",
      "True <class 'bool'>\n",
      "(4+5j) <class 'complex'>\n"
     ]
    }
   ],
   "source": [
    "for i in  t1:\n",
    "     print(i,type(i))\n",
    "    "
   ]
  },
  {
   "cell_type": "code",
   "execution_count": 48,
   "id": "82f1f19e-6436-4dbd-b358-15db23777ed9",
   "metadata": {},
   "outputs": [
    {
     "data": {
      "text/plain": [
       "(1, 2, 3, 4, 5)"
      ]
     },
     "execution_count": 48,
     "metadata": {},
     "output_type": "execute_result"
    }
   ],
   "source": [
    "t3=(1,2,3,4,5)\n",
    "t3"
   ]
  },
  {
   "cell_type": "code",
   "execution_count": 49,
   "id": "920e54dd-d5eb-4ce3-835c-e5694834c124",
   "metadata": {},
   "outputs": [
    {
     "data": {
      "text/plain": [
       "(1, 2, 3, 4, 5, 1, 2, 3, 4, 5, 1, 2, 3, 4, 5)"
      ]
     },
     "execution_count": 49,
     "metadata": {},
     "output_type": "execute_result"
    }
   ],
   "source": [
    "t3*3"
   ]
  },
  {
   "cell_type": "code",
   "execution_count": 50,
   "id": "73e9bae6-c934-48a5-9cee-81f32d46407d",
   "metadata": {},
   "outputs": [
    {
     "data": {
      "text/plain": [
       "(1, 2, 3, 4, 5)"
      ]
     },
     "execution_count": 50,
     "metadata": {},
     "output_type": "execute_result"
    }
   ],
   "source": [
    "t3"
   ]
  },
  {
   "cell_type": "code",
   "execution_count": 53,
   "id": "32d49687-28e1-44a1-b434-cf6a42ff2c30",
   "metadata": {},
   "outputs": [
    {
     "data": {
      "text/plain": [
       "1"
      ]
     },
     "execution_count": 53,
     "metadata": {},
     "output_type": "execute_result"
    }
   ],
   "source": [
    "min(t3)"
   ]
  },
  {
   "cell_type": "code",
   "execution_count": 54,
   "id": "247c2f3d-c13a-4d62-9b32-3260e2247e6f",
   "metadata": {},
   "outputs": [
    {
     "data": {
      "text/plain": [
       "5"
      ]
     },
     "execution_count": 54,
     "metadata": {},
     "output_type": "execute_result"
    }
   ],
   "source": [
    "max(t3)"
   ]
  },
  {
   "cell_type": "markdown",
   "id": "3790e06d-8b84-4b89-aae5-fb0a8f4b6422",
   "metadata": {},
   "source": [
    "## Tuples atr bassicaly follows immutability concepts where it is not going to allow u change aany elements at perticulat index"
   ]
  },
  {
   "cell_type": "code",
   "execution_count": 57,
   "id": "83e2971f-e56e-4443-9bfe-2eccc96e6334",
   "metadata": {},
   "outputs": [
    {
     "data": {
      "text/plain": [
       "((1, 2, 3), (4, 5, 6))"
      ]
     },
     "execution_count": 57,
     "metadata": {},
     "output_type": "execute_result"
    }
   ],
   "source": [
    "t1=(1,2,3)\n",
    "t2=(4,5,6)\n",
    "tupp=(t1,t2)\n",
    "tupp"
   ]
  },
  {
   "cell_type": "code",
   "execution_count": 64,
   "id": "de9f4fcd-9c2a-4811-b5ef-fecfd1b3d08b",
   "metadata": {},
   "outputs": [
    {
     "data": {
      "text/plain": [
       "(1, 2, 3, 4, 5, 6)"
      ]
     },
     "execution_count": 64,
     "metadata": {},
     "output_type": "execute_result"
    }
   ],
   "source": [
    " tuple((j for i in tupp for j in i))"
   ]
  },
  {
   "cell_type": "code",
   "execution_count": 65,
   "id": "1b4a20a1-8442-4868-b13c-0c5c24e615f7",
   "metadata": {},
   "outputs": [],
   "source": [
    "t4=((1,2,3),[5,6,7])"
   ]
  },
  {
   "cell_type": "code",
   "execution_count": 66,
   "id": "7418ffc3-042e-4213-9613-467b1117f228",
   "metadata": {},
   "outputs": [
    {
     "data": {
      "text/plain": [
       "((1, 2, 3), [5, 6, 7])"
      ]
     },
     "execution_count": 66,
     "metadata": {},
     "output_type": "execute_result"
    }
   ],
   "source": [
    "t4"
   ]
  },
  {
   "cell_type": "code",
   "execution_count": 67,
   "id": "92e2c228-aff2-453a-be33-4df2fb9810a3",
   "metadata": {},
   "outputs": [],
   "source": [
    "del t4 ## delete tuple"
   ]
  },
  {
   "cell_type": "code",
   "execution_count": 68,
   "id": "b6c5f909-752f-416f-93ab-993d4becf1b6",
   "metadata": {},
   "outputs": [
    {
     "ename": "NameError",
     "evalue": "name 't4' is not defined",
     "output_type": "error",
     "traceback": [
      "\u001b[0;31m---------------------------------------------------------------------------\u001b[0m",
      "\u001b[0;31mNameError\u001b[0m                                 Traceback (most recent call last)",
      "Cell \u001b[0;32mIn[68], line 1\u001b[0m\n\u001b[0;32m----> 1\u001b[0m \u001b[43mt4\u001b[49m\n",
      "\u001b[0;31mNameError\u001b[0m: name 't4' is not defined"
     ]
    }
   ],
   "source": [
    "t4 ##deleted"
   ]
  },
  {
   "cell_type": "code",
   "execution_count": 69,
   "id": "cc566480-195a-48ea-a2aa-c12f5a3d2d89",
   "metadata": {},
   "outputs": [
    {
     "data": {
      "text/plain": [
       "(4, 5, 6)"
      ]
     },
     "execution_count": 69,
     "metadata": {},
     "output_type": "execute_result"
    }
   ],
   "source": [
    "t2"
   ]
  },
  {
   "cell_type": "code",
   "execution_count": 70,
   "id": "6e02b092-478e-4fcf-8dca-58985819eea2",
   "metadata": {},
   "outputs": [
    {
     "data": {
      "text/plain": [
       "3"
      ]
     },
     "execution_count": 70,
     "metadata": {},
     "output_type": "execute_result"
    }
   ],
   "source": [
    "len(t2)"
   ]
  },
  {
   "cell_type": "code",
   "execution_count": 71,
   "id": "f0e1229d-844a-4beb-984d-68424c496cc6",
   "metadata": {},
   "outputs": [
    {
     "data": {
      "text/plain": [
       "(1, 2, 3)"
      ]
     },
     "execution_count": 71,
     "metadata": {},
     "output_type": "execute_result"
    }
   ],
   "source": [
    "t1"
   ]
  },
  {
   "cell_type": "code",
   "execution_count": 73,
   "id": "2b81a0cf-49e1-4248-9dda-5c01ed858a48",
   "metadata": {},
   "outputs": [
    {
     "data": {
      "text/plain": [
       "True"
      ]
     },
     "execution_count": 73,
     "metadata": {},
     "output_type": "execute_result"
    }
   ],
   "source": [
    "1 in t1"
   ]
  },
  {
   "cell_type": "code",
   "execution_count": 75,
   "id": "3cbd0fd0-5541-4d4a-9d23-f625f951de98",
   "metadata": {},
   "outputs": [
    {
     "data": {
      "text/plain": [
       "False"
      ]
     },
     "execution_count": 75,
     "metadata": {},
     "output_type": "execute_result"
    }
   ],
   "source": [
    "0 in t1"
   ]
  },
  {
   "cell_type": "markdown",
   "id": "539c4832-aa0e-4bc2-b692-b3cbcfe3e66d",
   "metadata": {},
   "source": [
    "### SETS"
   ]
  },
  {
   "cell_type": "code",
   "execution_count": 76,
   "id": "4a73a3cf-405a-4e33-9758-c70ec48b8162",
   "metadata": {},
   "outputs": [
    {
     "data": {
      "text/plain": [
       "dict"
      ]
     },
     "execution_count": 76,
     "metadata": {},
     "output_type": "execute_result"
    }
   ],
   "source": [
    "s={}\n",
    "type(s) ##blank considered dict"
   ]
  },
  {
   "cell_type": "code",
   "execution_count": 77,
   "id": "be99a7a2-b9d7-4b33-a27c-650c503c3522",
   "metadata": {},
   "outputs": [
    {
     "data": {
      "text/plain": [
       "set"
      ]
     },
     "execution_count": 77,
     "metadata": {},
     "output_type": "execute_result"
    }
   ],
   "source": [
    "s1={1,2,3,4}\n",
    "type(s1)"
   ]
  },
  {
   "cell_type": "code",
   "execution_count": 78,
   "id": "baa7cf6a-8c2e-44b9-b4a4-336d1501067c",
   "metadata": {},
   "outputs": [
    {
     "data": {
      "text/plain": [
       "{1, 2, 3, 4, 7, 'R'}"
      ]
     },
     "execution_count": 78,
     "metadata": {},
     "output_type": "execute_result"
    }
   ],
   "source": [
    "s2={1,2,3,4,\"R\",4,7}\n",
    "s2 ##noduplicasies to store unique information"
   ]
  },
  {
   "cell_type": "code",
   "execution_count": 79,
   "id": "b5d237ac-c9d2-4136-8761-4ae7b4386e28",
   "metadata": {},
   "outputs": [
    {
     "data": {
      "text/plain": [
       "[1, 2, 3, 4, 'R', 7]"
      ]
     },
     "execution_count": 79,
     "metadata": {},
     "output_type": "execute_result"
    }
   ],
   "source": [
    "list(s2) ##convert in list"
   ]
  },
  {
   "cell_type": "code",
   "execution_count": 80,
   "id": "5616729e-8a61-4f12-9904-d04780eb5c58",
   "metadata": {},
   "outputs": [
    {
     "data": {
      "text/plain": [
       "(1, 2, 3, 4, 'R', 7)"
      ]
     },
     "execution_count": 80,
     "metadata": {},
     "output_type": "execute_result"
    }
   ],
   "source": [
    "tuple(s2) ##convert to tuple"
   ]
  },
  {
   "cell_type": "code",
   "execution_count": 81,
   "id": "fcc0d000-a291-4fb0-903a-993b7cf7ed61",
   "metadata": {},
   "outputs": [
    {
     "data": {
      "text/plain": [
       "[1, 2, '6']"
      ]
     },
     "execution_count": 81,
     "metadata": {},
     "output_type": "execute_result"
    }
   ],
   "source": [
    "l"
   ]
  },
  {
   "cell_type": "code",
   "execution_count": 83,
   "id": "abbdc548-4345-4e01-832c-3ff8674a55c1",
   "metadata": {},
   "outputs": [
    {
     "data": {
      "text/plain": [
       "{1, 2, '6'}"
      ]
     },
     "execution_count": 83,
     "metadata": {},
     "output_type": "execute_result"
    }
   ],
   "source": [
    "set(l) ##list to set"
   ]
  },
  {
   "cell_type": "code",
   "execution_count": 84,
   "id": "1c24af96-5fd5-4aab-a366-49c98e6f893d",
   "metadata": {},
   "outputs": [
    {
     "ename": "TypeError",
     "evalue": "unhashable type: 'list'",
     "output_type": "error",
     "traceback": [
      "\u001b[0;31m---------------------------------------------------------------------------\u001b[0m",
      "\u001b[0;31mTypeError\u001b[0m                                 Traceback (most recent call last)",
      "Cell \u001b[0;32mIn[84], line 1\u001b[0m\n\u001b[0;32m----> 1\u001b[0m s4 \u001b[38;5;241m=\u001b[39m {\u001b[38;5;241m1\u001b[39m,\u001b[38;5;241m2\u001b[39m,\u001b[38;5;241m3\u001b[39m,\u001b[38;5;241m4\u001b[39m,\u001b[38;5;241m5\u001b[39m,[\u001b[38;5;241m7\u001b[39m,\u001b[38;5;241m8\u001b[39m,\u001b[38;5;241m9\u001b[39m]} \n",
      "\u001b[0;31mTypeError\u001b[0m: unhashable type: 'list'"
     ]
    }
   ],
   "source": [
    "s4 = {1,2,3,4,5,[7,8,9]} "
   ]
  },
  {
   "cell_type": "code",
   "execution_count": null,
   "id": "b114ac58-b118-4ff7-8c51-5affe55d0ac5",
   "metadata": {},
   "outputs": [],
   "source": [
    "## cannot store like this bcoz kist ha sa type unhasable()\n"
   ]
  },
  {
   "cell_type": "code",
   "execution_count": 86,
   "id": "4020a58a-da94-497a-9f04-49464dad2b0c",
   "metadata": {},
   "outputs": [],
   "source": [
    "s5={1,2,3,(4,5,6)} ##since tuple is immutable"
   ]
  },
  {
   "cell_type": "code",
   "execution_count": 87,
   "id": "2a177f60-607c-4a9b-80d1-64b0c019ad0b",
   "metadata": {},
   "outputs": [
    {
     "data": {
      "text/plain": [
       "{(4, 5, 6), 1, 2, 3}"
      ]
     },
     "execution_count": 87,
     "metadata": {},
     "output_type": "execute_result"
    }
   ],
   "source": [
    "s5"
   ]
  },
  {
   "cell_type": "code",
   "execution_count": 91,
   "id": "b31faea9-0b69-47b8-91f2-a25d767038b1",
   "metadata": {},
   "outputs": [],
   "source": [
    "s6={\"Rishabh\", \"rishabh\",2,3,4,5}A"
   ]
  },
  {
   "cell_type": "code",
   "execution_count": 92,
   "id": "94cf6725-6dc9-4711-938b-9f98169c7fa5",
   "metadata": {},
   "outputs": [
    {
     "data": {
      "text/plain": [
       "{2, 3, 4, 5, 'Rishabh', 'rishabh'}"
      ]
     },
     "execution_count": 92,
     "metadata": {},
     "output_type": "execute_result"
    }
   ],
   "source": [
    "s6"
   ]
  },
  {
   "cell_type": "code",
   "execution_count": 94,
   "id": "1c0546ab-8d7f-49e0-b031-44bd43186e7f",
   "metadata": {},
   "outputs": [],
   "source": [
    "s6={\"Rishabh\", \"Rishabh\",2,3,4,5}"
   ]
  },
  {
   "cell_type": "code",
   "execution_count": 95,
   "id": "ee4e9c17-9285-4c26-9289-258d7da310b4",
   "metadata": {},
   "outputs": [
    {
     "data": {
      "text/plain": [
       "{2, 3, 4, 5, 'Rishabh'}"
      ]
     },
     "execution_count": 95,
     "metadata": {},
     "output_type": "execute_result"
    }
   ],
   "source": [
    "s6"
   ]
  },
  {
   "cell_type": "code",
   "execution_count": 96,
   "id": "d0b73b59-0db6-43cf-b343-dc7fa43271c7",
   "metadata": {},
   "outputs": [],
   "source": [
    "s7={1,2,4,6,\"Rishabh\"}"
   ]
  },
  {
   "cell_type": "code",
   "execution_count": 97,
   "id": "08e94abd-2727-4ae8-9d69-ac0b6a786459",
   "metadata": {},
   "outputs": [
    {
     "data": {
      "text/plain": [
       "{1, 2, 4, 6, 'Rishabh'}"
      ]
     },
     "execution_count": 97,
     "metadata": {},
     "output_type": "execute_result"
    }
   ],
   "source": [
    "s7"
   ]
  },
  {
   "cell_type": "code",
   "execution_count": 98,
   "id": "6a7180cc-7064-494c-a179-21806cd49a76",
   "metadata": {},
   "outputs": [
    {
     "ename": "TypeError",
     "evalue": "'set' object is not subscriptable",
     "output_type": "error",
     "traceback": [
      "\u001b[0;31m---------------------------------------------------------------------------\u001b[0m",
      "\u001b[0;31mTypeError\u001b[0m                                 Traceback (most recent call last)",
      "Cell \u001b[0;32mIn[98], line 1\u001b[0m\n\u001b[0;32m----> 1\u001b[0m \u001b[43ms7\u001b[49m\u001b[43m[\u001b[49m\u001b[38;5;241;43m0\u001b[39;49m\u001b[43m]\u001b[49m \u001b[38;5;66;03m##cannot extract element by indexing\u001b[39;00m\n",
      "\u001b[0;31mTypeError\u001b[0m: 'set' object is not subscriptable"
     ]
    }
   ],
   "source": [
    "s7[0] ##cannot extract element by indexing"
   ]
  },
  {
   "cell_type": "code",
   "execution_count": 99,
   "id": "89be1865-b697-49de-83b1-a23cbe940925",
   "metadata": {},
   "outputs": [
    {
     "data": {
      "text/plain": [
       "{1, 2, 4, 6, 'Rishabh'}"
      ]
     },
     "execution_count": 99,
     "metadata": {},
     "output_type": "execute_result"
    }
   ],
   "source": [
    "s7"
   ]
  },
  {
   "cell_type": "code",
   "execution_count": 100,
   "id": "28bb314c-0286-4803-8a12-f0677fbfd78a",
   "metadata": {},
   "outputs": [
    {
     "ename": "TypeError",
     "evalue": "'set' object is not subscriptable",
     "output_type": "error",
     "traceback": [
      "\u001b[0;31m---------------------------------------------------------------------------\u001b[0m",
      "\u001b[0;31mTypeError\u001b[0m                                 Traceback (most recent call last)",
      "Cell \u001b[0;32mIn[100], line 1\u001b[0m\n\u001b[0;32m----> 1\u001b[0m \u001b[43ms7\u001b[49m\u001b[43m[\u001b[49m\u001b[43m:\u001b[49m\u001b[43m:\u001b[49m\u001b[38;5;241;43m-\u001b[39;49m\u001b[38;5;241;43m1\u001b[39;49m\u001b[43m]\u001b[49m\n",
      "\u001b[0;31mTypeError\u001b[0m: 'set' object is not subscriptable"
     ]
    }
   ],
   "source": [
    "s7[::-1] ##cannot do slicing, but u can do by conveting in tuple and list"
   ]
  },
  {
   "cell_type": "code",
   "execution_count": 101,
   "id": "a4bd1959-689c-4cf5-b98e-0992729dc172",
   "metadata": {},
   "outputs": [
    {
     "data": {
      "text/plain": [
       "{1, 2, 4, 6, 'Rishabh'}"
      ]
     },
     "execution_count": 101,
     "metadata": {},
     "output_type": "execute_result"
    }
   ],
   "source": [
    "s7"
   ]
  },
  {
   "cell_type": "code",
   "execution_count": 102,
   "id": "070f33b9-9f32-4e9b-aa93-97c554b1679b",
   "metadata": {},
   "outputs": [
    {
     "name": "stdout",
     "output_type": "stream",
     "text": [
      "1\n",
      "2\n",
      "4\n",
      "Rishabh\n",
      "6\n"
     ]
    }
   ],
   "source": [
    "for i in s7:  ##possible to extract by help of for lopp\n",
    "    print(i)"
   ]
  },
  {
   "cell_type": "code",
   "execution_count": 104,
   "id": "3344e902-ad31-4385-be47-1b6947cc136f",
   "metadata": {},
   "outputs": [],
   "source": [
    "s7.add(34)"
   ]
  },
  {
   "cell_type": "code",
   "execution_count": 105,
   "id": "f411064a-b7a2-40b3-97ae-d8cb22ba3459",
   "metadata": {},
   "outputs": [
    {
     "data": {
      "text/plain": [
       "{1, 2, 34, 4, 6, 'Rishabh'}"
      ]
     },
     "execution_count": 105,
     "metadata": {},
     "output_type": "execute_result"
    }
   ],
   "source": [
    "s7"
   ]
  },
  {
   "cell_type": "code",
   "execution_count": 106,
   "id": "d9c8f667-88b0-4660-a40c-2d8883245eff",
   "metadata": {},
   "outputs": [],
   "source": [
    "s7.add('Rishu')"
   ]
  },
  {
   "cell_type": "code",
   "execution_count": 107,
   "id": "b564f16a-cb34-4743-b37b-5705022c6928",
   "metadata": {},
   "outputs": [
    {
     "data": {
      "text/plain": [
       "{1, 2, 34, 4, 6, 'Rishabh', 'Rishu'}"
      ]
     },
     "execution_count": 107,
     "metadata": {},
     "output_type": "execute_result"
    }
   ],
   "source": [
    "s7"
   ]
  },
  {
   "cell_type": "code",
   "execution_count": 108,
   "id": "3482ca2d-52ef-4686-a656-615db610094f",
   "metadata": {},
   "outputs": [
    {
     "data": {
      "text/plain": [
       "7"
      ]
     },
     "execution_count": 108,
     "metadata": {},
     "output_type": "execute_result"
    }
   ],
   "source": [
    "len(s7)"
   ]
  },
  {
   "cell_type": "code",
   "execution_count": 109,
   "id": "33cff9c0-1a68-4476-b6d3-0d9b4b9de031",
   "metadata": {},
   "outputs": [
    {
     "data": {
      "text/plain": [
       "1"
      ]
     },
     "execution_count": 109,
     "metadata": {},
     "output_type": "execute_result"
    }
   ],
   "source": [
    "s7.pop()"
   ]
  },
  {
   "cell_type": "code",
   "execution_count": 110,
   "id": "c1975d1a-3d90-4996-9b56-0d49722b1e1f",
   "metadata": {},
   "outputs": [
    {
     "data": {
      "text/plain": [
       "{2, 34, 4, 6, 'Rishabh', 'Rishu'}"
      ]
     },
     "execution_count": 110,
     "metadata": {},
     "output_type": "execute_result"
    }
   ],
   "source": [
    "s7"
   ]
  },
  {
   "cell_type": "code",
   "execution_count": 111,
   "id": "87e75d34-3e93-4ae3-8335-e0ea54cc69f3",
   "metadata": {},
   "outputs": [
    {
     "data": {
      "text/plain": [
       "2"
      ]
     },
     "execution_count": 111,
     "metadata": {},
     "output_type": "execute_result"
    }
   ],
   "source": [
    "s7.pop() ##removes elements by elements ramdomly"
   ]
  },
  {
   "cell_type": "code",
   "execution_count": 112,
   "id": "0ac73cc8-51f6-4b21-8b5e-7201a8706e41",
   "metadata": {},
   "outputs": [
    {
     "data": {
      "text/plain": [
       "{34, 4, 6, 'Rishabh', 'Rishu'}"
      ]
     },
     "execution_count": 112,
     "metadata": {},
     "output_type": "execute_result"
    }
   ],
   "source": [
    "s7"
   ]
  },
  {
   "cell_type": "code",
   "execution_count": 113,
   "id": "a19cb0df-2a2c-4568-8530-b371653784b5",
   "metadata": {},
   "outputs": [
    {
     "data": {
      "text/plain": [
       "34"
      ]
     },
     "execution_count": 113,
     "metadata": {},
     "output_type": "execute_result"
    }
   ],
   "source": [
    "s7.pop()"
   ]
  },
  {
   "cell_type": "code",
   "execution_count": 114,
   "id": "987fd8e4-f5c3-48ed-9e22-5abb07a827fc",
   "metadata": {},
   "outputs": [
    {
     "data": {
      "text/plain": [
       "{4, 6, 'Rishabh', 'Rishu'}"
      ]
     },
     "execution_count": 114,
     "metadata": {},
     "output_type": "execute_result"
    }
   ],
   "source": [
    "s7"
   ]
  },
  {
   "cell_type": "code",
   "execution_count": 115,
   "id": "15bdac83-4cb7-4bc6-86df-303bbce19d67",
   "metadata": {},
   "outputs": [],
   "source": [
    "s7.clear() ##empty set"
   ]
  },
  {
   "cell_type": "code",
   "execution_count": 116,
   "id": "5220dade-5aeb-4cf8-872b-dbc80eef697e",
   "metadata": {},
   "outputs": [
    {
     "data": {
      "text/plain": [
       "set()"
      ]
     },
     "execution_count": 116,
     "metadata": {},
     "output_type": "execute_result"
    }
   ],
   "source": [
    "s7"
   ]
  },
  {
   "cell_type": "code",
   "execution_count": 117,
   "id": "6e05c52d-6ea1-4014-bfe8-a9be40ee1c54",
   "metadata": {},
   "outputs": [
    {
     "data": {
      "text/plain": [
       "set()"
      ]
     },
     "execution_count": 117,
     "metadata": {},
     "output_type": "execute_result"
    }
   ],
   "source": [
    "s7"
   ]
  },
  {
   "cell_type": "code",
   "execution_count": 121,
   "id": "28325640-58e0-4429-b5c1-3d169b89994d",
   "metadata": {},
   "outputs": [
    {
     "data": {
      "text/plain": [
       "{4}"
      ]
     },
     "execution_count": 121,
     "metadata": {},
     "output_type": "execute_result"
    }
   ],
   "source": [
    "s8={1,2,3,4}\n",
    "s9={1,2,3,5}\n",
    "s8.difference(s9)"
   ]
  },
  {
   "cell_type": "code",
   "execution_count": 119,
   "id": "5fc0595b-f743-42d2-81e9-6794c4c3a715",
   "metadata": {},
   "outputs": [
    {
     "data": {
      "text/plain": [
       "{5}"
      ]
     },
     "execution_count": 119,
     "metadata": {},
     "output_type": "execute_result"
    }
   ],
   "source": [
    "s9.difference(s8)"
   ]
  },
  {
   "cell_type": "markdown",
   "id": "fbbd4891-5540-4b26-ac35-b146675a9853",
   "metadata": {},
   "source": [
    "## Dictionaries"
   ]
  },
  {
   "cell_type": "code",
   "execution_count": 124,
   "id": "0a048316-24c4-46d0-a8bb-a1c66e81e647",
   "metadata": {},
   "outputs": [
    {
     "data": {
      "text/plain": [
       "dict"
      ]
     },
     "execution_count": 124,
     "metadata": {},
     "output_type": "execute_result"
    }
   ],
   "source": [
    "d={}\n",
    "type(d)"
   ]
  },
  {
   "cell_type": "code",
   "execution_count": 125,
   "id": "eefd02f4-cce0-429d-a1d9-977a7765c064",
   "metadata": {},
   "outputs": [],
   "source": [
    "d1={\"name\":\"Rishabh\",\"email_id\": \"rishabhthakur2322@gmail.com\", \"age\":20}"
   ]
  },
  {
   "cell_type": "code",
   "execution_count": 126,
   "id": "9f2096bb-cf9f-4dab-8ba8-e48b8ea6f4d5",
   "metadata": {},
   "outputs": [
    {
     "data": {
      "text/plain": [
       "{'name': 'Rishabh', 'email_id': 'rishabhthakur2322@gmail.com', 'age': 20}"
      ]
     },
     "execution_count": 126,
     "metadata": {},
     "output_type": "execute_result"
    }
   ],
   "source": [
    "d1"
   ]
  },
  {
   "cell_type": "code",
   "execution_count": 127,
   "id": "859452c9-c0f9-4cc8-9172-2dfe7e4c9e87",
   "metadata": {},
   "outputs": [
    {
     "data": {
      "text/plain": [
       "dict"
      ]
     },
     "execution_count": 127,
     "metadata": {},
     "output_type": "execute_result"
    }
   ],
   "source": [
    "type(d1)"
   ]
  },
  {
   "cell_type": "code",
   "execution_count": 128,
   "id": "1ff8efa3-efbc-42ea-910a-12febd28b7fe",
   "metadata": {},
   "outputs": [
    {
     "data": {
      "text/plain": [
       "{'name': 'Rishabh', 'email_id': 'rishabhthakur2322@gmail.com', 'age': 20}"
      ]
     },
     "execution_count": 128,
     "metadata": {},
     "output_type": "execute_result"
    }
   ],
   "source": [
    "d1"
   ]
  },
  {
   "cell_type": "code",
   "execution_count": 133,
   "id": "afa4ed05-4cc9-4fd8-985c-e8d08c5f9074",
   "metadata": {},
   "outputs": [],
   "source": [
    "d2={\"name\":\"Rish\",\"name\":\"Singh\"} ##bcoz key have to be unique always bcoz it gets updated n prints the latest value"
   ]
  },
  {
   "cell_type": "code",
   "execution_count": 134,
   "id": "7d2973aa-6984-48d9-a369-112e77f567a5",
   "metadata": {},
   "outputs": [
    {
     "data": {
      "text/plain": [
       "{'name': 'Singh'}"
      ]
     },
     "execution_count": 134,
     "metadata": {},
     "output_type": "execute_result"
    }
   ],
   "source": [
    "d2"
   ]
  },
  {
   "cell_type": "code",
   "execution_count": 139,
   "id": "4c50bd36-b082-4ddc-9401-89d7bf87b23a",
   "metadata": {},
   "outputs": [],
   "source": [
    "d3={1234:\"abc\",34.4:\"RIshabh\", True:\"Rishu\"} ##key can be numeric value also"
   ]
  },
  {
   "cell_type": "code",
   "execution_count": 140,
   "id": "889f9b86-ca9c-49d9-8de8-e88e42239ce5",
   "metadata": {},
   "outputs": [
    {
     "data": {
      "text/plain": [
       "{1234: 'abc', 34.4: 'RIshabh', True: 'Rishu'}"
      ]
     },
     "execution_count": 140,
     "metadata": {},
     "output_type": "execute_result"
    }
   ],
   "source": [
    "d3"
   ]
  },
  {
   "cell_type": "code",
   "execution_count": null,
   "id": "c4a9fd52-b5b9-4f08-8a0c-a5238a908b12",
   "metadata": {},
   "outputs": [],
   "source": [
    "## special case char as key not allowed"
   ]
  },
  {
   "cell_type": "code",
   "execution_count": 141,
   "id": "faf607e9-453c-4df0-9c43-bb12ee3f42b6",
   "metadata": {},
   "outputs": [
    {
     "ename": "TypeError",
     "evalue": "unhashable type: 'list'",
     "output_type": "error",
     "traceback": [
      "\u001b[0;31m---------------------------------------------------------------------------\u001b[0m",
      "\u001b[0;31mTypeError\u001b[0m                                 Traceback (most recent call last)",
      "Cell \u001b[0;32mIn[141], line 1\u001b[0m\n\u001b[0;32m----> 1\u001b[0m d4\u001b[38;5;241m=\u001b[39m{[\u001b[38;5;241m1\u001b[39m,\u001b[38;5;241m2\u001b[39m,\u001b[38;5;241m3\u001b[39m]:\u001b[38;5;124m\"\u001b[39m\u001b[38;5;124mabc\u001b[39m\u001b[38;5;124m\"\u001b[39m}\n",
      "\u001b[0;31mTypeError\u001b[0m: unhashable type: 'list'"
     ]
    }
   ],
   "source": [
    "d4={[1,2,3]:\"abc\"} ##list not accepted as key bcoz of unhasable type"
   ]
  },
  {
   "cell_type": "code",
   "execution_count": 142,
   "id": "6f369d09-5b8e-4c8f-9fbc-fd3d202821ee",
   "metadata": {},
   "outputs": [],
   "source": [
    "d5={(1,2,3):\"Rishabh\"} ##tuples accepted as key"
   ]
  },
  {
   "cell_type": "code",
   "execution_count": 143,
   "id": "18471341-fba9-468b-8ced-1bd2a71fa31a",
   "metadata": {},
   "outputs": [
    {
     "data": {
      "text/plain": [
       "{(1, 2, 3): 'Rishabh'}"
      ]
     },
     "execution_count": 143,
     "metadata": {},
     "output_type": "execute_result"
    }
   ],
   "source": [
    "d5"
   ]
  },
  {
   "cell_type": "code",
   "execution_count": 144,
   "id": "47b09705-58ff-4c28-a737-b6fd91e6ca90",
   "metadata": {},
   "outputs": [
    {
     "ename": "TypeError",
     "evalue": "unhashable type: 'dict'",
     "output_type": "error",
     "traceback": [
      "\u001b[0;31m---------------------------------------------------------------------------\u001b[0m",
      "\u001b[0;31mTypeError\u001b[0m                                 Traceback (most recent call last)",
      "Cell \u001b[0;32mIn[144], line 1\u001b[0m\n\u001b[0;32m----> 1\u001b[0m d6\u001b[38;5;241m=\u001b[39m{{\u001b[38;5;124m\"\u001b[39m\u001b[38;5;124mkey\u001b[39m\u001b[38;5;124m\"\u001b[39m:\u001b[38;5;241m123\u001b[39m}:\u001b[38;5;124m\"\u001b[39m\u001b[38;5;124mabcd\u001b[39m\u001b[38;5;124m\"\u001b[39m}\n",
      "\u001b[0;31mTypeError\u001b[0m: unhashable type: 'dict'"
     ]
    }
   ],
   "source": [
    "d6={{\"key\":123}:\"abcd\"}"
   ]
  },
  {
   "cell_type": "code",
   "execution_count": 149,
   "id": "1633704c-ad86-458c-b8a4-d7d924164c55",
   "metadata": {},
   "outputs": [],
   "source": [
    "#value part\n",
    "d7={\"cours_name\":[\"DSA\",\"web_d\", \"design\"]} ##values as a list accepted"
   ]
  },
  {
   "cell_type": "code",
   "execution_count": 150,
   "id": "6ec7c8c5-6c72-41bb-8524-98c0f261dac2",
   "metadata": {},
   "outputs": [
    {
     "data": {
      "text/plain": [
       "{'cours_name': ['DSA', 'web_d', 'design']}"
      ]
     },
     "execution_count": 150,
     "metadata": {},
     "output_type": "execute_result"
    }
   ],
   "source": [
    "d7"
   ]
  },
  {
   "cell_type": "code",
   "execution_count": 151,
   "id": "1466a508-cbca-4461-9f7b-bf32e6eacf34",
   "metadata": {},
   "outputs": [],
   "source": [
    "d8={\"key\":(1,2,3)} #values as tuple accepted"
   ]
  },
  {
   "cell_type": "code",
   "execution_count": 152,
   "id": "b452820f-684d-42de-8fc5-46c01d279e8f",
   "metadata": {},
   "outputs": [
    {
     "data": {
      "text/plain": [
       "{'key': (1, 2, 3)}"
      ]
     },
     "execution_count": 152,
     "metadata": {},
     "output_type": "execute_result"
    }
   ],
   "source": [
    "d8"
   ]
  },
  {
   "cell_type": "code",
   "execution_count": 153,
   "id": "2a6cb1f4-91a1-4ac0-88d8-ba584ef2a01d",
   "metadata": {},
   "outputs": [],
   "source": [
    "d9={\"key\":{1,2,3}} ##value as a set accepted"
   ]
  },
  {
   "cell_type": "code",
   "execution_count": 154,
   "id": "4fa0f7e9-feac-4c28-8799-c25f3494a644",
   "metadata": {},
   "outputs": [
    {
     "data": {
      "text/plain": [
       "{'key': {1, 2, 3}}"
      ]
     },
     "execution_count": 154,
     "metadata": {},
     "output_type": "execute_result"
    }
   ],
   "source": [
    "d9"
   ]
  },
  {
   "cell_type": "code",
   "execution_count": 155,
   "id": "7c39a0bd-b8a3-4c86-92c2-d360a44c94de",
   "metadata": {},
   "outputs": [],
   "source": [
    "d10={\"key\":{\"name\":\"Rishabh\",\"age\":20}} ##nested dict since valus accepts dict"
   ]
  },
  {
   "cell_type": "code",
   "execution_count": 156,
   "id": "6eae984a-710b-4b64-a77b-5f47807320f1",
   "metadata": {},
   "outputs": [
    {
     "data": {
      "text/plain": [
       "{'key': {'name': 'Rishabh', 'age': 20}}"
      ]
     },
     "execution_count": 156,
     "metadata": {},
     "output_type": "execute_result"
    }
   ],
   "source": [
    "d10"
   ]
  },
  {
   "cell_type": "code",
   "execution_count": 159,
   "id": "db26147d-c7a9-4d2b-af63-94a6c0e25d96",
   "metadata": {},
   "outputs": [],
   "source": [
    "d11={\"name\": \"Rishabh Singh\",\"age\":20, \"college\":\"SLRTCE\",\"graduate_year\":2024,\"mentor_name\":{\"Krish sir\",\"sudh sir\",\"hit sir\"}}"
   ]
  },
  {
   "cell_type": "code",
   "execution_count": 160,
   "id": "43c1e377-e94a-40a3-ae0f-6e2813d92352",
   "metadata": {},
   "outputs": [
    {
     "data": {
      "text/plain": [
       "{'name': 'Rishabh Singh',\n",
       " 'age': 20,\n",
       " 'college': 'SLRTCE',\n",
       " 'graduate_year': 2024,\n",
       " 'mentor_name': {'Krish sir', 'hit sir', 'sudh sir'}}"
      ]
     },
     "execution_count": 160,
     "metadata": {},
     "output_type": "execute_result"
    }
   ],
   "source": [
    "d11"
   ]
  },
  {
   "cell_type": "code",
   "execution_count": 161,
   "id": "40f340e0-356b-434c-909f-a2b84e176e47",
   "metadata": {},
   "outputs": [],
   "source": [
    "d11[\"timing\"]=(8,8,8) ##adding a key"
   ]
  },
  {
   "cell_type": "code",
   "execution_count": 162,
   "id": "89aa35f9-0f09-4664-b36a-3a8d96c4f9b9",
   "metadata": {},
   "outputs": [
    {
     "data": {
      "text/plain": [
       "{'name': 'Rishabh Singh',\n",
       " 'age': 20,\n",
       " 'college': 'SLRTCE',\n",
       " 'graduate_year': 2024,\n",
       " 'mentor_name': {'Krish sir', 'hit sir', 'sudh sir'},\n",
       " 'timing': (8, 8, 8)}"
      ]
     },
     "execution_count": 162,
     "metadata": {},
     "output_type": "execute_result"
    }
   ],
   "source": [
    "d11"
   ]
  },
  {
   "cell_type": "code",
   "execution_count": 163,
   "id": "455bab79-2554-4752-91b7-ae64c95a1f5d",
   "metadata": {},
   "outputs": [
    {
     "data": {
      "text/plain": [
       "'Rishabh Singh'"
      ]
     },
     "execution_count": 163,
     "metadata": {},
     "output_type": "execute_result"
    }
   ],
   "source": [
    "d11[\"name\"]"
   ]
  },
  {
   "cell_type": "code",
   "execution_count": 165,
   "id": "74babbf2-d70e-4383-903e-52357e74e961",
   "metadata": {},
   "outputs": [
    {
     "data": {
      "text/plain": [
       "{'Krish sir', 'hit sir', 'sudh sir'}"
      ]
     },
     "execution_count": 165,
     "metadata": {},
     "output_type": "execute_result"
    }
   ],
   "source": [
    "d11[\"mentor_name\"]"
   ]
  },
  {
   "cell_type": "code",
   "execution_count": 166,
   "id": "0c53e9c3-143a-4d48-8222-32876e2ce669",
   "metadata": {},
   "outputs": [
    {
     "data": {
      "text/plain": [
       "set"
      ]
     },
     "execution_count": 166,
     "metadata": {},
     "output_type": "execute_result"
    }
   ],
   "source": [
    "type(d11[\"mentor_name\"])"
   ]
  },
  {
   "cell_type": "code",
   "execution_count": 167,
   "id": "e76b23c2-2ba3-4782-a5b1-e240757af7c4",
   "metadata": {},
   "outputs": [],
   "source": [
    "d11[\"name1\"]=\"Rishu Singh\"\n"
   ]
  },
  {
   "cell_type": "code",
   "execution_count": 168,
   "id": "457afb5d-5a42-44d1-8fd2-d1700ae65a10",
   "metadata": {},
   "outputs": [
    {
     "data": {
      "text/plain": [
       "{'name': 'Rishabh Singh',\n",
       " 'age': 20,\n",
       " 'college': 'SLRTCE',\n",
       " 'graduate_year': 2024,\n",
       " 'mentor_name': {'Krish sir', 'hit sir', 'sudh sir'},\n",
       " 'timing': (8, 8, 8),\n",
       " 'name1': 'Rishu Singh'}"
      ]
     },
     "execution_count": 168,
     "metadata": {},
     "output_type": "execute_result"
    }
   ],
   "source": [
    "d11"
   ]
  },
  {
   "cell_type": "code",
   "execution_count": 169,
   "id": "7c950ec6-7454-4285-869e-26e222ba35bc",
   "metadata": {},
   "outputs": [
    {
     "data": {
      "text/plain": [
       "'RISHU SINGH'"
      ]
     },
     "execution_count": 169,
     "metadata": {},
     "output_type": "execute_result"
    }
   ],
   "source": [
    "d11[\"name1\"].upper()"
   ]
  },
  {
   "cell_type": "code",
   "execution_count": 170,
   "id": "68ac8155-3041-4c92-8914-9351145faa50",
   "metadata": {},
   "outputs": [
    {
     "data": {
      "text/plain": [
       "{'name': 'Rishabh Singh',\n",
       " 'age': 20,\n",
       " 'college': 'SLRTCE',\n",
       " 'graduate_year': 2024,\n",
       " 'mentor_name': {'Krish sir', 'hit sir', 'sudh sir'},\n",
       " 'timing': (8, 8, 8),\n",
       " 'name1': 'Rishu Singh'}"
      ]
     },
     "execution_count": 170,
     "metadata": {},
     "output_type": "execute_result"
    }
   ],
   "source": [
    "d11"
   ]
  },
  {
   "cell_type": "code",
   "execution_count": 171,
   "id": "8ff71e49-0c17-4805-9e8f-5a9a7f5626ea",
   "metadata": {},
   "outputs": [
    {
     "data": {
      "text/plain": [
       "{'key': {'name': 'Rishabh', 'age': 20}}"
      ]
     },
     "execution_count": 171,
     "metadata": {},
     "output_type": "execute_result"
    }
   ],
   "source": [
    "d10 ##nested dict"
   ]
  },
  {
   "cell_type": "code",
   "execution_count": 172,
   "id": "89eb03a5-052f-402d-b160-3d159ec418d2",
   "metadata": {},
   "outputs": [
    {
     "data": {
      "text/plain": [
       "{'name': 'Rishabh', 'age': 20}"
      ]
     },
     "execution_count": 172,
     "metadata": {},
     "output_type": "execute_result"
    }
   ],
   "source": [
    "d10[\"key\"]"
   ]
  },
  {
   "cell_type": "code",
   "execution_count": 173,
   "id": "049abef5-ce23-40ab-bdd6-5a472592903a",
   "metadata": {},
   "outputs": [
    {
     "data": {
      "text/plain": [
       "20"
      ]
     },
     "execution_count": 173,
     "metadata": {},
     "output_type": "execute_result"
    }
   ],
   "source": [
    "d10[\"key\"][\"age\"] ##fetching age"
   ]
  },
  {
   "cell_type": "code",
   "execution_count": 174,
   "id": "cb139b9e-3a70-49e2-9822-7dfe1c06576e",
   "metadata": {},
   "outputs": [
    {
     "data": {
      "text/plain": [
       "{'name': 'Rishabh Singh',\n",
       " 'age': 20,\n",
       " 'college': 'SLRTCE',\n",
       " 'graduate_year': 2024,\n",
       " 'mentor_name': {'Krish sir', 'hit sir', 'sudh sir'},\n",
       " 'timing': (8, 8, 8),\n",
       " 'name1': 'Rishu Singh'}"
      ]
     },
     "execution_count": 174,
     "metadata": {},
     "output_type": "execute_result"
    }
   ],
   "source": [
    "d11"
   ]
  },
  {
   "cell_type": "code",
   "execution_count": 175,
   "id": "d35190a3-f84e-40cc-8243-08610fc5a60e",
   "metadata": {},
   "outputs": [],
   "source": [
    "d11.clear()"
   ]
  },
  {
   "cell_type": "code",
   "execution_count": 176,
   "id": "0927433a-765b-4c49-83fe-ac1ea52e29a6",
   "metadata": {},
   "outputs": [
    {
     "data": {
      "text/plain": [
       "{}"
      ]
     },
     "execution_count": 176,
     "metadata": {},
     "output_type": "execute_result"
    }
   ],
   "source": [
    "d11"
   ]
  },
  {
   "cell_type": "code",
   "execution_count": 178,
   "id": "d829c8cb-e178-4c38-b7ec-dc2cb72255bd",
   "metadata": {},
   "outputs": [
    {
     "data": {
      "text/plain": [
       "1"
      ]
     },
     "execution_count": 178,
     "metadata": {},
     "output_type": "execute_result"
    }
   ],
   "source": [
    "len(d10)"
   ]
  },
  {
   "cell_type": "code",
   "execution_count": 180,
   "id": "a941b8ad-5dba-418d-baaf-b1141da134df",
   "metadata": {},
   "outputs": [],
   "source": [
    "d12={\"name\": \"Rishabh Singh\",\"age\":20, \"college\":\"SLRTCE\",\"graduate_year\":2024,\"mentor_name\":{\"Krish sir\",\"sudh sir\",\"hit sir\"}}"
   ]
  },
  {
   "cell_type": "code",
   "execution_count": 181,
   "id": "69ee0137-826c-4e5b-a718-3076641896ca",
   "metadata": {},
   "outputs": [
    {
     "data": {
      "text/plain": [
       "{'name': 'Rishabh Singh',\n",
       " 'age': 20,\n",
       " 'college': 'SLRTCE',\n",
       " 'graduate_year': 2024,\n",
       " 'mentor_name': {'Krish sir', 'hit sir', 'sudh sir'}}"
      ]
     },
     "execution_count": 181,
     "metadata": {},
     "output_type": "execute_result"
    }
   ],
   "source": [
    "d12"
   ]
  },
  {
   "cell_type": "code",
   "execution_count": 183,
   "id": "c977a02f-f79d-47bd-ba4b-d8ceb64ae009",
   "metadata": {},
   "outputs": [
    {
     "data": {
      "text/plain": [
       "dict_keys(['name', 'age', 'college', 'graduate_year', 'mentor_name'])"
      ]
     },
     "execution_count": 183,
     "metadata": {},
     "output_type": "execute_result"
    }
   ],
   "source": [
    "d12.keys()"
   ]
  },
  {
   "cell_type": "code",
   "execution_count": 184,
   "id": "04ee9e7f-5cf7-4361-8733-1c654edb5608",
   "metadata": {},
   "outputs": [
    {
     "data": {
      "text/plain": [
       "dict_values(['Rishabh Singh', 20, 'SLRTCE', 2024, {'Krish sir', 'sudh sir', 'hit sir'}])"
      ]
     },
     "execution_count": 184,
     "metadata": {},
     "output_type": "execute_result"
    }
   ],
   "source": [
    "d12.values()"
   ]
  },
  {
   "cell_type": "code",
   "execution_count": 187,
   "id": "852cd621-e83c-470e-a43e-5e5dc7416250",
   "metadata": {},
   "outputs": [
    {
     "data": {
      "text/plain": [
       "['Rishabh Singh', 20, 'SLRTCE', 2024, {'Krish sir', 'hit sir', 'sudh sir'}]"
      ]
     },
     "execution_count": 187,
     "metadata": {},
     "output_type": "execute_result"
    }
   ],
   "source": [
    "list(d12.values())"
   ]
  },
  {
   "cell_type": "code",
   "execution_count": 188,
   "id": "4b566207-440c-4b7c-9e60-90ae65d0b5d7",
   "metadata": {},
   "outputs": [
    {
     "data": {
      "text/plain": [
       "['name', 'age', 'college', 'graduate_year', 'mentor_name']"
      ]
     },
     "execution_count": 188,
     "metadata": {},
     "output_type": "execute_result"
    }
   ],
   "source": [
    "list(d12.keys())"
   ]
  },
  {
   "cell_type": "code",
   "execution_count": 190,
   "id": "2cd67d95-c141-4467-ac0c-54cf36b292f5",
   "metadata": {},
   "outputs": [
    {
     "data": {
      "text/plain": [
       "dict_items([('name', 'Rishabh Singh'), ('age', 20), ('college', 'SLRTCE'), ('graduate_year', 2024), ('mentor_name', {'Krish sir', 'sudh sir', 'hit sir'})])"
      ]
     },
     "execution_count": 190,
     "metadata": {},
     "output_type": "execute_result"
    }
   ],
   "source": [
    "d12.items()"
   ]
  },
  {
   "cell_type": "code",
   "execution_count": 191,
   "id": "ab21e49a-920f-449d-9a1f-5c9a442ef438",
   "metadata": {},
   "outputs": [
    {
     "data": {
      "text/plain": [
       "[('name', 'Rishabh Singh'),\n",
       " ('age', 20),\n",
       " ('college', 'SLRTCE'),\n",
       " ('graduate_year', 2024),\n",
       " ('mentor_name', {'Krish sir', 'hit sir', 'sudh sir'})]"
      ]
     },
     "execution_count": 191,
     "metadata": {},
     "output_type": "execute_result"
    }
   ],
   "source": [
    "list(d12.items())"
   ]
  },
  {
   "cell_type": "code",
   "execution_count": 192,
   "id": "d79f3454-e60b-4cb4-b242-db1b42d13a78",
   "metadata": {},
   "outputs": [
    {
     "data": {
      "text/plain": [
       "{'name': 'Rishabh Singh',\n",
       " 'age': 20,\n",
       " 'college': 'SLRTCE',\n",
       " 'graduate_year': 2024,\n",
       " 'mentor_name': {'Krish sir', 'hit sir', 'sudh sir'}}"
      ]
     },
     "execution_count": 192,
     "metadata": {},
     "output_type": "execute_result"
    }
   ],
   "source": [
    "d12"
   ]
  },
  {
   "cell_type": "code",
   "execution_count": 193,
   "id": "7e33ca3f-1e23-4e00-abf8-50bb99f413cd",
   "metadata": {},
   "outputs": [],
   "source": [
    "d13=d12.copy()"
   ]
  },
  {
   "cell_type": "code",
   "execution_count": 194,
   "id": "e62f6ba6-a34f-45c7-a73a-5d0784ef02c5",
   "metadata": {},
   "outputs": [
    {
     "data": {
      "text/plain": [
       "{'name': 'Rishabh Singh',\n",
       " 'age': 20,\n",
       " 'college': 'SLRTCE',\n",
       " 'graduate_year': 2024,\n",
       " 'mentor_name': {'Krish sir', 'hit sir', 'sudh sir'}}"
      ]
     },
     "execution_count": 194,
     "metadata": {},
     "output_type": "execute_result"
    }
   ],
   "source": [
    "d13"
   ]
  },
  {
   "cell_type": "code",
   "execution_count": 195,
   "id": "d3ef7b3e-b3ac-4d09-9aba-09d10310bd4d",
   "metadata": {},
   "outputs": [],
   "source": [
    "del d12['name']"
   ]
  },
  {
   "cell_type": "code",
   "execution_count": 196,
   "id": "0f781ac4-5661-4f27-9ac5-8bd4c9d58b66",
   "metadata": {},
   "outputs": [
    {
     "data": {
      "text/plain": [
       "{'age': 20,\n",
       " 'college': 'SLRTCE',\n",
       " 'graduate_year': 2024,\n",
       " 'mentor_name': {'Krish sir', 'hit sir', 'sudh sir'}}"
      ]
     },
     "execution_count": 196,
     "metadata": {},
     "output_type": "execute_result"
    }
   ],
   "source": [
    "d12"
   ]
  },
  {
   "cell_type": "code",
   "execution_count": 199,
   "id": "967c0480-b4fd-4404-a72a-1db561f174ff",
   "metadata": {},
   "outputs": [
    {
     "data": {
      "text/plain": [
       "{'name': 'Rishabh Singh',\n",
       " 'age': 20,\n",
       " 'college': 'SLRTCE',\n",
       " 'graduate_year': 2024,\n",
       " 'mentor_name': {'Krish sir', 'hit sir', 'sudh sir'}}"
      ]
     },
     "execution_count": 199,
     "metadata": {},
     "output_type": "execute_result"
    }
   ],
   "source": [
    "d13"
   ]
  },
  {
   "cell_type": "code",
   "execution_count": 202,
   "id": "ab277217-b3ba-4054-93e5-357fdb1a6886",
   "metadata": {},
   "outputs": [
    {
     "data": {
      "text/plain": [
       "{'name': 'Rishabh Singh',\n",
       " 'age': 20,\n",
       " 'college': 'SLRTCE',\n",
       " 'graduate_year': 2024,\n",
       " 'mentor_name': {'Krish sir', 'hit sir', 'sudh sir'}}"
      ]
     },
     "execution_count": 202,
     "metadata": {},
     "output_type": "execute_result"
    }
   ],
   "source": [
    "d13\n"
   ]
  },
  {
   "cell_type": "code",
   "execution_count": 203,
   "id": "e2dcef84-6cd1-4905-9ccf-866d95b72ec4",
   "metadata": {},
   "outputs": [
    {
     "data": {
      "text/plain": [
       "20"
      ]
     },
     "execution_count": 203,
     "metadata": {},
     "output_type": "execute_result"
    }
   ],
   "source": [
    "d13.pop(\"age\") ##argument needed in dict"
   ]
  },
  {
   "cell_type": "code",
   "execution_count": 204,
   "id": "b74e7395-e9bc-47f7-abf0-03efe6694481",
   "metadata": {},
   "outputs": [
    {
     "data": {
      "text/plain": [
       "{'name': 'Rishabh Singh',\n",
       " 'college': 'SLRTCE',\n",
       " 'graduate_year': 2024,\n",
       " 'mentor_name': {'Krish sir', 'hit sir', 'sudh sir'}}"
      ]
     },
     "execution_count": 204,
     "metadata": {},
     "output_type": "execute_result"
    }
   ],
   "source": [
    "d13"
   ]
  },
  {
   "cell_type": "code",
   "execution_count": 206,
   "id": "ad2a2fb3-c399-485f-a55e-19aa432281f1",
   "metadata": {},
   "outputs": [
    {
     "data": {
      "text/plain": [
       "{1: ('a', 'b', 'c'), 2: ('a', 'b', 'c'), 3: ('a', 'b', 'c')}"
      ]
     },
     "execution_count": 206,
     "metadata": {},
     "output_type": "execute_result"
    }
   ],
   "source": [
    "d.fromkeys((1,2,3),('a','b','c'))"
   ]
  },
  {
   "cell_type": "code",
   "execution_count": 1,
   "id": "948dac3c-eba3-49cb-8be8-0efe58f3e009",
   "metadata": {},
   "outputs": [
    {
     "data": {
      "text/plain": [
       "({'key1': 'value1', 'key2': 'value2'}, {'key3': 'value3', 'key4': 'value4'})"
      ]
     },
     "execution_count": 1,
     "metadata": {},
     "output_type": "execute_result"
    }
   ],
   "source": [
    "d14={\"key1\": \"value1\",\"key2\": \"value2\"}\n",
    "d15={\"key3\": \"value3\",\"key4\": \"value4\"}\n",
    "(d14,d15)"
   ]
  },
  {
   "cell_type": "code",
   "execution_count": 3,
   "id": "79ec3eda-540c-4a80-9fd4-5e53def51b95",
   "metadata": {},
   "outputs": [],
   "source": [
    "d14.update(d15)"
   ]
  },
  {
   "cell_type": "code",
   "execution_count": 4,
   "id": "bcacebec-493b-49a9-a86d-10742efde609",
   "metadata": {},
   "outputs": [
    {
     "data": {
      "text/plain": [
       "{'key1': 'value1', 'key2': 'value2', 'key3': 'value3', 'key4': 'value4'}"
      ]
     },
     "execution_count": 4,
     "metadata": {},
     "output_type": "execute_result"
    }
   ],
   "source": [
    "d14"
   ]
  },
  {
   "cell_type": "code",
   "execution_count": 5,
   "id": "cfeb8b29-8e3c-4752-b5b7-ea98facad74d",
   "metadata": {},
   "outputs": [
    {
     "data": {
      "text/plain": [
       "{'key3': 'value3', 'key4': 'value4'}"
      ]
     },
     "execution_count": 5,
     "metadata": {},
     "output_type": "execute_result"
    }
   ],
   "source": [
    "d15"
   ]
  },
  {
   "cell_type": "code",
   "execution_count": 6,
   "id": "0fcf7bb2-96c7-446e-8533-ff66603cd4a1",
   "metadata": {},
   "outputs": [],
   "source": [
    "d15.update(d14)"
   ]
  },
  {
   "cell_type": "code",
   "execution_count": 7,
   "id": "096c0333-c706-416b-b505-a64ad0e394b8",
   "metadata": {},
   "outputs": [
    {
     "data": {
      "text/plain": [
       "{'key3': 'value3', 'key4': 'value4', 'key1': 'value1', 'key2': 'value2'}"
      ]
     },
     "execution_count": 7,
     "metadata": {},
     "output_type": "execute_result"
    }
   ],
   "source": [
    "d15"
   ]
  },
  {
   "cell_type": "code",
   "execution_count": 9,
   "id": "fa947ee4-f4d9-4ad7-9691-9bdaa5b3f5fd",
   "metadata": {},
   "outputs": [
    {
     "data": {
      "text/plain": [
       "'value1'"
      ]
     },
     "execution_count": 9,
     "metadata": {},
     "output_type": "execute_result"
    }
   ],
   "source": [
    "d15.get(\"key1\")"
   ]
  },
  {
   "cell_type": "code",
   "execution_count": 11,
   "id": "5fc4336c-3a2f-4001-80e2-fcac2a8b3873",
   "metadata": {},
   "outputs": [
    {
     "data": {
      "text/plain": [
       "'value3'"
      ]
     },
     "execution_count": 11,
     "metadata": {},
     "output_type": "execute_result"
    }
   ],
   "source": [
    "d15[\"key3\"]"
   ]
  },
  {
   "cell_type": "code",
   "execution_count": 10,
   "id": "1eb0da6b-7a83-4559-9c51-c762765d3021",
   "metadata": {},
   "outputs": [],
   "source": [
    "d15.get(\"key5\") ##no output"
   ]
  },
  {
   "cell_type": "code",
   "execution_count": 12,
   "id": "6e0dbd94-3a3d-4652-a65b-1b52f78c711b",
   "metadata": {},
   "outputs": [],
   "source": [
    "## dict comprehension\n",
    "\n"
   ]
  },
  {
   "cell_type": "code",
   "execution_count": 14,
   "id": "a0b2a76f-4a06-4a3e-a693-e32f165f002f",
   "metadata": {},
   "outputs": [
    {
     "data": {
      "text/plain": [
       "[1, 2, 3, 4, 5, 6, 7, 8, 9, 10]"
      ]
     },
     "execution_count": 14,
     "metadata": {},
     "output_type": "execute_result"
    }
   ],
   "source": [
    "list(range(1,11))"
   ]
  },
  {
   "cell_type": "code",
   "execution_count": 15,
   "id": "298741ba-d9b3-49cb-8352-6c3e0264a7d3",
   "metadata": {},
   "outputs": [
    {
     "data": {
      "text/plain": [
       "{1: 1, 2: 4, 3: 9, 4: 16, 5: 25, 6: 36, 7: 49, 8: 64, 9: 81, 10: 100}"
      ]
     },
     "execution_count": 15,
     "metadata": {},
     "output_type": "execute_result"
    }
   ],
   "source": [
    "##dict_1={}\n",
    "{i: i**2 for i in range(1,11)}"
   ]
  },
  {
   "cell_type": "code",
   "execution_count": 16,
   "id": "3a79dd6b-2639-4fa2-9181-49b27f8fd416",
   "metadata": {},
   "outputs": [
    {
     "data": {
      "text/plain": [
       "{1: 11, 2: 12, 3: 13, 4: 14, 5: 15, 6: 16, 7: 17, 8: 18, 9: 19, 10: 20}"
      ]
     },
     "execution_count": 16,
     "metadata": {},
     "output_type": "execute_result"
    }
   ],
   "source": [
    "{i: i+10 for i in range(1,11)}"
   ]
  },
  {
   "cell_type": "code",
   "execution_count": null,
   "id": "b9d9807d-ce7f-4fdc-a053-4cf4dade0fda",
   "metadata": {},
   "outputs": [],
   "source": [
    "import math\n",
    "{i:math.log10for i in range(1,11)}"
   ]
  }
 ],
 "metadata": {
  "kernelspec": {
   "display_name": "Python 3 (ipykernel)",
   "language": "python",
   "name": "python3"
  },
  "language_info": {
   "codemirror_mode": {
    "name": "ipython",
    "version": 3
   },
   "file_extension": ".py",
   "mimetype": "text/x-python",
   "name": "python",
   "nbconvert_exporter": "python",
   "pygments_lexer": "ipython3",
   "version": "3.10.8"
  }
 },
 "nbformat": 4,
 "nbformat_minor": 5
}
