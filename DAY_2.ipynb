{
 "cells": [
  {
   "cell_type": "markdown",
   "id": "94d90ae6-9b57-41d2-9a32-1ea8c0b695f2",
   "metadata": {},
   "source": [
    "##Numbers"
   ]
  },
  {
   "cell_type": "code",
   "execution_count": null,
   "id": "c6065764-44f9-411a-b13b-4dff62b9cc66",
   "metadata": {},
   "outputs": [
    {
     "data": {
      "text/plain": [
       "4"
      ]
     },
     "execution_count": 2,
     "metadata": {},
     "output_type": "execute_result"
    }
   ],
   "source": [
    "1+3"
   ]
  },
  {
   "cell_type": "code",
   "execution_count": 1,
   "id": "05f5715e-bf91-4119-a11a-a0ab656d6197",
   "metadata": {},
   "outputs": [
    {
     "name": "stdout",
     "output_type": "stream",
     "text": [
      "15\n"
     ]
    }
   ],
   "source": [
    "print(7+8)"
   ]
  },
  {
   "cell_type": "code",
   "execution_count": 4,
   "id": "4764ff0c-3e57-4502-8cce-757ce69cc642",
   "metadata": {},
   "outputs": [
    {
     "name": "stdout",
     "output_type": "stream",
     "text": [
      "78\n"
     ]
    }
   ],
   "source": [
    "a=78\n",
    "print(a)"
   ]
  },
  {
   "cell_type": "code",
   "execution_count": null,
   "id": "4d053bdb-51ba-47d2-b1c3-8bae645a6ecb",
   "metadata": {
    "tags": []
   },
   "outputs": [],
   "source": [
    "print(\"Hellow World\")"
   ]
  },
  {
   "cell_type": "markdown",
   "id": "65a5dbef-28f8-4d58-8b16-527fe3c9f563",
   "metadata": {},
   "source": [
    "##Variable assignment"
   ]
  },
  {
   "cell_type": "code",
   "execution_count": 9,
   "id": "50ca84f2-c30d-4df7-bf12-73f737f6dbd1",
   "metadata": {},
   "outputs": [],
   "source": [
    "name=\"Rishabh\"\n",
    "college=\"SLRTCE\""
   ]
  },
  {
   "cell_type": "code",
   "execution_count": 10,
   "id": "1b7f382b-31d3-47fb-a0c5-c924fa3c2818",
   "metadata": {},
   "outputs": [
    {
     "data": {
      "text/plain": [
       "'Rishabh'"
      ]
     },
     "execution_count": 10,
     "metadata": {},
     "output_type": "execute_result"
    }
   ],
   "source": [
    "name"
   ]
  },
  {
   "cell_type": "code",
   "execution_count": 11,
   "id": "e8659b8f-0607-465d-a65a-c1fd0372e862",
   "metadata": {},
   "outputs": [
    {
     "name": "stdout",
     "output_type": "stream",
     "text": [
      "Rishabh\n"
     ]
    }
   ],
   "source": [
    "print(name)"
   ]
  },
  {
   "cell_type": "code",
   "execution_count": 12,
   "id": "938e29dc-adca-4a32-a371-deb27a04d79e",
   "metadata": {},
   "outputs": [
    {
     "data": {
      "text/plain": [
       "'SLRTCE'"
      ]
     },
     "execution_count": 12,
     "metadata": {},
     "output_type": "execute_result"
    }
   ],
   "source": [
    "college"
   ]
  },
  {
   "cell_type": "code",
   "execution_count": 13,
   "id": "d88433ee-9e17-4f24-a836-c0b7c7ddb91a",
   "metadata": {},
   "outputs": [
    {
     "name": "stdout",
     "output_type": "stream",
     "text": [
      "SLRTCE\n"
     ]
    }
   ],
   "source": [
    "print(college)"
   ]
  },
  {
   "cell_type": "code",
   "execution_count": 14,
   "id": "cf448ae3-e7b9-4e71-8c8e-2c636733f80d",
   "metadata": {},
   "outputs": [],
   "source": [
    "name=\"bala\""
   ]
  },
  {
   "cell_type": "code",
   "execution_count": 15,
   "id": "d48c91df-85c8-451d-bc41-bcbdce301928",
   "metadata": {},
   "outputs": [
    {
     "data": {
      "text/plain": [
       "'bala'"
      ]
     },
     "execution_count": 15,
     "metadata": {},
     "output_type": "execute_result"
    }
   ],
   "source": [
    "name"
   ]
  },
  {
   "cell_type": "code",
   "execution_count": 16,
   "id": "4320df63-2a48-49d5-b85c-692bb4d6390c",
   "metadata": {},
   "outputs": [
    {
     "data": {
      "text/plain": [
       "str"
      ]
     },
     "execution_count": 16,
     "metadata": {},
     "output_type": "execute_result"
    }
   ],
   "source": [
    "type(name)"
   ]
  },
  {
   "cell_type": "code",
   "execution_count": 18,
   "id": "578ced4c-5c99-4d02-b56e-45b1f93f61e9",
   "metadata": {
    "collapsed": true,
    "jupyter": {
     "outputs_hidden": true,
     "source_hidden": true
    },
    "tags": []
   },
   "outputs": [
    {
     "data": {
      "text/plain": [
       "str"
      ]
     },
     "execution_count": 18,
     "metadata": {},
     "output_type": "execute_result"
    }
   ],
   "source": [
    "type(college)"
   ]
  },
  {
   "cell_type": "code",
   "execution_count": 19,
   "id": "d2ddd489-aafa-4ea4-8be7-039fdbba282b",
   "metadata": {},
   "outputs": [],
   "source": [
    "number=20"
   ]
  },
  {
   "cell_type": "code",
   "execution_count": 20,
   "id": "ad6faa41-4e00-4581-b637-06fb8c58f46b",
   "metadata": {
    "jupyter": {
     "source_hidden": true
    },
    "tags": []
   },
   "outputs": [
    {
     "data": {
      "text/plain": [
       "20"
      ]
     },
     "execution_count": 20,
     "metadata": {},
     "output_type": "execute_result"
    }
   ],
   "source": [
    "number"
   ]
  },
  {
   "cell_type": "code",
   "execution_count": 21,
   "id": "eaa32486-abd9-4f70-95ed-58fafff98ad2",
   "metadata": {},
   "outputs": [
    {
     "data": {
      "text/plain": [
       "int"
      ]
     },
     "execution_count": 21,
     "metadata": {},
     "output_type": "execute_result"
    }
   ],
   "source": [
    "type(number)"
   ]
  },
  {
   "cell_type": "code",
   "execution_count": 22,
   "id": "03af9fd7-d950-4aef-b67b-ec70e4fb986a",
   "metadata": {},
   "outputs": [],
   "source": [
    "decimal_num=6.9"
   ]
  },
  {
   "cell_type": "code",
   "execution_count": 23,
   "id": "f7fa76e4-4f4f-4b80-a929-04b062480cef",
   "metadata": {},
   "outputs": [
    {
     "data": {
      "text/plain": [
       "6.9"
      ]
     },
     "execution_count": 23,
     "metadata": {},
     "output_type": "execute_result"
    }
   ],
   "source": [
    "decimal_num"
   ]
  },
  {
   "cell_type": "code",
   "execution_count": 24,
   "id": "31526398-c2c6-4136-8ea0-09a5d6fbb2a5",
   "metadata": {},
   "outputs": [
    {
     "data": {
      "text/plain": [
       "float"
      ]
     },
     "execution_count": 24,
     "metadata": {},
     "output_type": "execute_result"
    }
   ],
   "source": [
    "type(decimal_num)"
   ]
  },
  {
   "cell_type": "code",
   "execution_count": 25,
   "id": "a793efae-372c-49e1-86cd-863c35439e22",
   "metadata": {},
   "outputs": [],
   "source": [
    "a=1+2j"
   ]
  },
  {
   "cell_type": "code",
   "execution_count": 26,
   "id": "8bfcc825-080d-4138-aa24-452b11b3ffe2",
   "metadata": {},
   "outputs": [
    {
     "data": {
      "text/plain": [
       "(1+2j)"
      ]
     },
     "execution_count": 26,
     "metadata": {},
     "output_type": "execute_result"
    }
   ],
   "source": [
    "a"
   ]
  },
  {
   "cell_type": "code",
   "execution_count": 27,
   "id": "328127f5-d296-483e-8832-83f2bb3b40a1",
   "metadata": {},
   "outputs": [
    {
     "data": {
      "text/plain": [
       "complex"
      ]
     },
     "execution_count": 27,
     "metadata": {},
     "output_type": "execute_result"
    }
   ],
   "source": [
    "type(a)"
   ]
  },
  {
   "cell_type": "code",
   "execution_count": 28,
   "id": "c1ce8b5e-a718-4398-acae-4329748a7404",
   "metadata": {},
   "outputs": [],
   "source": [
    "##dont start the variable name with number\n",
    "\n",
    "number1=20"
   ]
  },
  {
   "cell_type": "code",
   "execution_count": 30,
   "id": "5aedb141-6006-453f-a76e-e53bbe335b75",
   "metadata": {},
   "outputs": [
    {
     "name": "stdout",
     "output_type": "stream",
     "text": [
      "ineuron\n",
      "pw skills\n"
     ]
    }
   ],
   "source": [
    "##variables are case sensitive\n",
    "company1=\"ineuron\"\n",
    "company=\"pw skills\"\n",
    "print(company1)\n",
    "print(company)"
   ]
  },
  {
   "cell_type": "code",
   "execution_count": 32,
   "id": "455a0df7-d9c9-4016-ae71-9458a04356fb",
   "metadata": {},
   "outputs": [
    {
     "data": {
      "text/plain": [
       "True"
      ]
     },
     "execution_count": 32,
     "metadata": {},
     "output_type": "execute_result"
    }
   ],
   "source": [
    "True"
   ]
  },
  {
   "cell_type": "code",
   "execution_count": 33,
   "id": "45b042b9-d52a-414d-98b6-e86599e57860",
   "metadata": {},
   "outputs": [
    {
     "data": {
      "text/plain": [
       "False"
      ]
     },
     "execution_count": 33,
     "metadata": {},
     "output_type": "execute_result"
    }
   ],
   "source": [
    "False"
   ]
  },
  {
   "cell_type": "code",
   "execution_count": 34,
   "id": "add582fb-a1e6-4aa4-b79d-5f2e21636e76",
   "metadata": {},
   "outputs": [
    {
     "data": {
      "text/plain": [
       "bool"
      ]
     },
     "execution_count": 34,
     "metadata": {},
     "output_type": "execute_result"
    }
   ],
   "source": [
    "type(True)"
   ]
  },
  {
   "cell_type": "code",
   "execution_count": 35,
   "id": "cd25d7b5-c47f-459a-bb7e-62d65987428f",
   "metadata": {},
   "outputs": [
    {
     "data": {
      "text/plain": [
       "False"
      ]
     },
     "execution_count": 35,
     "metadata": {},
     "output_type": "execute_result"
    }
   ],
   "source": [
    "bool(0)"
   ]
  },
  {
   "cell_type": "code",
   "execution_count": 36,
   "id": "3c7062b6-ab7f-4840-96eb-e48f1b955efe",
   "metadata": {},
   "outputs": [
    {
     "data": {
      "text/plain": [
       "True"
      ]
     },
     "execution_count": 36,
     "metadata": {},
     "output_type": "execute_result"
    }
   ],
   "source": [
    "bool(1)"
   ]
  },
  {
   "cell_type": "code",
   "execution_count": 38,
   "id": "6a2ed99c-6880-44e1-804b-6c1fed2437d9",
   "metadata": {},
   "outputs": [
    {
     "name": "stdout",
     "output_type": "stream",
     "text": [
      "True\n"
     ]
    }
   ],
   "source": [
    "a=1\n",
    "if bool(a)==True:\n",
    "    print(\"True\")"
   ]
  },
  {
   "cell_type": "code",
   "execution_count": 39,
   "id": "d94eba21-4198-45b7-9e36-cd62a2bae8c8",
   "metadata": {},
   "outputs": [
    {
     "data": {
      "text/plain": [
       "23"
      ]
     },
     "execution_count": 39,
     "metadata": {},
     "output_type": "execute_result"
    }
   ],
   "source": [
    "int('23')"
   ]
  },
  {
   "cell_type": "markdown",
   "id": "e88b20c0-552c-4d82-92cc-d94cb96de22a",
   "metadata": {
    "tags": []
   },
   "source": [
    "###dynamic typing"
   ]
  },
  {
   "cell_type": "code",
   "execution_count": 40,
   "id": "999f3a17-a04e-4fcc-8cb1-d93e006adb15",
   "metadata": {},
   "outputs": [
    {
     "data": {
      "text/plain": [
       "'11'"
      ]
     },
     "execution_count": 40,
     "metadata": {},
     "output_type": "execute_result"
    }
   ],
   "source": [
    "##concatenation\n",
    "\"1\" + \"1\""
   ]
  },
  {
   "cell_type": "code",
   "execution_count": 41,
   "id": "0254bab6-2831-4953-8b78-1c2c494cb417",
   "metadata": {},
   "outputs": [
    {
     "data": {
      "text/plain": [
       "'1111111111111111111111111111111111111111111111111111111111111111111111111111111111111111111111111111'"
      ]
     },
     "execution_count": 41,
     "metadata": {},
     "output_type": "execute_result"
    }
   ],
   "source": [
    "\"1\"*100"
   ]
  },
  {
   "cell_type": "code",
   "execution_count": 42,
   "id": "798df75a-b878-43de-9c38-773d473365bb",
   "metadata": {},
   "outputs": [
    {
     "data": {
      "text/plain": [
       "2"
      ]
     },
     "execution_count": 42,
     "metadata": {},
     "output_type": "execute_result"
    }
   ],
   "source": [
    "int(\"1\")+int(\"1\")"
   ]
  },
  {
   "cell_type": "markdown",
   "id": "b553d689-1efd-42b3-9808-639507455f90",
   "metadata": {},
   "source": [
    "#Day 2:"
   ]
  },
  {
   "cell_type": "code",
   "execution_count": 4,
   "id": "c3d1e088-1e72-4b1c-bde5-086a07b43430",
   "metadata": {
    "tags": []
   },
   "outputs": [
    {
     "name": "stdout",
     "output_type": "stream",
     "text": [
      "My age is: 20\n"
     ]
    }
   ],
   "source": [
    "##different print statement\n",
    "age=20\n",
    "print(\"My age is:\",age)"
   ]
  },
  {
   "cell_type": "code",
   "execution_count": 8,
   "id": "681bde35-52a2-414e-8f37-5ee6c7f37cae",
   "metadata": {},
   "outputs": [
    {
     "name": "stdout",
     "output_type": "stream",
     "text": [
      "My age is: 20\n"
     ]
    }
   ],
   "source": [
    "print(f\"My age is: {age}\")"
   ]
  },
  {
   "cell_type": "code",
   "execution_count": 2,
   "id": "736f5d2e-8104-4190-a9fe-008ba2392cd1",
   "metadata": {
    "tags": []
   },
   "outputs": [
    {
     "name": "stdout",
     "output_type": "stream",
     "text": [
      "My age is: {age}\n"
     ]
    }
   ],
   "source": [
    "print(\"My age is: {age}\") ##reads completely as string"
   ]
  },
  {
   "cell_type": "code",
   "execution_count": 3,
   "id": "101078b3-775e-4111-bcff-9ab2390f9831",
   "metadata": {},
   "outputs": [
    {
     "name": "stdout",
     "output_type": "stream",
     "text": [
      "My name is Rishabh and age is 20\n"
     ]
    }
   ],
   "source": [
    "##format()\n",
    "name= \"Rishabh\"\n",
    "age=20\n",
    "print(\"My name is {} and age is {}\".format(name,age))"
   ]
  },
  {
   "cell_type": "code",
   "execution_count": 6,
   "id": "722f5d7d-670b-4c46-8bb8-30ef2176f43f",
   "metadata": {},
   "outputs": [
    {
     "name": "stdout",
     "output_type": "stream",
     "text": [
      "My name is Rishabh and age is 20\n"
     ]
    }
   ],
   "source": [
    "##place holder\n",
    "print(\"My name is {firstname} and age is {firstage}\".format(firstname=name,firstage=age))"
   ]
  },
  {
   "cell_type": "code",
   "execution_count": 9,
   "id": "442dc100-2ce3-4a60-8ef3-3595172db056",
   "metadata": {},
   "outputs": [
    {
     "name": "stdout",
     "output_type": "stream",
     "text": [
      "My age is 20 and i have completed: my degree of BMS with the name of Anya Singh\n"
     ]
    }
   ],
   "source": [
    "name=\"Anya Singh\"\n",
    "age=\"20\"\n",
    "degree=\"BMS\"\n",
    "     ###output format=== \"My age 20 and i have completed: my degree of BMS with the name of Anya Singh\"\"\"\n",
    "print(\"My age is {} and i have completed: my degree of {} with the name of {}\".format(age,degree,name))"
   ]
  },
  {
   "cell_type": "code",
   "execution_count": 11,
   "id": "130f8b62-4fd1-4d15-8274-6e83d9334c6e",
   "metadata": {},
   "outputs": [
    {
     "name": "stdout",
     "output_type": "stream",
     "text": [
      "My age is 20 and i have completed: my degree of BMS with the name of Anya Singh\n"
     ]
    }
   ],
   "source": [
    "print(f\"My age is {age} and i have completed: my degree of {degree} with the name of {name}\")"
   ]
  },
  {
   "cell_type": "code",
   "execution_count": 13,
   "id": "ca78d181-cbde-4362-b89f-8c82dd04aae6",
   "metadata": {},
   "outputs": [
    {
     "data": {
      "text/plain": [
       "575"
      ]
     },
     "execution_count": 13,
     "metadata": {},
     "output_type": "execute_result"
    }
   ],
   "source": [
    "a=575\n",
    "a"
   ]
  },
  {
   "cell_type": "code",
   "execution_count": 15,
   "id": "04dd4fec-9af4-4265-9807-36bd9771bc98",
   "metadata": {},
   "outputs": [
    {
     "name": "stdout",
     "output_type": "stream",
     "text": [
      "You can vote\n"
     ]
    }
   ],
   "source": [
    "##if statements\n",
    "age=18\n",
    "if age>=18:  ##colon indicates start of if block\n",
    "    print(\"You can vote\")\n",
    "    \n",
    "        \n",
    "    "
   ]
  },
  {
   "cell_type": "code",
   "execution_count": 16,
   "id": "9f2d6207-fb71-471c-904f-b44494833afc",
   "metadata": {},
   "outputs": [
    {
     "name": "stdin",
     "output_type": "stream",
     "text": [
      " Rishabh Singh\n"
     ]
    },
    {
     "data": {
      "text/plain": [
       "'Rishabh Singh'"
      ]
     },
     "execution_count": 16,
     "metadata": {},
     "output_type": "execute_result"
    }
   ],
   "source": [
    "input()"
   ]
  },
  {
   "cell_type": "code",
   "execution_count": 17,
   "id": "d7bd63db-0e0d-40df-9f5c-a738b101f25e",
   "metadata": {},
   "outputs": [
    {
     "name": "stdin",
     "output_type": "stream",
     "text": [
      "Enter the name Anya Singh\n"
     ]
    }
   ],
   "source": [
    "name=input(\"Enter the name\")"
   ]
  },
  {
   "cell_type": "code",
   "execution_count": 18,
   "id": "4e4808c6-5ac2-4748-a92d-6673930902d8",
   "metadata": {},
   "outputs": [
    {
     "data": {
      "text/plain": [
       "'Anya Singh'"
      ]
     },
     "execution_count": 18,
     "metadata": {},
     "output_type": "execute_result"
    }
   ],
   "source": [
    "name"
   ]
  },
  {
   "cell_type": "code",
   "execution_count": 19,
   "id": "3ec5d405-df22-4ce6-a6d0-246c4df7ccaf",
   "metadata": {},
   "outputs": [
    {
     "name": "stdin",
     "output_type": "stream",
     "text": [
      "Enter Your age 20\n"
     ]
    }
   ],
   "source": [
    "##importance of type casting in (input) function\n",
    "\n",
    "age=int(input(\"Enter Your age\"))\n"
   ]
  },
  {
   "cell_type": "code",
   "execution_count": 20,
   "id": "f74a6945-b13c-4615-98da-1d1baddd8449",
   "metadata": {},
   "outputs": [
    {
     "data": {
      "text/plain": [
       "20"
      ]
     },
     "execution_count": 20,
     "metadata": {},
     "output_type": "execute_result"
    }
   ],
   "source": [
    "age"
   ]
  },
  {
   "cell_type": "code",
   "execution_count": 21,
   "id": "5b9971d4-5e61-40a2-a28e-8c1c86aaf6d2",
   "metadata": {},
   "outputs": [
    {
     "data": {
      "text/plain": [
       "int"
      ]
     },
     "execution_count": 21,
     "metadata": {},
     "output_type": "execute_result"
    }
   ],
   "source": [
    "type(age)"
   ]
  },
  {
   "cell_type": "code",
   "execution_count": null,
   "id": "7fbdf824-db94-4ab5-a724-1727d9e1c174",
   "metadata": {},
   "outputs": [],
   "source": [
    "##task 1:\n",
    "## take a input of age\n",
    "## check weather age is >=18 and age<=45\n",
    "## display you are Young"
   ]
  },
  {
   "cell_type": "code",
   "execution_count": 29,
   "id": "d8ed5760-44a7-4307-8a0d-15cb089b8eee",
   "metadata": {},
   "outputs": [
    {
     "name": "stdin",
     "output_type": "stream",
     "text": [
      "Enter your age 30\n"
     ]
    },
    {
     "name": "stdout",
     "output_type": "stream",
     "text": [
      "You are ayoung\n"
     ]
    }
   ],
   "source": [
    "age=int(input(\"Enter your age\"))\n",
    "if age>=18 and age<=45:\n",
    "    print(\"You are ayoung\")"
   ]
  },
  {
   "cell_type": "code",
   "execution_count": null,
   "id": "c5ac1227-b045-461d-8237-2899b084e256",
   "metadata": {},
   "outputs": [
    {
     "name": "stdin",
     "output_type": "stream",
     "text": [
      "Enter your age 67\n"
     ]
    },
    {
     "name": "stdout",
     "output_type": "stream",
     "text": [
      "Thanku, we ll  let you know\n"
     ]
    }
   ],
   "source": [
    "##if else:\n",
    "age=int(input(\"Enter your age\"))\n",
    "if age>=18 and age<=45:\n",
    "    print(\"You are ayoung\")\n",
    "else:\n",
    "    print(\"Thanku, we ll  let you know\")"
   ]
  },
  {
   "cell_type": "code",
   "execution_count": null,
   "id": "adcbcadd-838c-49ac-976c-8a0b9b2a73b0",
   "metadata": {},
   "outputs": [],
   "source": [
    "## mall ---input product price\n",
    "## prodct > 1000rs 20% off\n",
    "#  print the actuall price after discount\n",
    "## prodct <= 1000rs 30% off\n",
    "# print the actuall price after discount\n"
   ]
  },
  {
   "cell_type": "code",
   "execution_count": 35,
   "id": "303b7406-3bda-466f-80f7-27645bc36b37",
   "metadata": {},
   "outputs": [
    {
     "name": "stdin",
     "output_type": "stream",
     "text": [
      "Enter the product price 5000\n"
     ]
    },
    {
     "name": "stdout",
     "output_type": "stream",
     "text": [
      "The price after discout is 4000.0\n"
     ]
    }
   ],
   "source": [
    "product_price=int(input(\"Enter the product price\"))\n",
    "if product_price>1000:\n",
    "    print(\"The price after discout is {}\".format(product_price*0.8))\n",
    "else:\n",
    "    print(\"The product price is: {}\".format(product_price*0.7))\n",
    "    "
   ]
  },
  {
   "cell_type": "code",
   "execution_count": null,
   "id": "cd694daf-5a49-40fe-ae2d-e57969a5cea8",
   "metadata": {},
   "outputs": [],
   "source": [
    "## mall ---input product price\n",
    "## prodct > 3000rs 20% off\n",
    "#  print the actuall price after discount\n",
    "## prodct >= 2000rs and <=3000, 30% off\n",
    "# print the actuall price after discount\n",
    "##product < 2000;"
   ]
  },
  {
   "cell_type": "code",
   "execution_count": 4,
   "id": "ff10a5ed-0e50-48e0-8c6a-b8cc0fa78e67",
   "metadata": {},
   "outputs": [
    {
     "name": "stdin",
     "output_type": "stream",
     "text": [
      "Enter the product price 4000\n"
     ]
    },
    {
     "name": "stdout",
     "output_type": "stream",
     "text": [
      "The price after discout is 3200.0\n"
     ]
    }
   ],
   "source": [
    "product_price=int(input(\"Enter the product price\"))\n",
    "if product_price>3000:\n",
    "    print(\"The price after discout is {}\".format(product_price*0.8))\n",
    "elif product_price>=2000 and product_price<=3000:\n",
    "    if product_price==2999: ##nested if\n",
    "        print(\"congrats u get an additional gift\")\n",
    "    print(\"The product price is: {}\".format(product_price*0.7))\n",
    "else:\n",
    "    print(\"The product price is: {}\".format(product_price*0.6))"
   ]
  },
  {
   "cell_type": "code",
   "execution_count": null,
   "id": "aa58023b-98e4-4e8c-bc07-fb7bd930647d",
   "metadata": {},
   "outputs": [],
   "source": [
    "#single statement \n",
    "val=int(input(\"Enter a number\"))\n",
    "if (val<=999):print(\"value is less than equall to 999\")\n",
    "else:\n",
    "    print(\"go home\")"
   ]
  },
  {
   "cell_type": "markdown",
   "id": "6e0f66c3-4304-414f-a843-0ff7a707fb7e",
   "metadata": {},
   "source": [
    "##loops statement\n",
    "1. while loops\n",
    "2. for loop\n",
    "3. nested loops\n",
    "4. loops control(break,continue,pass)"
   ]
  },
  {
   "cell_type": "code",
   "execution_count": 12,
   "id": "842083d3-9f94-49fe-b1a2-b1d4ebd7674d",
   "metadata": {},
   "outputs": [
    {
     "name": "stdout",
     "output_type": "stream",
     "text": [
      "23\n",
      "24\n",
      "25\n",
      "26\n",
      "27\n",
      "28\n",
      "29\n",
      "30\n",
      "31\n",
      "32\n",
      "33\n",
      "34\n",
      "35\n",
      "36\n",
      "37\n",
      "38\n",
      "39\n",
      "40\n",
      "41\n",
      "42\n",
      "43\n",
      "44\n",
      "45\n",
      "46\n",
      "47\n",
      "48\n",
      "49\n",
      "50\n",
      "51\n",
      "52\n",
      "53\n",
      "54\n",
      "55\n",
      "56\n",
      "57\n",
      "58\n",
      "59\n",
      "60\n",
      "61\n",
      "sorry its time to retire\n"
     ]
    }
   ],
   "source": [
    "#while loops\n",
    "joining_age=22\n",
    "\n",
    "while joining_age<=60:\n",
    "    joining_age=joining_age+1\n",
    "    print(joining_age)\n",
    "else:\n",
    "    print(\"sorry its time to retire\")\n"
   ]
  },
  {
   "cell_type": "code",
   "execution_count": 13,
   "id": "fc1610f1-ccbd-4b9d-81ac-4e85b178ad35",
   "metadata": {},
   "outputs": [
    {
     "name": "stdout",
     "output_type": "stream",
     "text": [
      "22\n",
      "23\n",
      "24\n",
      "25\n",
      "26\n",
      "27\n",
      "28\n",
      "29\n",
      "30\n",
      "31\n",
      "32\n",
      "33\n",
      "34\n",
      "35\n",
      "36\n",
      "37\n",
      "38\n",
      "39\n",
      "40\n",
      "41\n",
      "42\n",
      "43\n",
      "44\n",
      "45\n",
      "46\n",
      "47\n",
      "48\n",
      "49\n",
      "50\n",
      "51\n",
      "52\n",
      "53\n",
      "54\n",
      "55\n",
      "56\n",
      "57\n",
      "58\n",
      "59\n",
      "60\n",
      "sorry its time to retire\n"
     ]
    }
   ],
   "source": [
    "#while loops\n",
    "joining_age=22\n",
    "\n",
    "while joining_age<=60:\n",
    "    print(joining_age)\n",
    "    joining_age=joining_age+1\n",
    "    \n",
    "else:\n",
    "    print(\"sorry its time to retire\")\n"
   ]
  },
  {
   "cell_type": "code",
   "execution_count": 16,
   "id": "6975d0c5-1dd3-40d6-817b-f7c35395c9fb",
   "metadata": {},
   "outputs": [
    {
     "name": "stdout",
     "output_type": "stream",
     "text": [
      "1000\n",
      "900\n",
      "800\n",
      "700\n",
      "600\n",
      "500\n",
      "400\n",
      "300\n",
      "200\n",
      "100\n",
      "Paisa bharo garibo\n"
     ]
    }
   ],
   "source": [
    "##atm machine with 1000rs\n",
    "money=1000\n",
    "while money!=0:\n",
    "    print(money)\n",
    "    money=money-100\n",
    "else:\n",
    "    print(\"Paisa bharo garibo\")"
   ]
  },
  {
   "cell_type": "markdown",
   "id": "85d790be-ffc2-4809-9568-929ca6085152",
   "metadata": {},
   "source": [
    "#For loops"
   ]
  },
  {
   "cell_type": "code",
   "execution_count": 18,
   "id": "bc18c9b1-c19f-46d2-9936-1a03368b5ba1",
   "metadata": {},
   "outputs": [],
   "source": [
    "lst=[\"krish\", \"apple\", 23, 22, \"banana\"] ##indexing starts from o..\n"
   ]
  },
  {
   "cell_type": "code",
   "execution_count": 19,
   "id": "de2a3cbc-c2f4-4340-b168-bfb31ea63b89",
   "metadata": {},
   "outputs": [
    {
     "data": {
      "text/plain": [
       "list"
      ]
     },
     "execution_count": 19,
     "metadata": {},
     "output_type": "execute_result"
    }
   ],
   "source": [
    "type(lst)"
   ]
  },
  {
   "cell_type": "code",
   "execution_count": 20,
   "id": "67751532-d172-4bd6-9bc0-8043bd444825",
   "metadata": {},
   "outputs": [
    {
     "name": "stdout",
     "output_type": "stream",
     "text": [
      "['krish', 'apple', 23, 22, 'banana']\n"
     ]
    }
   ],
   "source": [
    "print(lst)"
   ]
  },
  {
   "cell_type": "code",
   "execution_count": 22,
   "id": "b7d84f38-34b4-4ae7-b3c9-a6c19c8a58d3",
   "metadata": {},
   "outputs": [
    {
     "data": {
      "text/plain": [
       "22"
      ]
     },
     "execution_count": 22,
     "metadata": {},
     "output_type": "execute_result"
    }
   ],
   "source": [
    "lst[3]"
   ]
  },
  {
   "cell_type": "code",
   "execution_count": null,
   "id": "e88a7f85-7a71-4ec5-abc3-ac508dd7aac4",
   "metadata": {},
   "outputs": [
    {
     "name": "stdout",
     "output_type": "stream",
     "text": [
      "krish\n",
      "apple\n",
      "23\n",
      "22\n",
      "banana\n"
     ]
    }
   ],
   "source": [
    "for i in lst: ##x will traverse throughout the list \n",
    "    print(i)\n"
   ]
  },
  {
   "cell_type": "code",
   "execution_count": 26,
   "id": "fe4c3bc2-be75-4317-99d1-49ccc042e92d",
   "metadata": {},
   "outputs": [],
   "source": [
    "fruits=[\"mango\", \"banana\", \"papaya\", \"Cherry\"]\n"
   ]
  },
  {
   "cell_type": "code",
   "execution_count": 27,
   "id": "d319e5ad-b95c-499e-9f25-596fc11bc845",
   "metadata": {},
   "outputs": [
    {
     "name": "stdout",
     "output_type": "stream",
     "text": [
      "mango\n",
      "banana\n",
      "papaya\n",
      "Cherry\n"
     ]
    }
   ],
   "source": [
    "for x in fruits:\n",
    "    print(x)\n",
    "    "
   ]
  },
  {
   "cell_type": "code",
   "execution_count": 29,
   "id": "0379f68f-bf76-4c5e-ac1c-41c65952db50",
   "metadata": {},
   "outputs": [
    {
     "name": "stdout",
     "output_type": "stream",
     "text": [
      "mango\n",
      "banana\n",
      "papaya\n",
      "Cherry\n",
      "Its delicious\n"
     ]
    }
   ],
   "source": [
    "for x in fruits:\n",
    "    print(x)\n",
    "    if x==\"Cherry\":\n",
    "        print(\"Its delicious\")"
   ]
  },
  {
   "cell_type": "code",
   "execution_count": 33,
   "id": "03d3b38e-3311-4624-9bc1-44585742c652",
   "metadata": {},
   "outputs": [
    {
     "name": "stdout",
     "output_type": "stream",
     "text": [
      "R  i  s  h  a  b  h  "
     ]
    }
   ],
   "source": [
    "name= \"Rishabh\"\n",
    "for a in name:\n",
    "    print(a,end='  ')"
   ]
  },
  {
   "cell_type": "code",
   "execution_count": null,
   "id": "62d3e6b3-5b8d-457a-8650-740e0aa687c5",
   "metadata": {},
   "outputs": [],
   "source": [
    "name[2]"
   ]
  },
  {
   "cell_type": "code",
   "execution_count": null,
   "id": "6866830d-7862-4eb3-8777-1365d40db7b0",
   "metadata": {},
   "outputs": [],
   "source": [
    "#nested loops\n",
    "n=7\n"
   ]
  },
  {
   "cell_type": "code",
   "execution_count": 13,
   "id": "ba17ef67-ef5b-4ebe-90c0-9d4bbe29517a",
   "metadata": {},
   "outputs": [
    {
     "name": "stdout",
     "output_type": "stream",
     "text": [
      "0\n",
      "1\n",
      "2\n",
      "3\n",
      "4\n",
      "5\n"
     ]
    }
   ],
   "source": [
    "##range\n",
    "for i in range(0,6):\n",
    "    print(i)\n"
   ]
  },
  {
   "cell_type": "code",
   "execution_count": 14,
   "id": "1cce5339-1b47-4f66-a4ef-6cd5ef3786af",
   "metadata": {},
   "outputs": [
    {
     "name": "stdout",
     "output_type": "stream",
     "text": [
      "1\n",
      "3\n",
      "5\n",
      "7\n",
      "9\n"
     ]
    }
   ],
   "source": [
    "for i in range(1,10,2):\n",
    "    print(i)\n"
   ]
  },
  {
   "cell_type": "code",
   "execution_count": 21,
   "id": "8ec97d17-50e5-42f7-a5c9-272fb279f8d7",
   "metadata": {},
   "outputs": [
    {
     "name": "stdout",
     "output_type": "stream",
     "text": [
      "*\n",
      "**\n",
      "***\n",
      "****\n",
      "*****\n",
      "******\n",
      "*******\n"
     ]
    }
   ],
   "source": [
    "##nested loops\n",
    "n=7\n",
    "for i in range (0,n):\n",
    "    for j in range(0,i+1):\n",
    "        print(\"*\",end=\"\")\n",
    "    print(\"\\r\") ##next line and left most side"
   ]
  },
  {
   "cell_type": "code",
   "execution_count": 24,
   "id": "935c9c25-ecb0-4c33-90b7-48879266406d",
   "metadata": {},
   "outputs": [
    {
     "name": "stdout",
     "output_type": "stream",
     "text": [
      "The fruit is apple\n",
      "mango\n",
      "banana\n",
      "papaya\n",
      "Cherry\n"
     ]
    }
   ],
   "source": [
    "##loops controls\n",
    "#break and continue\n",
    "\n",
    "fruits_list=[\"mango\", \"banana\", \"papaya\", \"Cherry\"]\n",
    "for i in fruits_list:\n",
    "    if i==\"mango\":\n",
    "        print(\"The fruit is apple\")\n",
    "        \n",
    "    print(i)"
   ]
  },
  {
   "cell_type": "code",
   "execution_count": 25,
   "id": "0fa627dd-1fab-48ee-9de7-84dfae767dba",
   "metadata": {},
   "outputs": [
    {
     "name": "stdout",
     "output_type": "stream",
     "text": [
      "mango\n",
      "The fruit is yummy\n"
     ]
    }
   ],
   "source": [
    "fruits_list=[\"mango\", \"banana\", \"papaya\", \"Cherry\"]\n",
    "for i in fruits_list:\n",
    "    if i==\"banana\":\n",
    "        print(\"The fruit is yummy\")\n",
    "        break ##execution breaks after this statement gets true\n",
    "    print(i)"
   ]
  },
  {
   "cell_type": "code",
   "execution_count": 28,
   "id": "1706743b-c209-40c6-baa1-953e77ae5ed8",
   "metadata": {},
   "outputs": [
    {
     "name": "stdout",
     "output_type": "stream",
     "text": [
      "mango\n",
      "banana\n",
      "The fruit is papaya\n",
      "Cherry\n"
     ]
    }
   ],
   "source": [
    "fruits_list=[\"mango\", \"banana\", \"papaya\", \"Cherry\"]\n",
    "for i in fruits_list:\n",
    "    if i==\"papaya\":\n",
    "        print(\"The fruit is papaya\")\n",
    "        continue\n",
    "        \n",
    "    print(i)"
   ]
  },
  {
   "cell_type": "code",
   "execution_count": null,
   "id": "d818f94a-5ab3-4ad6-9142-e2102f131f67",
   "metadata": {},
   "outputs": [],
   "source": []
  }
 ],
 "metadata": {
  "kernelspec": {
   "display_name": "Python 3 (ipykernel)",
   "language": "python",
   "name": "python3"
  },
  "language_info": {
   "codemirror_mode": {
    "name": "ipython",
    "version": 3
   },
   "file_extension": ".py",
   "mimetype": "text/x-python",
   "name": "python",
   "nbconvert_exporter": "python",
   "pygments_lexer": "ipython3",
   "version": "3.10.8"
  }
 },
 "nbformat": 4,
 "nbformat_minor": 5
}
