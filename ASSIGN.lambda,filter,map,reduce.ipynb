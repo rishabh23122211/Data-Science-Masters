{
 "cells": [
  {
   "cell_type": "markdown",
   "id": "d81a2093-7549-4274-b8dd-d9b52fcaa81e",
   "metadata": {},
   "source": [
    "## Q1. Create a python program to sort the given list of tuples based on integer value using a lambda function."
   ]
  },
  {
   "cell_type": "code",
   "execution_count": 91,
   "id": "9d3a241a-8b5b-41cf-b4e1-49e0549b719f",
   "metadata": {},
   "outputs": [],
   "source": [
    "list_1=[('Sachin Tendulkar', 34357), ('Ricky Ponting', 27483), ('Jack Kallis', 25534), ('Virat Kohli', 24936)]"
   ]
  },
  {
   "cell_type": "code",
   "execution_count": 115,
   "id": "4cb4fd0c-9819-4c19-a343-e35e6873b2ec",
   "metadata": {},
   "outputs": [],
   "source": [
    "list_1.sort(key=lambda x:x[1])"
   ]
  },
  {
   "cell_type": "code",
   "execution_count": 116,
   "id": "113f52e6-a67b-4f4a-89f7-a639d60f2462",
   "metadata": {},
   "outputs": [
    {
     "name": "stdout",
     "output_type": "stream",
     "text": [
      "[('Virat Kohli', 24936), ('Jack Kallis', 25534), ('Ricky Ponting', 27483), ('Sachin Tendulkar', 34357)] "
     ]
    }
   ],
   "source": [
    "print(list_1,end=\" \")"
   ]
  },
  {
   "cell_type": "code",
   "execution_count": null,
   "id": "538e3698-7ec0-4230-8b64-12ddb518864b",
   "metadata": {},
   "outputs": [],
   "source": []
  },
  {
   "cell_type": "code",
   "execution_count": null,
   "id": "b67bbf4a-7828-44ff-a435-4ca34e15d387",
   "metadata": {},
   "outputs": [],
   "source": []
  },
  {
   "cell_type": "code",
   "execution_count": null,
   "id": "cf8a0d43-806e-4ff3-8bd8-04b995a1cd3e",
   "metadata": {},
   "outputs": [],
   "source": []
  },
  {
   "cell_type": "markdown",
   "id": "0a8f7102-02c3-4519-973b-76de38347a4b",
   "metadata": {},
   "source": [
    "## Q2. Write a Python Program to find the squares of all the numbers in the given list of integers using lambda and map functions.\n"
   ]
  },
  {
   "cell_type": "code",
   "execution_count": 3,
   "id": "037acee8-4a07-417d-ad29-9506c167aa9d",
   "metadata": {},
   "outputs": [],
   "source": [
    "list_2=[1, 2, 3, 4, 5, 6, 7, 8, 9, 10]"
   ]
  },
  {
   "cell_type": "code",
   "execution_count": 4,
   "id": "c29d1bca-d9cc-4134-9397-2e2726810043",
   "metadata": {},
   "outputs": [
    {
     "data": {
      "text/plain": [
       "[1, 2, 3, 4, 5, 6, 7, 8, 9, 10]"
      ]
     },
     "execution_count": 4,
     "metadata": {},
     "output_type": "execute_result"
    }
   ],
   "source": [
    "list_2\n"
   ]
  },
  {
   "cell_type": "code",
   "execution_count": 10,
   "id": "c8c663fa-3322-4b29-9de3-c32a3be13041",
   "metadata": {},
   "outputs": [
    {
     "data": {
      "text/plain": [
       "[1, 4, 9, 16, 25, 36, 49, 64, 81, 100]"
      ]
     },
     "execution_count": 10,
     "metadata": {},
     "output_type": "execute_result"
    }
   ],
   "source": [
    "list(map(lambda x:x**2,list_2))"
   ]
  },
  {
   "cell_type": "markdown",
   "id": "05f4947e-bed0-45a2-9654-cd7735067c7c",
   "metadata": {},
   "source": [
    "## Q3. Write a python program to convert the given list of integers into a tuple of strings. Use map and lambda functions\n"
   ]
  },
  {
   "cell_type": "code",
   "execution_count": 11,
   "id": "9b011173-5873-44a2-8b44-a6aaaa5b7702",
   "metadata": {},
   "outputs": [],
   "source": [
    "##Given String: [1, 2, 3, 4, 5, 6, 7, 8, 9, 10]\n",
    "##Expected output: ('1', '2', '3', '4', '5', '6', '7', '8', '9', '10')"
   ]
  },
  {
   "cell_type": "code",
   "execution_count": 12,
   "id": "83cfbcda-bbed-4b39-8e66-b8fb15162549",
   "metadata": {},
   "outputs": [],
   "source": [
    "list_3=[1, 2, 3, 4, 5, 6, 7, 8, 9, 10]"
   ]
  },
  {
   "cell_type": "code",
   "execution_count": 13,
   "id": "54182bda-7dcb-4edd-9459-afc329acbf16",
   "metadata": {},
   "outputs": [
    {
     "data": {
      "text/plain": [
       "[1, 2, 3, 4, 5, 6, 7, 8, 9, 10]"
      ]
     },
     "execution_count": 13,
     "metadata": {},
     "output_type": "execute_result"
    }
   ],
   "source": [
    "list_3"
   ]
  },
  {
   "cell_type": "code",
   "execution_count": 16,
   "id": "b940071b-fab9-4a0d-b725-52ae4e069b86",
   "metadata": {},
   "outputs": [
    {
     "data": {
      "text/plain": [
       "('1', '2', '3', '4', '5', '6', '7', '8', '9', '10')"
      ]
     },
     "execution_count": 16,
     "metadata": {},
     "output_type": "execute_result"
    }
   ],
   "source": [
    "tuple(map(lambda x:str(x), list_3 ))"
   ]
  },
  {
   "cell_type": "markdown",
   "id": "976290db-7d10-4ac4-bcf7-12d05c3fd3ce",
   "metadata": {},
   "source": [
    "## Q4. Write a python program using reduce function to compute the product of a list containing numbers from 1 to 25."
   ]
  },
  {
   "cell_type": "code",
   "execution_count": 57,
   "id": "cda268f5-4502-486f-bf18-f046054d66d6",
   "metadata": {},
   "outputs": [],
   "source": [
    "a=list(range(1,26))"
   ]
  },
  {
   "cell_type": "code",
   "execution_count": 58,
   "id": "bef838bb-9672-44a3-85e3-8840bfb8a960",
   "metadata": {},
   "outputs": [
    {
     "name": "stdout",
     "output_type": "stream",
     "text": [
      "1 2 3 4 5 6 7 8 9 10 11 12 13 14 15 16 17 18 19 20 21 22 23 24 25 "
     ]
    }
   ],
   "source": [
    "for i in a:\n",
    "     (print(i,end=\" \"))"
   ]
  },
  {
   "cell_type": "code",
   "execution_count": 44,
   "id": "fbf62883-f5d1-435a-8d48-524d7fc08638",
   "metadata": {},
   "outputs": [],
   "source": [
    "from functools import reduce"
   ]
  },
  {
   "cell_type": "code",
   "execution_count": 59,
   "id": "b0d49644-8bdd-4a7b-b6f3-cf36195efdad",
   "metadata": {},
   "outputs": [],
   "source": [
    "reduse_1=reduce(lambda x,y:x*y , a) "
   ]
  },
  {
   "cell_type": "code",
   "execution_count": 62,
   "id": "6fdfb128-2821-4200-acc7-a502e2119f1b",
   "metadata": {},
   "outputs": [
    {
     "data": {
      "text/plain": [
       "15511210043330985984000000"
      ]
     },
     "execution_count": 62,
     "metadata": {},
     "output_type": "execute_result"
    }
   ],
   "source": [
    "reduse_1"
   ]
  },
  {
   "cell_type": "markdown",
   "id": "d71d9fe2-d148-489b-aa52-2cf16c897463",
   "metadata": {},
   "source": [
    "## Q5. Write a python program to filter the numbers in a given list that are divisible by 2 and 3 using the filter function.\n"
   ]
  },
  {
   "cell_type": "code",
   "execution_count": 63,
   "id": "ea492eaa-fe0c-4ee8-9728-5f6b0ea0a762",
   "metadata": {},
   "outputs": [],
   "source": [
    "list_4=[2, 3, 6, 9, 27, 60, 90, 120, 55, 46]"
   ]
  },
  {
   "cell_type": "code",
   "execution_count": 64,
   "id": "6fa47b05-01e1-4dff-9b28-9e9e06a2128a",
   "metadata": {},
   "outputs": [
    {
     "data": {
      "text/plain": [
       "[2, 3, 6, 9, 27, 60, 90, 120, 55, 46]"
      ]
     },
     "execution_count": 64,
     "metadata": {},
     "output_type": "execute_result"
    }
   ],
   "source": [
    "list_4"
   ]
  },
  {
   "cell_type": "code",
   "execution_count": 66,
   "id": "0976cd09-26ea-4305-baf5-31db6c89db65",
   "metadata": {},
   "outputs": [
    {
     "data": {
      "text/plain": [
       "[6, 60, 90, 120]"
      ]
     },
     "execution_count": 66,
     "metadata": {},
     "output_type": "execute_result"
    }
   ],
   "source": [
    "list(filter(lambda x:x%2==0 and x%3==0 , list_4))"
   ]
  },
  {
   "cell_type": "markdown",
   "id": "632b5b94-403d-4786-94aa-27b9bf750277",
   "metadata": {},
   "source": [
    "## Q6. Write a python program to find palindromes in the given list of strings using lambda and filter function.\n"
   ]
  },
  {
   "cell_type": "code",
   "execution_count": 67,
   "id": "92f705aa-8663-4e07-a71a-6b5ca32bb977",
   "metadata": {},
   "outputs": [],
   "source": [
    "list_5=['python', 'php', 'aba', 'radar', 'level']"
   ]
  },
  {
   "cell_type": "code",
   "execution_count": 68,
   "id": "324814a7-1ef2-4872-8f5a-c31f61208570",
   "metadata": {},
   "outputs": [
    {
     "data": {
      "text/plain": [
       "['python', 'php', 'aba', 'radar', 'level']"
      ]
     },
     "execution_count": 68,
     "metadata": {},
     "output_type": "execute_result"
    }
   ],
   "source": [
    "list_5"
   ]
  },
  {
   "cell_type": "code",
   "execution_count": 84,
   "id": "170b10e7-c3fd-4b2f-b4f2-49c9a3de48de",
   "metadata": {},
   "outputs": [],
   "source": [
    "result = list(filter(lambda x: (x == \"\".join(reversed(x))), list_5))"
   ]
  },
  {
   "cell_type": "code",
   "execution_count": 85,
   "id": "05c9ca91-f380-4912-99cf-02f6f8516801",
   "metadata": {},
   "outputs": [
    {
     "data": {
      "text/plain": [
       "['php', 'aba', 'radar', 'level']"
      ]
     },
     "execution_count": 85,
     "metadata": {},
     "output_type": "execute_result"
    }
   ],
   "source": [
    "result"
   ]
  },
  {
   "cell_type": "code",
   "execution_count": null,
   "id": "b7597864-e551-44cc-af91-29191d19688f",
   "metadata": {},
   "outputs": [],
   "source": []
  }
 ],
 "metadata": {
  "kernelspec": {
   "display_name": "Python 3 (ipykernel)",
   "language": "python",
   "name": "python3"
  },
  "language_info": {
   "codemirror_mode": {
    "name": "ipython",
    "version": 3
   },
   "file_extension": ".py",
   "mimetype": "text/x-python",
   "name": "python",
   "nbconvert_exporter": "python",
   "pygments_lexer": "ipython3",
   "version": "3.10.8"
  }
 },
 "nbformat": 4,
 "nbformat_minor": 5
}
